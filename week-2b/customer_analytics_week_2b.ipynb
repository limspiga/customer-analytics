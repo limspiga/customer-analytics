{
  "nbformat": 4,
  "nbformat_minor": 0,
  "metadata": {
    "colab": {
      "provenance": []
    },
    "kernelspec": {
      "name": "python3",
      "display_name": "Python 3"
    },
    "language_info": {
      "name": "python"
    }
  },
  "cells": [
    {
      "cell_type": "markdown",
      "source": [
        "\n",
        "# 4. Evaluación y elección de la mejor segmentación\n",
        "\n",
        "Una gran empresa de comercio electrónico se está preparando para su mayor evento del año: su venta anual. La empresa es ambiciosa en sus objetivos y pretende lograr las mejores cifras de ventas hasta el momento, esperando un crecimiento significativo respecto al evento del año pasado. El presupuesto de marketing es el más alto que jamás haya existido. Naturalmente, las campañas de marketing serán un factor crítico para decidir el éxito del evento. Por lo que hemos aprendido hasta ahora, sabemos que para que esas campañas sean más efectivas, es fundamental comprender a los clientes y elegir el mensaje adecuado para ellos.\n",
        "\n",
        "En tal situación, una segmentación de clientes bien realizada puede marcar la diferencia y ayudar a maximizar el ROI (retorno de la inversión) del marketing.\n",
        "\n",
        "gastar. Al analizar los segmentos de clientes, el equipo de marketing puede definir cuidadosamente las estrategias para cada segmento. Pero antes de invertir valiosos recursos en un proyecto de segmentación de clientes, los equipos de ciencia de datos, así como los equipos comerciales, deben responder algunas preguntas clave para asegurarse de que el proyecto produzca el resultado deseado."
      ],
      "metadata": {
        "id": "FSKOCRObFtW-"
      }
    },
    {
      "cell_type": "markdown",
      "source": [
        "¿Cómo debemos decidir el número de segmentos en los que debe resultar la actividad? ¿Cómo evaluamos la robustez de los segmentos? Seguramente, antes de gastar millones usando estos segmentos, la empresa querría asegurarse de que estos segmentos también sean sólidos desde una perspectiva técnica; el hecho de que sean realmente homogéneos debe establecerse numéricamente. Como analista, también querrá explorar técnicas alternativas de aprendizaje automático para la agrupación que puedan ser más adecuadas para la naturaleza de los datos. ¿Qué pasa si la mayoría de las características son características categóricas? Todas estas son preguntas pertinentes para cualquier segmentación de clientes del mundo real con mucho en juego."
      ],
      "metadata": {
        "id": "CpBwYXk6F-wF"
      }
    },
    {
      "cell_type": "markdown",
      "source": [
        "En el capítulo anterior, presentamos el concepto de agrupamiento y lo practicamos usando el agrupamiento de k-medias, un enfoque simple y poderoso para el agrupamiento que divide los puntos de datos en un número predeterminado de conglomerados. Pero usamos varias suposiciones en el capítulo anterior. Creamos una cantidad predeterminada de clústeres, asumiendo que teníamos la cantidad correcta de clústeres con nosotros, ya sea por intuición o por restricciones comerciales. Además, para evaluar los clústeres resultantes, utilizamos una perspectiva comercial.\n",
        "\n",
        "para evaluar la accionabilidad y la calidad de los clústeres. Para completar nuestra comprensión de la agrupación en clústeres y garantizar que tenemos la base de conocimientos adecuada para abordar cualquier problema relacionado con la segmentación, debemos poder responder las siguientes preguntas para cualquier ejercicio de segmentación:"
      ],
      "metadata": {
        "id": "vzksxRprGF8p"
      }
    }
  ]
}