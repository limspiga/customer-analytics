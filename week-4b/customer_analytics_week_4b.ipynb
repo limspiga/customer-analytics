{
  "nbformat": 4,
  "nbformat_minor": 0,
  "metadata": {
    "colab": {
      "provenance": [],
      "toc_visible": true
    },
    "kernelspec": {
      "name": "python3",
      "display_name": "Python 3"
    },
    "language_info": {
      "name": "python"
    }
  },
  "cells": [
    {
      "cell_type": "markdown",
      "source": [
        "\n",
        "# 6. Más herramientas y técnicas para evaluar modelos de regresión\n",
        "\n",
        "## Introducción\n",
        "\n",
        "Estás trabajando en una empresa de marketing que acepta proyectos de varios clientes. A tu equipo se le ha asignado un proyecto en el que debe predecir el **porcentaje de conversiones** para una venta de Black Friday que el equipo va a planificar. \n",
        "\n",
        "El porcentaje de conversión según el cliente se refiere a la cantidad de personas que realmente compran productos frente a la cantidad de personas que inicialmente se registraron para recibir actualizaciones sobre la venta visitando el sitio web. \n",
        "\n",
        "El primer instinto es optar por un modelo de regresión para predecir el porcentaje de conversión. Sin embargo, tiene millones de filas de datos con cientos de columnas. En escenarios como estos, es muy común encontrar problemas de: \n",
        "- multicolinealidad \n",
        "\n",
        "donde dos o más características transmiten efectivamente la misma información. Esto puede afectar la robustez del modelo. Aquí es donde las soluciones como\n",
        "- la selección recursiva de características (RFE) \n",
        "pueden ser de ayuda.\n",
        "\n",
        "En el capítulo anterior, vimos cómo preparar datos para el modelado de regresión. También aprendimos cómo aplicar la regresión lineal e interpretar los resultados.\n",
        "\n",
        "En este capítulo, revisará un modelo de regresión para evaluar su desempeño. Específicamente, sobre métricas como:\n",
        "- el error absoluto medio (MAE) y \n",
        "- el error cuadrático medio (RMSE).\n",
        "\n",
        "Esto ayudará a elegir las funciones adecuadas para usar en un modelo, así como a comparar diferentes modelos en función de sus valores MAE y RMSE. \n",
        "\n",
        "\n",
        "También revisaremos RFE, que es una técnica  y de uso común para seleccionar solo las características más relevantes para construir un modelo de regresión, eliminando así las redundantes.\n",
        "\n",
        "Finalmente, revisaremos sore los métodos de regresión basados ​​en árboles y por qué a veces superan a las técnicas de regresión lineal.\n",
        "\n"
      ],
      "metadata": {
        "id": "jbZVtPVgcNHw"
      }
    },
    {
      "cell_type": "markdown",
      "source": [
        "\n",
        "## Evaluación de la precisión de un modelo de regresión\n",
        "Para evaluar modelos de regresión, se debe definir algunas métricas. Las métricas comunes utilizadas para evaluar los modelos de regresión se basan en:\n",
        "- los conceptos de residuos\n",
        "- y errores, \n",
        "\n",
        "que son cuantificaciones de cuánto un modelo predice incorrectamente un punto de datos en particular. \n",
        "\n"
      ],
      "metadata": {
        "id": "Cd1tQWpMIbHA"
      }
    },
    {
      "cell_type": "markdown",
      "source": [
        "\n",
        "### Residuos y errores\n",
        "Un concepto importante para comprender cómo evaluar los modelos de regresión es el residual. \n",
        "\n",
        "El residual se refiere a la diferencia entre el valor predicho por el modelo y el valor real de un punto de datos. \n",
        "\n",
        "Se puede pensar en cuánto perdió su modelo un valor en particular. En el siguiente diagrama, podemos ver una línea de mejor ajuste (o regresión) con puntos de datos dispersos por encima y por debajo. La distancia entre un punto de datos y la línea indica qué tan lejos está la predicción $(x_i, y_i)$ del valor real $(x_j, y_j)$. Esta diferencia se conoce como residuo. Los puntos de datos debajo de la línea tomarán valores negativos, mientras que los de arriba tomarán valores positivos:"
      ],
      "metadata": {
        "id": "8h9G94gLIWc-"
      }
    },
    {
      "cell_type": "markdown",
      "source": [
        "<figure>\n",
        "<center><img src='https://drive.google.com/uc?export=view&id=1_r31odVs9IdKplaYnSH-VROJpRm2u0t_' width=\"600\" />\n",
        "<figcaption>\n",
        "Figura 6.1: Estimación del residual</figcaption></center>\n",
        "</figure>\n"
      ],
      "metadata": {
        "id": "fBLnX9llF2NH"
      }
    },
    {
      "cell_type": "markdown",
      "source": [
        "El residual se toma como una estimación del error de un modelo, donde el error es la diferencia entre el verdadero proceso subyacente a la generación de datos y el modelo o, en otras palabras, la diferencia entre el valor real y el valor predicho. No podemos observar directamente el error porque no conocemos el verdadero proceso,\n",
        "y por lo tanto, usamos los valores residuales como nuestra mejor estimación del error. Por esta razón, el error y el residual están estrechamente relacionados y, a menudo, se usan indistintamente.\n",
        "Por ejemplo, si se le pide que cree un modelo de aprendizaje automático para predecir\n",
        "la edad promedio de todas las personas en un país, el error significaría la diferencia entre la edad promedio real y la edad promedio predicha. Sin embargo, encontrar\n",
        "el promedio real sería una tarea difícil ya que necesitaría recopilar datos para todo el país. Aún así, podrías hacer la mejor estimación del promedio tomando la media de las edades de algunas personas en el país. Esta suposición se puede usar para encontrar el residuo y, por lo tanto, servir como error."
      ],
      "metadata": {
        "id": "kN3gOBTfFi4k"
      }
    },
    {
      "cell_type": "markdown",
      "source": [
        "En este punto, podría estar pensando, ¿por qué necesitamos otra métrica de evaluación? ¿Por qué no simplemente tomar el promedio de los residuos? Tratemos de entender esto con la ayuda de un ejemplo. La siguiente tabla presenta el precio de venta real de algunos artículos y los precios de venta de los mismos artículos pronosticados por un modelo de aprendizaje automático (todos los precios están en rupias nacionales indias):"
      ],
      "metadata": {
        "id": "tmLM6IyXHCcL"
      }
    },
    {
      "cell_type": "markdown",
      "source": [
        "<figure>\n",
        "<center><img src='https://drive.google.com/uc?export=view&id=1F0V6VZNXfImITy7ibgRTNBT8YzkRXtAV' width=\"600\" />\n",
        "<figcaption>\n",
        "Figura 6.2: Cálculo del residuo medio</figcaption></center>\n",
        "</figure>\n",
        "\n"
      ],
      "metadata": {
        "id": "ODAgLcGFHMsW"
      }
    },
    {
      "cell_type": "markdown",
      "source": [
        "Como puede observar en la Figura 6.2, el residuo promedio es cero; sin embargo, observe que el modelo no está funcionando bien. Falta cada punto de datos. Por lo tanto, sabemos con certeza que el error es distinto de cero. La razón por la que obtenemos el residual promedio como cero es que los valores negativos y positivos de los residuales se cancelan y, por lo tanto, debemos buscar valores de residuales absolutos o cuadrados. Esto ayuda a centrarse sólo en la magnitud de los residuos.\n",
        "\n",
        "Analicemos dos de las métricas de evaluación más utilizadas: MAE y RMSE, las cuales siguen el razonamiento que discutimos en el párrafo anterior. En lugar de centrarse en los signos positivos o negativos de los residuos, tanto el MAE como el RMSE convierten los residuos en magnitudes, lo que da la estimación correcta del rendimiento del modelo."
      ],
      "metadata": {
        "id": "If5AnaMbHvQd"
      }
    },
    {
      "cell_type": "markdown",
      "source": [
        "### Error absoluto medio\n",
        "Hay varias formas de utilizar los residuos para evaluar un modelo. Una forma es simplemente tomar el valor absoluto de todos los residuos y calcular el promedio. Se llama\n",
        "el error absoluto medio (MAE), y puede pensarse intuitivamente como la diferencia promedio que debe esperar entre las predicciones de su modelo y el valor real:\n",
        "Figura 6.3: Ecuación para calcular el MAE de un modelo"
      ],
      "metadata": {
        "id": "nSlbNsTLIRAs"
      }
    },
    {
      "cell_type": "markdown",
      "source": [
        "<h1><center>\n",
        "$MAE=\\frac{1}{n} \\sum^{n}_{j=1} \\big| y_j- \\hat{y_j} \\big|$\n",
        "\n",
        "Figura 6.3: Ecuación para calcular el MAE de un modelo\n",
        "</center></h1>\n"
      ],
      "metadata": {
        "id": "oUdS7OjkIvtk"
      }
    },
    {
      "cell_type": "markdown",
      "source": [
        "En la ecuación anterior, $y_j$ es el valor verdadero de la variable de resultado para el punto de datos $j$, y $\\hat{y_j}$ es la predicción del modelo para ese punto de datos. Restando estos términos y tomando el valor absoluto, obtenemos el residual. $n$ es el número de puntos de datos $y$, por lo tanto, al sumar todos los puntos de datos y dividir por $n$, obtenemos la media del error absoluto.\n",
        "\n",
        "Por lo tanto, un valor de cero significaría que su modelo predice todo a la perfección, y valores más grandes significan un modelo menos preciso. \n",
        "\n",
        "\n",
        "Si tenemos varios modelos, podemos mirar el MAE y preferir el modelo con el valor más bajo. Podemos implementar MAE usando la biblioteca scikit-learn."
      ],
      "metadata": {
        "id": "HYkuuMwtLSgO"
      }
    },
    {
      "cell_type": "markdown",
      "source": [
        "Podemos implementar MAE usando la biblioteca scikit-learn\n",
        "\n",
        "1. Importaremos la métrica mean_absolute_error de la\n",
        "módulo sklearn.metrics:\n",
        "    \n",
        "```\n",
        "      from sklearn.metrics import mean_absolute_error\n",
        "```\n",
        "\n",
        "2. A continuación, solo necesitamos llamar a la función mean_absolute_error con dos argumentos: predicciones y los valores de ground_truth:\n",
        "\n",
        "```\n",
        "      MAE = mean_absolute_error(predicciones, ground_truth)\n",
        "```\n",
        "\n",
        "Un problema con el MAE es que da cuenta de todos los errores por igual. Para muchas aplicaciones del mundo real, los errores pequeños son aceptables y esperados, mientras que los errores grandes pueden generar problemas mayores. Sin embargo, con MAE, dos errores medianos podrían sumarse y superar un error grande. Esto significa que el MAE puede preferir un modelo que sea bastante preciso para la mayoría de las predicciones, pero que ocasionalmente sea extremadamente inexacto sobre un modelo con errores más consistentes en todas las predicciones. Por esta razón, en lugar de usar el error absoluto, una técnica común es usar el error cuadrático."
      ],
      "metadata": {
        "id": "uFRkDUeuVOWJ"
      }
    },
    {
      "cell_type": "markdown",
      "source": [
        "### Error cuadrático medio de la raíz\n",
        "Como discutimos anteriormente, otra forma de enfocarse solo en las magnitudes de los residuos es elevando al cuadrado sus valores, lo que ayuda a deshacerse de los signos positivos o negativos. Este concepto sirve como el núcleo de la métrica **RMSE**. "
      ],
      "metadata": {
        "id": "MMJsXwOxr36k"
      }
    },
    {
      "cell_type": "markdown",
      "source": [
        "Al elevar al cuadrado el término de error, los errores grandes se ponderan más que los pequeños que suman la misma cantidad total de error. Si luego tratamos de optimizar el error cuadrático medio (MSE) en lugar del MAE, terminaremos con una preferencia por modelos con predicciones más consistentes, ya que esos grandes errores se penalizarán en gran medida. La siguiente figura ilustra cómo, a medida que aumenta el tamaño del residuo, el error cuadrático crece más rápidamente que el error absoluto:\n",
        "\n",
        "<figure>\n",
        "<center><img src='https://drive.google.com/uc?export=view&id=1GnARgTXLORqqBIXc1JhZKx3Tg1WGaz3t' width=\"500\" />\n",
        "<figcaption>\n",
        "Figura 6.2: Cálculo del residuo medio</figcaption></center>\n",
        "</figure>\n"
      ],
      "metadata": {
        "id": "3bWMw4Ekr9Lg"
      }
    },
    {
      "cell_type": "markdown",
      "source": [
        "Figura 6.4: Error cuadrático versus error absoluto\n",
        "Sin embargo, una desventaja de esto es que el término de error se vuelve más difícil de interpretar. El MAE nos da una idea de cuánto debemos esperar que la predicción difiera del valor real en promedio, mientras que el MSE es más difícil de interpretar. Por ejemplo, en el caso del problema de predicción de la edad anterior, el MSE estaría en las unidades de \"año al cuadrado\", asumiendo que la edad está en años. Se puede ver lo difícil que es comprender decir que un modelo tiene un error de 5 años al cuadrado. Por lo tanto, es común tomar la raíz del MSE, lo que da como resultado el RMSE, como lo muestra la siguiente ecuación:"
      ],
      "metadata": {
        "id": "P6NXdJe4tOuN"
      }
    },
    {
      "cell_type": "markdown",
      "source": [
        "\n",
        "\n",
        "<h1><center>\n",
        "\n",
        "$RMSE = \\sqrt{\\frac{1}{2} \\sum^{n}_{j=1} ( y_j- \\hat{y_j} )^2 }$\n",
        "\n",
        "Figura 6.5: Ecuación para calcular el RMSE de un modelo\n",
        "</center></h1>\n",
        "\n",
        "Al igual que MAE, podemos implementar RMSE usando la biblioteca scikit-learn, como se muestra aquí:\n",
        "\n",
        "1. Importaremos la métrica `mean_squared_error` desde el módulo `sklearn.metrics`:\n",
        "\n",
        "```\n",
        "    From sklearn.metrics import mean_squared_error\n",
        "```\n",
        "\n",
        "2. A continuación, solo necesitamos llamar a la función mean_squared_error con dos argumentos: predictions y los valores  ground_truth:\n",
        "\n",
        "```\n",
        "    RMSE = mean_squared_error(predictions, ground_truth)\n",
        "```\n",
        "\n",
        "\n",
        "\n"
      ],
      "metadata": {
        "id": "TfsMV9pTtbNx"
      }
    },
    {
      "cell_type": "markdown",
      "source": [
        "Ahora que hemos discutido tanto el RMSE como el MAE en detalle, es hora de implementarlos utilizando la biblioteca scikit-learn y comprender cómo ayudan las métricas de evaluación."
      ],
      "metadata": {
        "id": "OYvV8Z8rvAEn"
      }
    },
    {
      "cell_type": "markdown",
      "source": [
        "### Ejercicio 6.01: Evaluación de modelos de regresión de ingresos por ubicación utilizando el MAE y RMSE\n",
        "\n",
        "Una cadena de tiendas ha reducido cinco predictores que cree que tendrán un impacto en los ingresos de una de sus tiendas. \n",
        "- número de competidores, \n",
        "- el ingreso medio en la región, \n",
        "- el número de miembros del programa de lealtad, \n",
        "- la densidad de población en el área y \n",
        "- la antiguedad de la tienda. \n",
        "\n",
        "El equipo de marketing ha tenido la intuición que el número de competidores puede no ser un factor significativo que contribuya a los ingresos. Su tarea es averiguar si esta intuición es correcta.\n",
        "\n",
        "\n",
        "En este ejercicio, calculará tanto el MAE como el RMSE para modelos creados con los datos de ingresos de la ubicación de la tienda utilizados en el Capítulo 5. \n",
        "\n",
        "\n",
        "**Comparar los modelos creados utilizando todos los predictores con un modelo creado excluyendo uno de los predictores.** Esto ayudará a comprender la importancia del predictor para explicar los datos. Si la eliminación de un predictor específico da como resultado una gran caída en el rendimiento, significa que el predictor era importante para el modelo y no se debe descartar."
      ],
      "metadata": {
        "id": "GcHcAP7qvc8E"
      }
    },
    {
      "cell_type": "markdown",
      "source": [
        "1. Importe pandas y utilícelo para crear un DataFrame a partir de los datos en `location_rev.csv`. Nombrar a este DataFrame df y revisar las primeras cinco filas"
      ],
      "metadata": {
        "id": "gOpkKKEFyP4F"
      }
    },
    {
      "cell_type": "code",
      "source": [
        "import pandas as pd\n",
        "\n",
        "!curl https://raw.githubusercontent.com/limspiga/customer-analytics/main/week-4b/location_rev.csv -O\n",
        "\n",
        "df = pd.read_csv('location_rev.csv') \n",
        "df.head()"
      ],
      "metadata": {
        "colab": {
          "base_uri": "https://localhost:8080/",
          "height": 259
        },
        "id": "lZraJXl0ybZM",
        "outputId": "c4847c7d-cf10-4de8-b0fc-b8007daf9c83"
      },
      "execution_count": 7,
      "outputs": [
        {
          "output_type": "stream",
          "name": "stdout",
          "text": [
            "  % Total    % Received % Xferd  Average Speed   Time    Time     Time  Current\n",
            "                                 Dload  Upload   Total   Spent    Left  Speed\n",
            "100 41442  100 41442    0     0   248k      0 --:--:-- --:--:-- --:--:--  248k\n"
          ]
        },
        {
          "output_type": "execute_result",
          "data": {
            "text/plain": [
              "    revenue  num_competitors  median_income  num_loyalty_members  \\\n",
              "0  42247.80              3.0       30527.57               1407.0   \n",
              "1  38628.37              3.0       30185.49               1025.0   \n",
              "2  39715.16              1.0       32182.24               1498.0   \n",
              "3  35593.30              5.0       29728.65               2340.0   \n",
              "4  35128.18              4.0       30691.17                847.0   \n",
              "\n",
              "   population_density  location_age  \n",
              "0              3302.0          12.0  \n",
              "1              4422.0          11.0  \n",
              "2              3260.0          12.0  \n",
              "3              4325.0          10.0  \n",
              "4              3774.0          11.0  "
            ],
            "text/html": [
              "\n",
              "  <div id=\"df-0911e66a-8651-4b86-9a30-382cbac05bca\">\n",
              "    <div class=\"colab-df-container\">\n",
              "      <div>\n",
              "<style scoped>\n",
              "    .dataframe tbody tr th:only-of-type {\n",
              "        vertical-align: middle;\n",
              "    }\n",
              "\n",
              "    .dataframe tbody tr th {\n",
              "        vertical-align: top;\n",
              "    }\n",
              "\n",
              "    .dataframe thead th {\n",
              "        text-align: right;\n",
              "    }\n",
              "</style>\n",
              "<table border=\"1\" class=\"dataframe\">\n",
              "  <thead>\n",
              "    <tr style=\"text-align: right;\">\n",
              "      <th></th>\n",
              "      <th>revenue</th>\n",
              "      <th>num_competitors</th>\n",
              "      <th>median_income</th>\n",
              "      <th>num_loyalty_members</th>\n",
              "      <th>population_density</th>\n",
              "      <th>location_age</th>\n",
              "    </tr>\n",
              "  </thead>\n",
              "  <tbody>\n",
              "    <tr>\n",
              "      <th>0</th>\n",
              "      <td>42247.80</td>\n",
              "      <td>3.0</td>\n",
              "      <td>30527.57</td>\n",
              "      <td>1407.0</td>\n",
              "      <td>3302.0</td>\n",
              "      <td>12.0</td>\n",
              "    </tr>\n",
              "    <tr>\n",
              "      <th>1</th>\n",
              "      <td>38628.37</td>\n",
              "      <td>3.0</td>\n",
              "      <td>30185.49</td>\n",
              "      <td>1025.0</td>\n",
              "      <td>4422.0</td>\n",
              "      <td>11.0</td>\n",
              "    </tr>\n",
              "    <tr>\n",
              "      <th>2</th>\n",
              "      <td>39715.16</td>\n",
              "      <td>1.0</td>\n",
              "      <td>32182.24</td>\n",
              "      <td>1498.0</td>\n",
              "      <td>3260.0</td>\n",
              "      <td>12.0</td>\n",
              "    </tr>\n",
              "    <tr>\n",
              "      <th>3</th>\n",
              "      <td>35593.30</td>\n",
              "      <td>5.0</td>\n",
              "      <td>29728.65</td>\n",
              "      <td>2340.0</td>\n",
              "      <td>4325.0</td>\n",
              "      <td>10.0</td>\n",
              "    </tr>\n",
              "    <tr>\n",
              "      <th>4</th>\n",
              "      <td>35128.18</td>\n",
              "      <td>4.0</td>\n",
              "      <td>30691.17</td>\n",
              "      <td>847.0</td>\n",
              "      <td>3774.0</td>\n",
              "      <td>11.0</td>\n",
              "    </tr>\n",
              "  </tbody>\n",
              "</table>\n",
              "</div>\n",
              "      <button class=\"colab-df-convert\" onclick=\"convertToInteractive('df-0911e66a-8651-4b86-9a30-382cbac05bca')\"\n",
              "              title=\"Convert this dataframe to an interactive table.\"\n",
              "              style=\"display:none;\">\n",
              "        \n",
              "  <svg xmlns=\"http://www.w3.org/2000/svg\" height=\"24px\"viewBox=\"0 0 24 24\"\n",
              "       width=\"24px\">\n",
              "    <path d=\"M0 0h24v24H0V0z\" fill=\"none\"/>\n",
              "    <path d=\"M18.56 5.44l.94 2.06.94-2.06 2.06-.94-2.06-.94-.94-2.06-.94 2.06-2.06.94zm-11 1L8.5 8.5l.94-2.06 2.06-.94-2.06-.94L8.5 2.5l-.94 2.06-2.06.94zm10 10l.94 2.06.94-2.06 2.06-.94-2.06-.94-.94-2.06-.94 2.06-2.06.94z\"/><path d=\"M17.41 7.96l-1.37-1.37c-.4-.4-.92-.59-1.43-.59-.52 0-1.04.2-1.43.59L10.3 9.45l-7.72 7.72c-.78.78-.78 2.05 0 2.83L4 21.41c.39.39.9.59 1.41.59.51 0 1.02-.2 1.41-.59l7.78-7.78 2.81-2.81c.8-.78.8-2.07 0-2.86zM5.41 20L4 18.59l7.72-7.72 1.47 1.35L5.41 20z\"/>\n",
              "  </svg>\n",
              "      </button>\n",
              "      \n",
              "  <style>\n",
              "    .colab-df-container {\n",
              "      display:flex;\n",
              "      flex-wrap:wrap;\n",
              "      gap: 12px;\n",
              "    }\n",
              "\n",
              "    .colab-df-convert {\n",
              "      background-color: #E8F0FE;\n",
              "      border: none;\n",
              "      border-radius: 50%;\n",
              "      cursor: pointer;\n",
              "      display: none;\n",
              "      fill: #1967D2;\n",
              "      height: 32px;\n",
              "      padding: 0 0 0 0;\n",
              "      width: 32px;\n",
              "    }\n",
              "\n",
              "    .colab-df-convert:hover {\n",
              "      background-color: #E2EBFA;\n",
              "      box-shadow: 0px 1px 2px rgba(60, 64, 67, 0.3), 0px 1px 3px 1px rgba(60, 64, 67, 0.15);\n",
              "      fill: #174EA6;\n",
              "    }\n",
              "\n",
              "    [theme=dark] .colab-df-convert {\n",
              "      background-color: #3B4455;\n",
              "      fill: #D2E3FC;\n",
              "    }\n",
              "\n",
              "    [theme=dark] .colab-df-convert:hover {\n",
              "      background-color: #434B5C;\n",
              "      box-shadow: 0px 1px 3px 1px rgba(0, 0, 0, 0.15);\n",
              "      filter: drop-shadow(0px 1px 2px rgba(0, 0, 0, 0.3));\n",
              "      fill: #FFFFFF;\n",
              "    }\n",
              "  </style>\n",
              "\n",
              "      <script>\n",
              "        const buttonEl =\n",
              "          document.querySelector('#df-0911e66a-8651-4b86-9a30-382cbac05bca button.colab-df-convert');\n",
              "        buttonEl.style.display =\n",
              "          google.colab.kernel.accessAllowed ? 'block' : 'none';\n",
              "\n",
              "        async function convertToInteractive(key) {\n",
              "          const element = document.querySelector('#df-0911e66a-8651-4b86-9a30-382cbac05bca');\n",
              "          const dataTable =\n",
              "            await google.colab.kernel.invokeFunction('convertToInteractive',\n",
              "                                                     [key], {});\n",
              "          if (!dataTable) return;\n",
              "\n",
              "          const docLinkHtml = 'Like what you see? Visit the ' +\n",
              "            '<a target=\"_blank\" href=https://colab.research.google.com/notebooks/data_table.ipynb>data table notebook</a>'\n",
              "            + ' to learn more about interactive tables.';\n",
              "          element.innerHTML = '';\n",
              "          dataTable['output_type'] = 'display_data';\n",
              "          await google.colab.output.renderOutput(dataTable, element);\n",
              "          const docLink = document.createElement('div');\n",
              "          docLink.innerHTML = docLinkHtml;\n",
              "          element.appendChild(docLink);\n",
              "        }\n",
              "      </script>\n",
              "    </div>\n",
              "  </div>\n",
              "  "
            ]
          },
          "metadata": {},
          "execution_count": 7
        }
      ]
    },
    {
      "cell_type": "markdown",
      "source": [
        "2. Importe **train_test_split** desde sklearn. Defina la variable y como `revenue` y X como `num_competitors`, `median_income`, `num_loyalty_members`, `population_density` y `location_age`:"
      ],
      "metadata": {
        "id": "MW20GpLozv4p"
      }
    },
    {
      "cell_type": "code",
      "source": [
        "from sklearn.model_selection import train_test_split\n",
        "X = df[['num_competitors',\n",
        "        'median_income',\n",
        "        'num_loyalty_members',\n",
        "        'population_density',\n",
        "        'location_age']]\n",
        "y = df['revenue']"
      ],
      "metadata": {
        "id": "qG1ILtvx0FhW"
      },
      "execution_count": 8,
      "outputs": []
    },
    {
      "cell_type": "markdown",
      "source": [
        "3. Realice una división de prueba de entrenamiento en los datos, usando random_state=15, y guarde los resultados en `X_train`, `X_test`, `y_train` y `y_test`:"
      ],
      "metadata": {
        "id": "f6099Q5f0NuE"
      }
    },
    {
      "cell_type": "code",
      "source": [
        "X_train, X_test, y_train, y_test = train_test_split (X, y, random_state = 15)"
      ],
      "metadata": {
        "id": "xGVPTsxX0R7c"
      },
      "execution_count": 9,
      "outputs": []
    },
    {
      "cell_type": "markdown",
      "source": [
        "4. Importe LinearRegression desde sklearn para ajustar un modelo de regresión lineal a los datos de entrenamiento:"
      ],
      "metadata": {
        "id": "sWzXOe690YSU"
      }
    },
    {
      "cell_type": "code",
      "source": [
        "from sklearn.linear_model import LinearRegression\n",
        "model = LinearRegression()\n",
        "model.fit(X_train,y_train)"
      ],
      "metadata": {
        "colab": {
          "base_uri": "https://localhost:8080/",
          "height": 75
        },
        "id": "sHuuy4v60eaG",
        "outputId": "4fd7ecd6-72fc-43ab-be80-1b278fb4d008"
      },
      "execution_count": 10,
      "outputs": [
        {
          "output_type": "execute_result",
          "data": {
            "text/plain": [
              "LinearRegression()"
            ],
            "text/html": [
              "<style>#sk-container-id-1 {color: black;background-color: white;}#sk-container-id-1 pre{padding: 0;}#sk-container-id-1 div.sk-toggleable {background-color: white;}#sk-container-id-1 label.sk-toggleable__label {cursor: pointer;display: block;width: 100%;margin-bottom: 0;padding: 0.3em;box-sizing: border-box;text-align: center;}#sk-container-id-1 label.sk-toggleable__label-arrow:before {content: \"▸\";float: left;margin-right: 0.25em;color: #696969;}#sk-container-id-1 label.sk-toggleable__label-arrow:hover:before {color: black;}#sk-container-id-1 div.sk-estimator:hover label.sk-toggleable__label-arrow:before {color: black;}#sk-container-id-1 div.sk-toggleable__content {max-height: 0;max-width: 0;overflow: hidden;text-align: left;background-color: #f0f8ff;}#sk-container-id-1 div.sk-toggleable__content pre {margin: 0.2em;color: black;border-radius: 0.25em;background-color: #f0f8ff;}#sk-container-id-1 input.sk-toggleable__control:checked~div.sk-toggleable__content {max-height: 200px;max-width: 100%;overflow: auto;}#sk-container-id-1 input.sk-toggleable__control:checked~label.sk-toggleable__label-arrow:before {content: \"▾\";}#sk-container-id-1 div.sk-estimator input.sk-toggleable__control:checked~label.sk-toggleable__label {background-color: #d4ebff;}#sk-container-id-1 div.sk-label input.sk-toggleable__control:checked~label.sk-toggleable__label {background-color: #d4ebff;}#sk-container-id-1 input.sk-hidden--visually {border: 0;clip: rect(1px 1px 1px 1px);clip: rect(1px, 1px, 1px, 1px);height: 1px;margin: -1px;overflow: hidden;padding: 0;position: absolute;width: 1px;}#sk-container-id-1 div.sk-estimator {font-family: monospace;background-color: #f0f8ff;border: 1px dotted black;border-radius: 0.25em;box-sizing: border-box;margin-bottom: 0.5em;}#sk-container-id-1 div.sk-estimator:hover {background-color: #d4ebff;}#sk-container-id-1 div.sk-parallel-item::after {content: \"\";width: 100%;border-bottom: 1px solid gray;flex-grow: 1;}#sk-container-id-1 div.sk-label:hover label.sk-toggleable__label {background-color: #d4ebff;}#sk-container-id-1 div.sk-serial::before {content: \"\";position: absolute;border-left: 1px solid gray;box-sizing: border-box;top: 0;bottom: 0;left: 50%;z-index: 0;}#sk-container-id-1 div.sk-serial {display: flex;flex-direction: column;align-items: center;background-color: white;padding-right: 0.2em;padding-left: 0.2em;position: relative;}#sk-container-id-1 div.sk-item {position: relative;z-index: 1;}#sk-container-id-1 div.sk-parallel {display: flex;align-items: stretch;justify-content: center;background-color: white;position: relative;}#sk-container-id-1 div.sk-item::before, #sk-container-id-1 div.sk-parallel-item::before {content: \"\";position: absolute;border-left: 1px solid gray;box-sizing: border-box;top: 0;bottom: 0;left: 50%;z-index: -1;}#sk-container-id-1 div.sk-parallel-item {display: flex;flex-direction: column;z-index: 1;position: relative;background-color: white;}#sk-container-id-1 div.sk-parallel-item:first-child::after {align-self: flex-end;width: 50%;}#sk-container-id-1 div.sk-parallel-item:last-child::after {align-self: flex-start;width: 50%;}#sk-container-id-1 div.sk-parallel-item:only-child::after {width: 0;}#sk-container-id-1 div.sk-dashed-wrapped {border: 1px dashed gray;margin: 0 0.4em 0.5em 0.4em;box-sizing: border-box;padding-bottom: 0.4em;background-color: white;}#sk-container-id-1 div.sk-label label {font-family: monospace;font-weight: bold;display: inline-block;line-height: 1.2em;}#sk-container-id-1 div.sk-label-container {text-align: center;}#sk-container-id-1 div.sk-container {/* jupyter's `normalize.less` sets `[hidden] { display: none; }` but bootstrap.min.css set `[hidden] { display: none !important; }` so we also need the `!important` here to be able to override the default hidden behavior on the sphinx rendered scikit-learn.org. See: https://github.com/scikit-learn/scikit-learn/issues/21755 */display: inline-block !important;position: relative;}#sk-container-id-1 div.sk-text-repr-fallback {display: none;}</style><div id=\"sk-container-id-1\" class=\"sk-top-container\"><div class=\"sk-text-repr-fallback\"><pre>LinearRegression()</pre><b>In a Jupyter environment, please rerun this cell to show the HTML representation or trust the notebook. <br />On GitHub, the HTML representation is unable to render, please try loading this page with nbviewer.org.</b></div><div class=\"sk-container\" hidden><div class=\"sk-item\"><div class=\"sk-estimator sk-toggleable\"><input class=\"sk-toggleable__control sk-hidden--visually\" id=\"sk-estimator-id-1\" type=\"checkbox\" checked><label for=\"sk-estimator-id-1\" class=\"sk-toggleable__label sk-toggleable__label-arrow\">LinearRegression</label><div class=\"sk-toggleable__content\"><pre>LinearRegression()</pre></div></div></div></div></div>"
            ]
          },
          "metadata": {},
          "execution_count": 10
        }
      ]
    },
    {
      "cell_type": "markdown",
      "source": [
        "5. Obtenga las predicciones del modelo para los datos de `X_test` y almacene el resultado en una variable llamada predicciones:"
      ],
      "metadata": {
        "id": "eCEM2-8o0f93"
      }
    },
    {
      "cell_type": "code",
      "source": [
        "predictions = model.predict(X_test)"
      ],
      "metadata": {
        "id": "IDeqbHVb0lTo"
      },
      "execution_count": 11,
      "outputs": []
    },
    {
      "cell_type": "markdown",
      "source": [
        "\n",
        "6. En lugar de calcular el RMSE y el MAE usted mismo, puede importar funciones de sklearn para que lo hagan por usted. Tenga en cuenta que sklearn solo contiene una función para calcular el MSE, por lo que debemos sacar la raíz de este valor para obtener el RMSE (ahí es donde entra el 0.5). Use el siguiente código para calcular el RMSE y MAE:"
      ],
      "metadata": {
        "id": "YuSHOIJU0ptf"
      }
    },
    {
      "cell_type": "code",
      "source": [
        "from sklearn.metrics import mean_squared_error, mean_absolute_error\n",
        "print('RMSE: ' +  str(mean_squared_error(predictions, y_test)**0.5))\n",
        "print('MAE: ' +  str(mean_absolute_error(predictions, y_test)))"
      ],
      "metadata": {
        "colab": {
          "base_uri": "https://localhost:8080/"
        },
        "id": "vB6FYOs10uOp",
        "outputId": "6f438b2f-3a8c-41d9-beed-2938d8182f08"
      },
      "execution_count": 12,
      "outputs": [
        {
          "output_type": "stream",
          "name": "stdout",
          "text": [
            "RMSE: 5133.736391468813\n",
            "MAE: 4161.387875602788\n"
          ]
        }
      ]
    },
    {
      "cell_type": "markdown",
      "source": [
        "Ahora, reconstruya el modelo después de eliminar num_competitors de los predictores y evalúe el nuevo modelo. Cree las variables X_train2 y X_test2 eliminando num_competitors de X_train y X_test. Entrene un modelo usando X_train2 y genere nuevas predicciones a partir de este modelo usando X_test2:"
      ],
      "metadata": {
        "id": "b5h4xJHp0-TV"
      }
    },
    {
      "cell_type": "code",
      "source": [
        "X_train2 = X_train.drop('num_competitors', axis=1)\n",
        "X_test2 = X_test.drop('num_competitors', axis=1)\n",
        "model.fit(X_train2, y_train)\n",
        "predictions2 = model.predict(X_test2)"
      ],
      "metadata": {
        "id": "5ht6mz7M1Bdi"
      },
      "execution_count": 13,
      "outputs": []
    },
    {
      "cell_type": "markdown",
      "source": [
        "8. Calcule el RMSE y el MAE para las predicciones del nuevo modelo e imprímalos, de la siguiente manera:"
      ],
      "metadata": {
        "id": "QYsj9jj81DWo"
      }
    },
    {
      "cell_type": "code",
      "source": [
        "print('RMSE: ' + str(mean_squared_error(predictions2, y_test)**0.5))\n",
        "print('MAE: ' + str(mean_absolute_error(predictions2, y_test)))"
      ],
      "metadata": {
        "colab": {
          "base_uri": "https://localhost:8080/"
        },
        "id": "SqBrslA21F2z",
        "outputId": "c75ac904-7ea2-457c-cffd-bcd7a5bf57f5"
      },
      "execution_count": 14,
      "outputs": [
        {
          "output_type": "stream",
          "name": "stdout",
          "text": [
            "RMSE: 5702.030002037037\n",
            "MAE: 4544.416946418695\n"
          ]
        }
      ]
    },
    {
      "cell_type": "markdown",
      "source": [
        "Tenga en cuenta que ambos valores son más altos que los valores que calculamos para el modelo anterior. Esto significa que eliminar num_competitors de nuestro modelo aumentó el error en nuestro modelo en el conjunto de prueba. En otras palabras, nuestro modelo era más preciso cuando contenía num_competitors. Por lo tanto, la intuición del equipo de marketing no fue correcta."
      ],
      "metadata": {
        "id": "U5Rn0acs1SLs"
      }
    },
    {
      "cell_type": "markdown",
      "source": [
        "## Uso de la selección recursiva de características para la eliminación de características\n",
        "Hasta ahora, hemos discutido dos métricas de evaluación importantes: \n",
        "- el MAE y \n",
        "- el RMSE. \n",
        "\n",
        "También vimos cómo se pueden usar estas métricas con la ayuda de la biblioteca scikit-learn y cómo se puede usar un cambio en los valores de estas métricas como indicador de la importancia de una característica. \n",
        "Sin embargo, si tiene una gran cantidad de funciones, eliminar una función a la vez se convertiría en un trabajo muy tedioso, y aquí es donde entra en juego RFE. \n",
        "\n",
        "Cuando un conjunto de datos contiene características que no están **relacionadas** con la columna de destino o están relacionadas con otras columnas, el rendimiento del modelo puede verse afectado negativamente.\n",
        "\n",
        "Por ejemplo, suponga que desea predecir el número de ventas de un producto dado el precio de costo del producto, el descuento disponible, el precio de venta del producto y la fecha en que se lanzó por primera vez al mercado. Como es de esperar, la fecha de lanzamiento del producto original no afectará las ventas actuales.\n",
        "\n",
        "Significa que la función (fecha de lanzamiento del producto original) no está relacionada con la columna de destino (ventas del producto). De manera similar, el precio de costo del producto se convierte en información redundante si el precio de venta y el descuento ya están disponibles, que es un ejemplo del segundo caso, en el que una columna está relacionada con otras columnas.\n",
        "\n",
        "Cuando una o más características tienen una baja correlación (dependencia entre dos columnas) con la columna de destino, esto significa que estas columnas no proporcionarán ninguna información útil para el modelo. Sin embargo, si aún los incluimos mientras entrenamos el modelo, el modelo se verá obligado a aprender (incorrectamente) que estas columnas tienen algún efecto en la columna de destino."
      ],
      "metadata": {
        "id": "7xpht_kU1kAr"
      }
    },
    {
      "cell_type": "markdown",
      "source": [
        "Un escenario similar puede ocurrir cuando las características tienen una alta correlación. \n"
      ],
      "metadata": {
        "id": "FQ6hWow2caFv"
      }
    },
    {
      "cell_type": "markdown",
      "source": [
        "1. Primero, importe RFE desde el paquete scikit-learn: from sklearn.feature_selection import RFE\n"
      ],
      "metadata": {
        "id": "YfIQN1p2dnTL"
      }
    },
    {
      "cell_type": "code",
      "source": [
        "from sklearn.feature_selection import RFE"
      ],
      "metadata": {
        "id": "qoASPrH4dthx"
      },
      "execution_count": 15,
      "outputs": []
    },
    {
      "cell_type": "markdown",
      "source": [
        "\n",
        "2. A continuación, cree una instancia de RFE mientras especifica cuántas funciones desea seleccionar. Por ejemplo, si desea seleccionar 5 funciones, utilizará el siguiente código:\n"
      ],
      "metadata": {
        "id": "iWMNhBTXdpCs"
      }
    },
    {
      "cell_type": "code",
      "source": [
        "rfe = RFE(estimator = LinearRegression(), n_features_to_select=5)"
      ],
      "metadata": {
        "id": "gam6LdwrduLc"
      },
      "execution_count": 16,
      "outputs": []
    },
    {
      "cell_type": "markdown",
      "source": [
        "\n",
        "3. Ajuste el modelo RFE en el conjunto de datos de entrenamiento:"
      ],
      "metadata": {
        "id": "p1ahdJm0dwGH"
      }
    },
    {
      "cell_type": "code",
      "source": [
        "rfe.fit(X_train,y_train)"
      ],
      "metadata": {
        "colab": {
          "base_uri": "https://localhost:8080/",
          "height": 117
        },
        "id": "fJ6dkQj8d_sD",
        "outputId": "e5ade86d-c0d9-4c13-b5ef-4c937da75b9f"
      },
      "execution_count": 17,
      "outputs": [
        {
          "output_type": "execute_result",
          "data": {
            "text/plain": [
              "RFE(estimator=LinearRegression(), n_features_to_select=5)"
            ],
            "text/html": [
              "<style>#sk-container-id-2 {color: black;background-color: white;}#sk-container-id-2 pre{padding: 0;}#sk-container-id-2 div.sk-toggleable {background-color: white;}#sk-container-id-2 label.sk-toggleable__label {cursor: pointer;display: block;width: 100%;margin-bottom: 0;padding: 0.3em;box-sizing: border-box;text-align: center;}#sk-container-id-2 label.sk-toggleable__label-arrow:before {content: \"▸\";float: left;margin-right: 0.25em;color: #696969;}#sk-container-id-2 label.sk-toggleable__label-arrow:hover:before {color: black;}#sk-container-id-2 div.sk-estimator:hover label.sk-toggleable__label-arrow:before {color: black;}#sk-container-id-2 div.sk-toggleable__content {max-height: 0;max-width: 0;overflow: hidden;text-align: left;background-color: #f0f8ff;}#sk-container-id-2 div.sk-toggleable__content pre {margin: 0.2em;color: black;border-radius: 0.25em;background-color: #f0f8ff;}#sk-container-id-2 input.sk-toggleable__control:checked~div.sk-toggleable__content {max-height: 200px;max-width: 100%;overflow: auto;}#sk-container-id-2 input.sk-toggleable__control:checked~label.sk-toggleable__label-arrow:before {content: \"▾\";}#sk-container-id-2 div.sk-estimator input.sk-toggleable__control:checked~label.sk-toggleable__label {background-color: #d4ebff;}#sk-container-id-2 div.sk-label input.sk-toggleable__control:checked~label.sk-toggleable__label {background-color: #d4ebff;}#sk-container-id-2 input.sk-hidden--visually {border: 0;clip: rect(1px 1px 1px 1px);clip: rect(1px, 1px, 1px, 1px);height: 1px;margin: -1px;overflow: hidden;padding: 0;position: absolute;width: 1px;}#sk-container-id-2 div.sk-estimator {font-family: monospace;background-color: #f0f8ff;border: 1px dotted black;border-radius: 0.25em;box-sizing: border-box;margin-bottom: 0.5em;}#sk-container-id-2 div.sk-estimator:hover {background-color: #d4ebff;}#sk-container-id-2 div.sk-parallel-item::after {content: \"\";width: 100%;border-bottom: 1px solid gray;flex-grow: 1;}#sk-container-id-2 div.sk-label:hover label.sk-toggleable__label {background-color: #d4ebff;}#sk-container-id-2 div.sk-serial::before {content: \"\";position: absolute;border-left: 1px solid gray;box-sizing: border-box;top: 0;bottom: 0;left: 50%;z-index: 0;}#sk-container-id-2 div.sk-serial {display: flex;flex-direction: column;align-items: center;background-color: white;padding-right: 0.2em;padding-left: 0.2em;position: relative;}#sk-container-id-2 div.sk-item {position: relative;z-index: 1;}#sk-container-id-2 div.sk-parallel {display: flex;align-items: stretch;justify-content: center;background-color: white;position: relative;}#sk-container-id-2 div.sk-item::before, #sk-container-id-2 div.sk-parallel-item::before {content: \"\";position: absolute;border-left: 1px solid gray;box-sizing: border-box;top: 0;bottom: 0;left: 50%;z-index: -1;}#sk-container-id-2 div.sk-parallel-item {display: flex;flex-direction: column;z-index: 1;position: relative;background-color: white;}#sk-container-id-2 div.sk-parallel-item:first-child::after {align-self: flex-end;width: 50%;}#sk-container-id-2 div.sk-parallel-item:last-child::after {align-self: flex-start;width: 50%;}#sk-container-id-2 div.sk-parallel-item:only-child::after {width: 0;}#sk-container-id-2 div.sk-dashed-wrapped {border: 1px dashed gray;margin: 0 0.4em 0.5em 0.4em;box-sizing: border-box;padding-bottom: 0.4em;background-color: white;}#sk-container-id-2 div.sk-label label {font-family: monospace;font-weight: bold;display: inline-block;line-height: 1.2em;}#sk-container-id-2 div.sk-label-container {text-align: center;}#sk-container-id-2 div.sk-container {/* jupyter's `normalize.less` sets `[hidden] { display: none; }` but bootstrap.min.css set `[hidden] { display: none !important; }` so we also need the `!important` here to be able to override the default hidden behavior on the sphinx rendered scikit-learn.org. See: https://github.com/scikit-learn/scikit-learn/issues/21755 */display: inline-block !important;position: relative;}#sk-container-id-2 div.sk-text-repr-fallback {display: none;}</style><div id=\"sk-container-id-2\" class=\"sk-top-container\"><div class=\"sk-text-repr-fallback\"><pre>RFE(estimator=LinearRegression(), n_features_to_select=5)</pre><b>In a Jupyter environment, please rerun this cell to show the HTML representation or trust the notebook. <br />On GitHub, the HTML representation is unable to render, please try loading this page with nbviewer.org.</b></div><div class=\"sk-container\" hidden><div class=\"sk-item sk-dashed-wrapped\"><div class=\"sk-label-container\"><div class=\"sk-label sk-toggleable\"><input class=\"sk-toggleable__control sk-hidden--visually\" id=\"sk-estimator-id-2\" type=\"checkbox\" ><label for=\"sk-estimator-id-2\" class=\"sk-toggleable__label sk-toggleable__label-arrow\">RFE</label><div class=\"sk-toggleable__content\"><pre>RFE(estimator=LinearRegression(), n_features_to_select=5)</pre></div></div></div><div class=\"sk-parallel\"><div class=\"sk-parallel-item\"><div class=\"sk-item\"><div class=\"sk-label-container\"><div class=\"sk-label sk-toggleable\"><input class=\"sk-toggleable__control sk-hidden--visually\" id=\"sk-estimator-id-3\" type=\"checkbox\" ><label for=\"sk-estimator-id-3\" class=\"sk-toggleable__label sk-toggleable__label-arrow\">estimator: LinearRegression</label><div class=\"sk-toggleable__content\"><pre>LinearRegression()</pre></div></div></div><div class=\"sk-serial\"><div class=\"sk-item\"><div class=\"sk-estimator sk-toggleable\"><input class=\"sk-toggleable__control sk-hidden--visually\" id=\"sk-estimator-id-4\" type=\"checkbox\" ><label for=\"sk-estimator-id-4\" class=\"sk-toggleable__label sk-toggleable__label-arrow\">LinearRegression</label><div class=\"sk-toggleable__content\"><pre>LinearRegression()</pre></div></div></div></div></div></div></div></div></div></div>"
            ]
          },
          "metadata": {},
          "execution_count": 17
        }
      ]
    },
    {
      "cell_type": "markdown",
      "source": [
        "4. A continuación, puede averiguar qué columnas fueron seleccionadas por RFE y cuáles no, utilizando el siguiente código:"
      ],
      "metadata": {
        "id": "9-VRBfkId0Sr"
      }
    },
    {
      "cell_type": "code",
      "source": [
        "for featureNum in range(X_train.shape[1]):\n",
        "  # If feature was selected\n",
        "  if rfe.support_[featureNum] == True:\n",
        "    # Print feature name and rank\n",
        "    print(\"Feature: {}, Rank:{}\"\\\n",
        "          .format(X_train.columns[featureNum],\\\n",
        "                  rfe.ranking_[featureNum]))"
      ],
      "metadata": {
        "colab": {
          "base_uri": "https://localhost:8080/"
        },
        "id": "1c4Nlfo_eBOR",
        "outputId": "a7d58f52-677b-41da-f67a-3313f307517a"
      },
      "execution_count": 18,
      "outputs": [
        {
          "output_type": "stream",
          "name": "stdout",
          "text": [
            "Feature: num_competitors, Rank:1\n",
            "Feature: median_income, Rank:1\n",
            "Feature: num_loyalty_members, Rank:1\n",
            "Feature: population_density, Rank:1\n",
            "Feature: location_age, Rank:1\n"
          ]
        }
      ]
    },
    {
      "cell_type": "code",
      "source": [
        "# Ahora, obtengamos algo de experiencia práctica en el uso de RFE en el \n",
        "# próximo ejercicio. Reutilizaremos el código que estudiamos aquí para RFE \n",
        "# en este próximo ejercicio."
      ],
      "metadata": {
        "id": "hMGxHttzev3g"
      },
      "execution_count": null,
      "outputs": []
    },
    {
      "cell_type": "markdown",
      "source": [
        "### Ejercicio 6.02: Uso de RFE para la selección de funciones\n",
        "\n",
        "Para este ejercicio, se le proporcionaron datos de los ingresos de las tiendas en diferentes ubicaciones y una serie de 20 puntajes basados ​​en métricas internas en el archivo 20scores.csv. No se le dice qué significan las puntuaciones, pero se le pide que cree un modelo predictivo que utilice la menor cantidad posible de estas puntuaciones sin sacrificar la capacidad de predecir los ingresos por ubicación."
      ],
      "metadata": {
        "id": "1WaQwA1se_x-"
      }
    },
    {
      "cell_type": "markdown",
      "source": [
        "1. Importe pandas, lea los datos de 20scores.csv en un DataFrame llamado df y muestre las primeras cinco filas de datos usando la función head:"
      ],
      "metadata": {
        "id": "GhcdC1wlfKV8"
      }
    },
    {
      "cell_type": "code",
      "source": [
        "import pandas as pd\n",
        "df = pd.read_csv('20scores.csv') df.head()"
      ],
      "metadata": {
        "colab": {
          "base_uri": "https://localhost:8080/",
          "height": 133
        },
        "id": "wbD083MsfOyZ",
        "outputId": "475a4972-b5e3-4008-b938-c0911e444db3"
      },
      "execution_count": 19,
      "outputs": [
        {
          "output_type": "error",
          "ename": "SyntaxError",
          "evalue": "ignored",
          "traceback": [
            "\u001b[0;36m  File \u001b[0;32m\"<ipython-input-19-d7a8ddc0eb2c>\"\u001b[0;36m, line \u001b[0;32m2\u001b[0m\n\u001b[0;31m    df = pd.read_csv('20scores.csv') df.head()\u001b[0m\n\u001b[0m                                     ^\u001b[0m\n\u001b[0;31mSyntaxError\u001b[0m\u001b[0;31m:\u001b[0m invalid syntax\n"
          ]
        }
      ]
    },
    {
      "cell_type": "markdown",
      "source": [
        "2. Extraiga la variable objetivo (y) y la variable predictora (X) de los datos:"
      ],
      "metadata": {
        "id": "7p40MvGMfT63"
      }
    },
    {
      "cell_type": "code",
      "source": [
        "x_cols = df.columns[1:]\n",
        "X = df[x_cols]\n",
        "y = df['revenue']"
      ],
      "metadata": {
        "id": "eh1RXBG4fYao"
      },
      "execution_count": 20,
      "outputs": []
    },
    {
      "cell_type": "markdown",
      "source": [
        "3. Importe train_test_split y realice una división de prueba de tren en los datos con random_state=10, almacenando los ingresos en la variable y y todas las demás características en la variable X:"
      ],
      "metadata": {
        "id": "QhzKuICxfdCq"
      }
    },
    {
      "cell_type": "code",
      "source": [
        "from sklearn.model_selection import train_test_split\n",
        "X_train, X_test, y_train, y_test = train_test_split\\\n",
        "                                   (X, y, random_state = 10)"
      ],
      "metadata": {
        "id": "cTIYUtNZffdG"
      },
      "execution_count": null,
      "outputs": []
    },
    {
      "cell_type": "markdown",
      "source": [
        "4. Importe LinearRegression de sklearn y ajuste un modelo de regresión lineal en los datos de entrenamiento:"
      ],
      "metadata": {
        "id": "eAzVW9uZfhqj"
      }
    },
    {
      "cell_type": "code",
      "source": [
        "from sklearn.linear_model import LinearRegression\n",
        "model = LinearRegression()\n",
        "model.fit(X_train,y_train)"
      ],
      "metadata": {
        "id": "eRdPXQIWflvC"
      },
      "execution_count": null,
      "outputs": []
    },
    {
      "cell_type": "markdown",
      "source": [
        "5. Mire los coeficientes del modelo usando el siguiente código:"
      ],
      "metadata": {
        "id": "XNxTcqAJfqC5"
      }
    },
    {
      "cell_type": "code",
      "source": [
        "model.coef_\n",
        "\n",
        "# Tenga en cuenta que todos estos valores son distintos de cero. \n",
        "# Por lo tanto, el modelo está utilizando todas las variables."
      ],
      "metadata": {
        "id": "7GatPWaFfr8S"
      },
      "execution_count": null,
      "outputs": []
    },
    {
      "cell_type": "markdown",
      "source": [
        "\n",
        "\n",
        "6. Ahora importa RFE desde sklearn. Utilice un modelo de regresión lineal como estimador, que RFE utilizará en cada iteración. Además, deberá especificar la cantidad de funciones que desea seleccionar. Por ahora, mantén solo cinco características:"
      ],
      "metadata": {
        "id": "w47_jiVwd7bD"
      }
    },
    {
      "cell_type": "code",
      "source": [
        "from sklearn.feature_selection import RFE\n",
        "rfe = RFE(estimator=LinearRegression(), n_features_to_select=5)"
      ],
      "metadata": {
        "id": "jD7TpQMKf5TN"
      },
      "execution_count": null,
      "outputs": []
    },
    {
      "cell_type": "markdown",
      "source": [
        "7. Entrene el modelo RFE que acaba de crear en el paso anterior en los datos de entrenamiento usando el siguiente comando:"
      ],
      "metadata": {
        "id": "DvK3W8Nrf-LB"
      }
    },
    {
      "cell_type": "code",
      "source": [
        "rfe.fit(X_train,y_train)\n",
        "\n",
        "# Esto proporcionará el siguiente resultado:"
      ],
      "metadata": {
        "id": "WTZJbdnGgEub"
      },
      "execution_count": null,
      "outputs": []
    },
    {
      "cell_type": "markdown",
      "source": [
        "\n",
        "8. Imprima las columnas que fueron seleccionadas por RFE junto con sus rangos:"
      ],
      "metadata": {
        "id": "ZphNAMYYgPs8"
      }
    },
    {
      "cell_type": "code",
      "source": [
        "for featureNum in range(X_train.shape[1]):\n",
        "  # If feature was selected\n",
        "  if rfe.support_[featureNum] == True:\n",
        "# Print feature name and rank\n",
        "  print(\"Feature: {}, Rank: {}\"\\\n",
        "      .format(X_train.columns[featureNum],\\\n",
        "              rfe.ranking_[featureNum]))\n",
        "  \n",
        "  # La salida obtenida para este código se da aquí:\n",
        "\n",
        "  \n"
      ],
      "metadata": {
        "id": "90mLBo61gWKW"
      },
      "execution_count": null,
      "outputs": []
    },
    {
      "cell_type": "code",
      "source": [
        "# Tenga en cuenta que RFE solo seleccionó cinco características y que a todas \n",
        "# esas características se les otorgó un rango de 1, lo que significa que \n",
        "# RFE consideró que las cinco características eran\n",
        "# igualmente importante."
      ],
      "metadata": {
        "id": "t2kgogJvgiS3"
      },
      "execution_count": null,
      "outputs": []
    },
    {
      "cell_type": "markdown",
      "source": [
        "9. Usando la información anterior, ahora cree un conjunto de datos reducido que tenga solo las columnas seleccionadas por RFE:"
      ],
      "metadata": {
        "id": "MY0FNMfDgt9K"
      }
    },
    {
      "cell_type": "code",
      "source": [
        "X_train_reduced = X_train[X_train.columns[rfe.support_]]\n",
        "X_test_reduced = X_test[X_train.columns[rfe.support_]]"
      ],
      "metadata": {
        "id": "3SzLHsy7g0Om"
      },
      "execution_count": null,
      "outputs": []
    },
    {
      "cell_type": "markdown",
      "source": [
        "10. A continuación, utilice el conjunto de datos de entrenamiento reducido para ajustar un nuevo modelo de regresión lineal:"
      ],
      "metadata": {
        "id": "WsKNHQ-Jgx0T"
      }
    },
    {
      "cell_type": "code",
      "source": [
        "rfe_model = LinearRegression()\n",
        "rfe_model.fit(X_train_reduced,y_train)"
      ],
      "metadata": {
        "id": "bFxeEV6Jg3Tk"
      },
      "execution_count": null,
      "outputs": []
    },
    {
      "cell_type": "markdown",
      "source": [
        "1. Importe mean_squared_error de sklearn y utilícelo para calcular el RMSE del modelo de regresión lineal en los datos de prueba:"
      ],
      "metadata": {
        "id": "RCExFoQ0g5-_"
      }
    },
    {
      "cell_type": "code",
      "source": [
        "from sklearn.metrics import mean_squared_error\n",
        "predictions = model.predict(X_test)\n",
        "print(mean_squared_error(predictions, y_test)**0.5)"
      ],
      "metadata": {
        "id": "wontmDIcg9pL"
      },
      "execution_count": null,
      "outputs": []
    },
    {
      "cell_type": "markdown",
      "source": [
        "12. De manera similar, calcule el RMSE del modelo generado en el paso 9 en los datos de prueba:"
      ],
      "metadata": {
        "id": "D_mtOPg6hBEQ"
      }
    },
    {
      "cell_type": "code",
      "source": [
        "rfe_predictions = rfe_model.predict(X_test_reduced)\n",
        "print(mean_squared_error(rfe_predictions, y_test)**0.5)"
      ],
      "metadata": {
        "id": "YcTXEW57hELR"
      },
      "execution_count": null,
      "outputs": []
    },
    {
      "cell_type": "markdown",
      "source": [
        "Puede observar que, aunque el conjunto de datos reducido obtenido con RFE solo tiene cinco características, su RMSE es más bajo que el modelo lineal que las usa todas. Esto demuestra que no ha perdido poder predictivo, aunque ha simplificado mucho el modelo al eliminar variables.\n",
        "\n",
        "En la próxima actividad, usaremos RFE para descubrir las tres funciones principales para predecir el gasto del cliente. Esto le dará una idea de cómo se puede utilizar RFE en problemas de marketing en los que suele haber un mayor número de columnas."
      ],
      "metadata": {
        "id": "sYP9pGu4hH0t"
      }
    },
    {
      "cell_type": "markdown",
      "source": [
        "## Modelos de regresión basados ​​en árboles\n",
        "En la actividad anterior, pudo identificar las tres características más importantes que podrían usarse para predecir el gasto del cliente. Ahora, imagina hacer lo mismo eliminando cada característica una a la vez y averiguando el RMSE. RFE tiene como objetivo eliminar la tarea redundante de revisar cada función haciéndola internamente, sin obligar al usuario a esforzarse para hacerlo manualmente.\n",
        "\n",
        "Hasta ahora, hemos cubierto los modelos de regresión lineal. Ahora es el momento de dar un paso más adelante discutiendo algunos modelos de regresión basados ​​en árboles.\n",
        "\n",
        "Los modelos lineales no son el único tipo de modelos de regresión. Otra técnica poderosa es el uso de árboles de regresión. Los árboles de regresión se basan en la idea de un árbol de decisión. Un árbol de decisión es un poco como un diagrama de flujo, donde, en cada paso, pregunta si una variable es mayor o menor que algún valor. Después de seguir varios de estos pasos, llega al final del árbol y recibe una respuesta para qué valor debe tener la predicción. \n",
        "\n",
        "La siguiente figura ilustra el funcionamiento de los árboles de regresión. \n",
        "\n",
        "Por ejemplo, si desea predecir la edad de una persona con una altura de 1,7 m y un peso de 80 kg, entonces, utilizando el árbol de regresión (izquierda), dado que la altura es inferior a 1,85 m, seguirá la rama izquierda . De igual forma, como el peso es menor a 90 kg, seguirás la rama izquierda y terminarás en 18. Esto quiere decir que la edad de la persona es de 18 años:"
      ],
      "metadata": {
        "id": "p-CwdzEJhRdx"
      }
    },
    {
      "cell_type": "markdown",
      "source": [
        "\n",
        "<figure>\n",
        "<center><img src='https://drive.google.com/uc?export=view&id=1f9TzngFX4o3X1jWzgmsXJTv6EXdDNM11' width=\"500\" />\n",
        "<figcaption>\n",
        "Figura 6.11: Un árbol de regresión (izquierda) y cómo analiza el espacio de características en predicciones</figcaption></center>\n",
        "</figure>\n",
        "\n"
      ],
      "metadata": {
        "id": "NZnP7IDbhnQs"
      }
    },
    {
      "cell_type": "markdown",
      "source": [
        "## Bosques aleatorios (Random Forests)\n",
        "Para superar el problema del sobreajuste, en lugar de entrenar un solo árbol para encontrar patrones en los datos, muchos árboles se entrenan sobre subconjuntos aleatorios de datos. Las predicciones de estos árboles luego se promedian para producir una predicción. \n",
        "\n",
        "Combinando árboles juntos de esta manera se llama un bosque aleatorio. Se ha encontrado que esta técnica supera muchas de las debilidades asociadas con los árboles de regresión. La siguiente figura ilustra un conjunto de modelos de árbol, cada una de cuyas predicciones se promedian para producir las predicciones del conjunto. Vemos que se entrena una cantidad n de árboles sobre subconjuntos aleatorios de datos. Entonces, la media de las predicciones de esos árboles es la predicción deseada:"
      ],
      "metadata": {
        "id": "6aYgJeDdiBA0"
      }
    },
    {
      "cell_type": "code",
      "source": [
        "https://drive.google.com/file/d/1RJhgtIRCfEDxAmKFiXOwvV4cVf7vFAGB/view?usp=share_link\n",
        "\n",
        "\n",
        "Figura 6.12: Un conjunto de modelos de árboles\n"
      ],
      "metadata": {
        "id": "WU5VuiX3iPB9"
      },
      "execution_count": null,
      "outputs": []
    },
    {
      "cell_type": "markdown",
      "source": [
        "Los bosques aleatorios se basan en la idea de crear un conjunto, que es donde se combinan múltiples modelos para producir una sola predicción. Esta es una técnica poderosa que a menudo puede conducir a muy buenos resultados. En el caso de los bosques aleatorios, se ha demostrado que la creación de un conjunto de árboles de regresión juntos de esta manera no solo reduce el sobreajuste sino que también produce muy buenas predicciones en una amplia variedad de escenarios."
      ],
      "metadata": {
        "id": "5reCvQtJif3X"
      }
    },
    {
      "cell_type": "markdown",
      "source": [],
      "metadata": {
        "id": "ay8iKrNgjgg_"
      }
    },
    {
      "cell_type": "markdown",
      "source": [
        "Similar a los árboles de regresión discutidos en la sección anterior, los bosques aleatorios se pueden crear siguiendo los siguientes pasos con la ayuda de la biblioteca scikit-learn.\n",
        "\n",
        "Primero, importe `RandomForestRegressor` desde el módulo scikit-learn: from sklearn.module import RandomForestRegressor\n",
        "A continuación, puede crear una instancia del regresor de bosque aleatorio. \n",
        "\n",
        "\n",
        "\n",
        "```\n",
        "    from sklearn.module import RandomForestRegressor\n",
        "\n",
        "```\n",
        "\n",
        "\n",
        "\n",
        "En el siguiente código, puede cambiar la profundidad máxima de los árboles presentes en el bosque aleatorio según sus requisitos:\n",
        "\n",
        "```\n",
        "    forest_model = RandomForestRegressor(máx_profundidad=2)\n",
        "```\n",
        "\n",
        "Debido a que los métodos basados ​​en árboles y la regresión lineal son tan drásticamente diferentes en la forma en que se ajustan a los datos, a menudo funcionan bien en diferentes circunstancias. Cuando las relaciones en los datos son lineales (o casi), los modelos lineales tenderán a producir predicciones más precisas, con la ventaja de ser fáciles de interpretar. Cuando las relaciones son más complejas, los métodos basados ​​en árboles pueden funcionar mejor. Por ejemplo, la ganancia obtenida por una empresa y la ganancia obtenida por cada anuncio que publican es una relación lineal. Si la ganancia obtenida por cada anuncio se duplica, la ganancia general de la empresa también se duplicará. Sin embargo, la cantidad de anuncios no necesariamente tiene que seguir una relación lineal con la ganancia, ya que puede tener 100 anuncios con un rendimiento bajo, en comparación con solo un anuncio con un rendimiento realmente bueno. Esta es una relación compleja, o no lineal. Probar cada uno y elegir el mejor modelo para el trabajo requiere evaluar los modelos en función de su precisión predictiva con una métrica como el RMSE. La elección depende en última instancia de los datos con los que esté trabajando.\n",
        "\n",
        "Por ejemplo, si se da cuenta durante las etapas iniciales del análisis de datos (supongamos que nota que los puntos de datos siguen aproximadamente una curva lineal) que un modelo lineal se ajustará a los datos con precisión, es mejor optar por un modelo de regresión lineal en lugar de los modelos de regresión basados ​​en árboles más complejos. En el peor de los casos, puede probar ambos enfoques y elegir el más preciso.\n"
      ],
      "metadata": {
        "id": "HYsuXuCjii6e"
      }
    },
    {
      "cell_type": "markdown",
      "source": [
        "### Ejercicio 6.03: Uso de modelos de regresión basados ​​en árboles para capturar Tendencias datos no lineales \n",
        "\n",
        "En este ejercicio, verá un conjunto de datos muy simple donde tiene datos sobre el gasto de los clientes y sus edades. Desea averiguar cómo cambian los hábitos de gasto con la edad en sus clientes y qué tan bien pueden capturar los diferentes modelos\n",
        "esta relacion. Tener un modelo como este puede ayudar a crear patrones de sitios web específicos para la edad de sus clientes, ya que podrá recomendar productos que se adapten a los niveles de gasto de los clientes.\n",
        "Realice los siguientes pasos para lograr el objetivo de este ejercicio:\n",
        "\n",
        "1. Importe pandas y utilícelo para leer los datos en age_spend.csv. Utilizar el función head para ver las primeras cinco filas de los datos:"
      ],
      "metadata": {
        "id": "Eueifn2jjhQZ"
      }
    },
    {
      "cell_type": "code",
      "source": [
        "import pandas as pd\n",
        "df = pd.read_csv('age_spend.csv')\n",
        "df.head()"
      ],
      "metadata": {
        "id": "9_FxHNzGjsXy"
      },
      "execution_count": null,
      "outputs": []
    }
  ]
}