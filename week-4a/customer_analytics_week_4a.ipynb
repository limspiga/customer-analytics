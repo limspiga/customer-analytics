{
  "nbformat": 4,
  "nbformat_minor": 0,
  "metadata": {
    "colab": {
      "provenance": [],
      "toc_visible": true
    },
    "kernelspec": {
      "name": "python3",
      "display_name": "Python 3"
    },
    "language_info": {
      "name": "python"
    }
  },
  "cells": [
    {
      "cell_type": "markdown",
      "source": [
        "# 5. Predicción de ingresos de clientes usando regresión lineal\n",
        "\n",
        "En este capítulo se resuelven problemas de negocio que requieren la predicción de cantidades. \n",
        "\n",
        "- La regresión es un enfoque de aprendizaje **supervisado** para predecir resultados continuos. \n",
        "\n",
        "- La regresión lineal, una técnica simple para el modelado predictivo en la industria. \n",
        "\n",
        "Se implementan aunos pasos clave en el proceso de modelado:  \n",
        "\n",
        "- Limpieza de datos,\n",
        "- Ingeniería de características y \n",
        "- Implementación de modelos de regresión lineal \n",
        "- Interpretación de resultados para obtener información comercial."
      ],
      "metadata": {
        "id": "BVfG54MglZFd"
      }
    },
    {
      "cell_type": "markdown",
      "source": [
        "## Introducción\n",
        "\n",
        "ZARA, un gran minorista de moda rápida de gama alta que opera en todo el mundo, aprobó su presupuesto de marketing para la última campaña en un país en particular. El equipo de marketing ahora busca asignar el presupuesto a cada canal de marketing, pero tiene muchas preguntas:\n",
        "\n",
        "- ¿Cuánto deberían gastar en email? Las tasas de lectura son bajas, pero la calidad de las conversiones es alta.\n",
        "- ¿Qué hay de las redes sociales? Parece ser un canal efectivo en general.\n",
        "- ¿Deberían haber alguna promoción **offline**? Si es así, ¿en qué medida?\n",
        "- ¿Qué hay de paid search como canal?"
      ],
      "metadata": {
        "id": "p9rUoUI4fBaR"
      }
    },
    {
      "cell_type": "markdown",
      "source": [
        "IMAGEN\n",
        "\n",
        "- Un gasto increíblemente bajo en un canal con un gran ROI es un **potencial perdido** \n",
        "- y un gasto alto en un canal con un ROI extremadamente bajo es una **pérdida de recursos**."
      ],
      "metadata": {
        "id": "U6rWup_oiaEg"
      }
    },
    {
      "cell_type": "markdown",
      "source": [
        "Si la empresa pudiera modelar matemáticamente el impacto de varios canales en las ventas o, en otras palabras, modelar la relación entre:  \n",
        "- los gastos del canal y \n",
        "- las ventas, \n",
        "podría predecir las ventas para cualquier asignación y, en consecuencia, elegir los niveles correctos. "
      ],
      "metadata": {
        "id": "gepVHhhwjeSh"
      }
    },
    {
      "cell_type": "markdown",
      "source": [
        "En ML los modelos supervisado es donde se tiene datos históricos que se pueden aprovechar y la máquina puede aprender. \n",
        "\n",
        "- En el aprendizaje supervisado, entrena a la máquina para aprender de los datos históricos para hacer predicciones. \n",
        "\n",
        "- Puede predecir cantidades: ingresos, precios de acciones, precios de viviendas, líneas de crédito, calificaciones de un producto, etc. \n",
        "\n",
        "- también puede predecir categorías/clases: hacer clic en un anuncio, abandono de clientes (el cliente no regresa a un sitio web), compras de un producto, la apertura de una notificación push promocional, el canal de tráfico preferido, otros. \n",
        "\n",
        "Al utilizar los datos históricos de los clientes, se puede utilizar el aprendizaje supervisado para predecir los ingresos futuros que generará un cliente en función de la actividad anterior. "
      ],
      "metadata": {
        "id": "50BqgfeCkCoP"
      }
    },
    {
      "cell_type": "markdown",
      "source": [
        "## Problemas de regresión\n",
        "\n",
        "La predicción de cantidades es una tarea recurrente en marketing. \n",
        "\n",
        "- Un ejemplo es predecir las unidades vendidas de una marca en función del gasto en visibilidad (impresiones) asignado a los productos de la marca. \n",
        "\n",
        "- Otro ejemplo podría ser la predicción de ventas en función de la inversión publicitaria en campañas de televisión. \n",
        "\n",
        "Predecir el valor de por vida de un cliente (los ingresos totales que genera un cliente durante un período definido) en función de los atributos de un cliente es otro requisito común. Todas estas situaciones pueden formularse como problemas de regresión."
      ],
      "metadata": {
        "id": "YDo5DmZ3oQ7G"
      }
    },
    {
      "cell_type": "markdown",
      "source": [
        "La regresión se refiere a una clase de problemas donde el valor a predecir es una cantidad. Hay varias técnicas disponibles para la regresión, que van desde las más simples y fáciles de interpretar.\n",
        "\n",
        "Desde la regresión lineal simple, hasta los enfoques de caja negra extremadamente complejos (donde la forma en que el modelo hace una predicción es prácticamente imposible de entender; como las redes neuronales profundas o métodos de conjunto como el aumento de gradiente)."
      ],
      "metadata": {
        "id": "j425DqwLoucN"
      }
    },
    {
      "cell_type": "markdown",
      "source": [
        "Podemos pensar en los modelos como formas de describir matemáticamente las relaciones entre:\n",
        "- objetivo/resultado/variables dependientes \n",
        "- y el predictor/característica/variables independientes. \n",
        "\n",
        "Una **variable dependiente** es la variable que se intenta predecir. \n",
        "\n",
        "Por ejemplo, si desea predecir los ingresos en función de los gastos de marketing en las redes sociales, los ingresos serían la variable objetivo/**dependiente**. Gasto en redes sociales, la variable que se utiliza para predecir los ingresos es la variable predictora/**independiente**.\n",
        "\n"
      ],
      "metadata": {
        "id": "PwA1KExNH2L7"
      }
    },
    {
      "cell_type": "markdown",
      "source": [
        "Puede haber diferentes tipos de relaciones entre las variables dependientes e independientes\n",
        "\n",
        "Las dos primeras gráficas de la figura anterior muestran relaciones lineales, donde la variable dependiente (en el eje vertical) se relaciona con la variable independiente (en el eje horizontal) de forma lineal simple: una línea en un gráfico puede describir una buena relación.\n",
        "\n",
        "\n",
        "<figure>\n",
        "<center><img src='https://drive.google.com/uc?export=view&id=1Ih27LtJ82UYG4Gbf3pCVz2sSd5SzZ4t3' width=\"800\" />\n",
        "<figcaption>\n",
        "Figure 5.1: Regression problems</figcaption></center>\n",
        "</figure>\n",
        "\n",
        "\n",
        "La tercera gráfica muestra una relación no lineal más compleja, donde una curva captura mejor la relación.\n",
        "\n",
        "<figure>\n",
        "<center><img src='https://drive.google.com/uc?export=view&id=1-06vIZU00zb59l55mt3tARhVGFo3V8FT' width=\"800\" />\n",
        "<figcaption>\n",
        "Figure 5.2: Revenue versus social media spend</figcaption></center>\n",
        "</figure>\n",
        "\n",
        "Para el ejemplo del gasto en redes sociales, considere los datos de la Figura 5.2, donde ha trazado algunos datos hipotéticos que representan la relación entre **Ingresos** y **Gastos**: cada punto del gráfico representa algún período de tiempo en el pasado en el que se obtuvo un determinado ingreso correspondiente a la gasto en redes sociales.\n"
      ],
      "metadata": {
        "id": "PRvgtWaXjiER"
      }
    },
    {
      "cell_type": "markdown",
      "source": [
        "Si describe matemáticamente la relación anterior, puede hacer lo siguiente:\n",
        "\n",
        "• Predecir los ingresos para cualquier nivel de gasto en las redes sociales.\n",
        "• Calcular el gasto requerido en las redes sociales para lograr los ingresos deseados.\n",
        "\n",
        "Esto puede ser extremadamente útil para el equipo de marketing. \n",
        "\n",
        "- ¿Qué tipo de relación, cree usted, describe mejor los datos observados? \n",
        "\n",
        "Aquí es donde puede tener múltiples enfoques y, por lo tanto, necesita tomar una decisión. Mire la Figura 5.3 donde ha visualizado tres posibles elecciones de relaciones para describir los datos. Algunos de nosotros preferiríamos la línea simple (a) como un ajuste suficiente a los datos, mientras que otros preferirían la curva compleja denotada por c. Algunos pueden preferir b ya que es algo así como un equilibrio entre a y c. Las tres son opciones válidas para modelar la relación."
      ],
      "metadata": {
        "id": "NMiAD0bzmxe1"
      }
    },
    {
      "cell_type": "markdown",
      "source": [
        "<figure>\n",
        "<center><img src='https://drive.google.com/uc?export=view&id=1jTCo1gn7DltLuGrM_5qawsz4w7GVzFns' width=\"800\" />\n",
        "<figcaption>\n",
        "Figure 5.2: Revenue versus social media spend</figcaption></center>\n",
        "</figure>"
      ],
      "metadata": {
        "id": "crdAgzWenUtU"
      }
    },
    {
      "cell_type": "markdown",
      "source": [
        "En este capítulo, se concentrará en el modelo lineal simple (a), es decir, describirá las relaciones usando líneas. Este enfoque de usar una línea para describir la relación entre el objetivo/resultado y las variables predictoras se denomina regresión lineal. Dicho de otro modo, en la regresión lineal, predice el objetivo a partir de las variables predictoras modelando su relación como una línea."
      ],
      "metadata": {
        "id": "N8Tzv-I6mC08"
      }
    },
    {
      "cell_type": "markdown",
      "source": [
        "\n",
        "La forma matemática del modelo de regresión lineal es simple. Para un solo predictor/variable independiente, el modelo se puede describir en una ecuación simple, de la siguiente manera:\n",
        "\n",
        "$y=\\alpha +\\beta x$     \n",
        "Y = b0 + b1.X1\n",
        "\n",
        "Aquí, $y$ es el valor pronosticado de la variable dependiente y $x$ representa la variable independiente. \n"
      ],
      "metadata": {
        "id": "XCJXWTYImPyE"
      }
    },
    {
      "cell_type": "markdown",
      "source": [
        "\n",
        "<figure>\n",
        "<center><img src='https://drive.google.com/uc?export=view&id=1hJ-ju3jWmnBXDCQGC3CMgRZPSBIBtBg3' width=\"800\" />\n",
        "<figcaption>\n",
        "Figure 5.2: Revenue versus social media spend</figcaption></center>\n",
        "</figure>\n"
      ],
      "metadata": {
        "id": "4xR3u7opoJxf"
      }
    },
    {
      "cell_type": "markdown",
      "source": [
        "\n",
        "$\\alpha$ (b0) es la intersección (donde la línea cruza el eje y), el resultado predicho cuando la variable independiente es 0. $\\beta$ es la pendiente de la línea y captura qué tan bruscamente aumenta el valor de las variables dependientes en un cambio de unidad en la variable independiente. \n",
        "\n",
        "b1 también se denomina coeficiente de la variable independiente. \n",
        "- Con múltiples variables independientes, la interpretación geométrica se vuelve compleja. \n"
      ],
      "metadata": {
        "id": "jbaLBdMCoLlq"
      }
    },
    {
      "cell_type": "markdown",
      "source": [
        "Usaremos el modelo LinearRegression de scikit-learn, que tiene una sintaxis  sencilla. La sintaxis es similar al enfoque de ajuste y predicción que usó para las técnicas de agrupamiento en capítulos anteriores.\n",
        "\n",
        " \n",
        "``` py\n",
        "from sklearn.linear_model import LinearRegression\n",
        "lr = LinearRegression()\n",
        "\n",
        "# Luego, proporcionar las variables dependientes e independientes\n",
        "\n",
        "lr.fit(independent_variable, dependent_variable)\n",
        "```\n",
        "\n",
        "Eso debería hacer un `fit` al modelo. Para hacer predicciones solo es necesario usar el método de predicción como se hizo en la agrupación. "
      ],
      "metadata": {
        "id": "TJ98yTu7peJ4"
      }
    },
    {
      "cell_type": "markdown",
      "source": [
        "## Ejercicio 5.01: Predicción de ventas a partir del gasto publicitario mediante regresión lineal\n",
        "\n",
        "HINA Inc. es una gran empresa de bienes de consumo masivo que está racionalizando su presupuesto de marketing. \n",
        "- Esto implica hacer un balance de todas sus estrategias de marketing. \n",
        "- Esto, a su vez, significa volver a evaluar la eficacia de su gasto actual en varios canales de marketing. \n",
        "\n",
        "Averiguar si gastar dinero en campañas publicitarias de televisión genera un aumento directo de las ventas.\n",
        "\n",
        "En otras palabras, debe averiguar si el gasto en publicidad televisiva y las cifras de ventas comparten una relación lineal.\n",
        "\n",
        "Se tienen los datos publicitarios históricos (ventas semanales y gasto en cada canal) durante casi los 4 años anteriores. \n",
        "\n",
        "Utilizando la regresión lineal, creará un modelo que prediga las ventas en función del gasto del canal de televisión y estudiará la relación obtenida."
      ],
      "metadata": {
        "id": "u4rJeW9UrRH8"
      }
    },
    {
      "cell_type": "markdown",
      "source": [
        "1. Importar las bibliotecas relevantes para graficar y manipular datos, cargar el conjunto de datos `advertising.csv` en un DataFrame e imprimir los cinco registros principales"
      ],
      "metadata": {
        "id": "qgZDkivvs9Iy"
      }
    }
  ]
}