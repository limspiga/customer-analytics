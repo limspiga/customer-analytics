{
  "nbformat": 4,
  "nbformat_minor": 0,
  "metadata": {
    "colab": {
      "provenance": []
    },
    "kernelspec": {
      "name": "python3",
      "display_name": "Python 3"
    },
    "language_info": {
      "name": "python"
    }
  },
  "cells": [
    {
      "cell_type": "markdown",
      "source": [
        "# 3. Segmentación de clientes\n",
        "\n",
        "Se revisan técnicas poderosas en marketing: la segmentación de clientes. Se comienza por comprender la necesidad de la segmentación de clientes, después se implementa un enfoque de ML para segmentación. Se utiliza el algoritmo de agrupación clúster k-means para segmentar a los clientes y luego analiza los segmentos obtenidos para obtener una comprensión de los resultados para que las empresas puedan actuar sobre ellos.\n",
        "\n",
        "# 3.1. Introducción\n",
        "\n",
        "\n",
        "- Campañas de marketing sean más **efectivas**.\n",
        "- Comprensión profunda de los clientes y sus necesidades.\n",
        "- Abstracción de millones de clientes a unos pocos segmentos.\n",
        "- Impacto comercial significativo (mensajes más dirigidos y específicos).\n",
        "\n",
        "El director de marketing de una empresa de comercio electrónico con una base de 1 millón de clientes que realizan transacciones. Desea que las campañas de marketing sean más **efectivas**, llegando al cliente correcto con el mensaje correcto. \n",
        "\n",
        "Al comprender mejor al cliente y sus necesidades, las campañas de marketing pueden proporcionar un **impulso** significativo al negocio. A medida que comenzamos a resolver este problema, se piensa en la **experiencia del cliente**. Un cliente promedio recibe varios mensajes sobre las últimas ofertas. Estos se envían por correo electrónico, notificaciones automáticas y campañas en las redes sociales. Esta puede no ser una gran experiencia para ellos, especialmente si estas comunicaciones son **campañas genéricas/masivas.** Si la empresa entendiera mejor las necesidades de los clientes y les enviara el contenido relevante, comprarían con mucha más frecuencia.\n",
        "\n",
        "Varios ejemplos como este muestran que una comprensión profunda de los clientes y sus necesidades es beneficiosa no solo para la empresa sino también para el cliente. Si tiene una empresa pequeña, comprender las necesidades de todos los clientes es tan fácil como realizar una **encuesta rápida**. Sin embargo, para una empresa con una gran base de usuarios con millones de clientes, comprender sus necesidades sería extremadamente difícil, dado que cada cliente tendrá sus propios gustos y necesidades diferentes. **Además, con clientes de diferentes orígenes, culturas y grupos de edad, este problema se vuelve aún más difícil de resolver**.\n",
        "\n",
        "Seguramente las cosas serían más fáciles si pudiéramos simplificar esta tarea y condensar a los clientes en unos pocos grupos. En lugar de tratar con un millón de clientes, ¿no sería más fácil tratar con, digamos, cinco tipos de clientes? **La segmentación de clientes le permite hacer exactamente eso: abstraiga potencialmente a millones de clientes a unos pocos segmentos y comprenda sus características y necesidades**. Con este conocimiento, el impacto te puedes tener es mayor.\n",
        "\n",
        "Puede enviar mensajes más dirigidos y específicos a través de campañas de marketing, ofrecer servicios diferenciales, hacer mejores recomendaciones de productos y más para mejorar la experiencia general del cliente; todo esto conduce a un impacto comercial significativo, no solo un impacto inmediato en los ingresos a través de campañas de marketing más eficientes, sino también un impacto positivo significativo en el valor a largo plazo que los clientes aportan a la plataforma.\n",
        "\n",
        "En esta sección se comprenderá qué es la segmentación de clientes, cómo se usa y cómo usar ML para crear sus propios modelos de segmentación de clientes en Python.\n"
      ],
      "metadata": {
        "id": "QTaddUTgByGs"
      }
    },
    {
      "cell_type": "code",
      "source": [
        "#  http://tech.nitoyon.com/en/blog/2013/11/07/k-means/\n",
        "#  http://nl-hugo.github.io/d3-kmeans/index.html\n",
        "\n",
        "from IPython.display import IFrame\n",
        "IFrame(\"https://nl-hugo.github.io/d3-kmeans/index.html\", width=800, height=400)\n"
      ],
      "metadata": {
        "colab": {
          "base_uri": "https://localhost:8080/",
          "height": 421
        },
        "id": "ptvfX1ybXslv",
        "outputId": "cb0212b7-d479-4aa8-9ba6-5960fd5d6fc4"
      },
      "execution_count": null,
      "outputs": [
        {
          "output_type": "execute_result",
          "data": {
            "text/plain": [
              "<IPython.lib.display.IFrame at 0x7fb5e01636d0>"
            ],
            "text/html": [
              "\n",
              "        <iframe\n",
              "            width=\"800\"\n",
              "            height=\"400\"\n",
              "            src=\"https://nl-hugo.github.io/d3-kmeans/index.html\"\n",
              "            frameborder=\"0\"\n",
              "            allowfullscreen\n",
              "        ></iframe>\n",
              "        "
            ]
          },
          "metadata": {},
          "execution_count": 19
        }
      ]
    },
    {
      "cell_type": "markdown",
      "source": [
        "# 2. Segmentación\n",
        "\n",
        "La segmentación, en pocas palabras, significa agrupar entidades similares. Las entidades de cada grupo son similares entre sí, es decir, \"los grupos son homogéneos\", lo que significa que las entidades tienen propiedades similares.\n",
        "\n",
        "**¿Qué entidades se pueden segmentar?** \n",
        "- Puedes segmentar clientes, \n",
        "- productos, \n",
        "- ofertas, \n",
        "- vehículos, \n",
        "- frutas, \n",
        "- animales, \n",
        "- países o incluso estrellas. \n",
        "\n",
        "Si puede expresar, a través de datos, las propiedades de la entidad, puede comparar esa entidad con otras entidades y segmentarla.\n",
        "\n",
        "Pasando al segundo aspecto clave, ¿de qué propiedades estamos hablando? Estamos hablando de propiedades relevantes para el ejercicio de agrupación. \n",
        "\n",
        "**Supongamos que está tratando de agrupar a los clientes en función de la frecuencia de compra de un producto.** En tales casos, es posible que datos como el género de los clientes, aunque estén fácilmente disponibles para usted, no ser relevante para su análisis. \n",
        "\n",
        "Es por eso que elegir los atributos relevantes es fundamental. Discutiremos este aspecto con más detalle más adelante en este capítulo, en la sección Elección de atributos **relevantes criterios de segmentación**.\n"
      ],
      "metadata": {
        "id": "1CRe565uOur2"
      }
    },
    {
      "cell_type": "markdown",
      "source": [
        "\n",
        "Un ejercicio general de segmentación de clientes implica los siguientes pasos clave:\n",
        "\n",
        "1.\tSelección de los atributos relevantes para las entidades\n",
        "2.\tAgrupación entidades\n",
        "3.\tComprender y describir los segmentos\n",
        "\n",
        "En el último paso los segmentos resultantes deben tener sentido para el negocio y ser accionables. Las partes interesadas del negocio, que desempeñan el papel fundamental del \"Know-how\", deben poder comprender estos segmentos con claridad. \n",
        "\n",
        "Posteriormente estos segmentos se pueden refinar, haciéndolos aún más prácticos e impulsados por el negocio. El equipo de marketing puede entenderlos fácilmente y aprovecharlos para crear una campaña de marketing exitosa. Por eso, describir los segmentos obtenidos de forma que el negocio los entienda es un paso necesario.\n"
      ],
      "metadata": {
        "id": "a8JtpSXUQBDu"
      }
    },
    {
      "cell_type": "markdown",
      "source": [
        "## Ejercicio 3.01: Segmentación de clientes de centros comerciales: comprensión de los datos\n",
        "\n",
        "Eres analista en una empresa de consultoría líder y entre tus clientes más nuevos se incluye una popular cadena de centros comerciales repartidos por muchos países. El centro comercial quiere obtener una mejor comprensión de sus clientes para rediseñar sus ofertas existentes y comunicaciones de marketing para mejorar las ventas en un área geográfica. Los datos sobre los clientes están disponibles en el archivo mall_Customers.csv."
      ],
      "metadata": {
        "id": "kHqODnDsQUVr"
      }
    },
    {
      "cell_type": "markdown",
      "source": [
        "1. Importe numpy, pandas y pyplot desde matplotlib y seaborn usando el siguiente código:"
      ],
      "metadata": {
        "id": "1_YjqmNKU8tA"
      }
    },
    {
      "cell_type": "code",
      "source": [
        "import numpy as np, pandas as pd\n",
        "import matplotlib.pyplot as plt, seaborn as sns\n",
        "%matplotlib inline"
      ],
      "metadata": {
        "id": "Nm7XvbO3UbQI"
      },
      "execution_count": 19,
      "outputs": []
    },
    {
      "cell_type": "markdown",
      "source": [
        "2. Usando el método read_csv de pandas, importe el archivo Mall_Customers.csv en un DataFrame de pandas llamado data0 e imprima las primeras cinco filas:"
      ],
      "metadata": {
        "id": "cb0wJ8LGUts7"
      }
    },
    {
      "cell_type": "code",
      "source": [
        "!curl https://raw.githubusercontent.com/limspiga/customer-analytics/main/week-2a/datasets/Mall_Customers.csv -O\n",
        "\n",
        "data0 = pd.read_csv(\"Mall_Customers.csv\")\n",
        "data0.head()"
      ],
      "metadata": {
        "colab": {
          "base_uri": "https://localhost:8080/",
          "height": 259
        },
        "id": "OYV43yPQU646",
        "outputId": "3a66614a-7113-4447-cd7d-7816518f5afd"
      },
      "execution_count": 20,
      "outputs": [
        {
          "output_type": "stream",
          "name": "stdout",
          "text": [
            "  % Total    % Received % Xferd  Average Speed   Time    Time     Time  Current\n",
            "                                 Dload  Upload   Total   Spent    Left  Speed\n",
            "\r  0     0    0     0    0     0      0      0 --:--:-- --:--:-- --:--:--     0\r100  3780  100  3780    0     0  46097      0 --:--:-- --:--:-- --:--:-- 46097\n"
          ]
        },
        {
          "output_type": "execute_result",
          "data": {
            "text/plain": [
              "   CustomerID  Gender  Age  Annual Income (k$)  Spending Score (1-100)\n",
              "0           1    Male   19                  15                      39\n",
              "1           2    Male   21                  15                      81\n",
              "2           3  Female   20                  16                       6\n",
              "3           4  Female   23                  16                      77\n",
              "4           5  Female   31                  17                      40"
            ],
            "text/html": [
              "\n",
              "  <div id=\"df-40940cd7-ef1f-4f65-8350-e909cb39e1fc\">\n",
              "    <div class=\"colab-df-container\">\n",
              "      <div>\n",
              "<style scoped>\n",
              "    .dataframe tbody tr th:only-of-type {\n",
              "        vertical-align: middle;\n",
              "    }\n",
              "\n",
              "    .dataframe tbody tr th {\n",
              "        vertical-align: top;\n",
              "    }\n",
              "\n",
              "    .dataframe thead th {\n",
              "        text-align: right;\n",
              "    }\n",
              "</style>\n",
              "<table border=\"1\" class=\"dataframe\">\n",
              "  <thead>\n",
              "    <tr style=\"text-align: right;\">\n",
              "      <th></th>\n",
              "      <th>CustomerID</th>\n",
              "      <th>Gender</th>\n",
              "      <th>Age</th>\n",
              "      <th>Annual Income (k$)</th>\n",
              "      <th>Spending Score (1-100)</th>\n",
              "    </tr>\n",
              "  </thead>\n",
              "  <tbody>\n",
              "    <tr>\n",
              "      <th>0</th>\n",
              "      <td>1</td>\n",
              "      <td>Male</td>\n",
              "      <td>19</td>\n",
              "      <td>15</td>\n",
              "      <td>39</td>\n",
              "    </tr>\n",
              "    <tr>\n",
              "      <th>1</th>\n",
              "      <td>2</td>\n",
              "      <td>Male</td>\n",
              "      <td>21</td>\n",
              "      <td>15</td>\n",
              "      <td>81</td>\n",
              "    </tr>\n",
              "    <tr>\n",
              "      <th>2</th>\n",
              "      <td>3</td>\n",
              "      <td>Female</td>\n",
              "      <td>20</td>\n",
              "      <td>16</td>\n",
              "      <td>6</td>\n",
              "    </tr>\n",
              "    <tr>\n",
              "      <th>3</th>\n",
              "      <td>4</td>\n",
              "      <td>Female</td>\n",
              "      <td>23</td>\n",
              "      <td>16</td>\n",
              "      <td>77</td>\n",
              "    </tr>\n",
              "    <tr>\n",
              "      <th>4</th>\n",
              "      <td>5</td>\n",
              "      <td>Female</td>\n",
              "      <td>31</td>\n",
              "      <td>17</td>\n",
              "      <td>40</td>\n",
              "    </tr>\n",
              "  </tbody>\n",
              "</table>\n",
              "</div>\n",
              "      <button class=\"colab-df-convert\" onclick=\"convertToInteractive('df-40940cd7-ef1f-4f65-8350-e909cb39e1fc')\"\n",
              "              title=\"Convert this dataframe to an interactive table.\"\n",
              "              style=\"display:none;\">\n",
              "        \n",
              "  <svg xmlns=\"http://www.w3.org/2000/svg\" height=\"24px\"viewBox=\"0 0 24 24\"\n",
              "       width=\"24px\">\n",
              "    <path d=\"M0 0h24v24H0V0z\" fill=\"none\"/>\n",
              "    <path d=\"M18.56 5.44l.94 2.06.94-2.06 2.06-.94-2.06-.94-.94-2.06-.94 2.06-2.06.94zm-11 1L8.5 8.5l.94-2.06 2.06-.94-2.06-.94L8.5 2.5l-.94 2.06-2.06.94zm10 10l.94 2.06.94-2.06 2.06-.94-2.06-.94-.94-2.06-.94 2.06-2.06.94z\"/><path d=\"M17.41 7.96l-1.37-1.37c-.4-.4-.92-.59-1.43-.59-.52 0-1.04.2-1.43.59L10.3 9.45l-7.72 7.72c-.78.78-.78 2.05 0 2.83L4 21.41c.39.39.9.59 1.41.59.51 0 1.02-.2 1.41-.59l7.78-7.78 2.81-2.81c.8-.78.8-2.07 0-2.86zM5.41 20L4 18.59l7.72-7.72 1.47 1.35L5.41 20z\"/>\n",
              "  </svg>\n",
              "      </button>\n",
              "      \n",
              "  <style>\n",
              "    .colab-df-container {\n",
              "      display:flex;\n",
              "      flex-wrap:wrap;\n",
              "      gap: 12px;\n",
              "    }\n",
              "\n",
              "    .colab-df-convert {\n",
              "      background-color: #E8F0FE;\n",
              "      border: none;\n",
              "      border-radius: 50%;\n",
              "      cursor: pointer;\n",
              "      display: none;\n",
              "      fill: #1967D2;\n",
              "      height: 32px;\n",
              "      padding: 0 0 0 0;\n",
              "      width: 32px;\n",
              "    }\n",
              "\n",
              "    .colab-df-convert:hover {\n",
              "      background-color: #E2EBFA;\n",
              "      box-shadow: 0px 1px 2px rgba(60, 64, 67, 0.3), 0px 1px 3px 1px rgba(60, 64, 67, 0.15);\n",
              "      fill: #174EA6;\n",
              "    }\n",
              "\n",
              "    [theme=dark] .colab-df-convert {\n",
              "      background-color: #3B4455;\n",
              "      fill: #D2E3FC;\n",
              "    }\n",
              "\n",
              "    [theme=dark] .colab-df-convert:hover {\n",
              "      background-color: #434B5C;\n",
              "      box-shadow: 0px 1px 3px 1px rgba(0, 0, 0, 0.15);\n",
              "      filter: drop-shadow(0px 1px 2px rgba(0, 0, 0, 0.3));\n",
              "      fill: #FFFFFF;\n",
              "    }\n",
              "  </style>\n",
              "\n",
              "      <script>\n",
              "        const buttonEl =\n",
              "          document.querySelector('#df-40940cd7-ef1f-4f65-8350-e909cb39e1fc button.colab-df-convert');\n",
              "        buttonEl.style.display =\n",
              "          google.colab.kernel.accessAllowed ? 'block' : 'none';\n",
              "\n",
              "        async function convertToInteractive(key) {\n",
              "          const element = document.querySelector('#df-40940cd7-ef1f-4f65-8350-e909cb39e1fc');\n",
              "          const dataTable =\n",
              "            await google.colab.kernel.invokeFunction('convertToInteractive',\n",
              "                                                     [key], {});\n",
              "          if (!dataTable) return;\n",
              "\n",
              "          const docLinkHtml = 'Like what you see? Visit the ' +\n",
              "            '<a target=\"_blank\" href=https://colab.research.google.com/notebooks/data_table.ipynb>data table notebook</a>'\n",
              "            + ' to learn more about interactive tables.';\n",
              "          element.innerHTML = '';\n",
              "          dataTable['output_type'] = 'display_data';\n",
              "          await google.colab.output.renderOutput(dataTable, element);\n",
              "          const docLink = document.createElement('div');\n",
              "          docLink.innerHTML = docLinkHtml;\n",
              "          element.appendChild(docLink);\n",
              "        }\n",
              "      </script>\n",
              "    </div>\n",
              "  </div>\n",
              "  "
            ]
          },
          "metadata": {},
          "execution_count": 20
        }
      ]
    },
    {
      "cell_type": "markdown",
      "source": [
        "Vemos que tenemos información como el genero y la edad de los clientes, junto con su ingreso anual estimado (**Ingreso Anual (k$)**). También tenemos un puntaje de gasto calculado por el centro comercial **(Puntuación de gasto (1-100)**), que indica la cantidad de compras que el cliente ha realizado en el centro comercial: un puntaje más alto significa un gasto mayor."
      ],
      "metadata": {
        "id": "8IzukU1JVYEa"
      }
    },
    {
      "cell_type": "markdown",
      "source": [
        "Use el método info() del DataFrame para imprimir información al respecto:"
      ],
      "metadata": {
        "id": "Zol3N8fwViu7"
      }
    },
    {
      "cell_type": "code",
      "source": [
        "data0.info()"
      ],
      "metadata": {
        "id": "dE03aZZ6VtR2",
        "colab": {
          "base_uri": "https://localhost:8080/"
        },
        "outputId": "097b8a32-d97b-44cc-ad3b-18cc79b74bda"
      },
      "execution_count": 21,
      "outputs": [
        {
          "output_type": "stream",
          "name": "stdout",
          "text": [
            "<class 'pandas.core.frame.DataFrame'>\n",
            "RangeIndex: 200 entries, 0 to 199\n",
            "Data columns (total 5 columns):\n",
            " #   Column                  Non-Null Count  Dtype \n",
            "---  ------                  --------------  ----- \n",
            " 0   CustomerID              200 non-null    int64 \n",
            " 1   Gender                  200 non-null    object\n",
            " 2   Age                     200 non-null    int64 \n",
            " 3   Annual Income (k$)      200 non-null    int64 \n",
            " 4   Spending Score (1-100)  200 non-null    int64 \n",
            "dtypes: int64(4), object(1)\n",
            "memory usage: 7.9+ KB\n"
          ]
        }
      ]
    },
    {
      "cell_type": "markdown",
      "source": [
        "Se puede observar que el conjunto de datos contiene los datos de 200 clientes. También puede ver que no faltan valores en el conjunto."
      ],
      "metadata": {
        "id": "XeYDXwbJV4p8"
      }
    },
    {
      "cell_type": "markdown",
      "source": [
        "4. Por conveniencia, cambie el nombre de Ingreso Anual (k$) y\n",
        "Spending Score (1-100) columnas a Income y Spend_score respectivamente, e imprima los cinco registros principales usando el siguiente código:"
      ],
      "metadata": {
        "id": "0AP4j39gWCtF"
      }
    },
    {
      "cell_type": "code",
      "source": [
        "data0.rename({'Annual Income (k$)':'Income', \\\n",
        "              'Spending Score (1-100)':'Spend_score'}, axis=1, \\\n",
        "             inplace=True)\n",
        "data0.head()"
      ],
      "metadata": {
        "id": "LxTJ-hz5WFJD",
        "colab": {
          "base_uri": "https://localhost:8080/",
          "height": 206
        },
        "outputId": "4a485086-bcad-47fc-be93-d11d195c62cb"
      },
      "execution_count": 22,
      "outputs": [
        {
          "output_type": "execute_result",
          "data": {
            "text/plain": [
              "   CustomerID  Gender  Age  Income  Spend_score\n",
              "0           1    Male   19      15           39\n",
              "1           2    Male   21      15           81\n",
              "2           3  Female   20      16            6\n",
              "3           4  Female   23      16           77\n",
              "4           5  Female   31      17           40"
            ],
            "text/html": [
              "\n",
              "  <div id=\"df-90bc89de-ea17-4fb6-b6e3-266f013d6671\">\n",
              "    <div class=\"colab-df-container\">\n",
              "      <div>\n",
              "<style scoped>\n",
              "    .dataframe tbody tr th:only-of-type {\n",
              "        vertical-align: middle;\n",
              "    }\n",
              "\n",
              "    .dataframe tbody tr th {\n",
              "        vertical-align: top;\n",
              "    }\n",
              "\n",
              "    .dataframe thead th {\n",
              "        text-align: right;\n",
              "    }\n",
              "</style>\n",
              "<table border=\"1\" class=\"dataframe\">\n",
              "  <thead>\n",
              "    <tr style=\"text-align: right;\">\n",
              "      <th></th>\n",
              "      <th>CustomerID</th>\n",
              "      <th>Gender</th>\n",
              "      <th>Age</th>\n",
              "      <th>Income</th>\n",
              "      <th>Spend_score</th>\n",
              "    </tr>\n",
              "  </thead>\n",
              "  <tbody>\n",
              "    <tr>\n",
              "      <th>0</th>\n",
              "      <td>1</td>\n",
              "      <td>Male</td>\n",
              "      <td>19</td>\n",
              "      <td>15</td>\n",
              "      <td>39</td>\n",
              "    </tr>\n",
              "    <tr>\n",
              "      <th>1</th>\n",
              "      <td>2</td>\n",
              "      <td>Male</td>\n",
              "      <td>21</td>\n",
              "      <td>15</td>\n",
              "      <td>81</td>\n",
              "    </tr>\n",
              "    <tr>\n",
              "      <th>2</th>\n",
              "      <td>3</td>\n",
              "      <td>Female</td>\n",
              "      <td>20</td>\n",
              "      <td>16</td>\n",
              "      <td>6</td>\n",
              "    </tr>\n",
              "    <tr>\n",
              "      <th>3</th>\n",
              "      <td>4</td>\n",
              "      <td>Female</td>\n",
              "      <td>23</td>\n",
              "      <td>16</td>\n",
              "      <td>77</td>\n",
              "    </tr>\n",
              "    <tr>\n",
              "      <th>4</th>\n",
              "      <td>5</td>\n",
              "      <td>Female</td>\n",
              "      <td>31</td>\n",
              "      <td>17</td>\n",
              "      <td>40</td>\n",
              "    </tr>\n",
              "  </tbody>\n",
              "</table>\n",
              "</div>\n",
              "      <button class=\"colab-df-convert\" onclick=\"convertToInteractive('df-90bc89de-ea17-4fb6-b6e3-266f013d6671')\"\n",
              "              title=\"Convert this dataframe to an interactive table.\"\n",
              "              style=\"display:none;\">\n",
              "        \n",
              "  <svg xmlns=\"http://www.w3.org/2000/svg\" height=\"24px\"viewBox=\"0 0 24 24\"\n",
              "       width=\"24px\">\n",
              "    <path d=\"M0 0h24v24H0V0z\" fill=\"none\"/>\n",
              "    <path d=\"M18.56 5.44l.94 2.06.94-2.06 2.06-.94-2.06-.94-.94-2.06-.94 2.06-2.06.94zm-11 1L8.5 8.5l.94-2.06 2.06-.94-2.06-.94L8.5 2.5l-.94 2.06-2.06.94zm10 10l.94 2.06.94-2.06 2.06-.94-2.06-.94-.94-2.06-.94 2.06-2.06.94z\"/><path d=\"M17.41 7.96l-1.37-1.37c-.4-.4-.92-.59-1.43-.59-.52 0-1.04.2-1.43.59L10.3 9.45l-7.72 7.72c-.78.78-.78 2.05 0 2.83L4 21.41c.39.39.9.59 1.41.59.51 0 1.02-.2 1.41-.59l7.78-7.78 2.81-2.81c.8-.78.8-2.07 0-2.86zM5.41 20L4 18.59l7.72-7.72 1.47 1.35L5.41 20z\"/>\n",
              "  </svg>\n",
              "      </button>\n",
              "      \n",
              "  <style>\n",
              "    .colab-df-container {\n",
              "      display:flex;\n",
              "      flex-wrap:wrap;\n",
              "      gap: 12px;\n",
              "    }\n",
              "\n",
              "    .colab-df-convert {\n",
              "      background-color: #E8F0FE;\n",
              "      border: none;\n",
              "      border-radius: 50%;\n",
              "      cursor: pointer;\n",
              "      display: none;\n",
              "      fill: #1967D2;\n",
              "      height: 32px;\n",
              "      padding: 0 0 0 0;\n",
              "      width: 32px;\n",
              "    }\n",
              "\n",
              "    .colab-df-convert:hover {\n",
              "      background-color: #E2EBFA;\n",
              "      box-shadow: 0px 1px 2px rgba(60, 64, 67, 0.3), 0px 1px 3px 1px rgba(60, 64, 67, 0.15);\n",
              "      fill: #174EA6;\n",
              "    }\n",
              "\n",
              "    [theme=dark] .colab-df-convert {\n",
              "      background-color: #3B4455;\n",
              "      fill: #D2E3FC;\n",
              "    }\n",
              "\n",
              "    [theme=dark] .colab-df-convert:hover {\n",
              "      background-color: #434B5C;\n",
              "      box-shadow: 0px 1px 3px 1px rgba(0, 0, 0, 0.15);\n",
              "      filter: drop-shadow(0px 1px 2px rgba(0, 0, 0, 0.3));\n",
              "      fill: #FFFFFF;\n",
              "    }\n",
              "  </style>\n",
              "\n",
              "      <script>\n",
              "        const buttonEl =\n",
              "          document.querySelector('#df-90bc89de-ea17-4fb6-b6e3-266f013d6671 button.colab-df-convert');\n",
              "        buttonEl.style.display =\n",
              "          google.colab.kernel.accessAllowed ? 'block' : 'none';\n",
              "\n",
              "        async function convertToInteractive(key) {\n",
              "          const element = document.querySelector('#df-90bc89de-ea17-4fb6-b6e3-266f013d6671');\n",
              "          const dataTable =\n",
              "            await google.colab.kernel.invokeFunction('convertToInteractive',\n",
              "                                                     [key], {});\n",
              "          if (!dataTable) return;\n",
              "\n",
              "          const docLinkHtml = 'Like what you see? Visit the ' +\n",
              "            '<a target=\"_blank\" href=https://colab.research.google.com/notebooks/data_table.ipynb>data table notebook</a>'\n",
              "            + ' to learn more about interactive tables.';\n",
              "          element.innerHTML = '';\n",
              "          dataTable['output_type'] = 'display_data';\n",
              "          await google.colab.output.renderOutput(dataTable, element);\n",
              "          const docLink = document.createElement('div');\n",
              "          docLink.innerHTML = docLinkHtml;\n",
              "          element.appendChild(docLink);\n",
              "        }\n",
              "      </script>\n",
              "    </div>\n",
              "  </div>\n",
              "  "
            ]
          },
          "metadata": {},
          "execution_count": 22
        }
      ]
    },
    {
      "cell_type": "markdown",
      "source": [
        "5. Para obtener una comprensión de alto nivel de los datos del cliente, imprima el resumen descriptivo de los campos numéricos en los datos utilizando el método describe de DataFrame"
      ],
      "metadata": {
        "id": "roSo2iFBWRP1"
      }
    },
    {
      "cell_type": "code",
      "source": [
        "data0.describe().round(0)"
      ],
      "metadata": {
        "id": "Jc2zUe-uWTiv",
        "colab": {
          "base_uri": "https://localhost:8080/",
          "height": 300
        },
        "outputId": "3450db20-ba8f-4c7f-bea5-5db92f71c0cb"
      },
      "execution_count": 23,
      "outputs": [
        {
          "output_type": "execute_result",
          "data": {
            "text/plain": [
              "       CustomerID    Age  Income  Spend_score\n",
              "count       200.0  200.0   200.0        200.0\n",
              "mean        100.0   39.0    61.0         50.0\n",
              "std          58.0   14.0    26.0         26.0\n",
              "min           1.0   18.0    15.0          1.0\n",
              "25%          51.0   29.0    42.0         35.0\n",
              "50%         100.0   36.0    62.0         50.0\n",
              "75%         150.0   49.0    78.0         73.0\n",
              "max         200.0   70.0   137.0         99.0"
            ],
            "text/html": [
              "\n",
              "  <div id=\"df-adf42d90-eccc-4cd8-96bf-1bc8498c6a83\">\n",
              "    <div class=\"colab-df-container\">\n",
              "      <div>\n",
              "<style scoped>\n",
              "    .dataframe tbody tr th:only-of-type {\n",
              "        vertical-align: middle;\n",
              "    }\n",
              "\n",
              "    .dataframe tbody tr th {\n",
              "        vertical-align: top;\n",
              "    }\n",
              "\n",
              "    .dataframe thead th {\n",
              "        text-align: right;\n",
              "    }\n",
              "</style>\n",
              "<table border=\"1\" class=\"dataframe\">\n",
              "  <thead>\n",
              "    <tr style=\"text-align: right;\">\n",
              "      <th></th>\n",
              "      <th>CustomerID</th>\n",
              "      <th>Age</th>\n",
              "      <th>Income</th>\n",
              "      <th>Spend_score</th>\n",
              "    </tr>\n",
              "  </thead>\n",
              "  <tbody>\n",
              "    <tr>\n",
              "      <th>count</th>\n",
              "      <td>200.0</td>\n",
              "      <td>200.0</td>\n",
              "      <td>200.0</td>\n",
              "      <td>200.0</td>\n",
              "    </tr>\n",
              "    <tr>\n",
              "      <th>mean</th>\n",
              "      <td>100.0</td>\n",
              "      <td>39.0</td>\n",
              "      <td>61.0</td>\n",
              "      <td>50.0</td>\n",
              "    </tr>\n",
              "    <tr>\n",
              "      <th>std</th>\n",
              "      <td>58.0</td>\n",
              "      <td>14.0</td>\n",
              "      <td>26.0</td>\n",
              "      <td>26.0</td>\n",
              "    </tr>\n",
              "    <tr>\n",
              "      <th>min</th>\n",
              "      <td>1.0</td>\n",
              "      <td>18.0</td>\n",
              "      <td>15.0</td>\n",
              "      <td>1.0</td>\n",
              "    </tr>\n",
              "    <tr>\n",
              "      <th>25%</th>\n",
              "      <td>51.0</td>\n",
              "      <td>29.0</td>\n",
              "      <td>42.0</td>\n",
              "      <td>35.0</td>\n",
              "    </tr>\n",
              "    <tr>\n",
              "      <th>50%</th>\n",
              "      <td>100.0</td>\n",
              "      <td>36.0</td>\n",
              "      <td>62.0</td>\n",
              "      <td>50.0</td>\n",
              "    </tr>\n",
              "    <tr>\n",
              "      <th>75%</th>\n",
              "      <td>150.0</td>\n",
              "      <td>49.0</td>\n",
              "      <td>78.0</td>\n",
              "      <td>73.0</td>\n",
              "    </tr>\n",
              "    <tr>\n",
              "      <th>max</th>\n",
              "      <td>200.0</td>\n",
              "      <td>70.0</td>\n",
              "      <td>137.0</td>\n",
              "      <td>99.0</td>\n",
              "    </tr>\n",
              "  </tbody>\n",
              "</table>\n",
              "</div>\n",
              "      <button class=\"colab-df-convert\" onclick=\"convertToInteractive('df-adf42d90-eccc-4cd8-96bf-1bc8498c6a83')\"\n",
              "              title=\"Convert this dataframe to an interactive table.\"\n",
              "              style=\"display:none;\">\n",
              "        \n",
              "  <svg xmlns=\"http://www.w3.org/2000/svg\" height=\"24px\"viewBox=\"0 0 24 24\"\n",
              "       width=\"24px\">\n",
              "    <path d=\"M0 0h24v24H0V0z\" fill=\"none\"/>\n",
              "    <path d=\"M18.56 5.44l.94 2.06.94-2.06 2.06-.94-2.06-.94-.94-2.06-.94 2.06-2.06.94zm-11 1L8.5 8.5l.94-2.06 2.06-.94-2.06-.94L8.5 2.5l-.94 2.06-2.06.94zm10 10l.94 2.06.94-2.06 2.06-.94-2.06-.94-.94-2.06-.94 2.06-2.06.94z\"/><path d=\"M17.41 7.96l-1.37-1.37c-.4-.4-.92-.59-1.43-.59-.52 0-1.04.2-1.43.59L10.3 9.45l-7.72 7.72c-.78.78-.78 2.05 0 2.83L4 21.41c.39.39.9.59 1.41.59.51 0 1.02-.2 1.41-.59l7.78-7.78 2.81-2.81c.8-.78.8-2.07 0-2.86zM5.41 20L4 18.59l7.72-7.72 1.47 1.35L5.41 20z\"/>\n",
              "  </svg>\n",
              "      </button>\n",
              "      \n",
              "  <style>\n",
              "    .colab-df-container {\n",
              "      display:flex;\n",
              "      flex-wrap:wrap;\n",
              "      gap: 12px;\n",
              "    }\n",
              "\n",
              "    .colab-df-convert {\n",
              "      background-color: #E8F0FE;\n",
              "      border: none;\n",
              "      border-radius: 50%;\n",
              "      cursor: pointer;\n",
              "      display: none;\n",
              "      fill: #1967D2;\n",
              "      height: 32px;\n",
              "      padding: 0 0 0 0;\n",
              "      width: 32px;\n",
              "    }\n",
              "\n",
              "    .colab-df-convert:hover {\n",
              "      background-color: #E2EBFA;\n",
              "      box-shadow: 0px 1px 2px rgba(60, 64, 67, 0.3), 0px 1px 3px 1px rgba(60, 64, 67, 0.15);\n",
              "      fill: #174EA6;\n",
              "    }\n",
              "\n",
              "    [theme=dark] .colab-df-convert {\n",
              "      background-color: #3B4455;\n",
              "      fill: #D2E3FC;\n",
              "    }\n",
              "\n",
              "    [theme=dark] .colab-df-convert:hover {\n",
              "      background-color: #434B5C;\n",
              "      box-shadow: 0px 1px 3px 1px rgba(0, 0, 0, 0.15);\n",
              "      filter: drop-shadow(0px 1px 2px rgba(0, 0, 0, 0.3));\n",
              "      fill: #FFFFFF;\n",
              "    }\n",
              "  </style>\n",
              "\n",
              "      <script>\n",
              "        const buttonEl =\n",
              "          document.querySelector('#df-adf42d90-eccc-4cd8-96bf-1bc8498c6a83 button.colab-df-convert');\n",
              "        buttonEl.style.display =\n",
              "          google.colab.kernel.accessAllowed ? 'block' : 'none';\n",
              "\n",
              "        async function convertToInteractive(key) {\n",
              "          const element = document.querySelector('#df-adf42d90-eccc-4cd8-96bf-1bc8498c6a83');\n",
              "          const dataTable =\n",
              "            await google.colab.kernel.invokeFunction('convertToInteractive',\n",
              "                                                     [key], {});\n",
              "          if (!dataTable) return;\n",
              "\n",
              "          const docLinkHtml = 'Like what you see? Visit the ' +\n",
              "            '<a target=\"_blank\" href=https://colab.research.google.com/notebooks/data_table.ipynb>data table notebook</a>'\n",
              "            + ' to learn more about interactive tables.';\n",
              "          element.innerHTML = '';\n",
              "          dataTable['output_type'] = 'display_data';\n",
              "          await google.colab.output.renderOutput(dataTable, element);\n",
              "          const docLink = document.createElement('div');\n",
              "          docLink.innerHTML = docLinkHtml;\n",
              "          element.appendChild(docLink);\n",
              "        }\n",
              "      </script>\n",
              "    </div>\n",
              "  </div>\n",
              "  "
            ]
          },
          "metadata": {},
          "execution_count": 23
        }
      ]
    },
    {
      "cell_type": "markdown",
      "source": [
        "Figura 3.4: Resumen descriptivo del conjunto de datos\n",
        "\n",
        "Los promedios generales muestran que la edad promedio del cliente es de alrededor de **39 años** y el ingreso promedio es de alrededor de **61,000 USD**. Los puntajes de gasto parecen calcularse en base a percentiles, con un **valor mínimo de 1 y un máximo de 99**, lo cual es común con los percentiles (los puntajes de 0 a 1 también son comunes para los percentiles). El ingreso máximo ronda los **137.000 USD**. Al observar estos valores, no sospechamos ningún valor atípico en los datos. Esto completa una comprensión de muy alto nivel de los datos."
      ],
      "metadata": {
        "id": "T3c_I0CTWdq6"
      }
    },
    {
      "cell_type": "markdown",
      "source": [
        "# 3.1 Enfoques de la segmentación\n",
        "\n",
        "Cada grupo de marketing hace, en efecto, cierta cantidad de segmentación de clientes. Sin embargo, los métodos que utilizan para hacer esto pueden no ser siempre claros. Estos pueden basarse en **intuiciones sobre ciertos grupos demográficos**, o pueden ser el resultado de algún **software de marketing**, donde los métodos utilizados son oscuros. \n",
        "\n",
        "Hay ventajas y desventajas para cada método posible y comprenderlas le permite utilizar la herramienta adecuada para el trabajo. En las siguientes secciones, analizaremos algunos de los **enfoques** más utilizados para la segmentación de clientes junto con las consideraciones al usar dichos enfoques."
      ],
      "metadata": {
        "id": "uDrZ_Cuz5kwl"
      }
    },
    {
      "cell_type": "markdown",
      "source": [
        "# 3.1.1 Métodos de segmentación tradicionales\n",
        "Un método preferido por los analistas de marketing consiste en generar **agrupaciones** aproximadas basadas en:\n",
        "- **intuiciones y umbrales arbitrarios**.\n",
        "\n",
        "Para ello, aprovechan todos los datos sobre los clientes que tienen a su disposición, normalmente demográficos o de comportamiento. Un ejemplo de esto sería decidir segmentar a los clientes en diferentes niveles de ingresos en función de incrementos de $10,000. Otro enfoque podría ser observar cómo se distribuyen los valores de los atributos y buscar umbrales naturales a partir de los datos."
      ],
      "metadata": {
        "id": "ueggUSyk53RF"
      }
    },
    {
      "cell_type": "markdown",
      "source": [
        "## Ejercicio 3.02: Segmentación Tradicional de Clientes de Centros Comerciales\n",
        "\n",
        "El centro comercial quiere segmentar sus clientes y usar los segmentos derivados para mejorar sus campañas de marketing. \n",
        "\n",
        "El equipo comercial **cree** que es relevantela para sus ofertas segmentación en función a los:\n",
        "- **niveles de ingresos** \n",
        "\n",
        "Se le pide que utilice un enfoque tradicional basado en reglas para definir los segmentos de clientes."
      ],
      "metadata": {
        "id": "bM5XhiV36o9w"
      }
    },
    {
      "cell_type": "markdown",
      "source": [
        "\n",
        "En este ejercicio se hace una segmentación de clientes utilizando los **ingresos del cliente**, con un enfoque tradicional basado en **reglas** para definir segmentos de clientes. Graficar la distribución de la variable Ingresos y asignará grupos a los clientes en función de dónde vea que se encuentran los valores:"
      ],
      "metadata": {
        "id": "5vzpOF6t7BGI"
      }
    },
    {
      "cell_type": "markdown",
      "source": [
        "1. Graficar un histograma de la columna Income usando el método de grafica de DataFrame"
      ],
      "metadata": {
        "id": "-Y3_vuRG7N4c"
      }
    },
    {
      "cell_type": "code",
      "source": [
        "data0.Income.plot.hist(color='gray', figsize=(12,8)) \n",
        "plt.xlabel('Income')\n",
        "plt.show()"
      ],
      "metadata": {
        "colab": {
          "base_uri": "https://localhost:8080/",
          "height": 674
        },
        "id": "UnaOm8Ha6_KJ",
        "outputId": "084dc4ed-f84f-4eaa-c4fa-fc2d56ae2a46"
      },
      "execution_count": 24,
      "outputs": [
        {
          "output_type": "display_data",
          "data": {
            "text/plain": [
              "<Figure size 1200x800 with 1 Axes>"
            ],
            "image/png": "[encoded data removed]"
          },
          "metadata": {}
        }
      ]
    },
    {
      "cell_type": "markdown",
      "source": [
        "Más allá de 90k, la frecuencia en los contenedores cae drásticamente y parece que estos clientes, naturalmente, pueden considerarse un grupo separado que representa a los clientes de altos ingresos. Una buena proporción de clientes parece estar en el rango de 50k-90k. Estos pueden ser considerados clientes de ingresos moderados. Los clientes que ganan menos de 40k serían clientes de bajos ingresos. Podemos usar estos puntos de corte para dividir a los clientes en tres grupos, como en la siguiente figura. Los segmentos punteados denotan los cortes/umbrales."
      ],
      "metadata": {
        "id": "QVnSlfjM9ddI"
      }
    },
    {
      "cell_type": "markdown",
      "source": [
        "\n",
        "\n",
        "<figure>\n",
        "<center><img src='https://drive.google.com/uc?export=view&id=1SNXe-H0eZP5WtwU0nDlunzZ1IvSPxxlN' width=\"800\" />\n",
        "<figcaption>Figura 3.6: Segmentación de los clientes en función de los ingresos</figcaption></center>\n",
        "</figure>\n"
      ],
      "metadata": {
        "id": "NqyQSo8z-oZ6"
      }
    },
    {
      "cell_type": "markdown",
      "source": [
        "2. Cree una nueva columna, Cluster, para tener los ingresos bajos,\n",
        "Valores de ingresos moderados y ingresos altos para clientes con ingresos en los rangos < 50, 50–90 y >= 90 respectivamente"
      ],
      "metadata": {
        "id": "0H-YZid69uju"
      }
    },
    {
      "cell_type": "code",
      "source": [
        "data0['Cluster'] = np.where(data0.Income >= 90, 'High earners', \\\n",
        "                            np.where(data0.Income < 50, \\\n",
        "                            'Low Income', 'Moderate Income'))"
      ],
      "metadata": {
        "id": "fwe415bx9lRs"
      },
      "execution_count": 25,
      "outputs": []
    },
    {
      "cell_type": "markdown",
      "source": [
        "3. Para verificar la cantidad de clientes en cada grupo y confirmar si los valores de la columna Ingresos en los grupos están en el rango correcto, obtenga un resumen descriptivo de Ingresos para estos grupos"
      ],
      "metadata": {
        "id": "3sIRtcXy96p7"
      }
    },
    {
      "cell_type": "code",
      "source": [
        " data0.groupby('Cluster')['Income'].describe()"
      ],
      "metadata": {
        "colab": {
          "base_uri": "https://localhost:8080/",
          "height": 175
        },
        "id": "yRQB5L_k-FU8",
        "outputId": "ca207df0-09bb-4d2e-98f4-f8c25f3b4d2d"
      },
      "execution_count": 26,
      "outputs": [
        {
          "output_type": "execute_result",
          "data": {
            "text/plain": [
              "                 count        mean        std   min    25%    50%     75%  \\\n",
              "Cluster                                                                     \n",
              "High earners      22.0  108.181818  13.661334  93.0  98.25  103.0  118.25   \n",
              "Low Income        72.0   33.027778  11.091136  15.0  22.50   33.5   43.00   \n",
              "Moderate Income  106.0   69.377358  10.651584  50.0  61.00   70.0   78.00   \n",
              "\n",
              "                   max  \n",
              "Cluster                 \n",
              "High earners     137.0  \n",
              "Low Income        49.0  \n",
              "Moderate Income   88.0  "
            ],
            "text/html": [
              "\n",
              "  <div id=\"df-7b7309de-1cc3-46da-8ebe-705c39a07d3f\">\n",
              "    <div class=\"colab-df-container\">\n",
              "      <div>\n",
              "<style scoped>\n",
              "    .dataframe tbody tr th:only-of-type {\n",
              "        vertical-align: middle;\n",
              "    }\n",
              "\n",
              "    .dataframe tbody tr th {\n",
              "        vertical-align: top;\n",
              "    }\n",
              "\n",
              "    .dataframe thead th {\n",
              "        text-align: right;\n",
              "    }\n",
              "</style>\n",
              "<table border=\"1\" class=\"dataframe\">\n",
              "  <thead>\n",
              "    <tr style=\"text-align: right;\">\n",
              "      <th></th>\n",
              "      <th>count</th>\n",
              "      <th>mean</th>\n",
              "      <th>std</th>\n",
              "      <th>min</th>\n",
              "      <th>25%</th>\n",
              "      <th>50%</th>\n",
              "      <th>75%</th>\n",
              "      <th>max</th>\n",
              "    </tr>\n",
              "    <tr>\n",
              "      <th>Cluster</th>\n",
              "      <th></th>\n",
              "      <th></th>\n",
              "      <th></th>\n",
              "      <th></th>\n",
              "      <th></th>\n",
              "      <th></th>\n",
              "      <th></th>\n",
              "      <th></th>\n",
              "    </tr>\n",
              "  </thead>\n",
              "  <tbody>\n",
              "    <tr>\n",
              "      <th>High earners</th>\n",
              "      <td>22.0</td>\n",
              "      <td>108.181818</td>\n",
              "      <td>13.661334</td>\n",
              "      <td>93.0</td>\n",
              "      <td>98.25</td>\n",
              "      <td>103.0</td>\n",
              "      <td>118.25</td>\n",
              "      <td>137.0</td>\n",
              "    </tr>\n",
              "    <tr>\n",
              "      <th>Low Income</th>\n",
              "      <td>72.0</td>\n",
              "      <td>33.027778</td>\n",
              "      <td>11.091136</td>\n",
              "      <td>15.0</td>\n",
              "      <td>22.50</td>\n",
              "      <td>33.5</td>\n",
              "      <td>43.00</td>\n",
              "      <td>49.0</td>\n",
              "    </tr>\n",
              "    <tr>\n",
              "      <th>Moderate Income</th>\n",
              "      <td>106.0</td>\n",
              "      <td>69.377358</td>\n",
              "      <td>10.651584</td>\n",
              "      <td>50.0</td>\n",
              "      <td>61.00</td>\n",
              "      <td>70.0</td>\n",
              "      <td>78.00</td>\n",
              "      <td>88.0</td>\n",
              "    </tr>\n",
              "  </tbody>\n",
              "</table>\n",
              "</div>\n",
              "      <button class=\"colab-df-convert\" onclick=\"convertToInteractive('df-7b7309de-1cc3-46da-8ebe-705c39a07d3f')\"\n",
              "              title=\"Convert this dataframe to an interactive table.\"\n",
              "              style=\"display:none;\">\n",
              "        \n",
              "  <svg xmlns=\"http://www.w3.org/2000/svg\" height=\"24px\"viewBox=\"0 0 24 24\"\n",
              "       width=\"24px\">\n",
              "    <path d=\"M0 0h24v24H0V0z\" fill=\"none\"/>\n",
              "    <path d=\"M18.56 5.44l.94 2.06.94-2.06 2.06-.94-2.06-.94-.94-2.06-.94 2.06-2.06.94zm-11 1L8.5 8.5l.94-2.06 2.06-.94-2.06-.94L8.5 2.5l-.94 2.06-2.06.94zm10 10l.94 2.06.94-2.06 2.06-.94-2.06-.94-.94-2.06-.94 2.06-2.06.94z\"/><path d=\"M17.41 7.96l-1.37-1.37c-.4-.4-.92-.59-1.43-.59-.52 0-1.04.2-1.43.59L10.3 9.45l-7.72 7.72c-.78.78-.78 2.05 0 2.83L4 21.41c.39.39.9.59 1.41.59.51 0 1.02-.2 1.41-.59l7.78-7.78 2.81-2.81c.8-.78.8-2.07 0-2.86zM5.41 20L4 18.59l7.72-7.72 1.47 1.35L5.41 20z\"/>\n",
              "  </svg>\n",
              "      </button>\n",
              "      \n",
              "  <style>\n",
              "    .colab-df-container {\n",
              "      display:flex;\n",
              "      flex-wrap:wrap;\n",
              "      gap: 12px;\n",
              "    }\n",
              "\n",
              "    .colab-df-convert {\n",
              "      background-color: #E8F0FE;\n",
              "      border: none;\n",
              "      border-radius: 50%;\n",
              "      cursor: pointer;\n",
              "      display: none;\n",
              "      fill: #1967D2;\n",
              "      height: 32px;\n",
              "      padding: 0 0 0 0;\n",
              "      width: 32px;\n",
              "    }\n",
              "\n",
              "    .colab-df-convert:hover {\n",
              "      background-color: #E2EBFA;\n",
              "      box-shadow: 0px 1px 2px rgba(60, 64, 67, 0.3), 0px 1px 3px 1px rgba(60, 64, 67, 0.15);\n",
              "      fill: #174EA6;\n",
              "    }\n",
              "\n",
              "    [theme=dark] .colab-df-convert {\n",
              "      background-color: #3B4455;\n",
              "      fill: #D2E3FC;\n",
              "    }\n",
              "\n",
              "    [theme=dark] .colab-df-convert:hover {\n",
              "      background-color: #434B5C;\n",
              "      box-shadow: 0px 1px 3px 1px rgba(0, 0, 0, 0.15);\n",
              "      filter: drop-shadow(0px 1px 2px rgba(0, 0, 0, 0.3));\n",
              "      fill: #FFFFFF;\n",
              "    }\n",
              "  </style>\n",
              "\n",
              "      <script>\n",
              "        const buttonEl =\n",
              "          document.querySelector('#df-7b7309de-1cc3-46da-8ebe-705c39a07d3f button.colab-df-convert');\n",
              "        buttonEl.style.display =\n",
              "          google.colab.kernel.accessAllowed ? 'block' : 'none';\n",
              "\n",
              "        async function convertToInteractive(key) {\n",
              "          const element = document.querySelector('#df-7b7309de-1cc3-46da-8ebe-705c39a07d3f');\n",
              "          const dataTable =\n",
              "            await google.colab.kernel.invokeFunction('convertToInteractive',\n",
              "                                                     [key], {});\n",
              "          if (!dataTable) return;\n",
              "\n",
              "          const docLinkHtml = 'Like what you see? Visit the ' +\n",
              "            '<a target=\"_blank\" href=https://colab.research.google.com/notebooks/data_table.ipynb>data table notebook</a>'\n",
              "            + ' to learn more about interactive tables.';\n",
              "          element.innerHTML = '';\n",
              "          dataTable['output_type'] = 'display_data';\n",
              "          await google.colab.output.renderOutput(dataTable, element);\n",
              "          const docLink = document.createElement('div');\n",
              "          docLink.innerHTML = docLinkHtml;\n",
              "          element.appendChild(docLink);\n",
              "        }\n",
              "      </script>\n",
              "    </div>\n",
              "  </div>\n",
              "  "
            ]
          },
          "metadata": {},
          "execution_count": 26
        }
      ]
    },
    {
      "cell_type": "markdown",
      "source": [
        "Los valores máximo y mínimo para cada clúster confirman que los clústeres se han definido como pretendíamos. La mayoría de los clientes se encuentran en el grupo de ingresos moderados. También puede ver que solo 22 clientes están marcados como\n",
        "altos ingresos"
      ],
      "metadata": {
        "id": "nhrdF4O0_aF1"
      }
    },
    {
      "cell_type": "markdown",
      "source": [
        "Este tipo de métodos tienen la ventaja de ser simples y fáciles de entender. \n",
        "\n",
        "Sin embargo, la segmentación con enfoques tradicionales se vuelve mucho más compleja cuando se **agregan más variables**, como la edad, el género, otra información demográfica relevante u otros atributos relevantes identificados por la empresa. \n",
        "\n",
        "A medida que aumenta el número de variables, se vuelve difícil elegir **umbrales** de manera que no termine con grupos con muy pocos clientes en ellos. \n",
        "\n",
        "Por ejemplo, ¿cuántas personas habría en el grupo de 18 a 25 años que ganan $100,000 o más?\n",
        "\n",
        "Esto se vuelve más importante cuando se observan los datos de comportamiento de los clientes. La creación de grupos basados ​​en la intuición puede dar lugar a que se pasen por alto **patrones** subyacentes en los datos. \n",
        "Por ejemplo, si puede haber segmentos de la población que respondan bien a tipos muy específicos de ofertas de marketing. \n",
        "\n",
        "Si el analista que realiza la segmentación no conoce este grupo específico y los tipos de anuncios a los que responden los clientes del grupo, es posible que no pueda capturarlos como un grupo único. Por ejemplo, un analista de marketing que separa a los clientes en aquellos que responden a ofertas de productos costosos y aquellos que responden a ofertas de productos económicos podría pasar por alto un grupo de clientes que solo están interesados ​​en productos electrónicos, independientemente de si son caros o económicos."
      ],
      "metadata": {
        "id": "UUUr9WTHAuXW"
      }
    },
    {
      "cell_type": "markdown",
      "source": [
        "# 3.2 Aprendizaje no supervisado (Clustering) para la segmentación de clientes\n",
        "Esta  es una técnica que tiende a **recoger** en patrones los datos que de otro modo podrían perderse. Es clave para la segmentación de clientes porque encuentra los puntos de datos que más **se parecen y los agrupa**, que es lo que debe hacer una buenas técnicas de segmentación de clientes."
      ],
      "metadata": {
        "id": "XOpX_MsrA8HV"
      }
    },
    {
      "cell_type": "markdown",
      "source": [
        "La agrupación en clústeres es un tipo de técnica de aprendizaje automático no supervisado que busca en clusterings de datos **sin conocerlos de antemano**. \n",
        "\n",
        "Ventajas del uso de clústeres para la segmentación de clientes:\n",
        "\n",
        "- Pueden encontrar grupos de clientes inesperados o desconocidos para el analista.\n",
        "- Flexibles y se puede utilizar para una amplia gama de datos.\n",
        "- Reduce la necesidad de conocimientos especificos sobre las relaciones entre la demografía de los clientes y sus comportamientos.\n",
        "- Rápido de realizar y escalable a conjuntos de datos grandes."
      ],
      "metadata": {
        "id": "X4hTywwBBFh2"
      }
    },
    {
      "cell_type": "markdown",
      "source": [
        "Desventajas de la agrupación:\n",
        "- Los grupos de clientes creados pueden no ser **fáciles de interpretar**.\n",
        "\n",
        "Una desventaja de la agrupación en clústeres es que puede encontrar grupos que no parecen tener mucho sentido en la superficie. A menudo, esto se puede solucionar mediante el uso de un algoritmo de agrupación en clústeres más adecuado. "
      ],
      "metadata": {
        "id": "5Tsj86BjBPD9"
      }
    },
    {
      "cell_type": "markdown",
      "source": [
        "# 3.2.1 Elección de atributos relevantes (criterios de segmentación)\n",
        "Para usar el agrupamiento para la segmentación de clientes (para agrupar clientes con otros clientes que tienen características similares), primero debe decidir qué significa **similar**, o en otras palabras, debe ser preciso al definir qué tipos de clientes son similares. La elección de las propiedades que intervienen en el proceso de segmentación es una decisión extremadamente importante, ya que define cómo se representan las entidades y dirige la naturaleza de los grupos formados.\n",
        "\n",
        "Digamos que deseamos segmentar a los clientes únicamente por su frecuencia de compra y valor de transacción. **En tal situación, los atributos como la edad, el sexo u otros datos demográficos no serían relevantes**. \n",
        "Por otro lado, si la intención es segmentar a los clientes puramente demográficamente, su **frecuencia de compra** y **valor de transacción** serían los atributos que no serían relevantes para nosotros.\n",
        "\n",
        "Un buen criterio para la segmentación podría ser el compromiso del cliente, que incluye características como: \n",
        "- Tiempo que pasa en el sitio.\n",
        "- Visitas a la plataforma en un período de tiempo definido.\n",
        "- Páginas vistas en un sitio web\n",
        "- Días desde el último inicio de sesión, entre otros.\n",
        "\n",
        "\\* Estructura (representación)\n",
        "\n",
        "Al trabajar con un conjunto de datos que involucra este tipo de información, necesitamos almacenar los datos de cada entidad, por ejemplo: un cliente, en una fila. Los valores para cada fila en los datos serían representativos de un cliente, de manera más general, de cada entidad de interés. \n",
        "\n",
        "Este tipo de representación ayuda a **comparar** una entidad con otras entidades en el conjunto de datos."
      ],
      "metadata": {
        "id": "skxXlpidBXBM"
      }
    },
    {
      "cell_type": "markdown",
      "source": [
        "Para este caso de estudio, decidamos los criterios de segmentación. Independientemente de la edad, digamos que deseamos separar a los clientes en función de:\n",
        "\n",
        "- Nivel de ingresos \n",
        "- Puntajes de gastos \n",
        "\n",
        "Al utilizarlos, podríamos tener una estrategia de marketing (2) diferencial para los clientes que tienen, por ejemplo:\n",
        "- Ingresos altos y puntajes de gastos bajos... frente a aquellos con\n",
        "- Ingresos bajos y puntajes de gastos altos. \n",
        "\n",
        "Con los criterios de segmentación decididos (atributos relevantes elegidos), comprendamos algunos conceptos clave que permiten el proceso de agrupación."
      ],
      "metadata": {
        "id": "Af7KJBDRBi_n"
      }
    },
    {
      "cell_type": "markdown",
      "source": [
        "# 3.2.2 Estandarización de datos\n",
        "Para poder agrupar a los clientes en función de **variables continuas,** primero debemos **escalar** los parámetros para que los datos estén en escalas similares. Por ejemplo la edad e ingresos están en escalas muy diferentes. \n",
        "\n",
        "Es común ver ingresos anuales de dos personas que difieren \n",
        "en \\$ 10,000 pero sería muy extraño ver que sus edades difieren en 10,000 años. \n",
        "\n",
        "Por lo tanto, necesitamos controlar mejor cómo el cambio en una variable afecta la similitud general entre los clientes. Por ejemplo, podemos requerir que una diferencia de edad de 10 años entre dos clientes sea tratada como equivalente a una diferencia de ingresos de $10,000. Sin embargo, hacer este tipo de determinaciones manualmente para cada variable es difícil. Esta es la razón por la que normalmente **estandarizamos los datos**, para ponerlos todos en una **escala estándar**.\n",
        "\n",
        "La escala tiene un impacto significativo en la similitud percibida entre las entidades. Para comprender el impacto de la escala y las unidades de medida de una manera simple y visual, considere los tres gráficos de la Figura 3.9. Los gráficos representan datos de cuatro clientes (C1, C2, C3, C4). Los datos originales están en la siguiente tabla, donde se tiene la edad del cliente en años y el ingreso anual en 000's INR (Rupia Nacional India):\n",
        "\n",
        "\n",
        "<figure>\n",
        "<center><img src='https://drive.google.com/uc?export=view&id=1vrjHFF7Nt7CdjFu7B87n2UfaxCsHXxp4' width=\"800\" />\n",
        "<figcaption>Figura 3.8: Datos de cuatro clientes</figcaption></center>\n",
        "</figure>\n",
        "\n"
      ],
      "metadata": {
        "id": "nsiwAKS7CBDn"
      }
    },
    {
      "cell_type": "markdown",
      "source": [
        "Si graficamos los clientes como puntos en un diagrama de dispersión con Age en el eje x e Income en el eje y, vemos que los ingresos de los clientes C3 y C4 están muy cerca uno del otro y que los ingresos de los clientes C1 y C2 forman un par. Pero, ¿y si convertimos el ingreso anual a USD (dividiendo por 70 por simplicidad)? Observemos en el gráfico del medio en la Figura 3.9. \n",
        "\n",
        "Ahora se forman C1 y C3 un par, con C2 y C4 formando otro. Los clústeres cambiaron drásticamente al cambiar las unidades de medida (INR a USD):\n",
        "\n",
        "<figure>\n",
        "<center><img src='https://drive.google.com/uc?export=view&id=1iKqiY1zrMkA3Dfy8x7CPOZgVh7UXvkZc' width=\"800\" />\n",
        "<figcaption>Figura 3.9: Representación de los clientes como puntos en un diagrama de dispersión</figcaption></center>\n",
        "</figure>\n",
        "\n"
      ],
      "metadata": {
        "id": "N47pGtNIDZVQ"
      }
    },
    {
      "cell_type": "markdown",
      "source": [
        "Una estrategia natural para manejar este problema es ***estandarizar*** los datos, es decir, obtener\n",
        "los valores a una escala similar y comparable. Una de esas estrategias se aplicó a los datos de los cuatro clientes anteriores, lo que resultó en la gráfica más a la derecha en la Figura 3.9. De hecho, es interesante notar que después de la estandarización, ninguno de los puntos parece estar formando grupos naturales con otro. **Este ejemplo ilustra la importancia de la estandarización y cómo, de lo contrario, podemos ser engañados haciéndonos creer que existen grupos naturales cuando no los hay.**"
      ],
      "metadata": {
        "id": "ipKJ9JAJDv2L"
      }
    },
    {
      "cell_type": "markdown",
      "source": [
        "Existen varias formas de estandarizar o cambiar la escala de las características, una forma popular que se emplea para la agrupación en clústeres es el ***escalado estándar***, es decir, para calcular su puntuación $z$. Esto se hace en dos pasos, para cada columna:"
      ],
      "metadata": {
        "id": "_RiTZ52kD3ZS"
      }
    },
    {
      "cell_type": "markdown",
      "source": [
        "\n",
        "1. **Restar** la media de los datos de cada punto de datos. Así centra los datos alrededor de 0 (para que los datos sean más fáciles de ver e interpretar).\n",
        "\n",
        "\n",
        "2. **Dividir** los parámetros por su desviación estándar."
      ],
      "metadata": {
        "id": "hxX6-UtMD5LJ"
      }
    },
    {
      "cell_type": "markdown",
      "source": [
        "La desviación estándar es una medida de **cuán dispersos están nuestros puntos.** Se calcula comparando el promedio de los datos con cada punto de datos. Los datos como los ingresos, donde los puntos se pueden distribuir por muchos miles, tendrán desviaciones estándar mucho mayores que los datos como la edad, donde las diferencias entre los puntos de datos tienden a ser mucho menores. La siguiente fórmula se utiliza para calcular el valor estandarizado de un punto de datos:"
      ],
      "metadata": {
        "id": "7cBtb5lyD-F1"
      }
    },
    {
      "cell_type": "markdown",
      "source": [
        "<h1><center>\n",
        "\n",
        "$ Z_{i} = \\frac{x_{i} - mean(x)}{std(x)}$\n",
        "\n",
        "Formula 3.10: La ecuación de estandarización\n",
        "</center></h1>"
      ],
      "metadata": {
        "id": "xAv7vLYDEBB5"
      }
    },
    {
      "cell_type": "code",
      "source": [
        "# https://www.youtube.com/watch?v=0-k4r87ozFo\n",
        "import pandas as pd\n",
        "years = pd.DataFrame([1,4,24,26,70])\n",
        "# print(years.mean())\n",
        "print(years.std()) # dispersos están nuestros puntos"
      ],
      "metadata": {
        "colab": {
          "base_uri": "https://localhost:8080/"
        },
        "id": "DRMqbTdN8trX",
        "outputId": "bb65fdd7-1c5c-4037-95f6-aade310d1c1e"
      },
      "execution_count": 27,
      "outputs": [
        {
          "output_type": "stream",
          "name": "stdout",
          "text": [
            "0    27.586228\n",
            "dtype: float64\n"
          ]
        }
      ]
    },
    {
      "cell_type": "markdown",
      "source": [
        "Aquí, $Z_{i}$ corresponde al ${i}$-ésimo valor estandarizado, ${x}$ representa todos los valores, $mean(x)$ es el valor medio de todos los valores de $x$ y $std(x)$ es la desviación estándar de los valores de $x$.\n",
        "\n",
        "En este ejemplo: \n",
        "\n",
        "(1) Al dividir todos los valores de Age por la desviación estándar de las Edades, transformamos los datos de modo que la desviación estándar sea igual a 1. \n",
        "\n",
        "(2) Cuando hacemos lo mismo con los ingresos, la desviación estándar de los ingresos será también será igual a 1. \n",
        "\n",
        "Por lo tanto, una diferencia de 1 entre dos clientes en cualquiera de estas medidas indicaría un nivel similar de diferencia entre ellos. Esto asegura que todas las características tengan una influencia similar en la formación de los clústeres."
      ],
      "metadata": {
        "id": "CrnjedEPEC4r"
      }
    },
    {
      "cell_type": "markdown",
      "source": [
        "¿Hay algún inconveniente en este enfoque? \n",
        "\n",
        "Piense en la facilidad de interpretación de estos valores. Todos tenemos una idea intuitiva de lo que significan \\$10,000 o 10 años, pero es más **difícil** pensar en lo que significa el valor de una desviación estándar de ingresos. Sin embargo, esto no importa para el algoritmo de aprendizaje automático, ya que no tiene la misma **comprensión intuitiva** de los datos que nosotros."
      ],
      "metadata": {
        "id": "8erk6hmKEETn"
      }
    },
    {
      "cell_type": "markdown",
      "source": [
        "Para la implementación de la estandarización de datos, se usa la funcion *StandardScaler* de [scikit-learn](https://scikit-learn.org/stable)."
      ],
      "metadata": {
        "id": "xfQkB-h3EF5d"
      }
    },
    {
      "cell_type": "code",
      "source": [
        "from sklearn.preprocessing import StandardScaler\n",
        "scaler = StandardScaler()"
      ],
      "metadata": {
        "id": "DNTLxsahEHkt"
      },
      "execution_count": 28,
      "outputs": []
    },
    {
      "cell_type": "markdown",
      "source": [
        "La funcion StandardScaler tiene función para ajustarse al conjunto de datos determinado. La función calcula la media y la desviación estándar para cada una de las columnas. \n"
      ],
      "metadata": {
        "id": "1RpQWCc9EJD2"
      }
    },
    {
      "cell_type": "code",
      "source": [
        "# calcula la media y la desviación estándar para cada una de las columnas\n",
        "# scaler.fit_transform (data_orig[cols])"
      ],
      "metadata": {
        "id": "2ynEOuDLEb9y"
      },
      "execution_count": null,
      "outputs": []
    },
    {
      "cell_type": "markdown",
      "source": [
        "El código anterior ajusta, transforma y devuelve los datos escalados. La variable cols puede ser una lista de columnas para escalar en el conjunto de datos data_orig."
      ],
      "metadata": {
        "id": "MkWjoShTEMkI"
      }
    },
    {
      "cell_type": "markdown",
      "source": [
        "# Ejercicio 3.03: Estandarización de datos de clientes\n",
        "\n",
        "Estandarizar los datos de los clientes de un centro comercial mediante la función $Z$, uando **StandardScaler** de scikit-learn. "
      ],
      "metadata": {
        "id": "mItantimEPYZ"
      }
    },
    {
      "cell_type": "markdown",
      "source": [
        "1. Importar el método StandardScaler de sklearn y crear una instancia de StandardScaler"
      ],
      "metadata": {
        "id": "U1Tpg212ESsj"
      }
    },
    {
      "cell_type": "code",
      "source": [
        "from sklearn.preprocessing import StandardScaler\n",
        "scaler = StandardScaler()"
      ],
      "metadata": {
        "id": "X6w5eZWeEUWp"
      },
      "execution_count": 29,
      "outputs": []
    },
    {
      "cell_type": "markdown",
      "source": [
        "\n",
        "2. Crear una lista llamada cols_to_scale para guardar los nombres de las columnas a escalar, Age, Income y Spend_score. Además, hacer una copia del DataFrame (para conservar los valores originales) y asígnele el nombre data_scaled."
      ],
      "metadata": {
        "id": "UYaB2rbBEV9F"
      }
    },
    {
      "cell_type": "code",
      "source": [
        "!curl https://raw.githubusercontent.com/limspiga/customer-analytics/main/week-2a/datasets/Mall_Customers.csv -O\n",
        "data0 = pd.read_csv(\"Mall_Customers.csv\")\n",
        "cols_to_scale = ['Age', 'Income', 'Spend_score']\n",
        "\n",
        "data_scaled = data0.copy()"
      ],
      "metadata": {
        "id": "lrhmkwyEEY3X",
        "colab": {
          "base_uri": "https://localhost:8080/"
        },
        "outputId": "d89f7be1-5fae-4ed0-f69f-3f9c4e4ac947"
      },
      "execution_count": 30,
      "outputs": [
        {
          "output_type": "stream",
          "name": "stdout",
          "text": [
            "  % Total    % Received % Xferd  Average Speed   Time    Time     Time  Current\n",
            "                                 Dload  Upload   Total   Spent    Left  Speed\n",
            "\r  0     0    0     0    0     0      0      0 --:--:-- --:--:-- --:--:--     0\r100  3780  100  3780    0     0  44470      0 --:--:-- --:--:-- --:--:-- 44470\n"
          ]
        }
      ]
    },
    {
      "cell_type": "markdown",
      "source": [
        "3. Utilizando el método fit_transform del escalador, aplique la transformación a las columnas elegidas:\n"
      ],
      "metadata": {
        "id": "BowmvRLtEaTV"
      }
    },
    {
      "cell_type": "code",
      "source": [
        "# fix\n",
        "# data0.rename({'Annual Income (k$)':'Income', \\\n",
        "#               'Spending Score (1-100)':'Spend_score'}, axis=1, \\\n",
        "#              inplace=True)\n",
        "\n",
        "data_scaled[cols_to_scale] = scaler.fit_transform(data0[cols_to_scale])\n"
      ],
      "metadata": {
        "id": "8KEg2kR6Eb5e"
      },
      "execution_count": 35,
      "outputs": []
    },
    {
      "cell_type": "markdown",
      "source": [
        "4. Verificar lo anterior con un Describe() en las columnas modificadas."
      ],
      "metadata": {
        "id": "rgrW7-6DEekX"
      }
    },
    {
      "cell_type": "code",
      "source": [
        "# data_scaled[cols_to_scale].describe()\n",
        "data_scaled[cols_to_scale].describe().round()"
      ],
      "metadata": {
        "colab": {
          "base_uri": "https://localhost:8080/",
          "height": 300
        },
        "id": "OVjWAusdGzBL",
        "outputId": "1d063767-9878-44ef-97b0-2526ae2ca8d7"
      },
      "execution_count": 39,
      "outputs": [
        {
          "output_type": "execute_result",
          "data": {
            "text/plain": [
              "         Age  Income  Spend_score\n",
              "count  200.0   200.0        200.0\n",
              "mean    -0.0    -0.0         -0.0\n",
              "std      1.0     1.0          1.0\n",
              "min     -1.0    -2.0         -2.0\n",
              "25%     -1.0    -1.0         -1.0\n",
              "50%     -0.0     0.0         -0.0\n",
              "75%      1.0     1.0          1.0\n",
              "max      2.0     3.0          2.0"
            ],
            "text/html": [
              "\n",
              "  <div id=\"df-90139c20-80ba-458f-9859-ee5dc2817c65\">\n",
              "    <div class=\"colab-df-container\">\n",
              "      <div>\n",
              "<style scoped>\n",
              "    .dataframe tbody tr th:only-of-type {\n",
              "        vertical-align: middle;\n",
              "    }\n",
              "\n",
              "    .dataframe tbody tr th {\n",
              "        vertical-align: top;\n",
              "    }\n",
              "\n",
              "    .dataframe thead th {\n",
              "        text-align: right;\n",
              "    }\n",
              "</style>\n",
              "<table border=\"1\" class=\"dataframe\">\n",
              "  <thead>\n",
              "    <tr style=\"text-align: right;\">\n",
              "      <th></th>\n",
              "      <th>Age</th>\n",
              "      <th>Income</th>\n",
              "      <th>Spend_score</th>\n",
              "    </tr>\n",
              "  </thead>\n",
              "  <tbody>\n",
              "    <tr>\n",
              "      <th>count</th>\n",
              "      <td>200.0</td>\n",
              "      <td>200.0</td>\n",
              "      <td>200.0</td>\n",
              "    </tr>\n",
              "    <tr>\n",
              "      <th>mean</th>\n",
              "      <td>-0.0</td>\n",
              "      <td>-0.0</td>\n",
              "      <td>-0.0</td>\n",
              "    </tr>\n",
              "    <tr>\n",
              "      <th>std</th>\n",
              "      <td>1.0</td>\n",
              "      <td>1.0</td>\n",
              "      <td>1.0</td>\n",
              "    </tr>\n",
              "    <tr>\n",
              "      <th>min</th>\n",
              "      <td>-1.0</td>\n",
              "      <td>-2.0</td>\n",
              "      <td>-2.0</td>\n",
              "    </tr>\n",
              "    <tr>\n",
              "      <th>25%</th>\n",
              "      <td>-1.0</td>\n",
              "      <td>-1.0</td>\n",
              "      <td>-1.0</td>\n",
              "    </tr>\n",
              "    <tr>\n",
              "      <th>50%</th>\n",
              "      <td>-0.0</td>\n",
              "      <td>0.0</td>\n",
              "      <td>-0.0</td>\n",
              "    </tr>\n",
              "    <tr>\n",
              "      <th>75%</th>\n",
              "      <td>1.0</td>\n",
              "      <td>1.0</td>\n",
              "      <td>1.0</td>\n",
              "    </tr>\n",
              "    <tr>\n",
              "      <th>max</th>\n",
              "      <td>2.0</td>\n",
              "      <td>3.0</td>\n",
              "      <td>2.0</td>\n",
              "    </tr>\n",
              "  </tbody>\n",
              "</table>\n",
              "</div>\n",
              "      <button class=\"colab-df-convert\" onclick=\"convertToInteractive('df-90139c20-80ba-458f-9859-ee5dc2817c65')\"\n",
              "              title=\"Convert this dataframe to an interactive table.\"\n",
              "              style=\"display:none;\">\n",
              "        \n",
              "  <svg xmlns=\"http://www.w3.org/2000/svg\" height=\"24px\"viewBox=\"0 0 24 24\"\n",
              "       width=\"24px\">\n",
              "    <path d=\"M0 0h24v24H0V0z\" fill=\"none\"/>\n",
              "    <path d=\"M18.56 5.44l.94 2.06.94-2.06 2.06-.94-2.06-.94-.94-2.06-.94 2.06-2.06.94zm-11 1L8.5 8.5l.94-2.06 2.06-.94-2.06-.94L8.5 2.5l-.94 2.06-2.06.94zm10 10l.94 2.06.94-2.06 2.06-.94-2.06-.94-.94-2.06-.94 2.06-2.06.94z\"/><path d=\"M17.41 7.96l-1.37-1.37c-.4-.4-.92-.59-1.43-.59-.52 0-1.04.2-1.43.59L10.3 9.45l-7.72 7.72c-.78.78-.78 2.05 0 2.83L4 21.41c.39.39.9.59 1.41.59.51 0 1.02-.2 1.41-.59l7.78-7.78 2.81-2.81c.8-.78.8-2.07 0-2.86zM5.41 20L4 18.59l7.72-7.72 1.47 1.35L5.41 20z\"/>\n",
              "  </svg>\n",
              "      </button>\n",
              "      \n",
              "  <style>\n",
              "    .colab-df-container {\n",
              "      display:flex;\n",
              "      flex-wrap:wrap;\n",
              "      gap: 12px;\n",
              "    }\n",
              "\n",
              "    .colab-df-convert {\n",
              "      background-color: #E8F0FE;\n",
              "      border: none;\n",
              "      border-radius: 50%;\n",
              "      cursor: pointer;\n",
              "      display: none;\n",
              "      fill: #1967D2;\n",
              "      height: 32px;\n",
              "      padding: 0 0 0 0;\n",
              "      width: 32px;\n",
              "    }\n",
              "\n",
              "    .colab-df-convert:hover {\n",
              "      background-color: #E2EBFA;\n",
              "      box-shadow: 0px 1px 2px rgba(60, 64, 67, 0.3), 0px 1px 3px 1px rgba(60, 64, 67, 0.15);\n",
              "      fill: #174EA6;\n",
              "    }\n",
              "\n",
              "    [theme=dark] .colab-df-convert {\n",
              "      background-color: #3B4455;\n",
              "      fill: #D2E3FC;\n",
              "    }\n",
              "\n",
              "    [theme=dark] .colab-df-convert:hover {\n",
              "      background-color: #434B5C;\n",
              "      box-shadow: 0px 1px 3px 1px rgba(0, 0, 0, 0.15);\n",
              "      filter: drop-shadow(0px 1px 2px rgba(0, 0, 0, 0.3));\n",
              "      fill: #FFFFFF;\n",
              "    }\n",
              "  </style>\n",
              "\n",
              "      <script>\n",
              "        const buttonEl =\n",
              "          document.querySelector('#df-90139c20-80ba-458f-9859-ee5dc2817c65 button.colab-df-convert');\n",
              "        buttonEl.style.display =\n",
              "          google.colab.kernel.accessAllowed ? 'block' : 'none';\n",
              "\n",
              "        async function convertToInteractive(key) {\n",
              "          const element = document.querySelector('#df-90139c20-80ba-458f-9859-ee5dc2817c65');\n",
              "          const dataTable =\n",
              "            await google.colab.kernel.invokeFunction('convertToInteractive',\n",
              "                                                     [key], {});\n",
              "          if (!dataTable) return;\n",
              "\n",
              "          const docLinkHtml = 'Like what you see? Visit the ' +\n",
              "            '<a target=\"_blank\" href=https://colab.research.google.com/notebooks/data_table.ipynb>data table notebook</a>'\n",
              "            + ' to learn more about interactive tables.';\n",
              "          element.innerHTML = '';\n",
              "          dataTable['output_type'] = 'display_data';\n",
              "          await google.colab.output.renderOutput(dataTable, element);\n",
              "          const docLink = document.createElement('div');\n",
              "          docLink.innerHTML = docLinkHtml;\n",
              "          element.appendChild(docLink);\n",
              "        }\n",
              "      </script>\n",
              "    </div>\n",
              "  </div>\n",
              "  "
            ]
          },
          "metadata": {},
          "execution_count": 39
        }
      ]
    },
    {
      "cell_type": "markdown",
      "source": [
        "Figura 3.11: Resumen descriptivo de las columnas modificadas\n"
      ],
      "metadata": {
        "id": "YB5hLqJdEnl5"
      }
    },
    {
      "cell_type": "markdown",
      "source": [
        "El valor medio de todas las columnas es prácticamente 0 y la desviación estándar de todas es 1. **Esto confirma que la estandarización ha funcionado.** \n",
        "Compare esto con la tabla de la \n",
        "[Figura 3.4](#figure_3_4)\n",
        "para ver que el valor medio y la desviación estándar para cada columna se han estandarizado. Esto garantiza que todas las columnas tengan el mismo peso al calcular la similitud o la distancia entre los clientes."
      ],
      "metadata": {
        "id": "lBLe6xuFEpos"
      }
    },
    {
      "cell_type": "markdown",
      "source": [
        "# 3.2.3 Cálculo de la distancia\n",
        "\n",
        "Otra forma alternativa de agrupar es calcular la **disimilitud** entre entidades. De esta manera, podemos entender cuán diferentes (o alejadas) son las entidades. \n",
        "\n",
        "La distancia geométrica entre entidades en el espacio de características es una forma natural de medir la disimilitud. En un diagrama de dispersión bidimensional, la distancia euclidiana entre dos clientes es solo la distancia entre sus puntos, como puede ver en la Figura 3.12:"
      ],
      "metadata": {
        "id": "O-6wa3LVErqK"
      }
    },
    {
      "cell_type": "markdown",
      "source": [
        "<figure>\n",
        "<center><img src='https://drive.google.com/uc?export=view&id=1aO9Ek6JzDPdcSOL3XlTU1Nhpgv0AwgNo' width=\"800\" />\n",
        "<figcaption>Figura 3.12: Distancia euclidiana entre dos puntos en el plano XY</figcaption></center>\n",
        "</figure>\n",
        "\n",
        "En el gráfico anterior, la longitud de la línea es la distancia euclidiana entre los dos puntos. Cuanto mayor es esta distancia, menos similares son los clientes. Si bien esto es más fácil de pensar y visualizar en dos dimensiones, las matemáticas para calcular la distancia euclidiana se aplican igual de bien a múltiples dimensiones."
      ],
      "metadata": {
        "id": "KmIHCNJaEu24"
      }
    },
    {
      "cell_type": "markdown",
      "source": [
        "Para dos puntos de datos, $p$ y $q$, la distancia entre ellos se calcula de la siguiente manera:\n",
        "<h1><center>\n",
        "$ d\\left( p,q\\right)   = \\sqrt {\\sum  \\left( p_{i}-q_{i}\\right)^2 } $\n",
        "\n",
        "Figura 3.13: Ecuación para calcular la distancia euclidiana entre dos puntos\n",
        "</center><h1>\n",
        "\n",
        "\n",
        "\n",
        "Aquí, $p = (p1+p2+...pn)$, $q = (q1+q2+...qn)$, y $n$ es el número de características. Por lo tanto, podemos encontrar la distancia entre los clientes independientemente de cuántas características/dimensiones queramos usar. \n",
        "\n",
        "Para la implementación de Python, usaremos la utilidad **cdist** en [SciPy](https://scipy.org)."
      ],
      "metadata": {
        "id": "M5QdbN-aEy1p"
      }
    },
    {
      "cell_type": "code",
      "source": [
        "from scipy.spatial.distance import cdist\n",
        "\n",
        "# array1 = [[1,1],[1,3]]\n",
        "# array2 = [[1,1],[1,3]]\n",
        "\n",
        "cdist(array1, array2, metric='euclidean')"
      ],
      "metadata": {
        "colab": {
          "base_uri": "https://localhost:8080/"
        },
        "id": "QDFjyAkRE3Pc",
        "outputId": "7d7685e6-7bdb-44cd-bc30-eddc9709ddc0"
      },
      "execution_count": null,
      "outputs": [
        {
          "output_type": "execute_result",
          "data": {
            "text/plain": [
              "array([[0., 2.],\n",
              "       [2., 0.]])"
            ]
          },
          "metadata": {},
          "execution_count": 39
        }
      ]
    },
    {
      "cell_type": "markdown",
      "source": [
        "En el comando anterior, array1 es la primera matriz de datos. Podría representar datos para un cliente o muchos (arreglo bidimensional). array2 es la otra matriz. La distancia se calcula entre las entidades de matriz1 y las de matriz2. Al especificar la métrica como euclidiana, se calcula la distancia euclidiana entre las entidades array1 y array2."
      ],
      "metadata": {
        "id": "06eMwMgGE4tz"
      }
    },
    {
      "cell_type": "markdown",
      "source": [
        "Calcular la distancia entre puntos es un paso clave en la agrupación."
      ],
      "metadata": {
        "id": "JCHIV4CiE6-Y"
      }
    },
    {
      "cell_type": "markdown",
      "source": [
        "# Ejercicio 3.04: Cálculo de la Distancia entre Clientes\n",
        "En este ejercicio, calculará la distancia euclidiana entre tres clientes. El objetivo del ejercicio es poder calcular la similitud entre los clientes.\n",
        "\n",
        "1. Estandarizar los campos Income y Spend_score para los primeros tres clientes como se muestra en la siguiente tabla (Figura 3.14)\n",
        "2. Calcular la distancia usando el método cdist de scipy."
      ],
      "metadata": {
        "id": "0En88E8xE9xX"
      }
    },
    {
      "cell_type": "markdown",
      "source": [
        "1. Del dataset (data_scaled creado en el Ejercicio 3.03, Estandarización de datos de clientes), extraer los tres primeros registros con los campos Income y Spend_score en un conjunto de datos llamado cust3 e imprima el conjunto de datos"
      ],
      "metadata": {
        "id": "wRY4WIlYFClB"
      }
    },
    {
      "cell_type": "code",
      "source": [
        "sel_cols = ['Income', 'Spend_score']\n",
        "cust3 = data_scaled[sel_cols].head(3)\n",
        "cust3"
      ],
      "metadata": {
        "colab": {
          "base_uri": "https://localhost:8080/",
          "height": 143
        },
        "id": "jxkGC2BhFEAL",
        "outputId": "1f740f09-fef5-440a-a529-ecec11f2d903"
      },
      "execution_count": 40,
      "outputs": [
        {
          "output_type": "execute_result",
          "data": {
            "text/plain": [
              "     Income  Spend_score\n",
              "0 -1.738999    -0.434801\n",
              "1 -1.738999     1.195704\n",
              "2 -1.700830    -1.715913"
            ],
            "text/html": [
              "\n",
              "  <div id=\"df-068f35e8-b6ad-457b-9ffa-921a7ac4ecd4\">\n",
              "    <div class=\"colab-df-container\">\n",
              "      <div>\n",
              "<style scoped>\n",
              "    .dataframe tbody tr th:only-of-type {\n",
              "        vertical-align: middle;\n",
              "    }\n",
              "\n",
              "    .dataframe tbody tr th {\n",
              "        vertical-align: top;\n",
              "    }\n",
              "\n",
              "    .dataframe thead th {\n",
              "        text-align: right;\n",
              "    }\n",
              "</style>\n",
              "<table border=\"1\" class=\"dataframe\">\n",
              "  <thead>\n",
              "    <tr style=\"text-align: right;\">\n",
              "      <th></th>\n",
              "      <th>Income</th>\n",
              "      <th>Spend_score</th>\n",
              "    </tr>\n",
              "  </thead>\n",
              "  <tbody>\n",
              "    <tr>\n",
              "      <th>0</th>\n",
              "      <td>-1.738999</td>\n",
              "      <td>-0.434801</td>\n",
              "    </tr>\n",
              "    <tr>\n",
              "      <th>1</th>\n",
              "      <td>-1.738999</td>\n",
              "      <td>1.195704</td>\n",
              "    </tr>\n",
              "    <tr>\n",
              "      <th>2</th>\n",
              "      <td>-1.700830</td>\n",
              "      <td>-1.715913</td>\n",
              "    </tr>\n",
              "  </tbody>\n",
              "</table>\n",
              "</div>\n",
              "      <button class=\"colab-df-convert\" onclick=\"convertToInteractive('df-068f35e8-b6ad-457b-9ffa-921a7ac4ecd4')\"\n",
              "              title=\"Convert this dataframe to an interactive table.\"\n",
              "              style=\"display:none;\">\n",
              "        \n",
              "  <svg xmlns=\"http://www.w3.org/2000/svg\" height=\"24px\"viewBox=\"0 0 24 24\"\n",
              "       width=\"24px\">\n",
              "    <path d=\"M0 0h24v24H0V0z\" fill=\"none\"/>\n",
              "    <path d=\"M18.56 5.44l.94 2.06.94-2.06 2.06-.94-2.06-.94-.94-2.06-.94 2.06-2.06.94zm-11 1L8.5 8.5l.94-2.06 2.06-.94-2.06-.94L8.5 2.5l-.94 2.06-2.06.94zm10 10l.94 2.06.94-2.06 2.06-.94-2.06-.94-.94-2.06-.94 2.06-2.06.94z\"/><path d=\"M17.41 7.96l-1.37-1.37c-.4-.4-.92-.59-1.43-.59-.52 0-1.04.2-1.43.59L10.3 9.45l-7.72 7.72c-.78.78-.78 2.05 0 2.83L4 21.41c.39.39.9.59 1.41.59.51 0 1.02-.2 1.41-.59l7.78-7.78 2.81-2.81c.8-.78.8-2.07 0-2.86zM5.41 20L4 18.59l7.72-7.72 1.47 1.35L5.41 20z\"/>\n",
              "  </svg>\n",
              "      </button>\n",
              "      \n",
              "  <style>\n",
              "    .colab-df-container {\n",
              "      display:flex;\n",
              "      flex-wrap:wrap;\n",
              "      gap: 12px;\n",
              "    }\n",
              "\n",
              "    .colab-df-convert {\n",
              "      background-color: #E8F0FE;\n",
              "      border: none;\n",
              "      border-radius: 50%;\n",
              "      cursor: pointer;\n",
              "      display: none;\n",
              "      fill: #1967D2;\n",
              "      height: 32px;\n",
              "      padding: 0 0 0 0;\n",
              "      width: 32px;\n",
              "    }\n",
              "\n",
              "    .colab-df-convert:hover {\n",
              "      background-color: #E2EBFA;\n",
              "      box-shadow: 0px 1px 2px rgba(60, 64, 67, 0.3), 0px 1px 3px 1px rgba(60, 64, 67, 0.15);\n",
              "      fill: #174EA6;\n",
              "    }\n",
              "\n",
              "    [theme=dark] .colab-df-convert {\n",
              "      background-color: #3B4455;\n",
              "      fill: #D2E3FC;\n",
              "    }\n",
              "\n",
              "    [theme=dark] .colab-df-convert:hover {\n",
              "      background-color: #434B5C;\n",
              "      box-shadow: 0px 1px 3px 1px rgba(0, 0, 0, 0.15);\n",
              "      filter: drop-shadow(0px 1px 2px rgba(0, 0, 0, 0.3));\n",
              "      fill: #FFFFFF;\n",
              "    }\n",
              "  </style>\n",
              "\n",
              "      <script>\n",
              "        const buttonEl =\n",
              "          document.querySelector('#df-068f35e8-b6ad-457b-9ffa-921a7ac4ecd4 button.colab-df-convert');\n",
              "        buttonEl.style.display =\n",
              "          google.colab.kernel.accessAllowed ? 'block' : 'none';\n",
              "\n",
              "        async function convertToInteractive(key) {\n",
              "          const element = document.querySelector('#df-068f35e8-b6ad-457b-9ffa-921a7ac4ecd4');\n",
              "          const dataTable =\n",
              "            await google.colab.kernel.invokeFunction('convertToInteractive',\n",
              "                                                     [key], {});\n",
              "          if (!dataTable) return;\n",
              "\n",
              "          const docLinkHtml = 'Like what you see? Visit the ' +\n",
              "            '<a target=\"_blank\" href=https://colab.research.google.com/notebooks/data_table.ipynb>data table notebook</a>'\n",
              "            + ' to learn more about interactive tables.';\n",
              "          element.innerHTML = '';\n",
              "          dataTable['output_type'] = 'display_data';\n",
              "          await google.colab.output.renderOutput(dataTable, element);\n",
              "          const docLink = document.createElement('div');\n",
              "          docLink.innerHTML = docLinkHtml;\n",
              "          element.appendChild(docLink);\n",
              "        }\n",
              "      </script>\n",
              "    </div>\n",
              "  </div>\n",
              "  "
            ]
          },
          "metadata": {},
          "execution_count": 40
        }
      ]
    },
    {
      "cell_type": "markdown",
      "source": [
        "Puede observar  los tres primeros registros. En este ejercicio se calculará la distancia entre estos tres clientes.\n",
        "2. Usar el método cdist desde scipy.spatial.distance"
      ],
      "metadata": {
        "id": "MIuvqP72FMyG"
      }
    },
    {
      "cell_type": "code",
      "source": [
        "from scipy.spatial.distance import cdist"
      ],
      "metadata": {
        "id": "3eRWqLOXFOzi"
      },
      "execution_count": 41,
      "outputs": []
    },
    {
      "cell_type": "markdown",
      "source": [
        "3. La función cdist se puede usar para calcular la distancia entre cada par de las dos colecciones de entradas. Para calcular la distancia entre los clientes en cust3, proporcione el conjunto de datos cust3 como entradas de datos para cdist, especificando euclidiana como la métrica."
      ],
      "metadata": {
        "id": "RZlgOZxLFQbe"
      }
    },
    {
      "cell_type": "code",
      "source": [
        "cdist(cust3, cust3, metric='euclidean')"
      ],
      "metadata": {
        "colab": {
          "base_uri": "https://localhost:8080/"
        },
        "id": "2hHJEQTmFSOW",
        "outputId": "c5cec0ea-8fd4-4f9b-df14-3f5266ef743d"
      },
      "execution_count": 42,
      "outputs": [
        {
          "output_type": "execute_result",
          "data": {
            "text/plain": [
              "array([[0.        , 1.63050555, 1.28167999],\n",
              "       [1.63050555, 0.        , 2.91186723],\n",
              "       [1.28167999, 2.91186723, 0.        ]])"
            ]
          },
          "metadata": {},
          "execution_count": 42
        }
      ]
    },
    {
      "cell_type": "code",
      "source": [
        "# DistMatrix = cdist(cust3, cust3, metric='euclidean')\n",
        "# import matplotlib.pyplot as plt\n",
        "# plt.imshow(DistMatrix, interpolation='none')\n",
        "# plt.show()"
      ],
      "metadata": {
        "colab": {
          "base_uri": "https://localhost:8080/",
          "height": 269
        },
        "id": "LI_Vngk5Ysc6",
        "outputId": "7820e43b-5fa3-409f-ec4f-f7e3ee24e14c"
      },
      "execution_count": null,
      "outputs": [
        {
          "output_type": "display_data",
          "data": {
            "text/plain": [
              "<Figure size 432x288 with 1 Axes>"
            ],
            "image/png": "[encoded data removed]"
          },
          "metadata": {
            "needs_background": "light"
          }
        }
      ]
    },
    {
      "cell_type": "markdown",
      "source": [
        "Debería obtener el siguiente resultado, una cuadrícula bidimensional de distancias entre cada par de clientes:\n",
        "\n",
        "El resultado muestra que la distancia entre el primer y el segundo cliente es de 1,63 unidades, mientras que la distancia entre el primer y el tercer cliente es de 1,28 unidades. La distancia entre el segundo y el tercer cliente es de 2,92 unidades."
      ],
      "metadata": {
        "id": "WK2Ww_a7FVGy"
      }
    },
    {
      "cell_type": "markdown",
      "source": [
        "4. Verifique que 1,6305 sea efectivamente la distancia euclidiana entre el cliente 1 y el cliente 2, calculándola manualmente con el siguiente código:"
      ],
      "metadata": {
        "id": "t2zTPDqiFXsN"
      }
    },
    {
      "cell_type": "code",
      "source": [
        "np.sqrt((-1.739+1.739)**2 + (-0.4348-1.1957)**2)"
      ],
      "metadata": {
        "colab": {
          "base_uri": "https://localhost:8080/"
        },
        "id": "WlOFar1oFZWO",
        "outputId": "8d4595c4-3df0-41fe-d643-0841b3b2c5b3"
      },
      "execution_count": null,
      "outputs": [
        {
          "output_type": "execute_result",
          "data": {
            "text/plain": [
              "1.6305"
            ]
          },
          "metadata": {},
          "execution_count": 31
        }
      ]
    },
    {
      "cell_type": "markdown",
      "source": [
        "El resultado es 1.6305. Esto coincide exactamente con la distancia calculada por el método cdist.\n",
        "\n",
        "En este ejercicio, calculó la distancia entre tres puntos utilizando el paquete cdist. Note que:\n",
        "- puntos con valores que son similares tienen distancias más bajas. \n",
        "\n",
        "Dicho cálculo de distancia es un paso clave para determinar la similitud entre entidades y lo utilizan los algoritmos de aprendizaje automático para la agrupación."
      ],
      "metadata": {
        "id": "d1XYvTXvFbQZ"
      }
    },
    {
      "cell_type": "markdown",
      "source": [
        "# 3.3. K-Means Clustering\n",
        "K-Means Clustering es una técnica de aprendizaje no supervisado muy común con una amplia gama de aplicaciones. Es poderoso porque es conceptualmente relativamente simple, se escala a conjuntos de datos muy grandes y tiende a funcionar bien en la práctica. "
      ],
      "metadata": {
        "id": "r8q6w0P2FdeG"
      }
    },
    {
      "cell_type": "markdown",
      "source": [
        "K-means clustering es un algoritmo que permite encontrar la mejor manera de agrupar puntos de datos en k grupos diferentes, donde **k es un parámetro dado al algoritmo**. Por ahora, elegiremos k arbitrariamente. Luego, el algoritmo funciona iterativamente para tratar de encontrar la mejor agrupación. Hay dos pasos para este algoritmo:\n",
        "\n",
        "1. El algoritmo comienza seleccionando aleatoriamente LOS puntos K en el espacio para que sean los centroides de los cluters. Luego, cada punto de datos se asigna al centroide más cercano.\n",
        "\n",
        "2. Los centroides se actualizan para que sean la media de todos los puntos de datos que se les asignan. Luego, los puntos de datos se reasignan al centroide más cercano a ellos.\n",
        "\n",
        "El paso 2 se repite hasta que ninguno de los puntos de datos cambia el centroide al que están asignados después de actualizar el centroide.\n",
        "\n",
        "El **algoritmo no es determinista**, es decir, **el resultado del algoritmo depende de las ubicaciones iniciales de los centroides**.\n",
        "\n",
        "Por lo tanto, no siempre se garantiza encontrar la mejor agrupación. Sin embargo, en la práctica, tiende a encontrar buenas agrupaciones sin dejar de ser computacionalmente económico incluso para grandes conjuntos de datos. El agrupamiento de K-means es rápido y fácilmente escalable y, por lo tanto, es el algoritmo de agrupamiento más común utilizado."
      ],
      "metadata": {
        "id": "XxXfeP4JFhZv"
      }
    },
    {
      "cell_type": "code",
      "source": [
        "# from sklearn.cluster import KMeans\n",
        "# model = KMeans(n_clusters=N, random_state=random_state)"
      ],
      "metadata": {
        "id": "hW6P0SaiFlkh"
      },
      "execution_count": null,
      "outputs": []
    },
    {
      "cell_type": "markdown",
      "source": [
        "El código anterior crea de modelo con un número N de clústeres. Tenga en cuenta que este comando no realiza ningún agrupamiento. Especificar un estado aleatorio garantiza que obtengamos los mismos resultados en ejecuciones repetidas, ya que el algoritmo k-means no es determinista. A continuación, el modelo se ajusta a los datos y se extraen las asignaciones de conglomerados resultantes:"
      ],
      "metadata": {
        "id": "-kUZtnQfFnCA"
      }
    },
    {
      "cell_type": "code",
      "source": [
        "# model.fit(data[cols]) #  lista que contiene las columnas del conjunto de datos\n",
        "# data['Cluster'] = model.predict(data[cols])"
      ],
      "metadata": {
        "id": "4YDGRn_OFoXN"
      },
      "execution_count": null,
      "outputs": []
    },
    {
      "cell_type": "markdown",
      "source": [
        "En los códigos anteriores, el método de ajuste del objeto KMeans crea la cantidad especificada de clústeres a partir del conjunto de datos. cols es una lista que contiene las columnas del conjunto de datos que se utilizará para la agrupación. Una vez ajustado el modelo, se utiliza el método de predicción para extraer las asignaciones de clusters para cada registro en el conjunto de datos. Las asignación del clúster se pueden agregar al conjunto de datos original como una nueva columna, como en el ejemplo anterior.\n",
        "\n",
        "Para los clientes del centro comercial, aplicamos un enfoque tradicional a la segmentación de clientes y creamos algunos segmentos simples y prácticos."
      ],
      "metadata": {
        "id": "h5o6q1BxFqF9"
      }
    },
    {
      "cell_type": "markdown",
      "source": [
        "# Ejercicio 3.05: Clustering de K-Means de Centros Comerciales\n",
        "En este ejercicio, utilizará ML para descubrir grupos naturales en los clientes del centro comercial. Se realizará la agrupación en clustering de K-Means en los datos de clientes del centro comercial que se estandarizaron en el ejercicio anterior. \n",
        "\n",
        "Solo utilizará las columnas income y spend_score. "
      ],
      "metadata": {
        "id": "Pkc90F1_Fr6X"
      }
    },
    {
      "cell_type": "markdown",
      "source": [
        "1. Cree una lista llamada cluster_cols que contenga las columnas income y spend_score, que se utilizarán para la agrupación. Imprima las primeras tres filas del conjunto de datos, limitándose a estas columnas para asegurarse de que está filtrando los datos correctamente:"
      ],
      "metadata": {
        "id": "PKAKGsz-Fx02"
      }
    },
    {
      "cell_type": "code",
      "source": [
        "cluster_cols = ['Income', 'Spend_score']\n",
        "data_scaled[cluster_cols].head(3)"
      ],
      "metadata": {
        "colab": {
          "base_uri": "https://localhost:8080/",
          "height": 143
        },
        "id": "Mq5Vk2reFzMH",
        "outputId": "329facce-8667-48c2-ce6f-70855b34a59d"
      },
      "execution_count": 43,
      "outputs": [
        {
          "output_type": "execute_result",
          "data": {
            "text/plain": [
              "     Income  Spend_score\n",
              "0 -1.738999    -0.434801\n",
              "1 -1.738999     1.195704\n",
              "2 -1.700830    -1.715913"
            ],
            "text/html": [
              "\n",
              "  <div id=\"df-aeef1662-0f90-43db-8549-3791b5ae4918\">\n",
              "    <div class=\"colab-df-container\">\n",
              "      <div>\n",
              "<style scoped>\n",
              "    .dataframe tbody tr th:only-of-type {\n",
              "        vertical-align: middle;\n",
              "    }\n",
              "\n",
              "    .dataframe tbody tr th {\n",
              "        vertical-align: top;\n",
              "    }\n",
              "\n",
              "    .dataframe thead th {\n",
              "        text-align: right;\n",
              "    }\n",
              "</style>\n",
              "<table border=\"1\" class=\"dataframe\">\n",
              "  <thead>\n",
              "    <tr style=\"text-align: right;\">\n",
              "      <th></th>\n",
              "      <th>Income</th>\n",
              "      <th>Spend_score</th>\n",
              "    </tr>\n",
              "  </thead>\n",
              "  <tbody>\n",
              "    <tr>\n",
              "      <th>0</th>\n",
              "      <td>-1.738999</td>\n",
              "      <td>-0.434801</td>\n",
              "    </tr>\n",
              "    <tr>\n",
              "      <th>1</th>\n",
              "      <td>-1.738999</td>\n",
              "      <td>1.195704</td>\n",
              "    </tr>\n",
              "    <tr>\n",
              "      <th>2</th>\n",
              "      <td>-1.700830</td>\n",
              "      <td>-1.715913</td>\n",
              "    </tr>\n",
              "  </tbody>\n",
              "</table>\n",
              "</div>\n",
              "      <button class=\"colab-df-convert\" onclick=\"convertToInteractive('df-aeef1662-0f90-43db-8549-3791b5ae4918')\"\n",
              "              title=\"Convert this dataframe to an interactive table.\"\n",
              "              style=\"display:none;\">\n",
              "        \n",
              "  <svg xmlns=\"http://www.w3.org/2000/svg\" height=\"24px\"viewBox=\"0 0 24 24\"\n",
              "       width=\"24px\">\n",
              "    <path d=\"M0 0h24v24H0V0z\" fill=\"none\"/>\n",
              "    <path d=\"M18.56 5.44l.94 2.06.94-2.06 2.06-.94-2.06-.94-.94-2.06-.94 2.06-2.06.94zm-11 1L8.5 8.5l.94-2.06 2.06-.94-2.06-.94L8.5 2.5l-.94 2.06-2.06.94zm10 10l.94 2.06.94-2.06 2.06-.94-2.06-.94-.94-2.06-.94 2.06-2.06.94z\"/><path d=\"M17.41 7.96l-1.37-1.37c-.4-.4-.92-.59-1.43-.59-.52 0-1.04.2-1.43.59L10.3 9.45l-7.72 7.72c-.78.78-.78 2.05 0 2.83L4 21.41c.39.39.9.59 1.41.59.51 0 1.02-.2 1.41-.59l7.78-7.78 2.81-2.81c.8-.78.8-2.07 0-2.86zM5.41 20L4 18.59l7.72-7.72 1.47 1.35L5.41 20z\"/>\n",
              "  </svg>\n",
              "      </button>\n",
              "      \n",
              "  <style>\n",
              "    .colab-df-container {\n",
              "      display:flex;\n",
              "      flex-wrap:wrap;\n",
              "      gap: 12px;\n",
              "    }\n",
              "\n",
              "    .colab-df-convert {\n",
              "      background-color: #E8F0FE;\n",
              "      border: none;\n",
              "      border-radius: 50%;\n",
              "      cursor: pointer;\n",
              "      display: none;\n",
              "      fill: #1967D2;\n",
              "      height: 32px;\n",
              "      padding: 0 0 0 0;\n",
              "      width: 32px;\n",
              "    }\n",
              "\n",
              "    .colab-df-convert:hover {\n",
              "      background-color: #E2EBFA;\n",
              "      box-shadow: 0px 1px 2px rgba(60, 64, 67, 0.3), 0px 1px 3px 1px rgba(60, 64, 67, 0.15);\n",
              "      fill: #174EA6;\n",
              "    }\n",
              "\n",
              "    [theme=dark] .colab-df-convert {\n",
              "      background-color: #3B4455;\n",
              "      fill: #D2E3FC;\n",
              "    }\n",
              "\n",
              "    [theme=dark] .colab-df-convert:hover {\n",
              "      background-color: #434B5C;\n",
              "      box-shadow: 0px 1px 3px 1px rgba(0, 0, 0, 0.15);\n",
              "      filter: drop-shadow(0px 1px 2px rgba(0, 0, 0, 0.3));\n",
              "      fill: #FFFFFF;\n",
              "    }\n",
              "  </style>\n",
              "\n",
              "      <script>\n",
              "        const buttonEl =\n",
              "          document.querySelector('#df-aeef1662-0f90-43db-8549-3791b5ae4918 button.colab-df-convert');\n",
              "        buttonEl.style.display =\n",
              "          google.colab.kernel.accessAllowed ? 'block' : 'none';\n",
              "\n",
              "        async function convertToInteractive(key) {\n",
              "          const element = document.querySelector('#df-aeef1662-0f90-43db-8549-3791b5ae4918');\n",
              "          const dataTable =\n",
              "            await google.colab.kernel.invokeFunction('convertToInteractive',\n",
              "                                                     [key], {});\n",
              "          if (!dataTable) return;\n",
              "\n",
              "          const docLinkHtml = 'Like what you see? Visit the ' +\n",
              "            '<a target=\"_blank\" href=https://colab.research.google.com/notebooks/data_table.ipynb>data table notebook</a>'\n",
              "            + ' to learn more about interactive tables.';\n",
              "          element.innerHTML = '';\n",
              "          dataTable['output_type'] = 'display_data';\n",
              "          await google.colab.output.renderOutput(dataTable, element);\n",
              "          const docLink = document.createElement('div');\n",
              "          docLink.innerHTML = docLinkHtml;\n",
              "          element.appendChild(docLink);\n",
              "        }\n",
              "      </script>\n",
              "    </div>\n",
              "  </div>\n",
              "  "
            ]
          },
          "metadata": {},
          "execution_count": 43
        }
      ]
    },
    {
      "cell_type": "markdown",
      "source": [
        "2. Visualice los datos utilizando un gráfico de dispersión con income y spend_score en los ejes $x$ e $y$ respectivamente con el siguiente código:"
      ],
      "metadata": {
        "id": "gDJicHfuF1Hm"
      }
    },
    {
      "cell_type": "code",
      "source": [
        "data_scaled.plot.scatter(x='Income', y='Spend_score', color='gray')\n",
        "plt.show()"
      ],
      "metadata": {
        "colab": {
          "base_uri": "https://localhost:8080/",
          "height": 505
        },
        "id": "HDD0cG0AF3Mc",
        "outputId": "c810acc4-b952-44ec-cb48-5c62208d01c4"
      },
      "execution_count": 44,
      "outputs": [
        {
          "output_type": "stream",
          "name": "stderr",
          "text": [
            "/usr/local/lib/python3.9/dist-packages/pandas/plotting/_matplotlib/core.py:1114: UserWarning: No data for colormapping provided via 'c'. Parameters 'cmap' will be ignored\n",
            "  scatter = ax.scatter(\n"
          ]
        },
        {
          "output_type": "display_data",
          "data": {
            "text/plain": [
              "<Figure size 640x480 with 1 Axes>"
            ],
            "image/png": "[encoded data removed]"
          },
          "metadata": {}
        }
      ]
    },
    {
      "cell_type": "markdown",
      "source": [
        "De la gráfica, hay 5 grupos naturales en los datos. Esto nos dice que necesitamos especificar 5 como el número de grupos para el algoritmo k-means."
      ],
      "metadata": {
        "id": "T7umWhTOF49h"
      }
    },
    {
      "cell_type": "markdown",
      "source": [
        "3. Importe KMeans desde sklearn.cluster. Cree una instancia del modelo KMeans especificando 5 clústeres (n_clusters) y 42 para random_state:"
      ],
      "metadata": {
        "id": "TQdjXifQF8MV"
      }
    },
    {
      "cell_type": "code",
      "source": [
        "# 42 es una elección arbitraria.\n",
        "from sklearn.cluster import KMeans\n",
        "model = KMeans(n_clusters=5, random_state=42)"
      ],
      "metadata": {
        "id": "2N__Ed-2F-NC"
      },
      "execution_count": 45,
      "outputs": []
    },
    {
      "cell_type": "markdown",
      "source": [
        "El código anterior crea un instancia del modelo. Nota: Aún no se ha realizado ningún agrupamiento en los datos. \n",
        "\n",
        "n_clusters -> especifica el número de clústeres para crear (5). \n",
        "\n",
        "Se ha especificado un estado aleatorio que asegura que obtengamos los mismos resultados en ejecuciones repetidas ya que el algoritmo k-means no es determinista. 42 es una elección arbitraria."
      ],
      "metadata": {
        "id": "rvEU-JQxF_rE"
      }
    },
    {
      "cell_type": "markdown",
      "source": [
        "4. Ajustar el modelo a los datos utilizando las columnas de cluster_cols. Utilizar el método de predicción del modelo de k-medias, asigne el clúster para cada cliente a la variable 'Cluster'."
      ],
      "metadata": {
        "id": "u4uykULeGA5Q"
      }
    },
    {
      "cell_type": "code",
      "source": [
        "model.fit(data_scaled[cluster_cols])\n",
        "data_scaled['Cluster'] = model.predict(data_scaled[cluster_cols])\n",
        "data_scaled.head(3)"
      ],
      "metadata": {
        "colab": {
          "base_uri": "https://localhost:8080/",
          "height": 199
        },
        "id": "m4BrHd_GGCF0",
        "outputId": "044a8d6a-f132-4904-a96e-22c2a9932e6b"
      },
      "execution_count": 46,
      "outputs": [
        {
          "output_type": "stream",
          "name": "stderr",
          "text": [
            "/usr/local/lib/python3.9/dist-packages/sklearn/cluster/_kmeans.py:870: FutureWarning: The default value of `n_init` will change from 10 to 'auto' in 1.4. Set the value of `n_init` explicitly to suppress the warning\n",
            "  warnings.warn(\n"
          ]
        },
        {
          "output_type": "execute_result",
          "data": {
            "text/plain": [
              "   CustomerID  Gender       Age  Annual Income (k$)  Spending Score (1-100)  \\\n",
              "0           1    Male -1.424569                  15                      39   \n",
              "1           2    Male -1.281035                  15                      81   \n",
              "2           3  Female -1.352802                  16                       6   \n",
              "\n",
              "     Income  Spend_score  Cluster  \n",
              "0 -1.738999    -0.434801        2  \n",
              "1 -1.738999     1.195704        3  \n",
              "2 -1.700830    -1.715913        2  "
            ],
            "text/html": [
              "\n",
              "  <div id=\"df-32104bef-4511-437e-8134-99ff955de8fe\">\n",
              "    <div class=\"colab-df-container\">\n",
              "      <div>\n",
              "<style scoped>\n",
              "    .dataframe tbody tr th:only-of-type {\n",
              "        vertical-align: middle;\n",
              "    }\n",
              "\n",
              "    .dataframe tbody tr th {\n",
              "        vertical-align: top;\n",
              "    }\n",
              "\n",
              "    .dataframe thead th {\n",
              "        text-align: right;\n",
              "    }\n",
              "</style>\n",
              "<table border=\"1\" class=\"dataframe\">\n",
              "  <thead>\n",
              "    <tr style=\"text-align: right;\">\n",
              "      <th></th>\n",
              "      <th>CustomerID</th>\n",
              "      <th>Gender</th>\n",
              "      <th>Age</th>\n",
              "      <th>Annual Income (k$)</th>\n",
              "      <th>Spending Score (1-100)</th>\n",
              "      <th>Income</th>\n",
              "      <th>Spend_score</th>\n",
              "      <th>Cluster</th>\n",
              "    </tr>\n",
              "  </thead>\n",
              "  <tbody>\n",
              "    <tr>\n",
              "      <th>0</th>\n",
              "      <td>1</td>\n",
              "      <td>Male</td>\n",
              "      <td>-1.424569</td>\n",
              "      <td>15</td>\n",
              "      <td>39</td>\n",
              "      <td>-1.738999</td>\n",
              "      <td>-0.434801</td>\n",
              "      <td>2</td>\n",
              "    </tr>\n",
              "    <tr>\n",
              "      <th>1</th>\n",
              "      <td>2</td>\n",
              "      <td>Male</td>\n",
              "      <td>-1.281035</td>\n",
              "      <td>15</td>\n",
              "      <td>81</td>\n",
              "      <td>-1.738999</td>\n",
              "      <td>1.195704</td>\n",
              "      <td>3</td>\n",
              "    </tr>\n",
              "    <tr>\n",
              "      <th>2</th>\n",
              "      <td>3</td>\n",
              "      <td>Female</td>\n",
              "      <td>-1.352802</td>\n",
              "      <td>16</td>\n",
              "      <td>6</td>\n",
              "      <td>-1.700830</td>\n",
              "      <td>-1.715913</td>\n",
              "      <td>2</td>\n",
              "    </tr>\n",
              "  </tbody>\n",
              "</table>\n",
              "</div>\n",
              "      <button class=\"colab-df-convert\" onclick=\"convertToInteractive('df-32104bef-4511-437e-8134-99ff955de8fe')\"\n",
              "              title=\"Convert this dataframe to an interactive table.\"\n",
              "              style=\"display:none;\">\n",
              "        \n",
              "  <svg xmlns=\"http://www.w3.org/2000/svg\" height=\"24px\"viewBox=\"0 0 24 24\"\n",
              "       width=\"24px\">\n",
              "    <path d=\"M0 0h24v24H0V0z\" fill=\"none\"/>\n",
              "    <path d=\"M18.56 5.44l.94 2.06.94-2.06 2.06-.94-2.06-.94-.94-2.06-.94 2.06-2.06.94zm-11 1L8.5 8.5l.94-2.06 2.06-.94-2.06-.94L8.5 2.5l-.94 2.06-2.06.94zm10 10l.94 2.06.94-2.06 2.06-.94-2.06-.94-.94-2.06-.94 2.06-2.06.94z\"/><path d=\"M17.41 7.96l-1.37-1.37c-.4-.4-.92-.59-1.43-.59-.52 0-1.04.2-1.43.59L10.3 9.45l-7.72 7.72c-.78.78-.78 2.05 0 2.83L4 21.41c.39.39.9.59 1.41.59.51 0 1.02-.2 1.41-.59l7.78-7.78 2.81-2.81c.8-.78.8-2.07 0-2.86zM5.41 20L4 18.59l7.72-7.72 1.47 1.35L5.41 20z\"/>\n",
              "  </svg>\n",
              "      </button>\n",
              "      \n",
              "  <style>\n",
              "    .colab-df-container {\n",
              "      display:flex;\n",
              "      flex-wrap:wrap;\n",
              "      gap: 12px;\n",
              "    }\n",
              "\n",
              "    .colab-df-convert {\n",
              "      background-color: #E8F0FE;\n",
              "      border: none;\n",
              "      border-radius: 50%;\n",
              "      cursor: pointer;\n",
              "      display: none;\n",
              "      fill: #1967D2;\n",
              "      height: 32px;\n",
              "      padding: 0 0 0 0;\n",
              "      width: 32px;\n",
              "    }\n",
              "\n",
              "    .colab-df-convert:hover {\n",
              "      background-color: #E2EBFA;\n",
              "      box-shadow: 0px 1px 2px rgba(60, 64, 67, 0.3), 0px 1px 3px 1px rgba(60, 64, 67, 0.15);\n",
              "      fill: #174EA6;\n",
              "    }\n",
              "\n",
              "    [theme=dark] .colab-df-convert {\n",
              "      background-color: #3B4455;\n",
              "      fill: #D2E3FC;\n",
              "    }\n",
              "\n",
              "    [theme=dark] .colab-df-convert:hover {\n",
              "      background-color: #434B5C;\n",
              "      box-shadow: 0px 1px 3px 1px rgba(0, 0, 0, 0.15);\n",
              "      filter: drop-shadow(0px 1px 2px rgba(0, 0, 0, 0.3));\n",
              "      fill: #FFFFFF;\n",
              "    }\n",
              "  </style>\n",
              "\n",
              "      <script>\n",
              "        const buttonEl =\n",
              "          document.querySelector('#df-32104bef-4511-437e-8134-99ff955de8fe button.colab-df-convert');\n",
              "        buttonEl.style.display =\n",
              "          google.colab.kernel.accessAllowed ? 'block' : 'none';\n",
              "\n",
              "        async function convertToInteractive(key) {\n",
              "          const element = document.querySelector('#df-32104bef-4511-437e-8134-99ff955de8fe');\n",
              "          const dataTable =\n",
              "            await google.colab.kernel.invokeFunction('convertToInteractive',\n",
              "                                                     [key], {});\n",
              "          if (!dataTable) return;\n",
              "\n",
              "          const docLinkHtml = 'Like what you see? Visit the ' +\n",
              "            '<a target=\"_blank\" href=https://colab.research.google.com/notebooks/data_table.ipynb>data table notebook</a>'\n",
              "            + ' to learn more about interactive tables.';\n",
              "          element.innerHTML = '';\n",
              "          dataTable['output_type'] = 'display_data';\n",
              "          await google.colab.output.renderOutput(dataTable, element);\n",
              "          const docLink = document.createElement('div');\n",
              "          docLink.innerHTML = docLinkHtml;\n",
              "          element.appendChild(docLink);\n",
              "        }\n",
              "      </script>\n",
              "    </div>\n",
              "  </div>\n",
              "  "
            ]
          },
          "metadata": {},
          "execution_count": 46
        }
      ]
    },
    {
      "cell_type": "markdown",
      "source": [
        "5. Para visualizar los puntos asignados a cada clúster,graficar cada grupo con un marcador usando el siguiente código. Se creará un subconjunto del conjunto de datos para cada grupo y utilizará un diccionario para especificar el marcador para el grupo:"
      ],
      "metadata": {
        "id": "9wouJiQgGE9-"
      }
    },
    {
      "cell_type": "code",
      "source": [
        "markers = ['x', '*', '.', '|', '_']\n",
        "for clust in range(5):\n",
        "    temp = data_scaled[data_scaled.Cluster == clust]\n",
        "    plt.scatter(x = temp.Income, y = temp.Spend_score, marker = markers[clust], \n",
        "                color = 'blue', \n",
        "                label=\"Cluster \" + str(clust))\n",
        "plt.xlabel('Income')\n",
        "plt.ylabel('Spend_score')\n",
        "plt.legend()\n",
        "plt.show()"
      ],
      "metadata": {
        "colab": {
          "base_uri": "https://localhost:8080/",
          "height": 449
        },
        "id": "Y9mo2ceGGGk3",
        "outputId": "c6025210-81fe-4c82-ef06-26d1576e38ec"
      },
      "execution_count": 51,
      "outputs": [
        {
          "output_type": "display_data",
          "data": {
            "text/plain": [
              "<Figure size 640x480 with 1 Axes>"
            ],
            "image/png": "[encoded data removed]"
          },
          "metadata": {}
        }
      ]
    },
    {
      "cell_type": "markdown",
      "source": [
        "Los clusterings, representados por las diferentes formas en el diagrama de dispersión, parecen estar alineados con los grupos naturales que identificamos visualmente en la Figura 3.18. El algoritmo k-means hizo un buen trabajo al identificar los grupos \"naturales\" en los datos."
      ],
      "metadata": {
        "id": "bWMcK6Q9GIvN"
      }
    },
    {
      "cell_type": "markdown",
      "source": [
        "En este ejercicio, ha realizado con éxito la agrupación en clusters de k-means utilizando el paquete scikit-learn. Pero el ejercicio de segmentación aún no ha terminado. Aún necesitará comprender estos clústeres y describirlos de una manera que la empresa los entienda."
      ],
      "metadata": {
        "id": "65gLma6DGKcX"
      }
    },
    {
      "cell_type": "markdown",
      "source": [
        "# 3.3.1 Comprendiendo y describiendo los clústeres\n",
        "\n",
        "Los analistas de marketing deben tener una comprensión clara de estos grupos para que puedan explicárselos a las distintas partes interesadas en el negocio. Como se mencionó anteriormente, las partes interesadas del negocio juegan un papel fundamental en el ejercicio de segmentación al revisar los **segmentos desde una perspectiva comercial**. Para comprender los clústeres, un enfoque sencillo consiste en estudiar las diversas **características de los clientes de cada clúster**. Para este propósito, no necesitamos restringirnos a las características que se incluyeron en el agrupamiento. De hecho, complementar el análisis con otras características relevantes nos ayuda a comprender mejor los segmentos de clientes y su comportamiento. La comprensión debe transmitirse al negocio. Además, dado que la empresa se referirá a los clústeres una y otra vez, debemos asegurarnos de etiquetar y describir mejor estos segmentos."
      ],
      "metadata": {
        "id": "ewpTSl0CGMlo"
      }
    },
    {
      "cell_type": "markdown",
      "source": [
        "Entendamos los clusters obtenidos en el Ejercicio 3.05, Clustering de K-Means en Clientes de Centros Comerciales. \n",
        "\n",
        "Para comprender mejor las características de los clusters, analizaremos las características en la escala original y no las características estandarizadas. Para hacerlo, primero agreguemos la información del clúster al conjunto de datos data0 que preparamos en el Ejercicio 3.01. Recordemos que este es el conjunto de datos sin la estandarización aplicada e Income y Spend_Score están disponibles en sus escalas originales. \n",
        "Luego, veamos cómo varían los valores de Income y Spend_score entre los clústeres. Agruparemos el conjunto de datos por cluster y calcularemos y graficaremos el valor medio de estas variables."
      ],
      "metadata": {
        "id": "oB_v4jM2GRD7"
      }
    },
    {
      "cell_type": "code",
      "source": [
        "data0['Cluster'] = data_scaled.Cluster\n",
        "data0.groupby('Cluster')[['Income', 'Spend_score']].mean().plot.bar(color=['gray','black']) \n",
        "plt.show()"
      ],
      "metadata": {
        "colab": {
          "base_uri": "https://localhost:8080/",
          "height": 444
        },
        "id": "cRBBkB87GS7O",
        "outputId": "722eafa9-2669-42c7-8bf6-87f808bbef63"
      },
      "execution_count": 54,
      "outputs": [
        {
          "output_type": "display_data",
          "data": {
            "text/plain": [
              "<Figure size 640x480 with 1 Axes>"
            ],
            "image/png": "[encoded data removed]"
          },
          "metadata": {}
        }
      ]
    },
    {
      "cell_type": "markdown",
      "source": [
        "La información aquí es en cierto modo un resumen de la gráfica en la Figura 3.20. Cada grupo se puede describir de la siguiente manera:\n",
        "- Grupo 0: gastadores altos de bajos ingresos\n",
        "- Grupo 1: gastadores moderados de ingresos moderados\n",
        "- Grupo 2: gastadores de ingresos altos y bajos\n",
        "- Grupo 3: gastadores de bajos ingresos\n",
        "- Grupo 4: gastadores de altos ingresos"
      ],
      "metadata": {
        "id": "Nb--2ERJaHvr"
      }
    },
    {
      "cell_type": "markdown",
      "source": [
        "Además, puede asignar nombres creativos a estos grupos que capturen la esencia de su comportamiento. Ayuda a registrar y transmitir mejor la comprensión y es más fácil trabajar con él. "
      ],
      "metadata": {
        "id": "y00ZeHPKGYtZ"
      }
    },
    {
      "cell_type": "markdown",
      "source": [
        "Este paso es clave y completa el ejercicio de segmentación. \n",
        "\n",
        "Esta comprensión se presenta a los consumidores comerciales, quienes, a menudo tienen algunos comentarios que puede incorporar, lo que lleva a segmentos más refinados."
      ],
      "metadata": {
        "id": "rFgFAw-VGbT2"
      }
    },
    {
      "cell_type": "markdown",
      "source": [
        "# Actividad 3.01: Segmentación de Clientes Bancarios para Campaña de Crédito\n",
        "Los bancos a menudo tienen campañas de marketing para sus productos individuales. \n",
        "Therabank es un banco establecido que ofrece préstamos personales como producto. \n",
        "- La mayoría de los clientes de Therabank tienen depósitos, lo que es un pasivo para el banco y no es rentable. \n",
        "- Los préstamos si son rentables para el banco. \n",
        "\n",
        "Por lo tanto, conseguir que más clientes opten por un préstamo personal hace que la ecuación sea más rentable. \n",
        "**La tarea en cuestión es crear segmentos de clientes para maximizar la efectividad de su campaña de préstamos personales.**\n",
        "El banco tiene datos de los clientes, incluidos datos demográficos, cierta información financiera y cómo respondieron estos clientes a una campaña anterior (Figura 3.21). \n"
      ],
      "metadata": {
        "id": "56ZtWGCDGeQt"
      }
    },
    {
      "cell_type": "markdown",
      "source": [
        "- Experiencia: La experiencia laboral del cliente en años\n",
        "- Ingresos: Los ingresos anuales estimados del cliente (miles de\n",
        "Dólares estadounidenses)\n",
        "- CCAvg: El gasto promedio en tarjetas de crédito por mes (miles de dólares estadounidenses)\n",
        "- Hipoteca: El valor de la hipoteca de la casa del cliente (si la hubiere)\n",
        "- Edad: La edad (en años) del cliente"
      ],
      "metadata": {
        "id": "nHr_okIMGjiV"
      }
    },
    {
      "cell_type": "markdown",
      "source": [
        "El objetivo: crear segmentos de clientes para la campaña de marketing. \n",
        "También identificar cuál de estos segmentos tiene la mayor **propensión a responder a la campaña**, información que ayudará en gran medida a optimizar futuras campañas."
      ],
      "metadata": {
        "id": "D1MH2yfCGq7q"
      }
    },
    {
      "cell_type": "markdown",
      "source": [
        "Hay que en cuenta que anque la respuesta de la campaña anterior está disponible, si se usa como un criterio para esta segmentación, no se podrá segmentar a otros clientes para los que nunca se ejecutó la campaña anterior, lo que limita severamente la cantidad de clientes a los que puede dirigirse. \n",
        "\n",
        "Por lo tanto, excluirá la característica (respuesta de campaña anterior) para la agrupación, pero puede usarla para evaluar cómo responderían sus grupos en general a la campaña."
      ],
      "metadata": {
        "id": "Pf7nn4u-Gs8n"
      }
    },
    {
      "cell_type": "markdown",
      "source": [
        "1. Importamos las bibliotecas necesarias para el procesamiento, visualización y agrupación de datos."
      ],
      "metadata": {
        "id": "RrIaMqSzezlv"
      }
    },
    {
      "cell_type": "code",
      "source": [
        "import numpy as np, pandas as pd\n",
        "import matplotlib.pyplot as plt, seaborn as sns\n",
        "from sklearn.preprocessing import StandardScaler\n",
        "from sklearn.cluster import KMeans"
      ],
      "metadata": {
        "id": "lNrEpSUFfDAy"
      },
      "execution_count": 55,
      "outputs": []
    },
    {
      "cell_type": "markdown",
      "source": [
        "2. Cargue los datos en un DataFrame e imprimimos las cinco filas superiores. Usando el método info() revise las columnas y sus tipos."
      ],
      "metadata": {
        "id": "9t4EzTU7e4-7"
      }
    },
    {
      "cell_type": "code",
      "source": [
        "!curl https://raw.githubusercontent.com/limspiga/customer-analytics/main/week-2a/datasets/Bank_Personal_Loan_Modelling-1.csv -O\n",
        "bank0 = pd.read_csv(\"Bank_Personal_Loan_Modelling-1.csv\") \n",
        "bank0.head()"
      ],
      "metadata": {
        "colab": {
          "base_uri": "https://localhost:8080/",
          "height": 341
        },
        "id": "549Lym01fDjs",
        "outputId": "e6a586f8-b52b-4f75-af7c-cdf58c4d7438"
      },
      "execution_count": 56,
      "outputs": [
        {
          "output_type": "stream",
          "name": "stdout",
          "text": [
            "  % Total    % Received % Xferd  Average Speed   Time    Time     Time  Current\n",
            "                                 Dload  Upload   Total   Spent    Left  Speed\n",
            "100  202k  100  202k    0     0   635k      0 --:--:-- --:--:-- --:--:--  633k\n"
          ]
        },
        {
          "output_type": "execute_result",
          "data": {
            "text/plain": [
              "   ID  Age  Experience  Income  ZIP Code  Family  CCAvg  Education  Mortgage  \\\n",
              "0   1   25           1      49     91107       4    1.6          1         0   \n",
              "1   2   45          19      34     90089       3    1.5          1         0   \n",
              "2   3   39          15      11     94720       1    1.0          1         0   \n",
              "3   4   35           9     100     94112       1    2.7          2         0   \n",
              "4   5   35           8      45     91330       4    1.0          2         0   \n",
              "\n",
              "   Personal Loan  Securities Account  CD Account  Online  CreditCard  \n",
              "0              0                   1           0       0           0  \n",
              "1              0                   1           0       0           0  \n",
              "2              0                   0           0       0           0  \n",
              "3              0                   0           0       0           0  \n",
              "4              0                   0           0       0           1  "
            ],
            "text/html": [
              "\n",
              "  <div id=\"df-180a2fc9-405c-499e-a009-7c6ade0a3a5c\">\n",
              "    <div class=\"colab-df-container\">\n",
              "      <div>\n",
              "<style scoped>\n",
              "    .dataframe tbody tr th:only-of-type {\n",
              "        vertical-align: middle;\n",
              "    }\n",
              "\n",
              "    .dataframe tbody tr th {\n",
              "        vertical-align: top;\n",
              "    }\n",
              "\n",
              "    .dataframe thead th {\n",
              "        text-align: right;\n",
              "    }\n",
              "</style>\n",
              "<table border=\"1\" class=\"dataframe\">\n",
              "  <thead>\n",
              "    <tr style=\"text-align: right;\">\n",
              "      <th></th>\n",
              "      <th>ID</th>\n",
              "      <th>Age</th>\n",
              "      <th>Experience</th>\n",
              "      <th>Income</th>\n",
              "      <th>ZIP Code</th>\n",
              "      <th>Family</th>\n",
              "      <th>CCAvg</th>\n",
              "      <th>Education</th>\n",
              "      <th>Mortgage</th>\n",
              "      <th>Personal Loan</th>\n",
              "      <th>Securities Account</th>\n",
              "      <th>CD Account</th>\n",
              "      <th>Online</th>\n",
              "      <th>CreditCard</th>\n",
              "    </tr>\n",
              "  </thead>\n",
              "  <tbody>\n",
              "    <tr>\n",
              "      <th>0</th>\n",
              "      <td>1</td>\n",
              "      <td>25</td>\n",
              "      <td>1</td>\n",
              "      <td>49</td>\n",
              "      <td>91107</td>\n",
              "      <td>4</td>\n",
              "      <td>1.6</td>\n",
              "      <td>1</td>\n",
              "      <td>0</td>\n",
              "      <td>0</td>\n",
              "      <td>1</td>\n",
              "      <td>0</td>\n",
              "      <td>0</td>\n",
              "      <td>0</td>\n",
              "    </tr>\n",
              "    <tr>\n",
              "      <th>1</th>\n",
              "      <td>2</td>\n",
              "      <td>45</td>\n",
              "      <td>19</td>\n",
              "      <td>34</td>\n",
              "      <td>90089</td>\n",
              "      <td>3</td>\n",
              "      <td>1.5</td>\n",
              "      <td>1</td>\n",
              "      <td>0</td>\n",
              "      <td>0</td>\n",
              "      <td>1</td>\n",
              "      <td>0</td>\n",
              "      <td>0</td>\n",
              "      <td>0</td>\n",
              "    </tr>\n",
              "    <tr>\n",
              "      <th>2</th>\n",
              "      <td>3</td>\n",
              "      <td>39</td>\n",
              "      <td>15</td>\n",
              "      <td>11</td>\n",
              "      <td>94720</td>\n",
              "      <td>1</td>\n",
              "      <td>1.0</td>\n",
              "      <td>1</td>\n",
              "      <td>0</td>\n",
              "      <td>0</td>\n",
              "      <td>0</td>\n",
              "      <td>0</td>\n",
              "      <td>0</td>\n",
              "      <td>0</td>\n",
              "    </tr>\n",
              "    <tr>\n",
              "      <th>3</th>\n",
              "      <td>4</td>\n",
              "      <td>35</td>\n",
              "      <td>9</td>\n",
              "      <td>100</td>\n",
              "      <td>94112</td>\n",
              "      <td>1</td>\n",
              "      <td>2.7</td>\n",
              "      <td>2</td>\n",
              "      <td>0</td>\n",
              "      <td>0</td>\n",
              "      <td>0</td>\n",
              "      <td>0</td>\n",
              "      <td>0</td>\n",
              "      <td>0</td>\n",
              "    </tr>\n",
              "    <tr>\n",
              "      <th>4</th>\n",
              "      <td>5</td>\n",
              "      <td>35</td>\n",
              "      <td>8</td>\n",
              "      <td>45</td>\n",
              "      <td>91330</td>\n",
              "      <td>4</td>\n",
              "      <td>1.0</td>\n",
              "      <td>2</td>\n",
              "      <td>0</td>\n",
              "      <td>0</td>\n",
              "      <td>0</td>\n",
              "      <td>0</td>\n",
              "      <td>0</td>\n",
              "      <td>1</td>\n",
              "    </tr>\n",
              "  </tbody>\n",
              "</table>\n",
              "</div>\n",
              "      <button class=\"colab-df-convert\" onclick=\"convertToInteractive('df-180a2fc9-405c-499e-a009-7c6ade0a3a5c')\"\n",
              "              title=\"Convert this dataframe to an interactive table.\"\n",
              "              style=\"display:none;\">\n",
              "        \n",
              "  <svg xmlns=\"http://www.w3.org/2000/svg\" height=\"24px\"viewBox=\"0 0 24 24\"\n",
              "       width=\"24px\">\n",
              "    <path d=\"M0 0h24v24H0V0z\" fill=\"none\"/>\n",
              "    <path d=\"M18.56 5.44l.94 2.06.94-2.06 2.06-.94-2.06-.94-.94-2.06-.94 2.06-2.06.94zm-11 1L8.5 8.5l.94-2.06 2.06-.94-2.06-.94L8.5 2.5l-.94 2.06-2.06.94zm10 10l.94 2.06.94-2.06 2.06-.94-2.06-.94-.94-2.06-.94 2.06-2.06.94z\"/><path d=\"M17.41 7.96l-1.37-1.37c-.4-.4-.92-.59-1.43-.59-.52 0-1.04.2-1.43.59L10.3 9.45l-7.72 7.72c-.78.78-.78 2.05 0 2.83L4 21.41c.39.39.9.59 1.41.59.51 0 1.02-.2 1.41-.59l7.78-7.78 2.81-2.81c.8-.78.8-2.07 0-2.86zM5.41 20L4 18.59l7.72-7.72 1.47 1.35L5.41 20z\"/>\n",
              "  </svg>\n",
              "      </button>\n",
              "      \n",
              "  <style>\n",
              "    .colab-df-container {\n",
              "      display:flex;\n",
              "      flex-wrap:wrap;\n",
              "      gap: 12px;\n",
              "    }\n",
              "\n",
              "    .colab-df-convert {\n",
              "      background-color: #E8F0FE;\n",
              "      border: none;\n",
              "      border-radius: 50%;\n",
              "      cursor: pointer;\n",
              "      display: none;\n",
              "      fill: #1967D2;\n",
              "      height: 32px;\n",
              "      padding: 0 0 0 0;\n",
              "      width: 32px;\n",
              "    }\n",
              "\n",
              "    .colab-df-convert:hover {\n",
              "      background-color: #E2EBFA;\n",
              "      box-shadow: 0px 1px 2px rgba(60, 64, 67, 0.3), 0px 1px 3px 1px rgba(60, 64, 67, 0.15);\n",
              "      fill: #174EA6;\n",
              "    }\n",
              "\n",
              "    [theme=dark] .colab-df-convert {\n",
              "      background-color: #3B4455;\n",
              "      fill: #D2E3FC;\n",
              "    }\n",
              "\n",
              "    [theme=dark] .colab-df-convert:hover {\n",
              "      background-color: #434B5C;\n",
              "      box-shadow: 0px 1px 3px 1px rgba(0, 0, 0, 0.15);\n",
              "      filter: drop-shadow(0px 1px 2px rgba(0, 0, 0, 0.3));\n",
              "      fill: #FFFFFF;\n",
              "    }\n",
              "  </style>\n",
              "\n",
              "      <script>\n",
              "        const buttonEl =\n",
              "          document.querySelector('#df-180a2fc9-405c-499e-a009-7c6ade0a3a5c button.colab-df-convert');\n",
              "        buttonEl.style.display =\n",
              "          google.colab.kernel.accessAllowed ? 'block' : 'none';\n",
              "\n",
              "        async function convertToInteractive(key) {\n",
              "          const element = document.querySelector('#df-180a2fc9-405c-499e-a009-7c6ade0a3a5c');\n",
              "          const dataTable =\n",
              "            await google.colab.kernel.invokeFunction('convertToInteractive',\n",
              "                                                     [key], {});\n",
              "          if (!dataTable) return;\n",
              "\n",
              "          const docLinkHtml = 'Like what you see? Visit the ' +\n",
              "            '<a target=\"_blank\" href=https://colab.research.google.com/notebooks/data_table.ipynb>data table notebook</a>'\n",
              "            + ' to learn more about interactive tables.';\n",
              "          element.innerHTML = '';\n",
              "          dataTable['output_type'] = 'display_data';\n",
              "          await google.colab.output.renderOutput(dataTable, element);\n",
              "          const docLink = document.createElement('div');\n",
              "          docLink.innerHTML = docLinkHtml;\n",
              "          element.appendChild(docLink);\n",
              "        }\n",
              "      </script>\n",
              "    </div>\n",
              "  </div>\n",
              "  "
            ]
          },
          "metadata": {},
          "execution_count": 56
        }
      ]
    },
    {
      "cell_type": "markdown",
      "source": [
        "3. Crear las escalas estándar (standard scaling) en las columnas `Income` y `CCAvg` para crear nuevas columnas `Income_scaled` y `CCAvg_scaled`. Usar estas dos variables para la segmentación de clientes. "
      ],
      "metadata": {
        "id": "qrdmy4XZe5JE"
      }
    },
    {
      "cell_type": "code",
      "source": [
        " bank0.info()"
      ],
      "metadata": {
        "colab": {
          "base_uri": "https://localhost:8080/"
        },
        "id": "Ya_X_juPfEH5",
        "outputId": "029e49e0-8d0d-483b-ef09-e00a4ff439a1"
      },
      "execution_count": null,
      "outputs": [
        {
          "output_type": "stream",
          "name": "stdout",
          "text": [
            "<class 'pandas.core.frame.DataFrame'>\n",
            "RangeIndex: 5000 entries, 0 to 4999\n",
            "Data columns (total 14 columns):\n",
            " #   Column              Non-Null Count  Dtype  \n",
            "---  ------              --------------  -----  \n",
            " 0   ID                  5000 non-null   int64  \n",
            " 1   Age                 5000 non-null   int64  \n",
            " 2   Experience          5000 non-null   int64  \n",
            " 3   Income              5000 non-null   int64  \n",
            " 4   ZIP Code            5000 non-null   int64  \n",
            " 5   Family              5000 non-null   int64  \n",
            " 6   CCAvg               5000 non-null   float64\n",
            " 7   Education           5000 non-null   int64  \n",
            " 8   Mortgage            5000 non-null   int64  \n",
            " 9   Personal Loan       5000 non-null   int64  \n",
            " 10  Securities Account  5000 non-null   int64  \n",
            " 11  CD Account          5000 non-null   int64  \n",
            " 12  Online              5000 non-null   int64  \n",
            " 13  CreditCard          5000 non-null   int64  \n",
            "dtypes: float64(1), int64(13)\n",
            "memory usage: 547.0 KB\n"
          ]
        }
      ]
    },
    {
      "cell_type": "code",
      "source": [
        "# fix\n",
        "scaler = StandardScaler() # crea objeto \n",
        "bank0[['Income_scaled', 'CCAvg_scaled']] = scaler.fit_transform( bank0[['Income','CCAvg']])\n",
        "\n",
        "# resultado con un describe\n",
        "bank0[['Income_scaled', 'CCAvg_scaled']].describe().round()"
      ],
      "metadata": {
        "colab": {
          "base_uri": "https://localhost:8080/",
          "height": 300
        },
        "id": "zPNyHdRvm6pY",
        "outputId": "0be27043-9154-42f0-8ef8-cce269cf6df1"
      },
      "execution_count": 66,
      "outputs": [
        {
          "output_type": "execute_result",
          "data": {
            "text/plain": [
              "       Income_scaled  CCAvg_scaled\n",
              "count         5000.0        5000.0\n",
              "mean             0.0          -0.0\n",
              "std              1.0           1.0\n",
              "min             -1.0          -1.0\n",
              "25%             -1.0          -1.0\n",
              "50%             -0.0          -0.0\n",
              "75%              1.0           0.0\n",
              "max              3.0           5.0"
            ],
            "text/html": [
              "\n",
              "  <div id=\"df-e60e7953-290a-4c96-9d86-192c97279bd5\">\n",
              "    <div class=\"colab-df-container\">\n",
              "      <div>\n",
              "<style scoped>\n",
              "    .dataframe tbody tr th:only-of-type {\n",
              "        vertical-align: middle;\n",
              "    }\n",
              "\n",
              "    .dataframe tbody tr th {\n",
              "        vertical-align: top;\n",
              "    }\n",
              "\n",
              "    .dataframe thead th {\n",
              "        text-align: right;\n",
              "    }\n",
              "</style>\n",
              "<table border=\"1\" class=\"dataframe\">\n",
              "  <thead>\n",
              "    <tr style=\"text-align: right;\">\n",
              "      <th></th>\n",
              "      <th>Income_scaled</th>\n",
              "      <th>CCAvg_scaled</th>\n",
              "    </tr>\n",
              "  </thead>\n",
              "  <tbody>\n",
              "    <tr>\n",
              "      <th>count</th>\n",
              "      <td>5000.0</td>\n",
              "      <td>5000.0</td>\n",
              "    </tr>\n",
              "    <tr>\n",
              "      <th>mean</th>\n",
              "      <td>0.0</td>\n",
              "      <td>-0.0</td>\n",
              "    </tr>\n",
              "    <tr>\n",
              "      <th>std</th>\n",
              "      <td>1.0</td>\n",
              "      <td>1.0</td>\n",
              "    </tr>\n",
              "    <tr>\n",
              "      <th>min</th>\n",
              "      <td>-1.0</td>\n",
              "      <td>-1.0</td>\n",
              "    </tr>\n",
              "    <tr>\n",
              "      <th>25%</th>\n",
              "      <td>-1.0</td>\n",
              "      <td>-1.0</td>\n",
              "    </tr>\n",
              "    <tr>\n",
              "      <th>50%</th>\n",
              "      <td>-0.0</td>\n",
              "      <td>-0.0</td>\n",
              "    </tr>\n",
              "    <tr>\n",
              "      <th>75%</th>\n",
              "      <td>1.0</td>\n",
              "      <td>0.0</td>\n",
              "    </tr>\n",
              "    <tr>\n",
              "      <th>max</th>\n",
              "      <td>3.0</td>\n",
              "      <td>5.0</td>\n",
              "    </tr>\n",
              "  </tbody>\n",
              "</table>\n",
              "</div>\n",
              "      <button class=\"colab-df-convert\" onclick=\"convertToInteractive('df-e60e7953-290a-4c96-9d86-192c97279bd5')\"\n",
              "              title=\"Convert this dataframe to an interactive table.\"\n",
              "              style=\"display:none;\">\n",
              "        \n",
              "  <svg xmlns=\"http://www.w3.org/2000/svg\" height=\"24px\"viewBox=\"0 0 24 24\"\n",
              "       width=\"24px\">\n",
              "    <path d=\"M0 0h24v24H0V0z\" fill=\"none\"/>\n",
              "    <path d=\"M18.56 5.44l.94 2.06.94-2.06 2.06-.94-2.06-.94-.94-2.06-.94 2.06-2.06.94zm-11 1L8.5 8.5l.94-2.06 2.06-.94-2.06-.94L8.5 2.5l-.94 2.06-2.06.94zm10 10l.94 2.06.94-2.06 2.06-.94-2.06-.94-.94-2.06-.94 2.06-2.06.94z\"/><path d=\"M17.41 7.96l-1.37-1.37c-.4-.4-.92-.59-1.43-.59-.52 0-1.04.2-1.43.59L10.3 9.45l-7.72 7.72c-.78.78-.78 2.05 0 2.83L4 21.41c.39.39.9.59 1.41.59.51 0 1.02-.2 1.41-.59l7.78-7.78 2.81-2.81c.8-.78.8-2.07 0-2.86zM5.41 20L4 18.59l7.72-7.72 1.47 1.35L5.41 20z\"/>\n",
              "  </svg>\n",
              "      </button>\n",
              "      \n",
              "  <style>\n",
              "    .colab-df-container {\n",
              "      display:flex;\n",
              "      flex-wrap:wrap;\n",
              "      gap: 12px;\n",
              "    }\n",
              "\n",
              "    .colab-df-convert {\n",
              "      background-color: #E8F0FE;\n",
              "      border: none;\n",
              "      border-radius: 50%;\n",
              "      cursor: pointer;\n",
              "      display: none;\n",
              "      fill: #1967D2;\n",
              "      height: 32px;\n",
              "      padding: 0 0 0 0;\n",
              "      width: 32px;\n",
              "    }\n",
              "\n",
              "    .colab-df-convert:hover {\n",
              "      background-color: #E2EBFA;\n",
              "      box-shadow: 0px 1px 2px rgba(60, 64, 67, 0.3), 0px 1px 3px 1px rgba(60, 64, 67, 0.15);\n",
              "      fill: #174EA6;\n",
              "    }\n",
              "\n",
              "    [theme=dark] .colab-df-convert {\n",
              "      background-color: #3B4455;\n",
              "      fill: #D2E3FC;\n",
              "    }\n",
              "\n",
              "    [theme=dark] .colab-df-convert:hover {\n",
              "      background-color: #434B5C;\n",
              "      box-shadow: 0px 1px 3px 1px rgba(0, 0, 0, 0.15);\n",
              "      filter: drop-shadow(0px 1px 2px rgba(0, 0, 0, 0.3));\n",
              "      fill: #FFFFFF;\n",
              "    }\n",
              "  </style>\n",
              "\n",
              "      <script>\n",
              "        const buttonEl =\n",
              "          document.querySelector('#df-e60e7953-290a-4c96-9d86-192c97279bd5 button.colab-df-convert');\n",
              "        buttonEl.style.display =\n",
              "          google.colab.kernel.accessAllowed ? 'block' : 'none';\n",
              "\n",
              "        async function convertToInteractive(key) {\n",
              "          const element = document.querySelector('#df-e60e7953-290a-4c96-9d86-192c97279bd5');\n",
              "          const dataTable =\n",
              "            await google.colab.kernel.invokeFunction('convertToInteractive',\n",
              "                                                     [key], {});\n",
              "          if (!dataTable) return;\n",
              "\n",
              "          const docLinkHtml = 'Like what you see? Visit the ' +\n",
              "            '<a target=\"_blank\" href=https://colab.research.google.com/notebooks/data_table.ipynb>data table notebook</a>'\n",
              "            + ' to learn more about interactive tables.';\n",
              "          element.innerHTML = '';\n",
              "          dataTable['output_type'] = 'display_data';\n",
              "          await google.colab.output.renderOutput(dataTable, element);\n",
              "          const docLink = document.createElement('div');\n",
              "          docLink.innerHTML = docLinkHtml;\n",
              "          element.appendChild(docLink);\n",
              "        }\n",
              "      </script>\n",
              "    </div>\n",
              "  </div>\n",
              "  "
            ]
          },
          "metadata": {},
          "execution_count": 66
        }
      ]
    },
    {
      "cell_type": "markdown",
      "source": [
        "\n",
        "4. Agrupar en clústeres de k-means, especificando 3 clústeres utilizando `Income` y `CCAvg` como características. Especifique `random_state = 42` (una elección arbitraria) para garantizar la coherencia de los resultados. Cree una nueva columna, `Cluster`, que contenga el clúster pronosticado del modelo."
      ],
      "metadata": {
        "id": "tsdeP22ee5Ss"
      }
    },
    {
      "cell_type": "code",
      "source": [
        "model = KMeans(n_clusters=3, random_state=42)\n",
        "cluster_cols = ['Income_scaled', 'CCAvg_scaled']\n",
        "model.fit(bank0[cluster_cols])\n",
        "bank0['Cluster'] = model.predict(bank0[cluster_cols])"
      ],
      "metadata": {
        "colab": {
          "base_uri": "https://localhost:8080/"
        },
        "id": "_ipKtfwcfEll",
        "outputId": "86eba9fe-fca6-4c89-a94c-9ed38d7e139d"
      },
      "execution_count": 67,
      "outputs": [
        {
          "output_type": "stream",
          "name": "stderr",
          "text": [
            "/usr/local/lib/python3.9/dist-packages/sklearn/cluster/_kmeans.py:870: FutureWarning: The default value of `n_init` will change from 10 to 'auto' in 1.4. Set the value of `n_init` explicitly to suppress the warning\n",
            "  warnings.warn(\n"
          ]
        }
      ]
    },
    {
      "cell_type": "markdown",
      "source": [
        "5. Visualizar los grupos utilizando diferentes marcadores para los grupos en un diagrama de dispersión entre `Income` y `CCAvg`. La salida debe ser la siguiente:"
      ],
      "metadata": {
        "id": "NfxHWv-Ze5qZ"
      }
    },
    {
      "cell_type": "code",
      "source": [
        "markers = ['x', '.', '_']\n",
        "plt.figure(figsize=[8,5])\n",
        "for clust in range(3):\n",
        "    temp = bank0[bank0.Cluster == clust]\n",
        "    plt.scatter(temp.Income, temp.CCAvg, \n",
        "                marker=markers[clust], \n",
        "                color='gray', \n",
        "                label=\"Cluster \"+str(clust) )\n",
        "plt.xlabel('Income')\n",
        "plt.ylabel('CCAvg')\n",
        "plt.legend()\n",
        "plt.show()"
      ],
      "metadata": {
        "colab": {
          "base_uri": "https://localhost:8080/",
          "height": 465
        },
        "id": "_QB8XyTffFLa",
        "outputId": "f04cdd09-b51d-49db-ee41-8ef753af26b5"
      },
      "execution_count": 79,
      "outputs": [
        {
          "output_type": "display_data",
          "data": {
            "text/plain": [
              "<Figure size 800x500 with 1 Axes>"
            ],
            "image/png": "[encoded data removed]"
          },
          "metadata": {}
        }
      ]
    },
    {
      "cell_type": "markdown",
      "source": [
        "6. Para comprender los grupos, imprima los valores promedio de Ingreso y CCAvg para los tres grupos."
      ],
      "metadata": {
        "id": "kRCZwakEfup6"
      }
    },
    {
      "cell_type": "code",
      "source": [
        "bank0.groupby('Cluster')[['Income', 'CCAvg']].mean().round(2) # centroides\n",
        "# Puede ver que tanto los Incomes como CCAvg varían significativamente según los grupos."
      ],
      "metadata": {
        "colab": {
          "base_uri": "https://localhost:8080/",
          "height": 175
        },
        "id": "r1agfuohf5nQ",
        "outputId": "692a392f-b949-4071-e9df-11599d2e70ad"
      },
      "execution_count": 80,
      "outputs": [
        {
          "output_type": "execute_result",
          "data": {
            "text/plain": [
              "         Income  CCAvg\n",
              "Cluster               \n",
              "0        150.39   5.54\n",
              "1         39.14   0.98\n",
              "2         96.14   2.03"
            ],
            "text/html": [
              "\n",
              "  <div id=\"df-1da9f2a2-44e9-4b9f-845e-9549b0f01ea7\">\n",
              "    <div class=\"colab-df-container\">\n",
              "      <div>\n",
              "<style scoped>\n",
              "    .dataframe tbody tr th:only-of-type {\n",
              "        vertical-align: middle;\n",
              "    }\n",
              "\n",
              "    .dataframe tbody tr th {\n",
              "        vertical-align: top;\n",
              "    }\n",
              "\n",
              "    .dataframe thead th {\n",
              "        text-align: right;\n",
              "    }\n",
              "</style>\n",
              "<table border=\"1\" class=\"dataframe\">\n",
              "  <thead>\n",
              "    <tr style=\"text-align: right;\">\n",
              "      <th></th>\n",
              "      <th>Income</th>\n",
              "      <th>CCAvg</th>\n",
              "    </tr>\n",
              "    <tr>\n",
              "      <th>Cluster</th>\n",
              "      <th></th>\n",
              "      <th></th>\n",
              "    </tr>\n",
              "  </thead>\n",
              "  <tbody>\n",
              "    <tr>\n",
              "      <th>0</th>\n",
              "      <td>150.39</td>\n",
              "      <td>5.54</td>\n",
              "    </tr>\n",
              "    <tr>\n",
              "      <th>1</th>\n",
              "      <td>39.14</td>\n",
              "      <td>0.98</td>\n",
              "    </tr>\n",
              "    <tr>\n",
              "      <th>2</th>\n",
              "      <td>96.14</td>\n",
              "      <td>2.03</td>\n",
              "    </tr>\n",
              "  </tbody>\n",
              "</table>\n",
              "</div>\n",
              "      <button class=\"colab-df-convert\" onclick=\"convertToInteractive('df-1da9f2a2-44e9-4b9f-845e-9549b0f01ea7')\"\n",
              "              title=\"Convert this dataframe to an interactive table.\"\n",
              "              style=\"display:none;\">\n",
              "        \n",
              "  <svg xmlns=\"http://www.w3.org/2000/svg\" height=\"24px\"viewBox=\"0 0 24 24\"\n",
              "       width=\"24px\">\n",
              "    <path d=\"M0 0h24v24H0V0z\" fill=\"none\"/>\n",
              "    <path d=\"M18.56 5.44l.94 2.06.94-2.06 2.06-.94-2.06-.94-.94-2.06-.94 2.06-2.06.94zm-11 1L8.5 8.5l.94-2.06 2.06-.94-2.06-.94L8.5 2.5l-.94 2.06-2.06.94zm10 10l.94 2.06.94-2.06 2.06-.94-2.06-.94-.94-2.06-.94 2.06-2.06.94z\"/><path d=\"M17.41 7.96l-1.37-1.37c-.4-.4-.92-.59-1.43-.59-.52 0-1.04.2-1.43.59L10.3 9.45l-7.72 7.72c-.78.78-.78 2.05 0 2.83L4 21.41c.39.39.9.59 1.41.59.51 0 1.02-.2 1.41-.59l7.78-7.78 2.81-2.81c.8-.78.8-2.07 0-2.86zM5.41 20L4 18.59l7.72-7.72 1.47 1.35L5.41 20z\"/>\n",
              "  </svg>\n",
              "      </button>\n",
              "      \n",
              "  <style>\n",
              "    .colab-df-container {\n",
              "      display:flex;\n",
              "      flex-wrap:wrap;\n",
              "      gap: 12px;\n",
              "    }\n",
              "\n",
              "    .colab-df-convert {\n",
              "      background-color: #E8F0FE;\n",
              "      border: none;\n",
              "      border-radius: 50%;\n",
              "      cursor: pointer;\n",
              "      display: none;\n",
              "      fill: #1967D2;\n",
              "      height: 32px;\n",
              "      padding: 0 0 0 0;\n",
              "      width: 32px;\n",
              "    }\n",
              "\n",
              "    .colab-df-convert:hover {\n",
              "      background-color: #E2EBFA;\n",
              "      box-shadow: 0px 1px 2px rgba(60, 64, 67, 0.3), 0px 1px 3px 1px rgba(60, 64, 67, 0.15);\n",
              "      fill: #174EA6;\n",
              "    }\n",
              "\n",
              "    [theme=dark] .colab-df-convert {\n",
              "      background-color: #3B4455;\n",
              "      fill: #D2E3FC;\n",
              "    }\n",
              "\n",
              "    [theme=dark] .colab-df-convert:hover {\n",
              "      background-color: #434B5C;\n",
              "      box-shadow: 0px 1px 3px 1px rgba(0, 0, 0, 0.15);\n",
              "      filter: drop-shadow(0px 1px 2px rgba(0, 0, 0, 0.3));\n",
              "      fill: #FFFFFF;\n",
              "    }\n",
              "  </style>\n",
              "\n",
              "      <script>\n",
              "        const buttonEl =\n",
              "          document.querySelector('#df-1da9f2a2-44e9-4b9f-845e-9549b0f01ea7 button.colab-df-convert');\n",
              "        buttonEl.style.display =\n",
              "          google.colab.kernel.accessAllowed ? 'block' : 'none';\n",
              "\n",
              "        async function convertToInteractive(key) {\n",
              "          const element = document.querySelector('#df-1da9f2a2-44e9-4b9f-845e-9549b0f01ea7');\n",
              "          const dataTable =\n",
              "            await google.colab.kernel.invokeFunction('convertToInteractive',\n",
              "                                                     [key], {});\n",
              "          if (!dataTable) return;\n",
              "\n",
              "          const docLinkHtml = 'Like what you see? Visit the ' +\n",
              "            '<a target=\"_blank\" href=https://colab.research.google.com/notebooks/data_table.ipynb>data table notebook</a>'\n",
              "            + ' to learn more about interactive tables.';\n",
              "          element.innerHTML = '';\n",
              "          dataTable['output_type'] = 'display_data';\n",
              "          await google.colab.output.renderOutput(dataTable, element);\n",
              "          const docLink = document.createElement('div');\n",
              "          docLink.innerHTML = docLinkHtml;\n",
              "          element.appendChild(docLink);\n",
              "        }\n",
              "      </script>\n",
              "    </div>\n",
              "  </div>\n",
              "  "
            ]
          },
          "metadata": {},
          "execution_count": 80
        }
      ]
    },
    {
      "cell_type": "markdown",
      "source": [
        "7. Realice una comparación visual de los clusters usando los valores estandarizados para `Income` y `CCAvg`:\n"
      ],
      "metadata": {
        "id": "QSoN_kif5PKH"
      }
    },
    {
      "cell_type": "code",
      "source": [
        "bank0.groupby('Cluster')[['Income_scaled', 'CCAvg_scaled']].mean().plot.bar(color=['gray','black'])\n",
        "plt.show()"
      ],
      "metadata": {
        "colab": {
          "base_uri": "https://localhost:8080/",
          "height": 444
        },
        "id": "Vs_TC5bR5ROJ",
        "outputId": "0b375a93-e102-4e3d-af54-acadcf2a91ff"
      },
      "execution_count": 81,
      "outputs": [
        {
          "output_type": "display_data",
          "data": {
            "text/plain": [
              "<Figure size 640x480 with 1 Axes>"
            ],
            "image/png": "[encoded data removed]"
          },
          "metadata": {}
        }
      ]
    },
    {
      "cell_type": "markdown",
      "source": [
        "En la figura anterior se puede ver los valores promedio de las características \n",
        "contra cada grupo en una escala \"estandarizada\". \n",
        "\n",
        "- El grupo 0 está más cerca del promedio (0 en la escala estándar) tanto para Income como para CCAvg. \n",
        "\n",
        "- El grupo 2 es mucho más alto en estas dos variables.\n",
        "\n",
        "- Mientras que el grupo 1 tiene valores inferiores al promedio para ambas variables."
      ],
      "metadata": {
        "id": "zFSY7gQZ5b69"
      }
    },
    {
      "cell_type": "markdown",
      "source": [
        "8. Para comprender mejor los grupos utilizando otras funciones relevantes, imprima los valores promedio contra los grupos para las funciones Age, Mortgage, Family, CreditCard, Online y Personal Loan. Compruebe qué cluster tiene la mayor propensión a tomar un préstamo personal."
      ],
      "metadata": {
        "id": "hjjL-Bxyfuvc"
      }
    },
    {
      "cell_type": "code",
      "source": [
        "sel_cols = ['Income', 'CCAvg', 'Age', 'Mortgage', 'Family', 'CreditCard', 'Online', 'Personal Loan']\n",
        "bank0.groupby('Cluster')[sel_cols].mean().round(2)"
      ],
      "metadata": {
        "id": "ifkkNrd_f6qe",
        "colab": {
          "base_uri": "https://localhost:8080/",
          "height": 175
        },
        "outputId": "933e7e16-c983-4c67-fa26-f26cacbb9e1d"
      },
      "execution_count": 84,
      "outputs": [
        {
          "output_type": "execute_result",
          "data": {
            "text/plain": [
              "         Income  CCAvg    Age  Mortgage  Family  CreditCard  Online  \\\n",
              "Cluster                                                               \n",
              "0        150.39   5.54  43.92     89.54    2.02        0.29    0.61   \n",
              "1         39.14   0.98  45.80     42.23    2.51        0.29    0.59   \n",
              "2         96.14   2.03  45.18     65.19    2.36        0.30    0.60   \n",
              "\n",
              "         Personal Loan  \n",
              "Cluster                 \n",
              "0                 0.41  \n",
              "1                 0.00  \n",
              "2                 0.12  "
            ],
            "text/html": [
              "\n",
              "  <div id=\"df-165bc7ee-0838-4935-b9f8-153af1832504\">\n",
              "    <div class=\"colab-df-container\">\n",
              "      <div>\n",
              "<style scoped>\n",
              "    .dataframe tbody tr th:only-of-type {\n",
              "        vertical-align: middle;\n",
              "    }\n",
              "\n",
              "    .dataframe tbody tr th {\n",
              "        vertical-align: top;\n",
              "    }\n",
              "\n",
              "    .dataframe thead th {\n",
              "        text-align: right;\n",
              "    }\n",
              "</style>\n",
              "<table border=\"1\" class=\"dataframe\">\n",
              "  <thead>\n",
              "    <tr style=\"text-align: right;\">\n",
              "      <th></th>\n",
              "      <th>Income</th>\n",
              "      <th>CCAvg</th>\n",
              "      <th>Age</th>\n",
              "      <th>Mortgage</th>\n",
              "      <th>Family</th>\n",
              "      <th>CreditCard</th>\n",
              "      <th>Online</th>\n",
              "      <th>Personal Loan</th>\n",
              "    </tr>\n",
              "    <tr>\n",
              "      <th>Cluster</th>\n",
              "      <th></th>\n",
              "      <th></th>\n",
              "      <th></th>\n",
              "      <th></th>\n",
              "      <th></th>\n",
              "      <th></th>\n",
              "      <th></th>\n",
              "      <th></th>\n",
              "    </tr>\n",
              "  </thead>\n",
              "  <tbody>\n",
              "    <tr>\n",
              "      <th>0</th>\n",
              "      <td>150.39</td>\n",
              "      <td>5.54</td>\n",
              "      <td>43.92</td>\n",
              "      <td>89.54</td>\n",
              "      <td>2.02</td>\n",
              "      <td>0.29</td>\n",
              "      <td>0.61</td>\n",
              "      <td>0.41</td>\n",
              "    </tr>\n",
              "    <tr>\n",
              "      <th>1</th>\n",
              "      <td>39.14</td>\n",
              "      <td>0.98</td>\n",
              "      <td>45.80</td>\n",
              "      <td>42.23</td>\n",
              "      <td>2.51</td>\n",
              "      <td>0.29</td>\n",
              "      <td>0.59</td>\n",
              "      <td>0.00</td>\n",
              "    </tr>\n",
              "    <tr>\n",
              "      <th>2</th>\n",
              "      <td>96.14</td>\n",
              "      <td>2.03</td>\n",
              "      <td>45.18</td>\n",
              "      <td>65.19</td>\n",
              "      <td>2.36</td>\n",
              "      <td>0.30</td>\n",
              "      <td>0.60</td>\n",
              "      <td>0.12</td>\n",
              "    </tr>\n",
              "  </tbody>\n",
              "</table>\n",
              "</div>\n",
              "      <button class=\"colab-df-convert\" onclick=\"convertToInteractive('df-165bc7ee-0838-4935-b9f8-153af1832504')\"\n",
              "              title=\"Convert this dataframe to an interactive table.\"\n",
              "              style=\"display:none;\">\n",
              "        \n",
              "  <svg xmlns=\"http://www.w3.org/2000/svg\" height=\"24px\"viewBox=\"0 0 24 24\"\n",
              "       width=\"24px\">\n",
              "    <path d=\"M0 0h24v24H0V0z\" fill=\"none\"/>\n",
              "    <path d=\"M18.56 5.44l.94 2.06.94-2.06 2.06-.94-2.06-.94-.94-2.06-.94 2.06-2.06.94zm-11 1L8.5 8.5l.94-2.06 2.06-.94-2.06-.94L8.5 2.5l-.94 2.06-2.06.94zm10 10l.94 2.06.94-2.06 2.06-.94-2.06-.94-.94-2.06-.94 2.06-2.06.94z\"/><path d=\"M17.41 7.96l-1.37-1.37c-.4-.4-.92-.59-1.43-.59-.52 0-1.04.2-1.43.59L10.3 9.45l-7.72 7.72c-.78.78-.78 2.05 0 2.83L4 21.41c.39.39.9.59 1.41.59.51 0 1.02-.2 1.41-.59l7.78-7.78 2.81-2.81c.8-.78.8-2.07 0-2.86zM5.41 20L4 18.59l7.72-7.72 1.47 1.35L5.41 20z\"/>\n",
              "  </svg>\n",
              "      </button>\n",
              "      \n",
              "  <style>\n",
              "    .colab-df-container {\n",
              "      display:flex;\n",
              "      flex-wrap:wrap;\n",
              "      gap: 12px;\n",
              "    }\n",
              "\n",
              "    .colab-df-convert {\n",
              "      background-color: #E8F0FE;\n",
              "      border: none;\n",
              "      border-radius: 50%;\n",
              "      cursor: pointer;\n",
              "      display: none;\n",
              "      fill: #1967D2;\n",
              "      height: 32px;\n",
              "      padding: 0 0 0 0;\n",
              "      width: 32px;\n",
              "    }\n",
              "\n",
              "    .colab-df-convert:hover {\n",
              "      background-color: #E2EBFA;\n",
              "      box-shadow: 0px 1px 2px rgba(60, 64, 67, 0.3), 0px 1px 3px 1px rgba(60, 64, 67, 0.15);\n",
              "      fill: #174EA6;\n",
              "    }\n",
              "\n",
              "    [theme=dark] .colab-df-convert {\n",
              "      background-color: #3B4455;\n",
              "      fill: #D2E3FC;\n",
              "    }\n",
              "\n",
              "    [theme=dark] .colab-df-convert:hover {\n",
              "      background-color: #434B5C;\n",
              "      box-shadow: 0px 1px 3px 1px rgba(0, 0, 0, 0.15);\n",
              "      filter: drop-shadow(0px 1px 2px rgba(0, 0, 0, 0.3));\n",
              "      fill: #FFFFFF;\n",
              "    }\n",
              "  </style>\n",
              "\n",
              "      <script>\n",
              "        const buttonEl =\n",
              "          document.querySelector('#df-165bc7ee-0838-4935-b9f8-153af1832504 button.colab-df-convert');\n",
              "        buttonEl.style.display =\n",
              "          google.colab.kernel.accessAllowed ? 'block' : 'none';\n",
              "\n",
              "        async function convertToInteractive(key) {\n",
              "          const element = document.querySelector('#df-165bc7ee-0838-4935-b9f8-153af1832504');\n",
              "          const dataTable =\n",
              "            await google.colab.kernel.invokeFunction('convertToInteractive',\n",
              "                                                     [key], {});\n",
              "          if (!dataTable) return;\n",
              "\n",
              "          const docLinkHtml = 'Like what you see? Visit the ' +\n",
              "            '<a target=\"_blank\" href=https://colab.research.google.com/notebooks/data_table.ipynb>data table notebook</a>'\n",
              "            + ' to learn more about interactive tables.';\n",
              "          element.innerHTML = '';\n",
              "          dataTable['output_type'] = 'display_data';\n",
              "          await google.colab.output.renderOutput(dataTable, element);\n",
              "          const docLink = document.createElement('div');\n",
              "          docLink.innerHTML = docLinkHtml;\n",
              "          element.appendChild(docLink);\n",
              "        }\n",
              "      </script>\n",
              "    </div>\n",
              "  </div>\n",
              "  "
            ]
          },
          "metadata": {},
          "execution_count": 84
        }
      ]
    },
    {
      "cell_type": "markdown",
      "source": [
        "Los grupos tienen tendencias muy diferentes para aceptar un préstamo personal (Personal Loan). \n",
        "\n",
        "- El grupo 2 tiene el más alto con diferencia, alrededor del 42 % \n",
        "- <ientras que el grupo 1 tiene 0 posibilidades de obtener un préstamo. \n",
        "\n",
        "Se puede ver que los grupos descubiertos aquí se correlacionan bien y pueden usarse para campañas de marketing en torno a préstamos personales.\n"
      ],
      "metadata": {
        "id": "V7bCj9Aw7IFJ"
      }
    },
    {
      "cell_type": "markdown",
      "source": [
        "\n",
        "9. Basándose en su comprensión de los grupos, asigne etiquetas descriptivas a los grupos.\n",
        "\n",
        "Las características diferenciadoras clave para los grupos son Income, CCAvg e Mortgage.\n",
        "Algunas etiquetas básicas para estos grupos podrían ser las siguientes: \n",
        "\n",
        "- Grupo 0: Joes?? promedio (ingreso medio, gasto medio).\n",
        "- Grupo 1: Bajo potencial de gasto (ingreso bajo, gasto bajo).\n",
        "- Grupo 2: Grandes apostadores (ingreso alto, gasto alto)."
      ],
      "metadata": {
        "id": "soK9eDDyfu98"
      }
    },
    {
      "cell_type": "markdown",
      "source": [
        "En actividad realizamos todos los pasos clave para desarrollar un ejercicio de segmentación completo. \n",
        "\n",
        "Se crearon clústeres útiles y se obtuvo información valiosa para el negocio. Hasta ahora, en los ejercicios y la actividad, utilizó como máximo dos variables (o dimensiones) para la agrupación. Si bien eso fue conveniente, muchos escenarios comerciales requerirán que usted trate con numerosos atributos de los clientes, por lo que tendrá que lidiar con datos de gran dimensión.\n",
        "Vamos a entender las consideraciones y el proceso a continuación."
      ],
      "metadata": {
        "id": "za1fcsSbGuU5"
      }
    },
    {
      "cell_type": "markdown",
      "source": [
        "# 3.4 Clustering con High-Dimensional Data\n",
        "Es común tener conjuntos de datos que tengan más de dos dimensiones. \n",
        "\n",
        "En el conjunto de datos de clientes del centro comercial de los ejercicios anteriores, tenemos:\n",
        "\n",
        "- Edad del cliente \n",
        "- puntuación de ingresos \n",
        "- gastos\n",
        "\n",
        "Anteriormente, solo usábamos spending scores y income para realizar la segmentación. El age podría ser una característica interesante ya que podemos tener diferencias en el comportamiento y la capacidad de respuesta a las campañas de marketing para clientes en diferentes grupos de edad. Además, aparte de los datos demográficos habituales, si tuviéramos alguna información sobre cómo respondieron estos clientes a las ventas anunciadas, cuántas compras han realizado de nuestros productos o cuántas personas viven en su hogar, podríamos tener muchas más dimensiones.\n",
        "\n",
        "La agrupación de entidades representadas en dimensiones superiores no es diferente de la agrupación con dos dimensiones. El paso clave es el cálculo de similitud/distancia. Recuerde que la medida de distancia que empleamos, la distancia euclidiana, se definió de la siguiente manera:"
      ],
      "metadata": {
        "id": "fz3u1GCpG9Mw"
      }
    },
    {
      "cell_type": "markdown",
      "source": [
        "<h1><center>\n",
        "$ d\\left( p,q\\right)   = \\sqrt {\\sum  \\left( p_{i}-q_{i}\\right)^2 } $\n",
        "\n",
        "\n",
        "Figura 3.24: Ecuación para calcular la distancia euclidiana entre dos puntos\n",
        "</center><h1>\n",
        "\n",
        "\n",
        "\n",
        "Aquí, $p = (p1+p2+...pn)$, $q = (q1+q2+...qn)$, mientras que n es el número de características. La distancia euclidiana puede manejar muy bien múltiples dimensiones. Una vez que se define la distancia, se pueden emplear los algoritmos habituales de ML para la agrupación, por ejemplo, k-means."
      ],
      "metadata": {
        "id": "0LsFtyQSHBKx"
      }
    },
    {
      "cell_type": "markdown",
      "source": [
        "Sin embargo, lo que sí cambia es cómo visualizamos los grupos. En el Ejercicio 3.05, Agrupación de K-Means en Clientes de Centros Comerciales, solo teníamos dos variables y podíamos visualizar fácilmente los puntos de datos y las agrupaciones formadas. Sin embargo, con datos de mayor dimensión, primero debemos reducir los datos a dos dimensiones.\n",
        "\n",
        "Las técnicas de reducción de dimensionalidad se emplean comúnmente para esto. La idea de la reducción de la dimensionalidad es que los datos multidimensionales se reducen, generalmente a dos dimensiones, con fines de visualización, de una manera que preserva la distancia entre los puntos. Una forma simple e intuitiva de entender la reducción de la dimensionalidad es considerar que las imágenes y videos que vemos en pantallas bidimensionales son, de hecho, representaciones de un mundo tridimensional, reducido a dos dimensiones para que puedan visualizarse en la pantalla bidimensional. . Mientras\n",
        "perdemos una dimensión (profundidad) en las imágenes, la pérdida es mínima y no arruinar la experiencia visual. La reducción de dimensionalidad, cuando se aplica a nuestro conjunto de datos multidimensional, condensaría la mayor parte de la información en dos dimensiones para permitir la visualización."
      ],
      "metadata": {
        "id": "0WDe-Uv9HC_d"
      }
    },
    {
      "cell_type": "markdown",
      "source": [
        "Las técnicas para la reducción de la dimensionalidad son muchas. La más común es el Análisis de componentes principales (PCA). PCA es un método de transformación de datos. Toma las características/dimensiones originales y crea nuevas características/dimensiones que capturan la mayor variación en los datos. En otras palabras, crea dimensiones que contienen la mayor cantidad de información sobre los datos, de modo que cuando toma los dos primeros componentes principales (PC), es decir, las dimensiones, se queda con la mayor parte de la información sobre los datos, pero reducido a solo dos dimensiones:"
      ],
      "metadata": {
        "id": "C8tVBaONHEta"
      }
    },
    {
      "cell_type": "markdown",
      "source": [
        "\n",
        "<figure>\n",
        "<center><img src='https://drive.google.com/uc?export=view&id=1pLdgI7PbEFqDKewhao2JgqAZC4lmMOMQ' width=\"800\" />\n",
        "<figcaption>Figure 3.25: How PCA works</figcaption></center>\n",
        "</figure>\n",
        "\n",
        "Para la implementación de Python se usa el módulo PCA del paquete scikit-learn. \n",
        "El módulo PCA tiene métodos de ajuste y transformación. Ajustar significaría calcular las PC a partir de los datos y transformar significaría representar los datos en estas nuevas PCA. El método fit_transform combina los dos métodos. \n",
        "\n",
        "    # from sklearn import decomposition\n",
        "    # pca = decomposition.PCA(n_components=N) \n",
        "    # pca_res = pca.fit_transform(data[cols])  # transform"
      ],
      "metadata": {
        "id": "M618MEmTHHKv"
      }
    },
    {
      "cell_type": "markdown",
      "source": [
        "Aquí, `N` es el número de PCA para calcular, `cols` es una lista de columnas para calcular los PCA y la data son el conjunto de datos que contiene estas columnas. `pca_res` se asignará los datos transformados. \n",
        "\n",
        "Cuando se realiza el agrupamiento con datos de alta dimensión, el enfoque de formación de grupos sigue siendo el mismo. \n",
        "\n",
        "Es solo la visualización la que ahora necesita un paso adicional: la reducción a dos dimensiones utilizando una técnica de reducción de dimensionalidad como PCA. "
      ],
      "metadata": {
        "id": "o0GmltUcHLuv"
      }
    },
    {
      "cell_type": "code",
      "source": [],
      "metadata": {
        "id": "x1jPk1aajLa6"
      },
      "execution_count": null,
      "outputs": []
    },
    {
      "cell_type": "markdown",
      "source": [
        "# Ejercicio 3.06: Manejo de datos de alta dimensión\n",
        "En este ejercicio, agruparemos en clústeres el conjunto de datos de clientes del centro comercial utilizando el score de Age, Income, Spend_score. \n",
        "\n",
        "El objetivo es encontrar grupos naturales en los datos basados ​​en estos tres criterios y analizar los segmentos de clientes para identificar sus características diferenciadoras. \n",
        "\n",
        "Esta vez, sin embargo, la visualización no será fácil. Deberá usar PCA para reducir los datos a dos dimensiones para visualizar los clústeres."
      ],
      "metadata": {
        "id": "GA-KxMPCHOPO"
      }
    },
    {
      "cell_type": "markdown",
      "source": [
        "1. Cree una lista, `cluster_cols`, que contenga las columnas `Age`, `Income` y `Spend_score`, que se usaran para la agrupación.\n"
      ],
      "metadata": {
        "id": "OIFRyW6xHRV9"
      }
    },
    {
      "cell_type": "code",
      "source": [
        "cluster_cols = ['Age', 'Income', 'Spend_score']\n",
        "data_scaled[cluster_cols].head(3).round(2)"
      ],
      "metadata": {
        "colab": {
          "base_uri": "https://localhost:8080/",
          "height": 143
        },
        "id": "zh7re-wqlHc7",
        "outputId": "de5ca1f5-00e4-4b7f-8e4d-1797c5511f6a"
      },
      "execution_count": 85,
      "outputs": [
        {
          "output_type": "execute_result",
          "data": {
            "text/plain": [
              "    Age  Income  Spend_score\n",
              "0 -1.42   -1.74        -0.43\n",
              "1 -1.28   -1.74         1.20\n",
              "2 -1.35   -1.70        -1.72"
            ],
            "text/html": [
              "\n",
              "  <div id=\"df-61461261-f68c-4d15-aacb-4f8c14f2762e\">\n",
              "    <div class=\"colab-df-container\">\n",
              "      <div>\n",
              "<style scoped>\n",
              "    .dataframe tbody tr th:only-of-type {\n",
              "        vertical-align: middle;\n",
              "    }\n",
              "\n",
              "    .dataframe tbody tr th {\n",
              "        vertical-align: top;\n",
              "    }\n",
              "\n",
              "    .dataframe thead th {\n",
              "        text-align: right;\n",
              "    }\n",
              "</style>\n",
              "<table border=\"1\" class=\"dataframe\">\n",
              "  <thead>\n",
              "    <tr style=\"text-align: right;\">\n",
              "      <th></th>\n",
              "      <th>Age</th>\n",
              "      <th>Income</th>\n",
              "      <th>Spend_score</th>\n",
              "    </tr>\n",
              "  </thead>\n",
              "  <tbody>\n",
              "    <tr>\n",
              "      <th>0</th>\n",
              "      <td>-1.42</td>\n",
              "      <td>-1.74</td>\n",
              "      <td>-0.43</td>\n",
              "    </tr>\n",
              "    <tr>\n",
              "      <th>1</th>\n",
              "      <td>-1.28</td>\n",
              "      <td>-1.74</td>\n",
              "      <td>1.20</td>\n",
              "    </tr>\n",
              "    <tr>\n",
              "      <th>2</th>\n",
              "      <td>-1.35</td>\n",
              "      <td>-1.70</td>\n",
              "      <td>-1.72</td>\n",
              "    </tr>\n",
              "  </tbody>\n",
              "</table>\n",
              "</div>\n",
              "      <button class=\"colab-df-convert\" onclick=\"convertToInteractive('df-61461261-f68c-4d15-aacb-4f8c14f2762e')\"\n",
              "              title=\"Convert this dataframe to an interactive table.\"\n",
              "              style=\"display:none;\">\n",
              "        \n",
              "  <svg xmlns=\"http://www.w3.org/2000/svg\" height=\"24px\"viewBox=\"0 0 24 24\"\n",
              "       width=\"24px\">\n",
              "    <path d=\"M0 0h24v24H0V0z\" fill=\"none\"/>\n",
              "    <path d=\"M18.56 5.44l.94 2.06.94-2.06 2.06-.94-2.06-.94-.94-2.06-.94 2.06-2.06.94zm-11 1L8.5 8.5l.94-2.06 2.06-.94-2.06-.94L8.5 2.5l-.94 2.06-2.06.94zm10 10l.94 2.06.94-2.06 2.06-.94-2.06-.94-.94-2.06-.94 2.06-2.06.94z\"/><path d=\"M17.41 7.96l-1.37-1.37c-.4-.4-.92-.59-1.43-.59-.52 0-1.04.2-1.43.59L10.3 9.45l-7.72 7.72c-.78.78-.78 2.05 0 2.83L4 21.41c.39.39.9.59 1.41.59.51 0 1.02-.2 1.41-.59l7.78-7.78 2.81-2.81c.8-.78.8-2.07 0-2.86zM5.41 20L4 18.59l7.72-7.72 1.47 1.35L5.41 20z\"/>\n",
              "  </svg>\n",
              "      </button>\n",
              "      \n",
              "  <style>\n",
              "    .colab-df-container {\n",
              "      display:flex;\n",
              "      flex-wrap:wrap;\n",
              "      gap: 12px;\n",
              "    }\n",
              "\n",
              "    .colab-df-convert {\n",
              "      background-color: #E8F0FE;\n",
              "      border: none;\n",
              "      border-radius: 50%;\n",
              "      cursor: pointer;\n",
              "      display: none;\n",
              "      fill: #1967D2;\n",
              "      height: 32px;\n",
              "      padding: 0 0 0 0;\n",
              "      width: 32px;\n",
              "    }\n",
              "\n",
              "    .colab-df-convert:hover {\n",
              "      background-color: #E2EBFA;\n",
              "      box-shadow: 0px 1px 2px rgba(60, 64, 67, 0.3), 0px 1px 3px 1px rgba(60, 64, 67, 0.15);\n",
              "      fill: #174EA6;\n",
              "    }\n",
              "\n",
              "    [theme=dark] .colab-df-convert {\n",
              "      background-color: #3B4455;\n",
              "      fill: #D2E3FC;\n",
              "    }\n",
              "\n",
              "    [theme=dark] .colab-df-convert:hover {\n",
              "      background-color: #434B5C;\n",
              "      box-shadow: 0px 1px 3px 1px rgba(0, 0, 0, 0.15);\n",
              "      filter: drop-shadow(0px 1px 2px rgba(0, 0, 0, 0.3));\n",
              "      fill: #FFFFFF;\n",
              "    }\n",
              "  </style>\n",
              "\n",
              "      <script>\n",
              "        const buttonEl =\n",
              "          document.querySelector('#df-61461261-f68c-4d15-aacb-4f8c14f2762e button.colab-df-convert');\n",
              "        buttonEl.style.display =\n",
              "          google.colab.kernel.accessAllowed ? 'block' : 'none';\n",
              "\n",
              "        async function convertToInteractive(key) {\n",
              "          const element = document.querySelector('#df-61461261-f68c-4d15-aacb-4f8c14f2762e');\n",
              "          const dataTable =\n",
              "            await google.colab.kernel.invokeFunction('convertToInteractive',\n",
              "                                                     [key], {});\n",
              "          if (!dataTable) return;\n",
              "\n",
              "          const docLinkHtml = 'Like what you see? Visit the ' +\n",
              "            '<a target=\"_blank\" href=https://colab.research.google.com/notebooks/data_table.ipynb>data table notebook</a>'\n",
              "            + ' to learn more about interactive tables.';\n",
              "          element.innerHTML = '';\n",
              "          dataTable['output_type'] = 'display_data';\n",
              "          await google.colab.output.renderOutput(dataTable, element);\n",
              "          const docLink = document.createElement('div');\n",
              "          docLink.innerHTML = docLinkHtml;\n",
              "          element.appendChild(docLink);\n",
              "        }\n",
              "      </script>\n",
              "    </div>\n",
              "  </div>\n",
              "  "
            ]
          },
          "metadata": {},
          "execution_count": 85
        }
      ]
    },
    {
      "cell_type": "markdown",
      "source": [
        "2. Agrupar en clústeres de k-means, especificando 4 clústeres utilizando las características escaladas. Especifique `random_state = 42`.\n",
        "\n",
        "Asigne los Clusters a la columna `Cluster`:"
      ],
      "metadata": {
        "id": "t07Fno6eAAQ0"
      }
    },
    {
      "cell_type": "code",
      "source": [
        "cluster_cols = ['Age', 'Income', 'Spend_score']\n",
        "data_scaled[cluster_cols].head(3)\n",
        "model = KMeans(n_clusters=4, random_state=42)\n",
        "model.fit(data_scaled[cluster_cols])\n",
        "data_scaled['Cluster'] = model.predict(data_scaled[cluster_cols])\n",
        "data_scaled['Cluster']"
      ],
      "metadata": {
        "colab": {
          "base_uri": "https://localhost:8080/"
        },
        "id": "crs24Jk1ANfB",
        "outputId": "7c6d566a-7797-49b1-af53-36880e69f03a"
      },
      "execution_count": 87,
      "outputs": [
        {
          "output_type": "stream",
          "name": "stderr",
          "text": [
            "/usr/local/lib/python3.9/dist-packages/sklearn/cluster/_kmeans.py:870: FutureWarning: The default value of `n_init` will change from 10 to 'auto' in 1.4. Set the value of `n_init` explicitly to suppress the warning\n",
            "  warnings.warn(\n"
          ]
        },
        {
          "output_type": "execute_result",
          "data": {
            "text/plain": [
              "0      2\n",
              "1      2\n",
              "2      2\n",
              "3      2\n",
              "4      2\n",
              "      ..\n",
              "195    1\n",
              "196    0\n",
              "197    1\n",
              "198    0\n",
              "199    1\n",
              "Name: Cluster, Length: 200, dtype: int32"
            ]
          },
          "metadata": {},
          "execution_count": 87
        }
      ]
    },
    {
      "cell_type": "markdown",
      "source": [
        "3. Usando PCA en las columnas escaladas, cree dos columnas nuevas, pc1 y pc2, que contengan los datos para PC1 y PC2 respectivamente:"
      ],
      "metadata": {
        "id": "Zt98JgMNlGzB"
      }
    },
    {
      "cell_type": "code",
      "source": [
        "from sklearn import decomposition\n",
        "pca = decomposition.PCA(n_components=2) # n_components=2\n",
        "pca_res = pca.fit_transform(data_scaled[cluster_cols])\n",
        "data_scaled['pc1'] = pca_res[:,0]\n",
        "data_scaled['pc2'] = pca_res[:,1]"
      ],
      "metadata": {
        "id": "QEc0K6VPAHxy"
      },
      "execution_count": 92,
      "outputs": []
    },
    {
      "cell_type": "markdown",
      "source": [
        "4. Visualice los clusters usando diferentes scores y colores para los clusters en un diagrama de dispersión entre pc1 y pc2."
      ],
      "metadata": {
        "id": "nRUXMJPGADBS"
      }
    },
    {
      "cell_type": "code",
      "source": [
        "markers = ['x', '*', 'o','|']\n",
        "for clust in range(4):\n",
        "    temp = data_scaled[data_scaled.Cluster == clust]\n",
        "    plt.scatter(temp.pc1, temp.pc2, marker=markers[clust], label=\"Cluster \"+str(clust), color='gray') \n",
        "    plt.xlabel('PC1')\n",
        "plt.ylabel('PC2')\n",
        "plt.show()\n",
        "\n",
        "# Nota: Las formas y los colores de los segmentos que obtiene pueden variar ligeramente de\n",
        "# la figura anterior. Esto se debe a cierta aleatoriedad adicional en\n",
        "# el proceso, introducido por la inicialización aleatoria del centro del grupo que es\n",
        "# realizado por el algoritmo k-means. Desafortunadamente, la aleatoriedad permanece.\n",
        "# incluso después de configurar la semilla aleatoria y no podemos controlarla. Sin embargo,\n",
        "# si bien las formas asignadas pueden diferir, debe obtener grupos con el\n",
        "# mismas características."
      ],
      "metadata": {
        "colab": {
          "base_uri": "https://localhost:8080/",
          "height": 449
        },
        "id": "vQu5fuFXAKwO",
        "outputId": "3d57ce3d-f6d1-41b0-ab04-709b2b9f0c4c"
      },
      "execution_count": 93,
      "outputs": [
        {
          "output_type": "display_data",
          "data": {
            "text/plain": [
              "<Figure size 640x480 with 1 Axes>"
            ],
            "image/png": "[encoded data removed]"
          },
          "metadata": {}
        }
      ]
    },
    {
      "cell_type": "markdown",
      "source": [
        "Debe aparecer el siguiente gráfico:\n",
        "\n",
        "Figura 3.27: Un gráfico de los datos reducidos a dos dimensiones que denotan los tres conglomerados\n",
        "\n",
        "Tenga en cuenta que los ejes $x$ e $y$ aquí son las PCA y, por lo tanto, no son fáciles de interpretar (ya que son combinaciones derivadas de las características originales). Sin embargo, al visualizar los grupos, podemos tener una idea de qué tan buenos son los grupos en función de cuánto se superponen."
      ],
      "metadata": {
        "id": "c3yeahk0HWqM"
      }
    },
    {
      "cell_type": "markdown",
      "source": [
        "5. Para comprender los grupos, imprima los valores promedio de las características originales utilizadas para agrupar contra los cuatro grupos:"
      ],
      "metadata": {
        "id": "XfpVnIt-HYhw"
      }
    },
    {
      "cell_type": "code",
      "source": [
        "data0['Cluster'] = data_scaled.Cluster\n",
        "data0.groupby('Cluster')[['Age', 'Income', 'Spend_score']].mean()"
      ],
      "metadata": {
        "colab": {
          "base_uri": "https://localhost:8080/",
          "height": 206
        },
        "id": "bl9NvaduHaPr",
        "outputId": "9b661764-0fca-43d2-d586-b7c399d43687"
      },
      "execution_count": 94,
      "outputs": [
        {
          "output_type": "execute_result",
          "data": {
            "text/plain": [
              "               Age     Income  Spend_score\n",
              "Cluster                                   \n",
              "0        39.368421  86.500000    19.578947\n",
              "1        32.875000  86.100000    81.525000\n",
              "2        25.438596  40.000000    60.298246\n",
              "3        53.984615  47.707692    39.969231"
            ],
            "text/html": [
              "\n",
              "  <div id=\"df-14912727-c96f-4f1b-8367-0dd6b1d5e215\">\n",
              "    <div class=\"colab-df-container\">\n",
              "      <div>\n",
              "<style scoped>\n",
              "    .dataframe tbody tr th:only-of-type {\n",
              "        vertical-align: middle;\n",
              "    }\n",
              "\n",
              "    .dataframe tbody tr th {\n",
              "        vertical-align: top;\n",
              "    }\n",
              "\n",
              "    .dataframe thead th {\n",
              "        text-align: right;\n",
              "    }\n",
              "</style>\n",
              "<table border=\"1\" class=\"dataframe\">\n",
              "  <thead>\n",
              "    <tr style=\"text-align: right;\">\n",
              "      <th></th>\n",
              "      <th>Age</th>\n",
              "      <th>Income</th>\n",
              "      <th>Spend_score</th>\n",
              "    </tr>\n",
              "    <tr>\n",
              "      <th>Cluster</th>\n",
              "      <th></th>\n",
              "      <th></th>\n",
              "      <th></th>\n",
              "    </tr>\n",
              "  </thead>\n",
              "  <tbody>\n",
              "    <tr>\n",
              "      <th>0</th>\n",
              "      <td>39.368421</td>\n",
              "      <td>86.500000</td>\n",
              "      <td>19.578947</td>\n",
              "    </tr>\n",
              "    <tr>\n",
              "      <th>1</th>\n",
              "      <td>32.875000</td>\n",
              "      <td>86.100000</td>\n",
              "      <td>81.525000</td>\n",
              "    </tr>\n",
              "    <tr>\n",
              "      <th>2</th>\n",
              "      <td>25.438596</td>\n",
              "      <td>40.000000</td>\n",
              "      <td>60.298246</td>\n",
              "    </tr>\n",
              "    <tr>\n",
              "      <th>3</th>\n",
              "      <td>53.984615</td>\n",
              "      <td>47.707692</td>\n",
              "      <td>39.969231</td>\n",
              "    </tr>\n",
              "  </tbody>\n",
              "</table>\n",
              "</div>\n",
              "      <button class=\"colab-df-convert\" onclick=\"convertToInteractive('df-14912727-c96f-4f1b-8367-0dd6b1d5e215')\"\n",
              "              title=\"Convert this dataframe to an interactive table.\"\n",
              "              style=\"display:none;\">\n",
              "        \n",
              "  <svg xmlns=\"http://www.w3.org/2000/svg\" height=\"24px\"viewBox=\"0 0 24 24\"\n",
              "       width=\"24px\">\n",
              "    <path d=\"M0 0h24v24H0V0z\" fill=\"none\"/>\n",
              "    <path d=\"M18.56 5.44l.94 2.06.94-2.06 2.06-.94-2.06-.94-.94-2.06-.94 2.06-2.06.94zm-11 1L8.5 8.5l.94-2.06 2.06-.94-2.06-.94L8.5 2.5l-.94 2.06-2.06.94zm10 10l.94 2.06.94-2.06 2.06-.94-2.06-.94-.94-2.06-.94 2.06-2.06.94z\"/><path d=\"M17.41 7.96l-1.37-1.37c-.4-.4-.92-.59-1.43-.59-.52 0-1.04.2-1.43.59L10.3 9.45l-7.72 7.72c-.78.78-.78 2.05 0 2.83L4 21.41c.39.39.9.59 1.41.59.51 0 1.02-.2 1.41-.59l7.78-7.78 2.81-2.81c.8-.78.8-2.07 0-2.86zM5.41 20L4 18.59l7.72-7.72 1.47 1.35L5.41 20z\"/>\n",
              "  </svg>\n",
              "      </button>\n",
              "      \n",
              "  <style>\n",
              "    .colab-df-container {\n",
              "      display:flex;\n",
              "      flex-wrap:wrap;\n",
              "      gap: 12px;\n",
              "    }\n",
              "\n",
              "    .colab-df-convert {\n",
              "      background-color: #E8F0FE;\n",
              "      border: none;\n",
              "      border-radius: 50%;\n",
              "      cursor: pointer;\n",
              "      display: none;\n",
              "      fill: #1967D2;\n",
              "      height: 32px;\n",
              "      padding: 0 0 0 0;\n",
              "      width: 32px;\n",
              "    }\n",
              "\n",
              "    .colab-df-convert:hover {\n",
              "      background-color: #E2EBFA;\n",
              "      box-shadow: 0px 1px 2px rgba(60, 64, 67, 0.3), 0px 1px 3px 1px rgba(60, 64, 67, 0.15);\n",
              "      fill: #174EA6;\n",
              "    }\n",
              "\n",
              "    [theme=dark] .colab-df-convert {\n",
              "      background-color: #3B4455;\n",
              "      fill: #D2E3FC;\n",
              "    }\n",
              "\n",
              "    [theme=dark] .colab-df-convert:hover {\n",
              "      background-color: #434B5C;\n",
              "      box-shadow: 0px 1px 3px 1px rgba(0, 0, 0, 0.15);\n",
              "      filter: drop-shadow(0px 1px 2px rgba(0, 0, 0, 0.3));\n",
              "      fill: #FFFFFF;\n",
              "    }\n",
              "  </style>\n",
              "\n",
              "      <script>\n",
              "        const buttonEl =\n",
              "          document.querySelector('#df-14912727-c96f-4f1b-8367-0dd6b1d5e215 button.colab-df-convert');\n",
              "        buttonEl.style.display =\n",
              "          google.colab.kernel.accessAllowed ? 'block' : 'none';\n",
              "\n",
              "        async function convertToInteractive(key) {\n",
              "          const element = document.querySelector('#df-14912727-c96f-4f1b-8367-0dd6b1d5e215');\n",
              "          const dataTable =\n",
              "            await google.colab.kernel.invokeFunction('convertToInteractive',\n",
              "                                                     [key], {});\n",
              "          if (!dataTable) return;\n",
              "\n",
              "          const docLinkHtml = 'Like what you see? Visit the ' +\n",
              "            '<a target=\"_blank\" href=https://colab.research.google.com/notebooks/data_table.ipynb>data table notebook</a>'\n",
              "            + ' to learn more about interactive tables.';\n",
              "          element.innerHTML = '';\n",
              "          dataTable['output_type'] = 'display_data';\n",
              "          await google.colab.output.renderOutput(dataTable, element);\n",
              "          const docLink = document.createElement('div');\n",
              "          docLink.innerHTML = docLinkHtml;\n",
              "          element.appendChild(docLink);\n",
              "        }\n",
              "      </script>\n",
              "    </div>\n",
              "  </div>\n",
              "  "
            ]
          },
          "metadata": {},
          "execution_count": 94
        }
      ]
    },
    {
      "cell_type": "markdown",
      "source": [
        "En la tabla anterior, puede ver que el puntaje de gasto varía significativamente entre los clústeres. Esto es cierto tanto para la Age como para los Income.\n",
        "6. A continuación, visualice esta información mediante diagramas de barras. Verifique qué características son las más diferenciadas para los clústeres utilizando el siguiente código:"
      ],
      "metadata": {
        "id": "fM1JC1kwHccV"
      }
    },
    {
      "cell_type": "code",
      "source": [
        "data0.groupby('Cluster')[['Age', 'Income', \\\n",
        "                          'Spend_score']].mean() \\\n",
        "     .plot.bar(color=['lightgray', 'darkgray', 'black'])\n",
        "plt.show()"
      ],
      "metadata": {
        "colab": {
          "base_uri": "https://localhost:8080/",
          "height": 276
        },
        "id": "nqZX2kyFHeFD",
        "outputId": "cc76f3e2-0d16-4dfa-9cd4-b8b8ec9ffee7"
      },
      "execution_count": null,
      "outputs": [
        {
          "output_type": "display_data",
          "data": {
            "text/plain": [
              "<Figure size 432x288 with 1 Axes>"
            ],
            "image/png": "[encoded data removed]"
          },
          "metadata": {
            "needs_background": "light"
          }
        }
      ]
    },
    {
      "cell_type": "markdown",
      "source": [
        "Figura 3.29: Diagrama de barras para verificar las características que son las más diferenciadas para los clsterings\n",
        "\n",
        "Puede ver que las tres columnas varían significativamente entre los clústeres. \n",
        "- Tiene el clúster 0 con el ingreso promedio más alto pero el puntaje de gasto y la edad promedio más bajos. \n",
        "- Tiene el clúster 1, que es promedio en edad, alto en ingresos y el más alto en gastos. \n",
        "\n",
        "Vamos a describirlos mejor en el siguiente paso.\n",
        "\n",
        "7. Basándose en su comprensión de los grupos, asigne etiquetas descriptivas a los grupos.\n",
        "Una forma de describir los grupos es la siguiente:\n",
        "\n",
        "\n",
        "- Grupo 0: tacaños de mediana edad (ingresos altos, gasto bajo) \n",
        "- Grupo 1: grandes apostadores jóvenes (edad más joven, ingresos altos, gasto alto) \n",
        "- Grupo 2: aspirantes jóvenes (ingresos bajos, gasto alto)\n",
        "- Grupo 3: Viejos Joes promedio (ingreso promedio, gasto promedio)"
      ],
      "metadata": {
        "id": "yj6Edf4lHgQK"
      }
    },
    {
      "cell_type": "markdown",
      "source": [
        "En este ejercicio, ha utilizado con éxito PCA para la reducción de la dimensionalidad y la visualización de los clústeres. Con la ayuda de PCA, vio que los clústeres\n",
        "están bien separados. También analizó los grupos y les dio descripciones que las empresas pueden entender e interpretar.\n",
        "\n",
        "Con esto hemos recorrido todos los pasos que se emplean en un ejercicio de segmentación de clientes. Es importante darse cuenta y recordar que la \"agrupación\", la agrupación real de los clientes, es parte del ejercicio general. La estandarización de las variables, la elección de los criterios correctos para la segmentación y la construcción de una buena comprensión de los grupos son todos pasos críticos. Sin mencionar la importancia de las partes interesadas del negocio para obtener los segmentos de clientes más procesables."
      ],
      "metadata": {
        "id": "UuEvRwLjHjmj"
      }
    },
    {
      "cell_type": "markdown",
      "source": [
        "# Actividad 3.02: Segmentación de clientes bancarios con múltiples Funcionalidades\n",
        "\n",
        "En esta actividad, se revisará el problema de Therabank. Se deberá crear segmentos de clientes para maximizar la eficacia de su campaña de **préstamos personales**. Lo logrará encontrando los tipos de clientes naturales en los datos y descubriendo las características que los diferencian. Luego se identificará los segmentos de clientes que tienen la mayor propensión a tomar un préstamo.\n",
        "\n",
        "En la Actividad 3.01, Segmentación de clientes bancarios para campañas de préstamos, empleó solo dos características del cliente. En esta actividad, empleará funciones adicionales, a saber el: Income, CCAvg, Age y la Experience Mortgage. Como se trata de datos multidimencionales se usara PCA para visualizar los clústeres. \n",
        "\n",
        "Debe entender los segmentos de clientes obtenidos y les proporcionará etiquetas comerciales. Como parte de su evaluación y comprensión de los segmentos, también verificará las tasas de respuesta históricas de los segmentos obtenidos."
      ],
      "metadata": {
        "id": "bV9p-cwfHldW"
      }
    },
    {
      "cell_type": "markdown",
      "source": [
        "1. Crear una copia del conjunto de datos denominado `bank_scaled` y realizar un escalado estándar de las columnas `Income`, `CCAvg`, `Age`, `Experience` y `Mortgage`.\n"
      ],
      "metadata": {
        "id": "zSXn1HehHpXr"
      }
    },
    {
      "cell_type": "code",
      "source": [
        "bank_scaled = bank0.copy()\n",
        "cluster_cols = ['Income', 'CCAvg', 'Age', 'Experience', 'Mortgage']\n",
        "bank_scaled[cluster_cols] = scaler.fit_transform(bank_scaled[cluster_cols])"
      ],
      "metadata": {
        "id": "9jbXP6xoe5UF"
      },
      "execution_count": 95,
      "outputs": []
    },
    {
      "cell_type": "markdown",
      "source": [
        "\n",
        "2. Descrinit las columnas procesadas para verificar que la escala se ha aplicado correctamente.\n"
      ],
      "metadata": {
        "id": "z8027wASeuOO"
      }
    },
    {
      "cell_type": "code",
      "source": [
        " bank_scaled[cluster_cols].describe().round(2)\n",
        "\n",
        "\n",
        "# Los valores medios son todos prácticamente 0 y la desviación estándar es 1, \n",
        "# lo que confirma que la estandarización se realizó correctamente."
      ],
      "metadata": {
        "colab": {
          "base_uri": "https://localhost:8080/",
          "height": 300
        },
        "id": "jt6uQvBde57b",
        "outputId": "29ae7923-0bf7-4e0d-c42f-9a438de84ac2"
      },
      "execution_count": null,
      "outputs": [
        {
          "output_type": "execute_result",
          "data": {
            "text/plain": [
              "        Income    CCAvg      Age  Experience  Mortgage\n",
              "count  5000.00  5000.00  5000.00     5000.00   5000.00\n",
              "mean      0.00    -0.00    -0.00       -0.00     -0.00\n",
              "std       1.00     1.00     1.00        1.00      1.00\n",
              "min      -1.43    -1.11    -1.95       -2.01     -0.56\n",
              "25%      -0.76    -0.71    -0.90       -0.88     -0.56\n",
              "50%      -0.21    -0.25    -0.03       -0.01     -0.56\n",
              "75%       0.53     0.32     0.84        0.86      0.44\n",
              "max       3.26     4.61     1.89        2.00      5.69"
            ],
            "text/html": [
              "\n",
              "  <div id=\"df-8b1d55b0-f599-4b35-84e1-0dd31867a3c0\">\n",
              "    <div class=\"colab-df-container\">\n",
              "      <div>\n",
              "<style scoped>\n",
              "    .dataframe tbody tr th:only-of-type {\n",
              "        vertical-align: middle;\n",
              "    }\n",
              "\n",
              "    .dataframe tbody tr th {\n",
              "        vertical-align: top;\n",
              "    }\n",
              "\n",
              "    .dataframe thead th {\n",
              "        text-align: right;\n",
              "    }\n",
              "</style>\n",
              "<table border=\"1\" class=\"dataframe\">\n",
              "  <thead>\n",
              "    <tr style=\"text-align: right;\">\n",
              "      <th></th>\n",
              "      <th>Income</th>\n",
              "      <th>CCAvg</th>\n",
              "      <th>Age</th>\n",
              "      <th>Experience</th>\n",
              "      <th>Mortgage</th>\n",
              "    </tr>\n",
              "  </thead>\n",
              "  <tbody>\n",
              "    <tr>\n",
              "      <th>count</th>\n",
              "      <td>5000.00</td>\n",
              "      <td>5000.00</td>\n",
              "      <td>5000.00</td>\n",
              "      <td>5000.00</td>\n",
              "      <td>5000.00</td>\n",
              "    </tr>\n",
              "    <tr>\n",
              "      <th>mean</th>\n",
              "      <td>0.00</td>\n",
              "      <td>-0.00</td>\n",
              "      <td>-0.00</td>\n",
              "      <td>-0.00</td>\n",
              "      <td>-0.00</td>\n",
              "    </tr>\n",
              "    <tr>\n",
              "      <th>std</th>\n",
              "      <td>1.00</td>\n",
              "      <td>1.00</td>\n",
              "      <td>1.00</td>\n",
              "      <td>1.00</td>\n",
              "      <td>1.00</td>\n",
              "    </tr>\n",
              "    <tr>\n",
              "      <th>min</th>\n",
              "      <td>-1.43</td>\n",
              "      <td>-1.11</td>\n",
              "      <td>-1.95</td>\n",
              "      <td>-2.01</td>\n",
              "      <td>-0.56</td>\n",
              "    </tr>\n",
              "    <tr>\n",
              "      <th>25%</th>\n",
              "      <td>-0.76</td>\n",
              "      <td>-0.71</td>\n",
              "      <td>-0.90</td>\n",
              "      <td>-0.88</td>\n",
              "      <td>-0.56</td>\n",
              "    </tr>\n",
              "    <tr>\n",
              "      <th>50%</th>\n",
              "      <td>-0.21</td>\n",
              "      <td>-0.25</td>\n",
              "      <td>-0.03</td>\n",
              "      <td>-0.01</td>\n",
              "      <td>-0.56</td>\n",
              "    </tr>\n",
              "    <tr>\n",
              "      <th>75%</th>\n",
              "      <td>0.53</td>\n",
              "      <td>0.32</td>\n",
              "      <td>0.84</td>\n",
              "      <td>0.86</td>\n",
              "      <td>0.44</td>\n",
              "    </tr>\n",
              "    <tr>\n",
              "      <th>max</th>\n",
              "      <td>3.26</td>\n",
              "      <td>4.61</td>\n",
              "      <td>1.89</td>\n",
              "      <td>2.00</td>\n",
              "      <td>5.69</td>\n",
              "    </tr>\n",
              "  </tbody>\n",
              "</table>\n",
              "</div>\n",
              "      <button class=\"colab-df-convert\" onclick=\"convertToInteractive('df-8b1d55b0-f599-4b35-84e1-0dd31867a3c0')\"\n",
              "              title=\"Convert this dataframe to an interactive table.\"\n",
              "              style=\"display:none;\">\n",
              "        \n",
              "  <svg xmlns=\"http://www.w3.org/2000/svg\" height=\"24px\"viewBox=\"0 0 24 24\"\n",
              "       width=\"24px\">\n",
              "    <path d=\"M0 0h24v24H0V0z\" fill=\"none\"/>\n",
              "    <path d=\"M18.56 5.44l.94 2.06.94-2.06 2.06-.94-2.06-.94-.94-2.06-.94 2.06-2.06.94zm-11 1L8.5 8.5l.94-2.06 2.06-.94-2.06-.94L8.5 2.5l-.94 2.06-2.06.94zm10 10l.94 2.06.94-2.06 2.06-.94-2.06-.94-.94-2.06-.94 2.06-2.06.94z\"/><path d=\"M17.41 7.96l-1.37-1.37c-.4-.4-.92-.59-1.43-.59-.52 0-1.04.2-1.43.59L10.3 9.45l-7.72 7.72c-.78.78-.78 2.05 0 2.83L4 21.41c.39.39.9.59 1.41.59.51 0 1.02-.2 1.41-.59l7.78-7.78 2.81-2.81c.8-.78.8-2.07 0-2.86zM5.41 20L4 18.59l7.72-7.72 1.47 1.35L5.41 20z\"/>\n",
              "  </svg>\n",
              "      </button>\n",
              "      \n",
              "  <style>\n",
              "    .colab-df-container {\n",
              "      display:flex;\n",
              "      flex-wrap:wrap;\n",
              "      gap: 12px;\n",
              "    }\n",
              "\n",
              "    .colab-df-convert {\n",
              "      background-color: #E8F0FE;\n",
              "      border: none;\n",
              "      border-radius: 50%;\n",
              "      cursor: pointer;\n",
              "      display: none;\n",
              "      fill: #1967D2;\n",
              "      height: 32px;\n",
              "      padding: 0 0 0 0;\n",
              "      width: 32px;\n",
              "    }\n",
              "\n",
              "    .colab-df-convert:hover {\n",
              "      background-color: #E2EBFA;\n",
              "      box-shadow: 0px 1px 2px rgba(60, 64, 67, 0.3), 0px 1px 3px 1px rgba(60, 64, 67, 0.15);\n",
              "      fill: #174EA6;\n",
              "    }\n",
              "\n",
              "    [theme=dark] .colab-df-convert {\n",
              "      background-color: #3B4455;\n",
              "      fill: #D2E3FC;\n",
              "    }\n",
              "\n",
              "    [theme=dark] .colab-df-convert:hover {\n",
              "      background-color: #434B5C;\n",
              "      box-shadow: 0px 1px 3px 1px rgba(0, 0, 0, 0.15);\n",
              "      filter: drop-shadow(0px 1px 2px rgba(0, 0, 0, 0.3));\n",
              "      fill: #FFFFFF;\n",
              "    }\n",
              "  </style>\n",
              "\n",
              "      <script>\n",
              "        const buttonEl =\n",
              "          document.querySelector('#df-8b1d55b0-f599-4b35-84e1-0dd31867a3c0 button.colab-df-convert');\n",
              "        buttonEl.style.display =\n",
              "          google.colab.kernel.accessAllowed ? 'block' : 'none';\n",
              "\n",
              "        async function convertToInteractive(key) {\n",
              "          const element = document.querySelector('#df-8b1d55b0-f599-4b35-84e1-0dd31867a3c0');\n",
              "          const dataTable =\n",
              "            await google.colab.kernel.invokeFunction('convertToInteractive',\n",
              "                                                     [key], {});\n",
              "          if (!dataTable) return;\n",
              "\n",
              "          const docLinkHtml = 'Like what you see? Visit the ' +\n",
              "            '<a target=\"_blank\" href=https://colab.research.google.com/notebooks/data_table.ipynb>data table notebook</a>'\n",
              "            + ' to learn more about interactive tables.';\n",
              "          element.innerHTML = '';\n",
              "          dataTable['output_type'] = 'display_data';\n",
              "          await google.colab.output.renderOutput(dataTable, element);\n",
              "          const docLink = document.createElement('div');\n",
              "          docLink.innerHTML = docLinkHtml;\n",
              "          element.appendChild(docLink);\n",
              "        }\n",
              "      </script>\n",
              "    </div>\n",
              "  </div>\n",
              "  "
            ]
          },
          "metadata": {},
          "execution_count": 57
        }
      ]
    },
    {
      "cell_type": "markdown",
      "source": [
        "\n",
        "3. Realice la agrupación en clústeres de k-means, especificando 3 clústeres utilizando las características escaladas. Especifique estado_aleatorio como 42.\n"
      ],
      "metadata": {
        "id": "tEgS1gnEeviG"
      }
    },
    {
      "cell_type": "code",
      "source": [
        "model = KMeans(n_clusters=3, random_state=42)\n",
        "model.fit(bank_scaled[cluster_cols])\n",
        "bank_scaled['Cluster'] = model.predict(bank_scaled[cluster_cols])"
      ],
      "metadata": {
        "colab": {
          "base_uri": "https://localhost:8080/"
        },
        "id": "-_8PInLNe6ch",
        "outputId": "0bff5639-aa18-4cb3-d492-3166c9087f81"
      },
      "execution_count": 96,
      "outputs": [
        {
          "output_type": "stream",
          "name": "stderr",
          "text": [
            "/usr/local/lib/python3.9/dist-packages/sklearn/cluster/_kmeans.py:870: FutureWarning: The default value of `n_init` will change from 10 to 'auto' in 1.4. Set the value of `n_init` explicitly to suppress the warning\n",
            "  warnings.warn(\n"
          ]
        }
      ]
    },
    {
      "cell_type": "markdown",
      "source": [
        "\n",
        "4. Usando PCA en las columnas escaladas, cree dos columnas nuevas, pc1 y pc2, que contengan los datos para PC1 y PC2 respectivamente.\n"
      ],
      "metadata": {
        "id": "z7Hvb90Iewwx"
      }
    },
    {
      "cell_type": "code",
      "source": [
        "from sklearn import decomposition\n",
        "pca = decomposition.PCA(n_components=2)\n",
        "pca_res = pca.fit_transform(bank_scaled[cluster_cols])\n",
        "bank_scaled['pc1'] = pca_res[:,0]\n",
        "bank_scaled['pc2'] = pca_res[:,1]"
      ],
      "metadata": {
        "id": "IGOgpDVye6-I"
      },
      "execution_count": 97,
      "outputs": []
    },
    {
      "cell_type": "markdown",
      "source": [
        "5. Visualice los clusters usando diferentes marcadores para los clusters en un diagrama de dispersión entre pc1 y pc2. El gráfico debe aparecer como en la siguiente figura:\n",
        "\n",
        "    Figura 3.30: Gráfico de los datos reducidos a dos dimensiones que denotan los tres conglomerados\n"
      ],
      "metadata": {
        "id": "nK3B2hFjex5M"
      }
    },
    {
      "cell_type": "code",
      "source": [
        "markers = ['x', '.', '_'] \n",
        "plt.figure(figsize=[10,12]) \n",
        "for clust in range(3):\n",
        "    temp = bank_scaled[bank_scaled.Cluster == clust] \n",
        "    plt.scatter(temp.pc1, temp.pc2, marker=markers[clust], \n",
        "                label=\"Cluster \"+str(clust), \n",
        "                color='gray')\n",
        "    \n",
        "plt.xlabel('PC1')\n",
        "plt.ylabel('PC2')\n",
        "plt.legend()\n",
        "plt.show()\n",
        "\n",
        "\n",
        "# En la figura anterior, podemos ver los tres clústeres que identificó el algoritmo.\n",
        "# Podemos ver que, los grupos no están muy claramente separados de forma natural,\n",
        "# como es el caso en muchas situaciones del mundo real.\n",
        "\n"
      ],
      "metadata": {
        "colab": {
          "base_uri": "https://localhost:8080/",
          "height": 714
        },
        "id": "IzyyPNZqe7ti",
        "outputId": "aad174e9-8d57-43e9-e70e-c9e506becfcd"
      },
      "execution_count": null,
      "outputs": [
        {
          "output_type": "display_data",
          "data": {
            "text/plain": [
              "<Figure size 720x864 with 1 Axes>"
            ],
            "image/png": "[encoded data removed]"
          },
          "metadata": {
            "needs_background": "light"
          }
        }
      ]
    },
    {
      "cell_type": "markdown",
      "source": [
        "\n",
        "6. Para comprender los clusters, imprima los valores promedio de las características utilizadas para agrupar contra los tres clusters. Compruebe **qué** características son las más diferenciadas para los clústeres."
      ],
      "metadata": {
        "id": "m35tHjxrezMB"
      }
    },
    {
      "cell_type": "code",
      "source": [
        "bank0['Cluster'] = bank_scaled.Cluster\n",
        "bank0.groupby('Cluster')[cluster_cols].mean()\n",
        "\n",
        "# Vemos que solo la Age y la Experience son diferentes en los \"tres grupos\".\n",
        "# Todas las demás características tienen valores similares para dos de los tres grupos."
      ],
      "metadata": {
        "colab": {
          "base_uri": "https://localhost:8080/",
          "height": 175
        },
        "id": "J4sNzWUae8Un",
        "outputId": "8a9f5a54-2396-4c6c-8a4b-1dfa3d7abb27"
      },
      "execution_count": 98,
      "outputs": [
        {
          "output_type": "execute_result",
          "data": {
            "text/plain": [
              "             Income     CCAvg        Age  Experience    Mortgage\n",
              "Cluster                                                         \n",
              "0         58.941774  1.367514  55.536044   30.233826   45.134935\n",
              "1        147.650185  4.856403  43.672435   18.644005  116.279357\n",
              "2         60.124322  1.382121  35.116428    9.873705   44.771584"
            ],
            "text/html": [
              "\n",
              "  <div id=\"df-69adda2e-5e14-4069-bd0c-c7205b7a1172\">\n",
              "    <div class=\"colab-df-container\">\n",
              "      <div>\n",
              "<style scoped>\n",
              "    .dataframe tbody tr th:only-of-type {\n",
              "        vertical-align: middle;\n",
              "    }\n",
              "\n",
              "    .dataframe tbody tr th {\n",
              "        vertical-align: top;\n",
              "    }\n",
              "\n",
              "    .dataframe thead th {\n",
              "        text-align: right;\n",
              "    }\n",
              "</style>\n",
              "<table border=\"1\" class=\"dataframe\">\n",
              "  <thead>\n",
              "    <tr style=\"text-align: right;\">\n",
              "      <th></th>\n",
              "      <th>Income</th>\n",
              "      <th>CCAvg</th>\n",
              "      <th>Age</th>\n",
              "      <th>Experience</th>\n",
              "      <th>Mortgage</th>\n",
              "    </tr>\n",
              "    <tr>\n",
              "      <th>Cluster</th>\n",
              "      <th></th>\n",
              "      <th></th>\n",
              "      <th></th>\n",
              "      <th></th>\n",
              "      <th></th>\n",
              "    </tr>\n",
              "  </thead>\n",
              "  <tbody>\n",
              "    <tr>\n",
              "      <th>0</th>\n",
              "      <td>58.941774</td>\n",
              "      <td>1.367514</td>\n",
              "      <td>55.536044</td>\n",
              "      <td>30.233826</td>\n",
              "      <td>45.134935</td>\n",
              "    </tr>\n",
              "    <tr>\n",
              "      <th>1</th>\n",
              "      <td>147.650185</td>\n",
              "      <td>4.856403</td>\n",
              "      <td>43.672435</td>\n",
              "      <td>18.644005</td>\n",
              "      <td>116.279357</td>\n",
              "    </tr>\n",
              "    <tr>\n",
              "      <th>2</th>\n",
              "      <td>60.124322</td>\n",
              "      <td>1.382121</td>\n",
              "      <td>35.116428</td>\n",
              "      <td>9.873705</td>\n",
              "      <td>44.771584</td>\n",
              "    </tr>\n",
              "  </tbody>\n",
              "</table>\n",
              "</div>\n",
              "      <button class=\"colab-df-convert\" onclick=\"convertToInteractive('df-69adda2e-5e14-4069-bd0c-c7205b7a1172')\"\n",
              "              title=\"Convert this dataframe to an interactive table.\"\n",
              "              style=\"display:none;\">\n",
              "        \n",
              "  <svg xmlns=\"http://www.w3.org/2000/svg\" height=\"24px\"viewBox=\"0 0 24 24\"\n",
              "       width=\"24px\">\n",
              "    <path d=\"M0 0h24v24H0V0z\" fill=\"none\"/>\n",
              "    <path d=\"M18.56 5.44l.94 2.06.94-2.06 2.06-.94-2.06-.94-.94-2.06-.94 2.06-2.06.94zm-11 1L8.5 8.5l.94-2.06 2.06-.94-2.06-.94L8.5 2.5l-.94 2.06-2.06.94zm10 10l.94 2.06.94-2.06 2.06-.94-2.06-.94-.94-2.06-.94 2.06-2.06.94z\"/><path d=\"M17.41 7.96l-1.37-1.37c-.4-.4-.92-.59-1.43-.59-.52 0-1.04.2-1.43.59L10.3 9.45l-7.72 7.72c-.78.78-.78 2.05 0 2.83L4 21.41c.39.39.9.59 1.41.59.51 0 1.02-.2 1.41-.59l7.78-7.78 2.81-2.81c.8-.78.8-2.07 0-2.86zM5.41 20L4 18.59l7.72-7.72 1.47 1.35L5.41 20z\"/>\n",
              "  </svg>\n",
              "      </button>\n",
              "      \n",
              "  <style>\n",
              "    .colab-df-container {\n",
              "      display:flex;\n",
              "      flex-wrap:wrap;\n",
              "      gap: 12px;\n",
              "    }\n",
              "\n",
              "    .colab-df-convert {\n",
              "      background-color: #E8F0FE;\n",
              "      border: none;\n",
              "      border-radius: 50%;\n",
              "      cursor: pointer;\n",
              "      display: none;\n",
              "      fill: #1967D2;\n",
              "      height: 32px;\n",
              "      padding: 0 0 0 0;\n",
              "      width: 32px;\n",
              "    }\n",
              "\n",
              "    .colab-df-convert:hover {\n",
              "      background-color: #E2EBFA;\n",
              "      box-shadow: 0px 1px 2px rgba(60, 64, 67, 0.3), 0px 1px 3px 1px rgba(60, 64, 67, 0.15);\n",
              "      fill: #174EA6;\n",
              "    }\n",
              "\n",
              "    [theme=dark] .colab-df-convert {\n",
              "      background-color: #3B4455;\n",
              "      fill: #D2E3FC;\n",
              "    }\n",
              "\n",
              "    [theme=dark] .colab-df-convert:hover {\n",
              "      background-color: #434B5C;\n",
              "      box-shadow: 0px 1px 3px 1px rgba(0, 0, 0, 0.15);\n",
              "      filter: drop-shadow(0px 1px 2px rgba(0, 0, 0, 0.3));\n",
              "      fill: #FFFFFF;\n",
              "    }\n",
              "  </style>\n",
              "\n",
              "      <script>\n",
              "        const buttonEl =\n",
              "          document.querySelector('#df-69adda2e-5e14-4069-bd0c-c7205b7a1172 button.colab-df-convert');\n",
              "        buttonEl.style.display =\n",
              "          google.colab.kernel.accessAllowed ? 'block' : 'none';\n",
              "\n",
              "        async function convertToInteractive(key) {\n",
              "          const element = document.querySelector('#df-69adda2e-5e14-4069-bd0c-c7205b7a1172');\n",
              "          const dataTable =\n",
              "            await google.colab.kernel.invokeFunction('convertToInteractive',\n",
              "                                                     [key], {});\n",
              "          if (!dataTable) return;\n",
              "\n",
              "          const docLinkHtml = 'Like what you see? Visit the ' +\n",
              "            '<a target=\"_blank\" href=https://colab.research.google.com/notebooks/data_table.ipynb>data table notebook</a>'\n",
              "            + ' to learn more about interactive tables.';\n",
              "          element.innerHTML = '';\n",
              "          dataTable['output_type'] = 'display_data';\n",
              "          await google.colab.output.renderOutput(dataTable, element);\n",
              "          const docLink = document.createElement('div');\n",
              "          docLink.innerHTML = docLinkHtml;\n",
              "          element.appendChild(docLink);\n",
              "        }\n",
              "      </script>\n",
              "    </div>\n",
              "  </div>\n",
              "  "
            ]
          },
          "metadata": {},
          "execution_count": 98
        }
      ]
    },
    {
      "cell_type": "markdown",
      "source": [
        "7. Para comprender mejor los grupos utilizando otras funciones relevantes, imprima los valores promedio contra los grupos para las funciones Edad, Hipoteca, Familia, Tarjeta de crédito, En línea y Préstamo personal y verifique qué grupo tiene la mayor propensión a tomar un préstamo personal.\n"
      ],
      "metadata": {
        "id": "YTEqqp3Qe0gb"
      }
    },
    {
      "cell_type": "code",
      "source": [
        "sel_cols = ['Income', 'CCAvg', 'Age', 'Experience', \\\n",
        "            'Mortgage', 'Family', 'CreditCard', 'Online', \\\n",
        "            'Personal Loan']\n",
        "bank0.groupby('Cluster')[sel_cols].mean()"
      ],
      "metadata": {
        "colab": {
          "base_uri": "https://localhost:8080/",
          "height": 175
        },
        "id": "wsKidzmUe8uZ",
        "outputId": "888c249d-96ef-4900-d4c3-788ba44b5328"
      },
      "execution_count": 100,
      "outputs": [
        {
          "output_type": "execute_result",
          "data": {
            "text/plain": [
              "             Income     CCAvg        Age  Experience    Mortgage    Family  \\\n",
              "Cluster                                                                      \n",
              "0         58.941774  1.367514  55.536044   30.233826   45.134935  2.397874   \n",
              "1        147.650185  4.856403  43.672435   18.644005  116.279357  2.002472   \n",
              "2         60.124322  1.382121  35.116428    9.873705   44.771584  2.552047   \n",
              "\n",
              "         CreditCard    Online  Personal Loan  \n",
              "Cluster                                       \n",
              "0          0.300370  0.604898       0.039741  \n",
              "1          0.299135  0.613103       0.398022  \n",
              "2          0.285150  0.581648       0.035520  "
            ],
            "text/html": [
              "\n",
              "  <div id=\"df-99682518-0ba8-4683-a6ba-932a1917b548\">\n",
              "    <div class=\"colab-df-container\">\n",
              "      <div>\n",
              "<style scoped>\n",
              "    .dataframe tbody tr th:only-of-type {\n",
              "        vertical-align: middle;\n",
              "    }\n",
              "\n",
              "    .dataframe tbody tr th {\n",
              "        vertical-align: top;\n",
              "    }\n",
              "\n",
              "    .dataframe thead th {\n",
              "        text-align: right;\n",
              "    }\n",
              "</style>\n",
              "<table border=\"1\" class=\"dataframe\">\n",
              "  <thead>\n",
              "    <tr style=\"text-align: right;\">\n",
              "      <th></th>\n",
              "      <th>Income</th>\n",
              "      <th>CCAvg</th>\n",
              "      <th>Age</th>\n",
              "      <th>Experience</th>\n",
              "      <th>Mortgage</th>\n",
              "      <th>Family</th>\n",
              "      <th>CreditCard</th>\n",
              "      <th>Online</th>\n",
              "      <th>Personal Loan</th>\n",
              "    </tr>\n",
              "    <tr>\n",
              "      <th>Cluster</th>\n",
              "      <th></th>\n",
              "      <th></th>\n",
              "      <th></th>\n",
              "      <th></th>\n",
              "      <th></th>\n",
              "      <th></th>\n",
              "      <th></th>\n",
              "      <th></th>\n",
              "      <th></th>\n",
              "    </tr>\n",
              "  </thead>\n",
              "  <tbody>\n",
              "    <tr>\n",
              "      <th>0</th>\n",
              "      <td>58.941774</td>\n",
              "      <td>1.367514</td>\n",
              "      <td>55.536044</td>\n",
              "      <td>30.233826</td>\n",
              "      <td>45.134935</td>\n",
              "      <td>2.397874</td>\n",
              "      <td>0.300370</td>\n",
              "      <td>0.604898</td>\n",
              "      <td>0.039741</td>\n",
              "    </tr>\n",
              "    <tr>\n",
              "      <th>1</th>\n",
              "      <td>147.650185</td>\n",
              "      <td>4.856403</td>\n",
              "      <td>43.672435</td>\n",
              "      <td>18.644005</td>\n",
              "      <td>116.279357</td>\n",
              "      <td>2.002472</td>\n",
              "      <td>0.299135</td>\n",
              "      <td>0.613103</td>\n",
              "      <td>0.398022</td>\n",
              "    </tr>\n",
              "    <tr>\n",
              "      <th>2</th>\n",
              "      <td>60.124322</td>\n",
              "      <td>1.382121</td>\n",
              "      <td>35.116428</td>\n",
              "      <td>9.873705</td>\n",
              "      <td>44.771584</td>\n",
              "      <td>2.552047</td>\n",
              "      <td>0.285150</td>\n",
              "      <td>0.581648</td>\n",
              "      <td>0.035520</td>\n",
              "    </tr>\n",
              "  </tbody>\n",
              "</table>\n",
              "</div>\n",
              "      <button class=\"colab-df-convert\" onclick=\"convertToInteractive('df-99682518-0ba8-4683-a6ba-932a1917b548')\"\n",
              "              title=\"Convert this dataframe to an interactive table.\"\n",
              "              style=\"display:none;\">\n",
              "        \n",
              "  <svg xmlns=\"http://www.w3.org/2000/svg\" height=\"24px\"viewBox=\"0 0 24 24\"\n",
              "       width=\"24px\">\n",
              "    <path d=\"M0 0h24v24H0V0z\" fill=\"none\"/>\n",
              "    <path d=\"M18.56 5.44l.94 2.06.94-2.06 2.06-.94-2.06-.94-.94-2.06-.94 2.06-2.06.94zm-11 1L8.5 8.5l.94-2.06 2.06-.94-2.06-.94L8.5 2.5l-.94 2.06-2.06.94zm10 10l.94 2.06.94-2.06 2.06-.94-2.06-.94-.94-2.06-.94 2.06-2.06.94z\"/><path d=\"M17.41 7.96l-1.37-1.37c-.4-.4-.92-.59-1.43-.59-.52 0-1.04.2-1.43.59L10.3 9.45l-7.72 7.72c-.78.78-.78 2.05 0 2.83L4 21.41c.39.39.9.59 1.41.59.51 0 1.02-.2 1.41-.59l7.78-7.78 2.81-2.81c.8-.78.8-2.07 0-2.86zM5.41 20L4 18.59l7.72-7.72 1.47 1.35L5.41 20z\"/>\n",
              "  </svg>\n",
              "      </button>\n",
              "      \n",
              "  <style>\n",
              "    .colab-df-container {\n",
              "      display:flex;\n",
              "      flex-wrap:wrap;\n",
              "      gap: 12px;\n",
              "    }\n",
              "\n",
              "    .colab-df-convert {\n",
              "      background-color: #E8F0FE;\n",
              "      border: none;\n",
              "      border-radius: 50%;\n",
              "      cursor: pointer;\n",
              "      display: none;\n",
              "      fill: #1967D2;\n",
              "      height: 32px;\n",
              "      padding: 0 0 0 0;\n",
              "      width: 32px;\n",
              "    }\n",
              "\n",
              "    .colab-df-convert:hover {\n",
              "      background-color: #E2EBFA;\n",
              "      box-shadow: 0px 1px 2px rgba(60, 64, 67, 0.3), 0px 1px 3px 1px rgba(60, 64, 67, 0.15);\n",
              "      fill: #174EA6;\n",
              "    }\n",
              "\n",
              "    [theme=dark] .colab-df-convert {\n",
              "      background-color: #3B4455;\n",
              "      fill: #D2E3FC;\n",
              "    }\n",
              "\n",
              "    [theme=dark] .colab-df-convert:hover {\n",
              "      background-color: #434B5C;\n",
              "      box-shadow: 0px 1px 3px 1px rgba(0, 0, 0, 0.15);\n",
              "      filter: drop-shadow(0px 1px 2px rgba(0, 0, 0, 0.3));\n",
              "      fill: #FFFFFF;\n",
              "    }\n",
              "  </style>\n",
              "\n",
              "      <script>\n",
              "        const buttonEl =\n",
              "          document.querySelector('#df-99682518-0ba8-4683-a6ba-932a1917b548 button.colab-df-convert');\n",
              "        buttonEl.style.display =\n",
              "          google.colab.kernel.accessAllowed ? 'block' : 'none';\n",
              "\n",
              "        async function convertToInteractive(key) {\n",
              "          const element = document.querySelector('#df-99682518-0ba8-4683-a6ba-932a1917b548');\n",
              "          const dataTable =\n",
              "            await google.colab.kernel.invokeFunction('convertToInteractive',\n",
              "                                                     [key], {});\n",
              "          if (!dataTable) return;\n",
              "\n",
              "          const docLinkHtml = 'Like what you see? Visit the ' +\n",
              "            '<a target=\"_blank\" href=https://colab.research.google.com/notebooks/data_table.ipynb>data table notebook</a>'\n",
              "            + ' to learn more about interactive tables.';\n",
              "          element.innerHTML = '';\n",
              "          dataTable['output_type'] = 'display_data';\n",
              "          await google.colab.output.renderOutput(dataTable, element);\n",
              "          const docLink = document.createElement('div');\n",
              "          docLink.innerHTML = docLinkHtml;\n",
              "          element.appendChild(docLink);\n",
              "        }\n",
              "      </script>\n",
              "    </div>\n",
              "  </div>\n",
              "  "
            ]
          },
          "metadata": {},
          "execution_count": 100
        }
      ]
    },
    {
      "cell_type": "markdown",
      "source": [
        "Podemos ver claramente que el Cluster 1 tiene la mayor propensión a tomar un **Personal Loan**.\n",
        "\n",
        "Los grupos 0 y 2 tienen una propensión muy similar.\n",
        "\n",
        "Parece que hemos identificado un segmento de alto potencial."
      ],
      "metadata": {
        "id": "C8EhsyAa0BeD"
      }
    },
    {
      "cell_type": "markdown",
      "source": [
        "8. Basándose en su comprensión de los grupos, asigne etiquetas descriptivas a los grupos."
      ],
      "metadata": {
        "id": "BvEeeDJGe1i3"
      }
    },
    {
      "cell_type": "markdown",
      "source": [
        "- Grupo 0: gastadores de mediana edad (altos ingresos, alto gasto)\n",
        "- Grupo 1: veteranos de bajo gasto (gasto bajo, edad alta, ingreso promedio)\n",
        "- Grupo 2: Jóvenes que gastan poco (gasto bajo, edad baja, ingreso promedio)"
      ],
      "metadata": {
        "id": "_EG0ShIPy0QP"
      }
    }
  ]
}