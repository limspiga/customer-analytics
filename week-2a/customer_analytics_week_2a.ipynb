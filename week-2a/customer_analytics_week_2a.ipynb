{
  "nbformat": 4,
  "nbformat_minor": 0,
  "metadata": {
    "colab": {
      "provenance": []
    },
    "kernelspec": {
      "name": "python3",
      "display_name": "Python 3"
    },
    "language_info": {
      "name": "python"
    }
  },
  "cells": [
    {
      "cell_type": "markdown",
      "source": [
        "# III Aprendizaje no supervisado y segmentación de clientes\n",
        "\n",
        "En este capítulo, revisaremos una de las técnicas más poderosas en marketing: la segmentación de clientes. Comenzará por comprender la necesidad de la segmentación de clientes, después de lo cual estudiará e implementará el enfoque de aprendizaje automático para la segmentación. Utilizaremos el algoritmo de agrupación **cluster k-means** para segmentar a los clientes y luego analizará los segmentos obtenidos para obtener una comprensión de los resultados para que las empresas puedan actuar sobre ellos.\n",
        "\n",
        "# 1. Introducción\n",
        "\n",
        "Pongámonos en el lugar del director de marketing de una empresa de comercio electrónico con una base de 1 millón de clientes que realizan transacciones. Desea que las campañas de marketing sean más **efectivas**, llegando al cliente correcto con el mensaje correcto. \n",
        "\n",
        "Al comprender mejor al cliente y sus necesidades, las campañas de marketing pueden proporcionar un **impulso** significativo al negocio. A medida que comenzamos a resolver este problema, se piensa en la **experiencia del cliente**. Un cliente promedio recibe varios mensajes sobre las últimas ofertas. Estos se envían por correo electrónico, notificaciones automáticas y campañas en las redes sociales. Esta puede no ser una gran experiencia para ellos, especialmente si estas comunicaciones son **campañas genéricas/masivas.** Si la empresa entendiera mejor las necesidades de los clientes y les enviara el contenido relevante, comprarían con mucha más frecuencia.\n",
        "\n",
        "Varios ejemplos como este muestran que una comprensión profunda de los clientes y sus necesidades es beneficiosa no solo para la empresa sino también para el cliente. Si tiene una empresa pequeña, comprender las necesidades de todos los clientes es tan fácil como realizar una **encuesta rápida**. Sin embargo, para una empresa con una gran base de usuarios con millones de clientes, comprender sus necesidades sería extremadamente difícil, dado que cada cliente tendrá sus propios gustos y necesidades diferentes. **Además, con clientes de diferentes orígenes, culturas y grupos de edad, este problema se vuelve aún más difícil de resolver**.\n",
        "\n",
        "Seguramente las cosas serían más fáciles si pudiéramos simplificar esta tarea y condensar a los clientes en unos pocos grupos. En lugar de tratar con un millón de clientes, ¿no sería más fácil tratar con, digamos, cinco tipos de clientes? **La segmentación de clientes le permite hacer exactamente eso: abstraiga potencialmente a millones de clientes a unos pocos segmentos y comprenda sus características y necesidades**. Con este conocimiento, el impacto te puedes tener es mayor.\n",
        "\n",
        "Puede enviar mensajes más dirigidos y específicos a través de campañas de marketing, ofrecer servicios diferenciales, hacer mejores recomendaciones de productos y más para mejorar la experiencia general del cliente; todo esto conduce a un impacto comercial significativo, no solo un impacto inmediato en los ingresos a través de campañas de marketing más eficientes, sino también un impacto positivo significativo en el valor a largo plazo que los clientes aportan a la plataforma.\n",
        "\n",
        "En esta sección se comprenderá qué es la segmentación de clientes, cómo se usa y cómo usar ML para crear sus propios modelos de segmentación de clientes en Python.\n"
      ],
      "metadata": {
        "id": "QTaddUTgByGs"
      }
    },
    {
      "cell_type": "code",
      "source": [
        "#  http://tech.nitoyon.com/en/blog/2013/11/07/k-means/\n",
        "#  http://nl-hugo.github.io/d3-kmeans/index.html\n",
        "\n",
        "from IPython.display import IFrame\n",
        "IFrame(\"https://nl-hugo.github.io/d3-kmeans/index.html\", width=800, height=400)\n"
      ],
      "metadata": {
        "colab": {
          "base_uri": "https://localhost:8080/",
          "height": 421
        },
        "id": "ptvfX1ybXslv",
        "outputId": "cb0212b7-d479-4aa8-9ba6-5960fd5d6fc4"
      },
      "execution_count": 19,
      "outputs": [
        {
          "output_type": "execute_result",
          "data": {
            "text/plain": [
              "<IPython.lib.display.IFrame at 0x7fb5e01636d0>"
            ],
            "text/html": [
              "\n",
              "        <iframe\n",
              "            width=\"800\"\n",
              "            height=\"400\"\n",
              "            src=\"https://nl-hugo.github.io/d3-kmeans/index.html\"\n",
              "            frameborder=\"0\"\n",
              "            allowfullscreen\n",
              "        ></iframe>\n",
              "        "
            ]
          },
          "metadata": {},
          "execution_count": 19
        }
      ]
    },
    {
      "cell_type": "markdown",
      "source": [
        "# 2. Segmentación\n",
        "\n",
        "La segmentación, en pocas palabras, significa agrupar entidades similares. Las entidades de cada grupo son similares entre sí, es decir, \"los grupos son homogéneos\", lo que significa que las entidades tienen propiedades similares.\n",
        "\n",
        "**¿Qué entidades se pueden segmentar?** \n",
        "- Puedes segmentar clientes, \n",
        "- productos, \n",
        "- ofertas, \n",
        "- vehículos, \n",
        "- frutas, \n",
        "- animales, \n",
        "- países o incluso estrellas. \n",
        "\n",
        "Si puede expresar, a través de datos, las propiedades de la entidad, puede comparar esa entidad con otras entidades y segmentarla.\n",
        "\n",
        "Pasando al segundo aspecto clave, ¿de qué propiedades estamos hablando? Estamos hablando de propiedades relevantes para el ejercicio de agrupación. \n",
        "\n",
        "**Supongamos que está tratando de agrupar a los clientes en función de la frecuencia de compra de un producto.** En tales casos, es posible que datos como el género de los clientes, aunque estén fácilmente disponibles para usted, no ser relevante para su análisis. \n",
        "\n",
        "Es por eso que elegir los atributos relevantes es fundamental. Discutiremos este aspecto con más detalle más adelante en este capítulo, en la sección Elección de atributos **relevantes criterios de segmentación**.\n"
      ],
      "metadata": {
        "id": "1CRe565uOur2"
      }
    },
    {
      "cell_type": "markdown",
      "source": [
        "\n",
        "Un ejercicio general de segmentación de clientes implica los siguientes pasos clave:\n",
        "\n",
        "1.\tSelección de los atributos relevantes para las entidades ???\n",
        "2.\tAgrupación entidades\n",
        "3.\tComprender y describir los segmentos\n",
        "\n",
        "En el último paso los segmentos resultantes deben tener sentido para el negocio y ser accionables. Las partes interesadas del negocio, que desempeñan el papel fundamental del \"Know-how\", deben poder comprender estos segmentos con claridad. \n",
        "\n",
        "Posteriormente estos segmentos se pueden refinar, haciéndolos aún más prácticos e impulsados por el negocio. El equipo de marketing puede entenderlos fácilmente y aprovecharlos para crear una campaña de marketing exitosa. Por eso, describir los segmentos obtenidos de forma que el negocio los entienda es un paso necesario.\n"
      ],
      "metadata": {
        "id": "a8JtpSXUQBDu"
      }
    },
    {
      "cell_type": "markdown",
      "source": [
        "# Ejercicio 3.01: Segmentación de clientes de centros comerciales: comprensión de los datos\n",
        "\n",
        "Eres analista en una empresa de consultoría líder y entre tus clientes más nuevos se incluye una popular cadena de centros comerciales repartidos por muchos países. El centro comercial quiere obtener una mejor comprensión de sus clientes para rediseñar sus ofertas existentes y comunicaciones de marketing para mejorar las ventas en un área geográfica. Los datos sobre los clientes están disponibles en el archivo mall_Customers.csv."
      ],
      "metadata": {
        "id": "kHqODnDsQUVr"
      }
    },
    {
      "cell_type": "markdown",
      "source": [
        "1. Importe numpy, pandas y pyplot desde matplotlib y seaborn usando el siguiente código:"
      ],
      "metadata": {
        "id": "1_YjqmNKU8tA"
      }
    },
    {
      "cell_type": "code",
      "source": [
        "import numpy as np, pandas as pd\n",
        "import matplotlib.pyplot as plt, seaborn as sns\n",
        "%matplotlib inline"
      ],
      "metadata": {
        "id": "Nm7XvbO3UbQI"
      },
      "execution_count": 5,
      "outputs": []
    },
    {
      "cell_type": "markdown",
      "source": [
        "2. Usando el método read_csv de pandas, importe el archivo Mall_Customers.csv en un DataFrame de pandas llamado data0 e imprima las primeras cinco filas:"
      ],
      "metadata": {
        "id": "cb0wJ8LGUts7"
      }
    },
    {
      "cell_type": "code",
      "source": [
        "!curl https://raw.githubusercontent.com/limspiga/customer-analytics/main/week-2a/mall_customers2.csv -O\n",
        "\n",
        "data0 = pd.read_csv(\"mall_customers2.csv\")\n",
        "data0.head()"
      ],
      "metadata": {
        "colab": {
          "base_uri": "https://localhost:8080/",
          "height": 259
        },
        "id": "OYV43yPQU646",
        "outputId": "487d78da-8e9d-462d-b608-0d7a731896c4"
      },
      "execution_count": 7,
      "outputs": [
        {
          "output_type": "stream",
          "name": "stdout",
          "text": [
            "  % Total    % Received % Xferd  Average Speed   Time    Time     Time  Current\n",
            "                                 Dload  Upload   Total   Spent    Left  Speed\n",
            "\r  0     0    0     0    0     0      0      0 --:--:-- --:--:-- --:--:--     0\r100  3780  100  3780    0     0  20769      0 --:--:-- --:--:-- --:--:-- 20769\n"
          ]
        },
        {
          "output_type": "execute_result",
          "data": {
            "text/plain": [
              "   CustomerID  Gender  Age  Annual Income (k$)  Spending Score (1-100)\n",
              "0           1    Male   19                  15                      39\n",
              "1           2    Male   21                  15                      81\n",
              "2           3  Female   20                  16                       6\n",
              "3           4  Female   23                  16                      77\n",
              "4           5  Female   31                  17                      40"
            ],
            "text/html": [
              "\n",
              "  <div id=\"df-25fbd5d7-793a-4f69-aaed-29fdd47e95fe\">\n",
              "    <div class=\"colab-df-container\">\n",
              "      <div>\n",
              "<style scoped>\n",
              "    .dataframe tbody tr th:only-of-type {\n",
              "        vertical-align: middle;\n",
              "    }\n",
              "\n",
              "    .dataframe tbody tr th {\n",
              "        vertical-align: top;\n",
              "    }\n",
              "\n",
              "    .dataframe thead th {\n",
              "        text-align: right;\n",
              "    }\n",
              "</style>\n",
              "<table border=\"1\" class=\"dataframe\">\n",
              "  <thead>\n",
              "    <tr style=\"text-align: right;\">\n",
              "      <th></th>\n",
              "      <th>CustomerID</th>\n",
              "      <th>Gender</th>\n",
              "      <th>Age</th>\n",
              "      <th>Annual Income (k$)</th>\n",
              "      <th>Spending Score (1-100)</th>\n",
              "    </tr>\n",
              "  </thead>\n",
              "  <tbody>\n",
              "    <tr>\n",
              "      <th>0</th>\n",
              "      <td>1</td>\n",
              "      <td>Male</td>\n",
              "      <td>19</td>\n",
              "      <td>15</td>\n",
              "      <td>39</td>\n",
              "    </tr>\n",
              "    <tr>\n",
              "      <th>1</th>\n",
              "      <td>2</td>\n",
              "      <td>Male</td>\n",
              "      <td>21</td>\n",
              "      <td>15</td>\n",
              "      <td>81</td>\n",
              "    </tr>\n",
              "    <tr>\n",
              "      <th>2</th>\n",
              "      <td>3</td>\n",
              "      <td>Female</td>\n",
              "      <td>20</td>\n",
              "      <td>16</td>\n",
              "      <td>6</td>\n",
              "    </tr>\n",
              "    <tr>\n",
              "      <th>3</th>\n",
              "      <td>4</td>\n",
              "      <td>Female</td>\n",
              "      <td>23</td>\n",
              "      <td>16</td>\n",
              "      <td>77</td>\n",
              "    </tr>\n",
              "    <tr>\n",
              "      <th>4</th>\n",
              "      <td>5</td>\n",
              "      <td>Female</td>\n",
              "      <td>31</td>\n",
              "      <td>17</td>\n",
              "      <td>40</td>\n",
              "    </tr>\n",
              "  </tbody>\n",
              "</table>\n",
              "</div>\n",
              "      <button class=\"colab-df-convert\" onclick=\"convertToInteractive('df-25fbd5d7-793a-4f69-aaed-29fdd47e95fe')\"\n",
              "              title=\"Convert this dataframe to an interactive table.\"\n",
              "              style=\"display:none;\">\n",
              "        \n",
              "  <svg xmlns=\"http://www.w3.org/2000/svg\" height=\"24px\"viewBox=\"0 0 24 24\"\n",
              "       width=\"24px\">\n",
              "    <path d=\"M0 0h24v24H0V0z\" fill=\"none\"/>\n",
              "    <path d=\"M18.56 5.44l.94 2.06.94-2.06 2.06-.94-2.06-.94-.94-2.06-.94 2.06-2.06.94zm-11 1L8.5 8.5l.94-2.06 2.06-.94-2.06-.94L8.5 2.5l-.94 2.06-2.06.94zm10 10l.94 2.06.94-2.06 2.06-.94-2.06-.94-.94-2.06-.94 2.06-2.06.94z\"/><path d=\"M17.41 7.96l-1.37-1.37c-.4-.4-.92-.59-1.43-.59-.52 0-1.04.2-1.43.59L10.3 9.45l-7.72 7.72c-.78.78-.78 2.05 0 2.83L4 21.41c.39.39.9.59 1.41.59.51 0 1.02-.2 1.41-.59l7.78-7.78 2.81-2.81c.8-.78.8-2.07 0-2.86zM5.41 20L4 18.59l7.72-7.72 1.47 1.35L5.41 20z\"/>\n",
              "  </svg>\n",
              "      </button>\n",
              "      \n",
              "  <style>\n",
              "    .colab-df-container {\n",
              "      display:flex;\n",
              "      flex-wrap:wrap;\n",
              "      gap: 12px;\n",
              "    }\n",
              "\n",
              "    .colab-df-convert {\n",
              "      background-color: #E8F0FE;\n",
              "      border: none;\n",
              "      border-radius: 50%;\n",
              "      cursor: pointer;\n",
              "      display: none;\n",
              "      fill: #1967D2;\n",
              "      height: 32px;\n",
              "      padding: 0 0 0 0;\n",
              "      width: 32px;\n",
              "    }\n",
              "\n",
              "    .colab-df-convert:hover {\n",
              "      background-color: #E2EBFA;\n",
              "      box-shadow: 0px 1px 2px rgba(60, 64, 67, 0.3), 0px 1px 3px 1px rgba(60, 64, 67, 0.15);\n",
              "      fill: #174EA6;\n",
              "    }\n",
              "\n",
              "    [theme=dark] .colab-df-convert {\n",
              "      background-color: #3B4455;\n",
              "      fill: #D2E3FC;\n",
              "    }\n",
              "\n",
              "    [theme=dark] .colab-df-convert:hover {\n",
              "      background-color: #434B5C;\n",
              "      box-shadow: 0px 1px 3px 1px rgba(0, 0, 0, 0.15);\n",
              "      filter: drop-shadow(0px 1px 2px rgba(0, 0, 0, 0.3));\n",
              "      fill: #FFFFFF;\n",
              "    }\n",
              "  </style>\n",
              "\n",
              "      <script>\n",
              "        const buttonEl =\n",
              "          document.querySelector('#df-25fbd5d7-793a-4f69-aaed-29fdd47e95fe button.colab-df-convert');\n",
              "        buttonEl.style.display =\n",
              "          google.colab.kernel.accessAllowed ? 'block' : 'none';\n",
              "\n",
              "        async function convertToInteractive(key) {\n",
              "          const element = document.querySelector('#df-25fbd5d7-793a-4f69-aaed-29fdd47e95fe');\n",
              "          const dataTable =\n",
              "            await google.colab.kernel.invokeFunction('convertToInteractive',\n",
              "                                                     [key], {});\n",
              "          if (!dataTable) return;\n",
              "\n",
              "          const docLinkHtml = 'Like what you see? Visit the ' +\n",
              "            '<a target=\"_blank\" href=https://colab.research.google.com/notebooks/data_table.ipynb>data table notebook</a>'\n",
              "            + ' to learn more about interactive tables.';\n",
              "          element.innerHTML = '';\n",
              "          dataTable['output_type'] = 'display_data';\n",
              "          await google.colab.output.renderOutput(dataTable, element);\n",
              "          const docLink = document.createElement('div');\n",
              "          docLink.innerHTML = docLinkHtml;\n",
              "          element.appendChild(docLink);\n",
              "        }\n",
              "      </script>\n",
              "    </div>\n",
              "  </div>\n",
              "  "
            ]
          },
          "metadata": {},
          "execution_count": 7
        }
      ]
    },
    {
      "cell_type": "markdown",
      "source": [
        "Vemos que tenemos información como el genero y la edad de los clientes, junto con su ingreso anual estimado (**Ingreso Anual (k$)**). También tenemos un puntaje de gasto calculado por el centro comercial **(Puntuación de gasto (1-100)**), que indica la cantidad de compras que el cliente ha realizado en el centro comercial: un puntaje más alto significa un gasto más alto."
      ],
      "metadata": {
        "id": "8IzukU1JVYEa"
      }
    },
    {
      "cell_type": "markdown",
      "source": [
        "Use el método de información del DataFrame para imprimir información al respecto:"
      ],
      "metadata": {
        "id": "Zol3N8fwViu7"
      }
    },
    {
      "cell_type": "markdown",
      "source": [],
      "metadata": {
        "id": "AcoFAlqmWOPm"
      }
    },
    {
      "cell_type": "code",
      "source": [
        "data0.info()"
      ],
      "metadata": {
        "id": "dE03aZZ6VtR2",
        "colab": {
          "base_uri": "https://localhost:8080/"
        },
        "outputId": "30aa5aec-9038-41a0-f237-9e6d5e0f500c"
      },
      "execution_count": 28,
      "outputs": [
        {
          "output_type": "stream",
          "name": "stdout",
          "text": [
            "<class 'pandas.core.frame.DataFrame'>\n",
            "RangeIndex: 200 entries, 0 to 199\n",
            "Data columns (total 5 columns):\n",
            " #   Column                  Non-Null Count  Dtype \n",
            "---  ------                  --------------  ----- \n",
            " 0   CustomerID              200 non-null    int64 \n",
            " 1   Gender                  200 non-null    object\n",
            " 2   Age                     200 non-null    int64 \n",
            " 3   Annual Income (k$)      200 non-null    int64 \n",
            " 4   Spending Score (1-100)  200 non-null    int64 \n",
            "dtypes: int64(4), object(1)\n",
            "memory usage: 7.9+ KB\n"
          ]
        }
      ]
    },
    {
      "cell_type": "markdown",
      "source": [
        "Se puede observar que el conjunto de datos contiene los datos de 200 clientes. También puede ver que no faltan valores en el conjunto de datos para manejar."
      ],
      "metadata": {
        "id": "XeYDXwbJV4p8"
      }
    },
    {
      "cell_type": "markdown",
      "source": [
        "4. Por conveniencia, cambie el nombre de Ingreso Anual (k$) y\n",
        "Spending Score (1-100) columnas a Income y Spend_score respectivamente, e imprima los cinco registros principales usando el siguiente código:"
      ],
      "metadata": {
        "id": "0AP4j39gWCtF"
      }
    },
    {
      "cell_type": "code",
      "source": [
        "data0.rename({'Annual Income (k$)':'Income', \\\n",
        "              'Spending Score (1-100)':'Spend_score'}, axis=1, \\\n",
        "             inplace=True)\n",
        "data0.head()"
      ],
      "metadata": {
        "id": "LxTJ-hz5WFJD",
        "colab": {
          "base_uri": "https://localhost:8080/",
          "height": 206
        },
        "outputId": "1324728c-b3c0-40e8-b9c6-32e32cc45df2"
      },
      "execution_count": 13,
      "outputs": [
        {
          "output_type": "execute_result",
          "data": {
            "text/plain": [
              "   CustomerID  Gender  Age  Income  Spend_score\n",
              "0           1    Male   19      15           39\n",
              "1           2    Male   21      15           81\n",
              "2           3  Female   20      16            6\n",
              "3           4  Female   23      16           77\n",
              "4           5  Female   31      17           40"
            ],
            "text/html": [
              "\n",
              "  <div id=\"df-5c96fb78-d028-4486-8e81-84cd79fb6ae7\">\n",
              "    <div class=\"colab-df-container\">\n",
              "      <div>\n",
              "<style scoped>\n",
              "    .dataframe tbody tr th:only-of-type {\n",
              "        vertical-align: middle;\n",
              "    }\n",
              "\n",
              "    .dataframe tbody tr th {\n",
              "        vertical-align: top;\n",
              "    }\n",
              "\n",
              "    .dataframe thead th {\n",
              "        text-align: right;\n",
              "    }\n",
              "</style>\n",
              "<table border=\"1\" class=\"dataframe\">\n",
              "  <thead>\n",
              "    <tr style=\"text-align: right;\">\n",
              "      <th></th>\n",
              "      <th>CustomerID</th>\n",
              "      <th>Gender</th>\n",
              "      <th>Age</th>\n",
              "      <th>Income</th>\n",
              "      <th>Spend_score</th>\n",
              "    </tr>\n",
              "  </thead>\n",
              "  <tbody>\n",
              "    <tr>\n",
              "      <th>0</th>\n",
              "      <td>1</td>\n",
              "      <td>Male</td>\n",
              "      <td>19</td>\n",
              "      <td>15</td>\n",
              "      <td>39</td>\n",
              "    </tr>\n",
              "    <tr>\n",
              "      <th>1</th>\n",
              "      <td>2</td>\n",
              "      <td>Male</td>\n",
              "      <td>21</td>\n",
              "      <td>15</td>\n",
              "      <td>81</td>\n",
              "    </tr>\n",
              "    <tr>\n",
              "      <th>2</th>\n",
              "      <td>3</td>\n",
              "      <td>Female</td>\n",
              "      <td>20</td>\n",
              "      <td>16</td>\n",
              "      <td>6</td>\n",
              "    </tr>\n",
              "    <tr>\n",
              "      <th>3</th>\n",
              "      <td>4</td>\n",
              "      <td>Female</td>\n",
              "      <td>23</td>\n",
              "      <td>16</td>\n",
              "      <td>77</td>\n",
              "    </tr>\n",
              "    <tr>\n",
              "      <th>4</th>\n",
              "      <td>5</td>\n",
              "      <td>Female</td>\n",
              "      <td>31</td>\n",
              "      <td>17</td>\n",
              "      <td>40</td>\n",
              "    </tr>\n",
              "  </tbody>\n",
              "</table>\n",
              "</div>\n",
              "      <button class=\"colab-df-convert\" onclick=\"convertToInteractive('df-5c96fb78-d028-4486-8e81-84cd79fb6ae7')\"\n",
              "              title=\"Convert this dataframe to an interactive table.\"\n",
              "              style=\"display:none;\">\n",
              "        \n",
              "  <svg xmlns=\"http://www.w3.org/2000/svg\" height=\"24px\"viewBox=\"0 0 24 24\"\n",
              "       width=\"24px\">\n",
              "    <path d=\"M0 0h24v24H0V0z\" fill=\"none\"/>\n",
              "    <path d=\"M18.56 5.44l.94 2.06.94-2.06 2.06-.94-2.06-.94-.94-2.06-.94 2.06-2.06.94zm-11 1L8.5 8.5l.94-2.06 2.06-.94-2.06-.94L8.5 2.5l-.94 2.06-2.06.94zm10 10l.94 2.06.94-2.06 2.06-.94-2.06-.94-.94-2.06-.94 2.06-2.06.94z\"/><path d=\"M17.41 7.96l-1.37-1.37c-.4-.4-.92-.59-1.43-.59-.52 0-1.04.2-1.43.59L10.3 9.45l-7.72 7.72c-.78.78-.78 2.05 0 2.83L4 21.41c.39.39.9.59 1.41.59.51 0 1.02-.2 1.41-.59l7.78-7.78 2.81-2.81c.8-.78.8-2.07 0-2.86zM5.41 20L4 18.59l7.72-7.72 1.47 1.35L5.41 20z\"/>\n",
              "  </svg>\n",
              "      </button>\n",
              "      \n",
              "  <style>\n",
              "    .colab-df-container {\n",
              "      display:flex;\n",
              "      flex-wrap:wrap;\n",
              "      gap: 12px;\n",
              "    }\n",
              "\n",
              "    .colab-df-convert {\n",
              "      background-color: #E8F0FE;\n",
              "      border: none;\n",
              "      border-radius: 50%;\n",
              "      cursor: pointer;\n",
              "      display: none;\n",
              "      fill: #1967D2;\n",
              "      height: 32px;\n",
              "      padding: 0 0 0 0;\n",
              "      width: 32px;\n",
              "    }\n",
              "\n",
              "    .colab-df-convert:hover {\n",
              "      background-color: #E2EBFA;\n",
              "      box-shadow: 0px 1px 2px rgba(60, 64, 67, 0.3), 0px 1px 3px 1px rgba(60, 64, 67, 0.15);\n",
              "      fill: #174EA6;\n",
              "    }\n",
              "\n",
              "    [theme=dark] .colab-df-convert {\n",
              "      background-color: #3B4455;\n",
              "      fill: #D2E3FC;\n",
              "    }\n",
              "\n",
              "    [theme=dark] .colab-df-convert:hover {\n",
              "      background-color: #434B5C;\n",
              "      box-shadow: 0px 1px 3px 1px rgba(0, 0, 0, 0.15);\n",
              "      filter: drop-shadow(0px 1px 2px rgba(0, 0, 0, 0.3));\n",
              "      fill: #FFFFFF;\n",
              "    }\n",
              "  </style>\n",
              "\n",
              "      <script>\n",
              "        const buttonEl =\n",
              "          document.querySelector('#df-5c96fb78-d028-4486-8e81-84cd79fb6ae7 button.colab-df-convert');\n",
              "        buttonEl.style.display =\n",
              "          google.colab.kernel.accessAllowed ? 'block' : 'none';\n",
              "\n",
              "        async function convertToInteractive(key) {\n",
              "          const element = document.querySelector('#df-5c96fb78-d028-4486-8e81-84cd79fb6ae7');\n",
              "          const dataTable =\n",
              "            await google.colab.kernel.invokeFunction('convertToInteractive',\n",
              "                                                     [key], {});\n",
              "          if (!dataTable) return;\n",
              "\n",
              "          const docLinkHtml = 'Like what you see? Visit the ' +\n",
              "            '<a target=\"_blank\" href=https://colab.research.google.com/notebooks/data_table.ipynb>data table notebook</a>'\n",
              "            + ' to learn more about interactive tables.';\n",
              "          element.innerHTML = '';\n",
              "          dataTable['output_type'] = 'display_data';\n",
              "          await google.colab.output.renderOutput(dataTable, element);\n",
              "          const docLink = document.createElement('div');\n",
              "          docLink.innerHTML = docLinkHtml;\n",
              "          element.appendChild(docLink);\n",
              "        }\n",
              "      </script>\n",
              "    </div>\n",
              "  </div>\n",
              "  "
            ]
          },
          "metadata": {},
          "execution_count": 13
        }
      ]
    },
    {
      "cell_type": "markdown",
      "source": [
        "5. Para obtener una comprensión de alto nivel de los datos del cliente, imprima el resumen descriptivo de los campos numéricos en los datos utilizando el método de descripción de DataFrame"
      ],
      "metadata": {
        "id": "roSo2iFBWRP1"
      }
    },
    {
      "cell_type": "code",
      "source": [
        "data0.describe()"
      ],
      "metadata": {
        "id": "Jc2zUe-uWTiv",
        "colab": {
          "base_uri": "https://localhost:8080/",
          "height": 300
        },
        "outputId": "7781ad44-686e-4300-8cec-09e586cea656"
      },
      "execution_count": 14,
      "outputs": [
        {
          "output_type": "execute_result",
          "data": {
            "text/plain": [
              "       CustomerID         Age      Income  Spend_score\n",
              "count  200.000000  200.000000  200.000000   200.000000\n",
              "mean   100.500000   38.850000   60.560000    50.200000\n",
              "std     57.879185   13.969007   26.264721    25.823522\n",
              "min      1.000000   18.000000   15.000000     1.000000\n",
              "25%     50.750000   28.750000   41.500000    34.750000\n",
              "50%    100.500000   36.000000   61.500000    50.000000\n",
              "75%    150.250000   49.000000   78.000000    73.000000\n",
              "max    200.000000   70.000000  137.000000    99.000000"
            ],
            "text/html": [
              "\n",
              "  <div id=\"df-f7a01bb4-b2af-4069-b243-7496c148e4e1\">\n",
              "    <div class=\"colab-df-container\">\n",
              "      <div>\n",
              "<style scoped>\n",
              "    .dataframe tbody tr th:only-of-type {\n",
              "        vertical-align: middle;\n",
              "    }\n",
              "\n",
              "    .dataframe tbody tr th {\n",
              "        vertical-align: top;\n",
              "    }\n",
              "\n",
              "    .dataframe thead th {\n",
              "        text-align: right;\n",
              "    }\n",
              "</style>\n",
              "<table border=\"1\" class=\"dataframe\">\n",
              "  <thead>\n",
              "    <tr style=\"text-align: right;\">\n",
              "      <th></th>\n",
              "      <th>CustomerID</th>\n",
              "      <th>Age</th>\n",
              "      <th>Income</th>\n",
              "      <th>Spend_score</th>\n",
              "    </tr>\n",
              "  </thead>\n",
              "  <tbody>\n",
              "    <tr>\n",
              "      <th>count</th>\n",
              "      <td>200.000000</td>\n",
              "      <td>200.000000</td>\n",
              "      <td>200.000000</td>\n",
              "      <td>200.000000</td>\n",
              "    </tr>\n",
              "    <tr>\n",
              "      <th>mean</th>\n",
              "      <td>100.500000</td>\n",
              "      <td>38.850000</td>\n",
              "      <td>60.560000</td>\n",
              "      <td>50.200000</td>\n",
              "    </tr>\n",
              "    <tr>\n",
              "      <th>std</th>\n",
              "      <td>57.879185</td>\n",
              "      <td>13.969007</td>\n",
              "      <td>26.264721</td>\n",
              "      <td>25.823522</td>\n",
              "    </tr>\n",
              "    <tr>\n",
              "      <th>min</th>\n",
              "      <td>1.000000</td>\n",
              "      <td>18.000000</td>\n",
              "      <td>15.000000</td>\n",
              "      <td>1.000000</td>\n",
              "    </tr>\n",
              "    <tr>\n",
              "      <th>25%</th>\n",
              "      <td>50.750000</td>\n",
              "      <td>28.750000</td>\n",
              "      <td>41.500000</td>\n",
              "      <td>34.750000</td>\n",
              "    </tr>\n",
              "    <tr>\n",
              "      <th>50%</th>\n",
              "      <td>100.500000</td>\n",
              "      <td>36.000000</td>\n",
              "      <td>61.500000</td>\n",
              "      <td>50.000000</td>\n",
              "    </tr>\n",
              "    <tr>\n",
              "      <th>75%</th>\n",
              "      <td>150.250000</td>\n",
              "      <td>49.000000</td>\n",
              "      <td>78.000000</td>\n",
              "      <td>73.000000</td>\n",
              "    </tr>\n",
              "    <tr>\n",
              "      <th>max</th>\n",
              "      <td>200.000000</td>\n",
              "      <td>70.000000</td>\n",
              "      <td>137.000000</td>\n",
              "      <td>99.000000</td>\n",
              "    </tr>\n",
              "  </tbody>\n",
              "</table>\n",
              "</div>\n",
              "      <button class=\"colab-df-convert\" onclick=\"convertToInteractive('df-f7a01bb4-b2af-4069-b243-7496c148e4e1')\"\n",
              "              title=\"Convert this dataframe to an interactive table.\"\n",
              "              style=\"display:none;\">\n",
              "        \n",
              "  <svg xmlns=\"http://www.w3.org/2000/svg\" height=\"24px\"viewBox=\"0 0 24 24\"\n",
              "       width=\"24px\">\n",
              "    <path d=\"M0 0h24v24H0V0z\" fill=\"none\"/>\n",
              "    <path d=\"M18.56 5.44l.94 2.06.94-2.06 2.06-.94-2.06-.94-.94-2.06-.94 2.06-2.06.94zm-11 1L8.5 8.5l.94-2.06 2.06-.94-2.06-.94L8.5 2.5l-.94 2.06-2.06.94zm10 10l.94 2.06.94-2.06 2.06-.94-2.06-.94-.94-2.06-.94 2.06-2.06.94z\"/><path d=\"M17.41 7.96l-1.37-1.37c-.4-.4-.92-.59-1.43-.59-.52 0-1.04.2-1.43.59L10.3 9.45l-7.72 7.72c-.78.78-.78 2.05 0 2.83L4 21.41c.39.39.9.59 1.41.59.51 0 1.02-.2 1.41-.59l7.78-7.78 2.81-2.81c.8-.78.8-2.07 0-2.86zM5.41 20L4 18.59l7.72-7.72 1.47 1.35L5.41 20z\"/>\n",
              "  </svg>\n",
              "      </button>\n",
              "      \n",
              "  <style>\n",
              "    .colab-df-container {\n",
              "      display:flex;\n",
              "      flex-wrap:wrap;\n",
              "      gap: 12px;\n",
              "    }\n",
              "\n",
              "    .colab-df-convert {\n",
              "      background-color: #E8F0FE;\n",
              "      border: none;\n",
              "      border-radius: 50%;\n",
              "      cursor: pointer;\n",
              "      display: none;\n",
              "      fill: #1967D2;\n",
              "      height: 32px;\n",
              "      padding: 0 0 0 0;\n",
              "      width: 32px;\n",
              "    }\n",
              "\n",
              "    .colab-df-convert:hover {\n",
              "      background-color: #E2EBFA;\n",
              "      box-shadow: 0px 1px 2px rgba(60, 64, 67, 0.3), 0px 1px 3px 1px rgba(60, 64, 67, 0.15);\n",
              "      fill: #174EA6;\n",
              "    }\n",
              "\n",
              "    [theme=dark] .colab-df-convert {\n",
              "      background-color: #3B4455;\n",
              "      fill: #D2E3FC;\n",
              "    }\n",
              "\n",
              "    [theme=dark] .colab-df-convert:hover {\n",
              "      background-color: #434B5C;\n",
              "      box-shadow: 0px 1px 3px 1px rgba(0, 0, 0, 0.15);\n",
              "      filter: drop-shadow(0px 1px 2px rgba(0, 0, 0, 0.3));\n",
              "      fill: #FFFFFF;\n",
              "    }\n",
              "  </style>\n",
              "\n",
              "      <script>\n",
              "        const buttonEl =\n",
              "          document.querySelector('#df-f7a01bb4-b2af-4069-b243-7496c148e4e1 button.colab-df-convert');\n",
              "        buttonEl.style.display =\n",
              "          google.colab.kernel.accessAllowed ? 'block' : 'none';\n",
              "\n",
              "        async function convertToInteractive(key) {\n",
              "          const element = document.querySelector('#df-f7a01bb4-b2af-4069-b243-7496c148e4e1');\n",
              "          const dataTable =\n",
              "            await google.colab.kernel.invokeFunction('convertToInteractive',\n",
              "                                                     [key], {});\n",
              "          if (!dataTable) return;\n",
              "\n",
              "          const docLinkHtml = 'Like what you see? Visit the ' +\n",
              "            '<a target=\"_blank\" href=https://colab.research.google.com/notebooks/data_table.ipynb>data table notebook</a>'\n",
              "            + ' to learn more about interactive tables.';\n",
              "          element.innerHTML = '';\n",
              "          dataTable['output_type'] = 'display_data';\n",
              "          await google.colab.output.renderOutput(dataTable, element);\n",
              "          const docLink = document.createElement('div');\n",
              "          docLink.innerHTML = docLinkHtml;\n",
              "          element.appendChild(docLink);\n",
              "        }\n",
              "      </script>\n",
              "    </div>\n",
              "  </div>\n",
              "  "
            ]
          },
          "metadata": {},
          "execution_count": 14
        }
      ]
    },
    {
      "cell_type": "markdown",
      "source": [
        "#figure_3_4 Figura 3.4: Resumen descriptivo del conjunto de datos\n",
        "\n",
        "Los promedios generales muestran que la edad promedio del cliente es de alrededor de **39 años** y el ingreso promedio es de alrededor de **61,000 USD**. Los puntajes de gasto parecen calcularse en base a percentiles, con un **valor mínimo de 1 y un máximo de 99**, lo cual es común con los percentiles (los puntajes de 0 a 1 también son comunes para los percentiles). El ingreso máximo ronda los **137.000 USD**. Al observar estos valores, no sospechamos ningún valor atípico en los datos. Esto completa una comprensión de muy alto nivel de los datos."
      ],
      "metadata": {
        "id": "T3c_I0CTWdq6"
      }
    },
    {
      "cell_type": "markdown",
      "source": [
        "# 3.1 Enfoques de la segmentación\n",
        "\n",
        "Cada grupo de marketing hace, en efecto, cierta cantidad de segmentación de clientes. Sin embargo, los métodos que utilizan para hacer esto pueden no ser siempre claros. Estos pueden basarse en intuiciones  sobre ciertos grupos demográficos, o pueden ser el resultado de algún software de marketing, donde los métodos utilizados son oscuros. Hay ventajas y desventajas para cada método posible y comprenderlas le permite utilizar la herramienta adecuada para el trabajo. En las siguientes secciones, analizaremos algunos de los **enfoques** más utilizados para la segmentación de clientes junto con las consideraciones al usar dichos enfoques."
      ],
      "metadata": {
        "id": "uDrZ_Cuz5kwl"
      }
    },
    {
      "cell_type": "markdown",
      "source": [
        "# 3.1.1 Métodos de segmentación tradicionales\n",
        "Un método preferido por los analistas de marketing consiste en generar **agrupaciones** aproximadas basadas en:\n",
        "- **intuiciones y umbrales arbitrarios**.\n",
        "\n",
        "Para ello, aprovechan todos los datos sobre los clientes que tienen a su disposición, normalmente demográficos o de comportamiento. Un ejemplo de esto sería decidir segmentar a los clientes en diferentes niveles de ingresos en función de incrementos de $10,000. Otro enfoque podría ser observar cómo se distribuyen los valores de los atributos y buscar umbrales naturales a partir de los datos."
      ],
      "metadata": {
        "id": "ueggUSyk53RF"
      }
    },
    {
      "cell_type": "markdown",
      "source": [
        "## Ejercicio 3.02: Segmentación Tradicional de Clientes de Centros Comerciales\n",
        "\n",
        "El centro comercial quiere segmentar a sus clientes y planea utilizar los segmentos derivados para mejorar sus campañas de marketing. El equipo comercial cree que la segmentación en función de los:\n",
        "- **niveles de ingresos** \n",
        "\n",
        "es relevante para sus ofertas. \n",
        "\n",
        "Se le pide que utilice un enfoque tradicional basado en reglas para definir los segmentos de clientes."
      ],
      "metadata": {
        "id": "bM5XhiV36o9w"
      }
    },
    {
      "cell_type": "markdown",
      "source": [
        "\n",
        "En este ejercicio, realizará su primera segmentación de clientes utilizando los **ingresos del cliente**, empleando un enfoque tradicional basado en **reglas** para definir segmentos de clientes. Graficará la distribución de la variable Ingresos y asignará grupos a los clientes en función de dónde vea que se encuentran los valores:"
      ],
      "metadata": {
        "id": "5vzpOF6t7BGI"
      }
    },
    {
      "cell_type": "markdown",
      "source": [
        "1. Grafique un histograma de la columna Ingresos usando el método de trazado de DataFrame usando el siguiente código:"
      ],
      "metadata": {
        "id": "-Y3_vuRG7N4c"
      }
    },
    {
      "cell_type": "code",
      "source": [
        "data0.Income.plot.hist(color='gray', figsize=(12,8)) \n",
        "plt.xlabel('Income')\n",
        "plt.show()"
      ],
      "metadata": {
        "colab": {
          "base_uri": "https://localhost:8080/",
          "height": 497
        },
        "id": "UnaOm8Ha6_KJ",
        "outputId": "797bae0d-61a2-4f0e-c3ca-c0b3199773de"
      },
      "execution_count": 15,
      "outputs": [
        {
          "output_type": "display_data",
          "data": {
            "text/plain": [
              "<Figure size 864x576 with 1 Axes>"
            ],
            "image/png": "[encoded data removed]"
          },
          "metadata": {
            "needs_background": "light"
          }
        }
      ]
    },
    {
      "cell_type": "markdown",
      "source": [
        "Más allá de 90k, la frecuencia en los contenedores cae drásticamente y parece que estos clientes, naturalmente, pueden considerarse un grupo separado que representa a los clientes de altos ingresos. Una buena proporción de clientes parece estar en el rango de 50k-90k. Estos pueden ser considerados clientes de ingresos moderados. Los clientes que ganan menos de 40k serían clientes de bajos ingresos. Podemos usar estos puntos de corte para dividir a los clientes en tres grupos, como en la siguiente figura. Los segmentos punteados denotan los cortes/umbrales."
      ],
      "metadata": {
        "id": "QVnSlfjM9ddI"
      }
    },
    {
      "cell_type": "markdown",
      "source": [
        "\n",
        "\n",
        "<figure>\n",
        "<center><img src='https://drive.google.com/uc?export=view&id=1SNXe-H0eZP5WtwU0nDlunzZ1IvSPxxlN' width=\"800\" />\n",
        "<figcaption>Figura 3.6: Segmentación de los clientes en función de los ingresos</figcaption></center>\n",
        "</figure>\n"
      ],
      "metadata": {
        "id": "NqyQSo8z-oZ6"
      }
    },
    {
      "cell_type": "markdown",
      "source": [
        "2. Cree una nueva columna, Cluster, para tener los ingresos bajos,\n",
        "Valores de ingresos moderados y ingresos altos para clientes con ingresos en los rangos < 50, 50–90 y >= 90 respectivamente"
      ],
      "metadata": {
        "id": "0H-YZid69uju"
      }
    },
    {
      "cell_type": "code",
      "source": [
        "data0['Cluster'] = np.where(data0.Income >= 90, 'High earners', \\\n",
        "                            np.where(data0.Income < 50, \\\n",
        "                            'Low Income', 'Moderate Income'))"
      ],
      "metadata": {
        "id": "fwe415bx9lRs"
      },
      "execution_count": 16,
      "outputs": []
    },
    {
      "cell_type": "markdown",
      "source": [
        "3. Para verificar la cantidad de clientes en cada grupo y confirmar si los valores de la columna Ingresos en los grupos están en el rango correcto, obtenga un resumen descriptivo de Ingresos para estos grupos"
      ],
      "metadata": {
        "id": "3sIRtcXy96p7"
      }
    },
    {
      "cell_type": "code",
      "source": [
        " data0.groupby('Cluster')['Income'].describe()"
      ],
      "metadata": {
        "colab": {
          "base_uri": "https://localhost:8080/",
          "height": 175
        },
        "id": "yRQB5L_k-FU8",
        "outputId": "24a9d7a4-cb32-4572-a88c-c14a574f5fa6"
      },
      "execution_count": 17,
      "outputs": [
        {
          "output_type": "execute_result",
          "data": {
            "text/plain": [
              "                 count        mean        std   min    25%    50%     75%  \\\n",
              "Cluster                                                                     \n",
              "High earners      22.0  108.181818  13.661334  93.0  98.25  103.0  118.25   \n",
              "Low Income        72.0   33.027778  11.091136  15.0  22.50   33.5   43.00   \n",
              "Moderate Income  106.0   69.377358  10.651584  50.0  61.00   70.0   78.00   \n",
              "\n",
              "                   max  \n",
              "Cluster                 \n",
              "High earners     137.0  \n",
              "Low Income        49.0  \n",
              "Moderate Income   88.0  "
            ],
            "text/html": [
              "\n",
              "  <div id=\"df-7b0931e3-b1f3-4c29-813d-786955d5b44e\">\n",
              "    <div class=\"colab-df-container\">\n",
              "      <div>\n",
              "<style scoped>\n",
              "    .dataframe tbody tr th:only-of-type {\n",
              "        vertical-align: middle;\n",
              "    }\n",
              "\n",
              "    .dataframe tbody tr th {\n",
              "        vertical-align: top;\n",
              "    }\n",
              "\n",
              "    .dataframe thead th {\n",
              "        text-align: right;\n",
              "    }\n",
              "</style>\n",
              "<table border=\"1\" class=\"dataframe\">\n",
              "  <thead>\n",
              "    <tr style=\"text-align: right;\">\n",
              "      <th></th>\n",
              "      <th>count</th>\n",
              "      <th>mean</th>\n",
              "      <th>std</th>\n",
              "      <th>min</th>\n",
              "      <th>25%</th>\n",
              "      <th>50%</th>\n",
              "      <th>75%</th>\n",
              "      <th>max</th>\n",
              "    </tr>\n",
              "    <tr>\n",
              "      <th>Cluster</th>\n",
              "      <th></th>\n",
              "      <th></th>\n",
              "      <th></th>\n",
              "      <th></th>\n",
              "      <th></th>\n",
              "      <th></th>\n",
              "      <th></th>\n",
              "      <th></th>\n",
              "    </tr>\n",
              "  </thead>\n",
              "  <tbody>\n",
              "    <tr>\n",
              "      <th>High earners</th>\n",
              "      <td>22.0</td>\n",
              "      <td>108.181818</td>\n",
              "      <td>13.661334</td>\n",
              "      <td>93.0</td>\n",
              "      <td>98.25</td>\n",
              "      <td>103.0</td>\n",
              "      <td>118.25</td>\n",
              "      <td>137.0</td>\n",
              "    </tr>\n",
              "    <tr>\n",
              "      <th>Low Income</th>\n",
              "      <td>72.0</td>\n",
              "      <td>33.027778</td>\n",
              "      <td>11.091136</td>\n",
              "      <td>15.0</td>\n",
              "      <td>22.50</td>\n",
              "      <td>33.5</td>\n",
              "      <td>43.00</td>\n",
              "      <td>49.0</td>\n",
              "    </tr>\n",
              "    <tr>\n",
              "      <th>Moderate Income</th>\n",
              "      <td>106.0</td>\n",
              "      <td>69.377358</td>\n",
              "      <td>10.651584</td>\n",
              "      <td>50.0</td>\n",
              "      <td>61.00</td>\n",
              "      <td>70.0</td>\n",
              "      <td>78.00</td>\n",
              "      <td>88.0</td>\n",
              "    </tr>\n",
              "  </tbody>\n",
              "</table>\n",
              "</div>\n",
              "      <button class=\"colab-df-convert\" onclick=\"convertToInteractive('df-7b0931e3-b1f3-4c29-813d-786955d5b44e')\"\n",
              "              title=\"Convert this dataframe to an interactive table.\"\n",
              "              style=\"display:none;\">\n",
              "        \n",
              "  <svg xmlns=\"http://www.w3.org/2000/svg\" height=\"24px\"viewBox=\"0 0 24 24\"\n",
              "       width=\"24px\">\n",
              "    <path d=\"M0 0h24v24H0V0z\" fill=\"none\"/>\n",
              "    <path d=\"M18.56 5.44l.94 2.06.94-2.06 2.06-.94-2.06-.94-.94-2.06-.94 2.06-2.06.94zm-11 1L8.5 8.5l.94-2.06 2.06-.94-2.06-.94L8.5 2.5l-.94 2.06-2.06.94zm10 10l.94 2.06.94-2.06 2.06-.94-2.06-.94-.94-2.06-.94 2.06-2.06.94z\"/><path d=\"M17.41 7.96l-1.37-1.37c-.4-.4-.92-.59-1.43-.59-.52 0-1.04.2-1.43.59L10.3 9.45l-7.72 7.72c-.78.78-.78 2.05 0 2.83L4 21.41c.39.39.9.59 1.41.59.51 0 1.02-.2 1.41-.59l7.78-7.78 2.81-2.81c.8-.78.8-2.07 0-2.86zM5.41 20L4 18.59l7.72-7.72 1.47 1.35L5.41 20z\"/>\n",
              "  </svg>\n",
              "      </button>\n",
              "      \n",
              "  <style>\n",
              "    .colab-df-container {\n",
              "      display:flex;\n",
              "      flex-wrap:wrap;\n",
              "      gap: 12px;\n",
              "    }\n",
              "\n",
              "    .colab-df-convert {\n",
              "      background-color: #E8F0FE;\n",
              "      border: none;\n",
              "      border-radius: 50%;\n",
              "      cursor: pointer;\n",
              "      display: none;\n",
              "      fill: #1967D2;\n",
              "      height: 32px;\n",
              "      padding: 0 0 0 0;\n",
              "      width: 32px;\n",
              "    }\n",
              "\n",
              "    .colab-df-convert:hover {\n",
              "      background-color: #E2EBFA;\n",
              "      box-shadow: 0px 1px 2px rgba(60, 64, 67, 0.3), 0px 1px 3px 1px rgba(60, 64, 67, 0.15);\n",
              "      fill: #174EA6;\n",
              "    }\n",
              "\n",
              "    [theme=dark] .colab-df-convert {\n",
              "      background-color: #3B4455;\n",
              "      fill: #D2E3FC;\n",
              "    }\n",
              "\n",
              "    [theme=dark] .colab-df-convert:hover {\n",
              "      background-color: #434B5C;\n",
              "      box-shadow: 0px 1px 3px 1px rgba(0, 0, 0, 0.15);\n",
              "      filter: drop-shadow(0px 1px 2px rgba(0, 0, 0, 0.3));\n",
              "      fill: #FFFFFF;\n",
              "    }\n",
              "  </style>\n",
              "\n",
              "      <script>\n",
              "        const buttonEl =\n",
              "          document.querySelector('#df-7b0931e3-b1f3-4c29-813d-786955d5b44e button.colab-df-convert');\n",
              "        buttonEl.style.display =\n",
              "          google.colab.kernel.accessAllowed ? 'block' : 'none';\n",
              "\n",
              "        async function convertToInteractive(key) {\n",
              "          const element = document.querySelector('#df-7b0931e3-b1f3-4c29-813d-786955d5b44e');\n",
              "          const dataTable =\n",
              "            await google.colab.kernel.invokeFunction('convertToInteractive',\n",
              "                                                     [key], {});\n",
              "          if (!dataTable) return;\n",
              "\n",
              "          const docLinkHtml = 'Like what you see? Visit the ' +\n",
              "            '<a target=\"_blank\" href=https://colab.research.google.com/notebooks/data_table.ipynb>data table notebook</a>'\n",
              "            + ' to learn more about interactive tables.';\n",
              "          element.innerHTML = '';\n",
              "          dataTable['output_type'] = 'display_data';\n",
              "          await google.colab.output.renderOutput(dataTable, element);\n",
              "          const docLink = document.createElement('div');\n",
              "          docLink.innerHTML = docLinkHtml;\n",
              "          element.appendChild(docLink);\n",
              "        }\n",
              "      </script>\n",
              "    </div>\n",
              "  </div>\n",
              "  "
            ]
          },
          "metadata": {},
          "execution_count": 17
        }
      ]
    },
    {
      "cell_type": "markdown",
      "source": [
        "Los valores máximo y mínimo para cada clúster confirman que los clústeres se han definido como pretendíamos. La mayoría de los clientes se encuentran en el grupo de ingresos moderados. También puede ver que solo 22 clientes están marcados como\n",
        "altos ingresos"
      ],
      "metadata": {
        "id": "nhrdF4O0_aF1"
      }
    },
    {
      "cell_type": "markdown",
      "source": [
        "Este tipo de métodos tienen la ventaja de ser simples y fáciles de entender. \n",
        "\n",
        "Sin embargo, la segmentación con enfoques tradicionales se vuelve mucho más compleja cuando se **agregan más variables**, como la edad, el género, otra información demográfica relevante u otros atributos relevantes identificados por la empresa. \n",
        "\n",
        "A medida que aumenta el número de variables, se vuelve difícil elegir **umbrales** de manera que no termine con grupos con muy pocos clientes en ellos. \n",
        "\n",
        "Por ejemplo, ¿cuántas personas habría en el grupo de 18 a 25 años que ganan $100,000 o más?\n",
        "\n",
        "Esto se vuelve más importante cuando se observan los datos de comportamiento de los clientes. La creación de grupos basados ​​en la intuición puede dar lugar a que se pasen por alto **patrones** subyacentes en los datos. Por ejemplo, puede haber segmentos de la población que respondan bien a tipos muy específicos de ofertas de marketing. \n",
        "\n",
        "Si el analista que realiza la segmentación no conoce este grupo específico y los tipos de anuncios a los que responden los clientes del grupo, es posible que no pueda capturarlos como un grupo único. Por ejemplo, un analista de marketing que separa a los clientes en aquellos que responden a ofertas de productos costosos y aquellos que responden a ofertas de productos económicos podría pasar por alto un grupo de clientes que solo están interesados ​​en productos electrónicos, independientemente de si son caros o económicos."
      ],
      "metadata": {
        "id": "UUUr9WTHAuXW"
      }
    },
    {
      "cell_type": "markdown",
      "source": [
        "# 3.2 Aprendizaje no supervisado (Clustering) para la segmentación de clientes\n",
        "Otro método para realizar la segmentación de clientes es utilizar el aprendizaje automático no supervisado. A menudo es una técnica muy poderosa ya que tiende a ** recoger** en patrones en los datos que de otro modo podrían perderse. Es perfecto para la segmentación de clientes porque encuentra los puntos de datos que más **se parecen y los agrupa**, que es exactamente lo que deberían hacer las buenas técnicas de segmentación de clientes."
      ],
      "metadata": {
        "id": "XOpX_MsrA8HV"
      }
    },
    {
      "cell_type": "markdown",
      "source": [
        "La agrupación en clústeres es un tipo de técnica de aprendizaje automático no supervisado que busca en grupos o conglomerados de datos **sin conocerlos de antemano**. Las siguientes son algunas de las ventajas y desventajas del uso de clústeres para la segmentación de clientes.\n",
        "\n",
        "Estas son las ventajas de la agrupación:\n",
        "- Puede encontrar grupos de clientes inesperados o desconocidos para el analista\n",
        "- Flexible y se puede utilizar para una amplia gama de datos\n",
        "- Reduce la necesidad de conocimientos profundos sobre las conexiones entre la demografía de los clientes y los comportamientos\n",
        "- Rápido de realizar; escalable a conjuntos de datos muy grandes"
      ],
      "metadata": {
        "id": "X4hTywwBBFh2"
      }
    },
    {
      "cell_type": "markdown",
      "source": [
        "Estas son las desventajas de la agrupación:\n",
        "- Los grupos de clientes creados pueden no ser **fáciles de interpretar**.\n",
        "- Si los datos no se basan en el comportamiento del consumidor (como productos o servicios comprados), puede que no quede claro cómo usar los grupos que se encuentran.\n",
        "\n",
        "Como era de esperar, una desventaja de la agrupación en clústeres es que puede encontrar grupos que no parecen tener mucho sentido en la superficie. A menudo, esto se puede solucionar mediante el uso de un algoritmo de agrupación en clústeres más adecuado. "
      ],
      "metadata": {
        "id": "5Tsj86BjBPD9"
      }
    },
    {
      "cell_type": "markdown",
      "source": [
        "# 3.2.1 Elección de atributos relevantes (criterios de segmentación)\n",
        "Para usar el agrupamiento para la segmentación de clientes (para agrupar clientes con otros clientes que tienen características similares), primero debe decidir qué significa similar, o en otras palabras, debe ser preciso al definir qué tipos de clientes son similares. La elección de las propiedades que intervienen en el proceso de segmentación es una decisión extremadamente importante, ya que define cómo se representan las entidades y dirige la naturaleza de los grupos formados.\n",
        "\n",
        "Digamos que deseamos segmentar a los clientes únicamente por su frecuencia de compra y valor de transacción. En tal situación, los atributos como la edad, el sexo u otros datos demográficos no serían relevantes. Por otro lado, si la intención es segmentar a los clientes puramente demográficamente, su frecuencia de compra y valor de transacción serían los atributos que no serían relevantes para nosotros.\n",
        "\n",
        "Un buen criterio para la segmentación podría ser el compromiso del cliente, que incluye características como el tiempo que pasa en el sitio, las visitas a la plataforma en un período de tiempo definido, las páginas vistas en un sitio web, los días desde el último inicio de sesión, etc. Al trabajar con un conjunto de datos que involucra este tipo de datos, necesitaríamos almacenar los datos de cada entidad, por ejemplo, un cliente, en una fila. Los valores para cada fila en los datos serían representativos de un cliente, de manera más general, de cada entidad de interés (tiempo pasado en el sitio, por ejemplo) en el conjunto de datos. Este tipo de representación ayuda a comparar una entidad con otras entidades en el conjunto de datos."
      ],
      "metadata": {
        "id": "skxXlpidBXBM"
      }
    },
    {
      "cell_type": "markdown",
      "source": [
        "Para nuestro caso de estudio, decidamos los criterios de segmentación. Independientemente de la edad, digamos que deseamos separar a los clientes en función de su nivel de ingresos y puntajes de gastos. Al utilizarlos, podríamos tener una estrategia de marketing diferencial para los clientes que tienen, por ejemplo, ingresos altos y puntajes de gastos bajos frente a aquellos con ingresos bajos y puntajes de gastos altos. Con los criterios de segmentación decididos, es decir, los atributos relevantes elegidos, comprendamos algunos conceptos clave que permiten el proceso de agrupación."
      ],
      "metadata": {
        "id": "Af7KJBDRBi_n"
      }
    },
    {
      "cell_type": "markdown",
      "source": [
        "Un ejercicio general de segmentación de clientes implica los siguientes pasos clave:\n",
        "\n",
        "# 3.2.2 Estandarización de datos\n",
        "Para poder agrupar a los clientes en función de variables continuas, primero debemos volver a **escalar** estos parámetros para que los datos estén en escalas similares. ¿Por qué? tomar edad e ingresos, por ejemplo. Estos están en escalas muy diferentes. \n",
        "\n",
        "Es bastante común ver ingresos anuales de dos personas que difieren \n",
        "en \\$ 10,000 pero sería muy extraño ver que sus edades difieren en 10,000 años. Por lo tanto, necesitamos controlar mejor cómo el cambio en una variable afecta la similitud general entre los clientes. Por ejemplo, podemos querer que una diferencia de edad de 10 años entre dos clientes sea tratada como equivalente a una diferencia de ingresos de $10,000. Sin embargo, hacer este tipo de determinaciones manualmente para cada variable sería difícil. Esta es la razón por la que normalmente estandarizamos los datos, para ponerlos todos en una escala estándar.\n",
        "\n",
        "La escala tiene un impacto significativo en la similitud percibida entre las entidades. Para comprender el impacto de la escala y las unidades de medida de una manera simple y visual, considere los tres gráficos de la Figura 3.9. Los gráficos representan datos de cuatro clientes (C1, C2, C3, C4). Los datos originales están en la siguiente tabla, donde tienes la edad del cliente en años y el ingreso anual en 000's INR (Rupia Nacional India):\n",
        "\n",
        "\n",
        "<figure>\n",
        "<center><img src='https://drive.google.com/uc?export=view&id=1vrjHFF7Nt7CdjFu7B87n2UfaxCsHXxp4' width=\"800\" />\n",
        "<figcaption>Figura 3.8: Datos de cuatro clientes</figcaption></center>\n",
        "</figure>\n",
        "\n"
      ],
      "metadata": {
        "id": "nsiwAKS7CBDn"
      }
    },
    {
      "cell_type": "markdown",
      "source": [
        "Si trazamos los clientes como puntos en un diagrama de dispersión con Edad en el eje x e Ingreso en el eje y, vemos que los ingresos de los clientes C3 y C4 están muy cerca uno del otro y que los ingresos de los clientes C1 y C2 forman un par. Pero, ¿y si convertimos el ingreso anual a USD (dividiendo por 70 por simplicidad)? Miremos el gráfico del medio en la Figura 3.9. \n",
        "\n",
        "Ahora se forman C1 y C3 un par, con C2 y C4 formando otro. Los clústeres cambiaron drásticamente al cambiar las unidades de medida (INR a USD):\n",
        "\n",
        "<figure>\n",
        "<center><img src='https://drive.google.com/uc?export=view&id=1iKqiY1zrMkA3Dfy8x7CPOZgVh7UXvkZc' width=\"800\" />\n",
        "<figcaption>Figura 3.9: Representación de los clientes como puntos en un diagrama de dispersión</figcaption></center>\n",
        "</figure>\n",
        "\n"
      ],
      "metadata": {
        "id": "N47pGtNIDZVQ"
      }
    },
    {
      "cell_type": "markdown",
      "source": [
        "Una estrategia natural para manejar este problema es \"estandarizar\" los datos, es decir, obtener\n",
        "los valores a una escala similar y comparable. Una de esas estrategias se aplicó a los datos de los cuatro clientes anteriores, lo que resultó en la gráfica más a la derecha en la Figura 3.9. De hecho, es interesante notar que después de la estandarización, ninguno de los puntos parece estar formando grupos naturales con otro. Este ejemplo ilustra la importancia de la estandarización y cómo, de lo contrario, podemos ser engañados haciéndonos creer que existen grupos naturales cuando no los hay."
      ],
      "metadata": {
        "id": "ipKJ9JAJDv2L"
      }
    },
    {
      "cell_type": "markdown",
      "source": [
        "Si bien existen varias formas de estandarizar o cambiar la escala de las características, una forma popular que se emplea para la agrupación en clústeres es el escalado estándar, es decir, para calcular su puntuación z. Esto se hace en dos pasos, para cada columna:"
      ],
      "metadata": {
        "id": "_RiTZ52kD3ZS"
      }
    },
    {
      "cell_type": "markdown",
      "source": [
        "1. **Restear** la media de los datos de cada punto de datos. Esto centra los datos alrededor de 0, para que los datos sean más fáciles de ver e interpretar, aunque esto no es estrictamente necesario para el agrupamiento.\n",
        "\n",
        "2. **Dividir** los parámetros por su desviación estándar."
      ],
      "metadata": {
        "id": "hxX6-UtMD5LJ"
      }
    },
    {
      "cell_type": "markdown",
      "source": [
        "La desviación estándar es una medida de **cuán dispersos están nuestros puntos.** Se calcula comparando el promedio de los datos con cada punto de datos. Los datos como los ingresos, donde los puntos se pueden distribuir por muchos miles, tendrán desviaciones estándar mucho mayores que los datos como la edad, donde las diferencias entre los puntos de datos tienden a ser mucho menores. La siguiente fórmula se utiliza para calcular el valor estandarizado de un punto de datos:"
      ],
      "metadata": {
        "id": "7cBtb5lyD-F1"
      }
    },
    {
      "cell_type": "markdown",
      "source": [
        "<h1><center>\n",
        "\n",
        "$ Z_{i} = \\frac{x_{i} - mean(x)}{std(x)}$\n",
        "\n",
        "Formula 3.10: La ecuación de estandarización\n",
        "</center></h1>"
      ],
      "metadata": {
        "id": "xAv7vLYDEBB5"
      }
    },
    {
      "cell_type": "markdown",
      "source": [
        "Aquí, $Z_{i}$ corresponde al ${i}$-ésimo valor estandarizado, ${x}$ representa todos los valores, $mean(x)$ es el valor medio de todos los valores de $x$ y $std(x)$ es la desviación estándar de los valores de $x$.\n",
        "\n",
        "En este ejemplo, al dividir todos los valores de Edad por la desviación estándar de las edades, transformamos los datos de modo que la desviación estándar sea igual a 1. Cuando hacemos lo mismo con los ingresos, la desviación estándar de los ingresos será también será igual a 1. Por lo tanto, una diferencia de 1 entre dos clientes en cualquiera de estas medidas indicaría un nivel similar de diferencia entre ellos. Esto asegura que todas las características tengan una influencia similar en la formación de los clústeres."
      ],
      "metadata": {
        "id": "CrnjedEPEC4r"
      }
    },
    {
      "cell_type": "markdown",
      "source": [
        "¿Hay algún inconveniente en este enfoque? Piense en la facilidad de interpretación de estos valores. Todos tenemos una idea intuitiva de lo que significan \\$10,000 o 10 años, pero es más **difícil** pensar en lo que significa el valor de una desviación estándar de ingresos. Sin embargo, esto no importa para el algoritmo de aprendizaje automático, ya que no tiene la misma comprensión intuitiva de los datos que nosotros."
      ],
      "metadata": {
        "id": "8erk6hmKEETn"
      }
    },
    {
      "cell_type": "markdown",
      "source": [
        "Para la implementación de Python de la estandarización de datos, se usa la utilidad StandardScaler de [scikit-learn](https://scikit-learn.org/stable)."
      ],
      "metadata": {
        "id": "xfQkB-h3EF5d"
      }
    },
    {
      "cell_type": "code",
      "source": [
        "from sklearn.preprocessing import StandardScaler\n",
        "scaler = StandardScaler()"
      ],
      "metadata": {
        "id": "DNTLxsahEHkt"
      },
      "execution_count": 18,
      "outputs": []
    },
    {
      "cell_type": "markdown",
      "source": [
        "El objeto StandardScaler tiene métodos para ajustarse a un conjunto de datos determinado. El método calcula la media y la desviación estándar para cada una de las columnas. \n",
        "Para realizar ambas acciones en un solo paso, calcule la media y la desviación estándar (es decir, ajuste) y luego aplique la transformación (es decir, transform), o simplemente puede usar el método fit_transform, como se muestra en el siguiente código"
      ],
      "metadata": {
        "id": "1RpQWCc9EJD2"
      }
    },
    {
      "cell_type": "code",
      "source": [
        "# scaler.fit_transform (data_orig[cols])"
      ],
      "metadata": {
        "id": "2ynEOuDLEb9y"
      },
      "execution_count": 27,
      "outputs": []
    },
    {
      "cell_type": "markdown",
      "source": [
        "El comando anterior ajusta, transforma y devuelve los datos escalados. La variable cols puede ser una lista de columnas para escalar en el conjunto de datos data_orig."
      ],
      "metadata": {
        "id": "MkWjoShTEMkI"
      }
    },
    {
      "cell_type": "markdown",
      "source": [
        "# Ejercicio 3.03: Estandarización de datos de clientes\n",
        "\n",
        "Estandarizar los datos de los clientes de un centro comercial mediante la puntuación z, empleando **StandardScaler** de scikit-learn. \n",
        "\n",
        "Tenga en cuenta que este ejercicio funciona con los datos modificados del Ejercicio 3.02, Segmentación tradicional de clientes de centros comerciales. "
      ],
      "metadata": {
        "id": "mItantimEPYZ"
      }
    },
    {
      "cell_type": "markdown",
      "source": [
        "1. Importar el método StandardScaler de sklearn y crear una instancia de StandardScaler"
      ],
      "metadata": {
        "id": "U1Tpg212ESsj"
      }
    },
    {
      "cell_type": "code",
      "source": [
        "from sklearn.preprocessing import StandardScaler\n",
        "scaler = StandardScaler()"
      ],
      "metadata": {
        "id": "X6w5eZWeEUWp"
      },
      "execution_count": 28,
      "outputs": []
    },
    {
      "cell_type": "markdown",
      "source": [
        "2. Crear una lista llamada cols_to_scale para contener los nombres de las columnas a escalar, Age, Income y Spend_score. Además, hacer una copia del DataFrame (para conservar los valores originales) y asígnele el nombre data_scaled."
      ],
      "metadata": {
        "id": "UYaB2rbBEV9F"
      }
    },
    {
      "cell_type": "code",
      "source": [
        "cols_to_scale = ['Age', 'Income', 'Spend_score']\n",
        "data_scaled = data0.copy()"
      ],
      "metadata": {
        "id": "lrhmkwyEEY3X"
      },
      "execution_count": 29,
      "outputs": []
    },
    {
      "cell_type": "markdown",
      "source": [
        "3. Utilizando el método fit_transform del escalador, aplique la transformación a las columnas elegidas:\n"
      ],
      "metadata": {
        "id": "BowmvRLtEaTV"
      }
    },
    {
      "cell_type": "code",
      "source": [
        "data_scaled[cols_to_scale] = scaler.fit_transform\\\n",
        "                             (data0[cols_to_scale])"
      ],
      "metadata": {
        "id": "8KEg2kR6Eb5e"
      },
      "execution_count": 31,
      "outputs": []
    },
    {
      "cell_type": "markdown",
      "source": [
        "4. Para verificar lo anterior, imprime un resumen descriptivo de las columnas modificadas:"
      ],
      "metadata": {
        "id": "rgrW7-6DEekX"
      }
    },
    {
      "cell_type": "code",
      "source": [
        "data_scaled[cols_to_scale].describe().round(2)\n",
        "# data_scaled[cols_to_scale].describe().round(2)"
      ],
      "metadata": {
        "colab": {
          "base_uri": "https://localhost:8080/",
          "height": 300
        },
        "id": "OVjWAusdGzBL",
        "outputId": "d97b5363-c3bb-43fe-f96a-45732fc44ad6"
      },
      "execution_count": 37,
      "outputs": [
        {
          "output_type": "execute_result",
          "data": {
            "text/plain": [
              "          Age  Income  Spend_score\n",
              "count  200.00  200.00       200.00\n",
              "mean    -0.00   -0.00        -0.00\n",
              "std      1.00    1.00         1.00\n",
              "min     -1.50   -1.74        -1.91\n",
              "25%     -0.72   -0.73        -0.60\n",
              "50%     -0.20    0.04        -0.01\n",
              "75%      0.73    0.67         0.89\n",
              "max      2.24    2.92         1.89"
            ],
            "text/html": [
              "\n",
              "  <div id=\"df-4c3f4b8c-0ef4-4272-800a-f5a6b3fb3d9b\">\n",
              "    <div class=\"colab-df-container\">\n",
              "      <div>\n",
              "<style scoped>\n",
              "    .dataframe tbody tr th:only-of-type {\n",
              "        vertical-align: middle;\n",
              "    }\n",
              "\n",
              "    .dataframe tbody tr th {\n",
              "        vertical-align: top;\n",
              "    }\n",
              "\n",
              "    .dataframe thead th {\n",
              "        text-align: right;\n",
              "    }\n",
              "</style>\n",
              "<table border=\"1\" class=\"dataframe\">\n",
              "  <thead>\n",
              "    <tr style=\"text-align: right;\">\n",
              "      <th></th>\n",
              "      <th>Age</th>\n",
              "      <th>Income</th>\n",
              "      <th>Spend_score</th>\n",
              "    </tr>\n",
              "  </thead>\n",
              "  <tbody>\n",
              "    <tr>\n",
              "      <th>count</th>\n",
              "      <td>200.00</td>\n",
              "      <td>200.00</td>\n",
              "      <td>200.00</td>\n",
              "    </tr>\n",
              "    <tr>\n",
              "      <th>mean</th>\n",
              "      <td>-0.00</td>\n",
              "      <td>-0.00</td>\n",
              "      <td>-0.00</td>\n",
              "    </tr>\n",
              "    <tr>\n",
              "      <th>std</th>\n",
              "      <td>1.00</td>\n",
              "      <td>1.00</td>\n",
              "      <td>1.00</td>\n",
              "    </tr>\n",
              "    <tr>\n",
              "      <th>min</th>\n",
              "      <td>-1.50</td>\n",
              "      <td>-1.74</td>\n",
              "      <td>-1.91</td>\n",
              "    </tr>\n",
              "    <tr>\n",
              "      <th>25%</th>\n",
              "      <td>-0.72</td>\n",
              "      <td>-0.73</td>\n",
              "      <td>-0.60</td>\n",
              "    </tr>\n",
              "    <tr>\n",
              "      <th>50%</th>\n",
              "      <td>-0.20</td>\n",
              "      <td>0.04</td>\n",
              "      <td>-0.01</td>\n",
              "    </tr>\n",
              "    <tr>\n",
              "      <th>75%</th>\n",
              "      <td>0.73</td>\n",
              "      <td>0.67</td>\n",
              "      <td>0.89</td>\n",
              "    </tr>\n",
              "    <tr>\n",
              "      <th>max</th>\n",
              "      <td>2.24</td>\n",
              "      <td>2.92</td>\n",
              "      <td>1.89</td>\n",
              "    </tr>\n",
              "  </tbody>\n",
              "</table>\n",
              "</div>\n",
              "      <button class=\"colab-df-convert\" onclick=\"convertToInteractive('df-4c3f4b8c-0ef4-4272-800a-f5a6b3fb3d9b')\"\n",
              "              title=\"Convert this dataframe to an interactive table.\"\n",
              "              style=\"display:none;\">\n",
              "        \n",
              "  <svg xmlns=\"http://www.w3.org/2000/svg\" height=\"24px\"viewBox=\"0 0 24 24\"\n",
              "       width=\"24px\">\n",
              "    <path d=\"M0 0h24v24H0V0z\" fill=\"none\"/>\n",
              "    <path d=\"M18.56 5.44l.94 2.06.94-2.06 2.06-.94-2.06-.94-.94-2.06-.94 2.06-2.06.94zm-11 1L8.5 8.5l.94-2.06 2.06-.94-2.06-.94L8.5 2.5l-.94 2.06-2.06.94zm10 10l.94 2.06.94-2.06 2.06-.94-2.06-.94-.94-2.06-.94 2.06-2.06.94z\"/><path d=\"M17.41 7.96l-1.37-1.37c-.4-.4-.92-.59-1.43-.59-.52 0-1.04.2-1.43.59L10.3 9.45l-7.72 7.72c-.78.78-.78 2.05 0 2.83L4 21.41c.39.39.9.59 1.41.59.51 0 1.02-.2 1.41-.59l7.78-7.78 2.81-2.81c.8-.78.8-2.07 0-2.86zM5.41 20L4 18.59l7.72-7.72 1.47 1.35L5.41 20z\"/>\n",
              "  </svg>\n",
              "      </button>\n",
              "      \n",
              "  <style>\n",
              "    .colab-df-container {\n",
              "      display:flex;\n",
              "      flex-wrap:wrap;\n",
              "      gap: 12px;\n",
              "    }\n",
              "\n",
              "    .colab-df-convert {\n",
              "      background-color: #E8F0FE;\n",
              "      border: none;\n",
              "      border-radius: 50%;\n",
              "      cursor: pointer;\n",
              "      display: none;\n",
              "      fill: #1967D2;\n",
              "      height: 32px;\n",
              "      padding: 0 0 0 0;\n",
              "      width: 32px;\n",
              "    }\n",
              "\n",
              "    .colab-df-convert:hover {\n",
              "      background-color: #E2EBFA;\n",
              "      box-shadow: 0px 1px 2px rgba(60, 64, 67, 0.3), 0px 1px 3px 1px rgba(60, 64, 67, 0.15);\n",
              "      fill: #174EA6;\n",
              "    }\n",
              "\n",
              "    [theme=dark] .colab-df-convert {\n",
              "      background-color: #3B4455;\n",
              "      fill: #D2E3FC;\n",
              "    }\n",
              "\n",
              "    [theme=dark] .colab-df-convert:hover {\n",
              "      background-color: #434B5C;\n",
              "      box-shadow: 0px 1px 3px 1px rgba(0, 0, 0, 0.15);\n",
              "      filter: drop-shadow(0px 1px 2px rgba(0, 0, 0, 0.3));\n",
              "      fill: #FFFFFF;\n",
              "    }\n",
              "  </style>\n",
              "\n",
              "      <script>\n",
              "        const buttonEl =\n",
              "          document.querySelector('#df-4c3f4b8c-0ef4-4272-800a-f5a6b3fb3d9b button.colab-df-convert');\n",
              "        buttonEl.style.display =\n",
              "          google.colab.kernel.accessAllowed ? 'block' : 'none';\n",
              "\n",
              "        async function convertToInteractive(key) {\n",
              "          const element = document.querySelector('#df-4c3f4b8c-0ef4-4272-800a-f5a6b3fb3d9b');\n",
              "          const dataTable =\n",
              "            await google.colab.kernel.invokeFunction('convertToInteractive',\n",
              "                                                     [key], {});\n",
              "          if (!dataTable) return;\n",
              "\n",
              "          const docLinkHtml = 'Like what you see? Visit the ' +\n",
              "            '<a target=\"_blank\" href=https://colab.research.google.com/notebooks/data_table.ipynb>data table notebook</a>'\n",
              "            + ' to learn more about interactive tables.';\n",
              "          element.innerHTML = '';\n",
              "          dataTable['output_type'] = 'display_data';\n",
              "          await google.colab.output.renderOutput(dataTable, element);\n",
              "          const docLink = document.createElement('div');\n",
              "          docLink.innerHTML = docLinkHtml;\n",
              "          element.appendChild(docLink);\n",
              "        }\n",
              "      </script>\n",
              "    </div>\n",
              "  </div>\n",
              "  "
            ]
          },
          "metadata": {},
          "execution_count": 37
        }
      ]
    },
    {
      "cell_type": "markdown",
      "source": [
        "Figura 3.11: Resumen descriptivo de las columnas modificadas\n"
      ],
      "metadata": {
        "id": "YB5hLqJdEnl5"
      }
    },
    {
      "cell_type": "markdown",
      "source": [
        "El valor medio de todas las columnas es prácticamente 0 y la desviación estándar de todas es 1. **Esto confirma que la estandarización ha funcionado.** \n",
        "Compare esto con la tabla de la \n",
        "[Figura 3.4](#figure_3_4)\n",
        "para ver que el valor medio y la desviación estándar para cada columna se han estandarizado. Esto garantiza que todas las columnas tengan el mismo peso al calcular la similitud o la distancia entre los clientes."
      ],
      "metadata": {
        "id": "lBLe6xuFEpos"
      }
    },
    {
      "cell_type": "markdown",
      "source": [
        "# 3.2.3 Cálculo de la distancia\n",
        "\n",
        "Otra forma alternativa de agrupar es calcular la **disimilitud** entre entidades. De esta manera, podemos entender cuán diferentes (o alejadas) son las entidades. \n",
        "\n",
        "La distancia geométrica entre entidades en el espacio de características es una forma natural de medir la disimilitud. En un diagrama de dispersión bidimensional, la distancia euclidiana entre dos clientes es solo la distancia entre sus puntos, como puede ver en la Figura 3.12:"
      ],
      "metadata": {
        "id": "O-6wa3LVErqK"
      }
    },
    {
      "cell_type": "markdown",
      "source": [
        "<figure>\n",
        "<center><img src='https://drive.google.com/uc?export=view&id=1aO9Ek6JzDPdcSOL3XlTU1Nhpgv0AwgNo' width=\"800\" />\n",
        "<figcaption>Figura 3.12: Distancia euclidiana entre dos puntos en el plano XY</figcaption></center>\n",
        "</figure>\n",
        "\n",
        "En el gráfico anterior, la longitud de la línea es la distancia euclidiana entre los dos puntos. Cuanto mayor es esta distancia, menos similares son los clientes. Si bien esto es más fácil de pensar y visualizar en dos dimensiones, las matemáticas para calcular la distancia euclidiana se aplican igual de bien a múltiples dimensiones."
      ],
      "metadata": {
        "id": "KmIHCNJaEu24"
      }
    },
    {
      "cell_type": "markdown",
      "source": [
        "Para dos puntos de datos, $p$ y $q$, la distancia entre ellos se calcula de la siguiente manera:\n",
        "<h1><center>\n",
        "$ d\\left( p,q\\right)   = \\sqrt {\\sum  \\left( p_{i}-q_{i}\\right)^2 } $\n",
        "\n",
        "Figura 3.13: Ecuación para calcular la distancia euclidiana entre dos puntos\n",
        "</center><h1>\n",
        "\n",
        "\n",
        "\n",
        "Aquí, $p = (p1+p2+...pn)$, $q = (q1+q2+...qn)$, y $n$ es el número de características. Por lo tanto, podemos encontrar la distancia entre los clientes independientemente de cuántas características/dimensiones queramos usar. \n",
        "\n",
        "Para la implementación de Python, usaremos la utilidad **cdist** en [SciPy](https://scipy.org). El uso de la utilidad es simple y se demuestra en el siguiente ejemplo de código:"
      ],
      "metadata": {
        "id": "M5QdbN-aEy1p"
      }
    },
    {
      "cell_type": "code",
      "source": [
        "from scipy.spatial.distance import cdist\n",
        "cdist(array1, array2, metric='euclidean')"
      ],
      "metadata": {
        "id": "QDFjyAkRE3Pc"
      },
      "execution_count": null,
      "outputs": []
    },
    {
      "cell_type": "markdown",
      "source": [
        "En el comando anterior, array1 es la primera matriz de datos. Podría representar datos para un cliente o muchos (arreglo bidimensional). array2 es la otra matriz. La distancia se calcula entre las entidades de matriz1 y las de matriz2. Al especificar la métrica como euclidiana, se calcula la distancia euclidiana entre las entidades array1 y array2."
      ],
      "metadata": {
        "id": "06eMwMgGE4tz"
      }
    },
    {
      "cell_type": "markdown",
      "source": [
        "Calcular la distancia entre puntos es un paso clave en la agrupación."
      ],
      "metadata": {
        "id": "JCHIV4CiE6-Y"
      }
    },
    {
      "cell_type": "markdown",
      "source": [
        "# Ejercicio 3.04: Cálculo de la Distancia entre Clientes\n",
        "En este ejercicio, calculará la distancia euclidiana entre tres clientes. El objetivo del ejercicio es poder calcular la similitud entre los clientes. Un cálculo de similitud es un paso clave en la segmentación de clientes. \n",
        "\n",
        "Después de estandarizar los campos Ingreso y Spend_score para los primeros tres clientes como se muestra en la siguiente tabla (Figura 3.14), calculará la distancia usando el método cdist de scipy."
      ],
      "metadata": {
        "id": "0En88E8xE9xX"
      }
    },
    {
      "cell_type": "markdown",
      "source": [
        "1. Del conjunto de datos (data_scaled creado en el Ejercicio 3.03, Estandarización de datos de clientes), extraiga los tres primeros registros con los campos Ingreso y Spend_score en un conjunto de datos llamado cust3 e imprima el conjunto de datos"
      ],
      "metadata": {
        "id": "wRY4WIlYFClB"
      }
    },
    {
      "cell_type": "code",
      "source": [
        "sel_cols = ['Income', 'Spend_score']\n",
        "cust3 = data_scaled[sel_cols].head(3)\n",
        "cust3"
      ],
      "metadata": {
        "colab": {
          "base_uri": "https://localhost:8080/",
          "height": 143
        },
        "id": "jxkGC2BhFEAL",
        "outputId": "3ba89a7a-3eef-4501-962a-8200b3b94dd1"
      },
      "execution_count": 39,
      "outputs": [
        {
          "output_type": "execute_result",
          "data": {
            "text/plain": [
              "     Income  Spend_score\n",
              "0 -1.738999    -0.434801\n",
              "1 -1.738999     1.195704\n",
              "2 -1.700830    -1.715913"
            ],
            "text/html": [
              "\n",
              "  <div id=\"df-4d2efdb9-1113-4526-992b-14b6826e2c43\">\n",
              "    <div class=\"colab-df-container\">\n",
              "      <div>\n",
              "<style scoped>\n",
              "    .dataframe tbody tr th:only-of-type {\n",
              "        vertical-align: middle;\n",
              "    }\n",
              "\n",
              "    .dataframe tbody tr th {\n",
              "        vertical-align: top;\n",
              "    }\n",
              "\n",
              "    .dataframe thead th {\n",
              "        text-align: right;\n",
              "    }\n",
              "</style>\n",
              "<table border=\"1\" class=\"dataframe\">\n",
              "  <thead>\n",
              "    <tr style=\"text-align: right;\">\n",
              "      <th></th>\n",
              "      <th>Income</th>\n",
              "      <th>Spend_score</th>\n",
              "    </tr>\n",
              "  </thead>\n",
              "  <tbody>\n",
              "    <tr>\n",
              "      <th>0</th>\n",
              "      <td>-1.738999</td>\n",
              "      <td>-0.434801</td>\n",
              "    </tr>\n",
              "    <tr>\n",
              "      <th>1</th>\n",
              "      <td>-1.738999</td>\n",
              "      <td>1.195704</td>\n",
              "    </tr>\n",
              "    <tr>\n",
              "      <th>2</th>\n",
              "      <td>-1.700830</td>\n",
              "      <td>-1.715913</td>\n",
              "    </tr>\n",
              "  </tbody>\n",
              "</table>\n",
              "</div>\n",
              "      <button class=\"colab-df-convert\" onclick=\"convertToInteractive('df-4d2efdb9-1113-4526-992b-14b6826e2c43')\"\n",
              "              title=\"Convert this dataframe to an interactive table.\"\n",
              "              style=\"display:none;\">\n",
              "        \n",
              "  <svg xmlns=\"http://www.w3.org/2000/svg\" height=\"24px\"viewBox=\"0 0 24 24\"\n",
              "       width=\"24px\">\n",
              "    <path d=\"M0 0h24v24H0V0z\" fill=\"none\"/>\n",
              "    <path d=\"M18.56 5.44l.94 2.06.94-2.06 2.06-.94-2.06-.94-.94-2.06-.94 2.06-2.06.94zm-11 1L8.5 8.5l.94-2.06 2.06-.94-2.06-.94L8.5 2.5l-.94 2.06-2.06.94zm10 10l.94 2.06.94-2.06 2.06-.94-2.06-.94-.94-2.06-.94 2.06-2.06.94z\"/><path d=\"M17.41 7.96l-1.37-1.37c-.4-.4-.92-.59-1.43-.59-.52 0-1.04.2-1.43.59L10.3 9.45l-7.72 7.72c-.78.78-.78 2.05 0 2.83L4 21.41c.39.39.9.59 1.41.59.51 0 1.02-.2 1.41-.59l7.78-7.78 2.81-2.81c.8-.78.8-2.07 0-2.86zM5.41 20L4 18.59l7.72-7.72 1.47 1.35L5.41 20z\"/>\n",
              "  </svg>\n",
              "      </button>\n",
              "      \n",
              "  <style>\n",
              "    .colab-df-container {\n",
              "      display:flex;\n",
              "      flex-wrap:wrap;\n",
              "      gap: 12px;\n",
              "    }\n",
              "\n",
              "    .colab-df-convert {\n",
              "      background-color: #E8F0FE;\n",
              "      border: none;\n",
              "      border-radius: 50%;\n",
              "      cursor: pointer;\n",
              "      display: none;\n",
              "      fill: #1967D2;\n",
              "      height: 32px;\n",
              "      padding: 0 0 0 0;\n",
              "      width: 32px;\n",
              "    }\n",
              "\n",
              "    .colab-df-convert:hover {\n",
              "      background-color: #E2EBFA;\n",
              "      box-shadow: 0px 1px 2px rgba(60, 64, 67, 0.3), 0px 1px 3px 1px rgba(60, 64, 67, 0.15);\n",
              "      fill: #174EA6;\n",
              "    }\n",
              "\n",
              "    [theme=dark] .colab-df-convert {\n",
              "      background-color: #3B4455;\n",
              "      fill: #D2E3FC;\n",
              "    }\n",
              "\n",
              "    [theme=dark] .colab-df-convert:hover {\n",
              "      background-color: #434B5C;\n",
              "      box-shadow: 0px 1px 3px 1px rgba(0, 0, 0, 0.15);\n",
              "      filter: drop-shadow(0px 1px 2px rgba(0, 0, 0, 0.3));\n",
              "      fill: #FFFFFF;\n",
              "    }\n",
              "  </style>\n",
              "\n",
              "      <script>\n",
              "        const buttonEl =\n",
              "          document.querySelector('#df-4d2efdb9-1113-4526-992b-14b6826e2c43 button.colab-df-convert');\n",
              "        buttonEl.style.display =\n",
              "          google.colab.kernel.accessAllowed ? 'block' : 'none';\n",
              "\n",
              "        async function convertToInteractive(key) {\n",
              "          const element = document.querySelector('#df-4d2efdb9-1113-4526-992b-14b6826e2c43');\n",
              "          const dataTable =\n",
              "            await google.colab.kernel.invokeFunction('convertToInteractive',\n",
              "                                                     [key], {});\n",
              "          if (!dataTable) return;\n",
              "\n",
              "          const docLinkHtml = 'Like what you see? Visit the ' +\n",
              "            '<a target=\"_blank\" href=https://colab.research.google.com/notebooks/data_table.ipynb>data table notebook</a>'\n",
              "            + ' to learn more about interactive tables.';\n",
              "          element.innerHTML = '';\n",
              "          dataTable['output_type'] = 'display_data';\n",
              "          await google.colab.output.renderOutput(dataTable, element);\n",
              "          const docLink = document.createElement('div');\n",
              "          docLink.innerHTML = docLinkHtml;\n",
              "          element.appendChild(docLink);\n",
              "        }\n",
              "      </script>\n",
              "    </div>\n",
              "  </div>\n",
              "  "
            ]
          },
          "metadata": {},
          "execution_count": 39
        }
      ]
    },
    {
      "cell_type": "markdown",
      "source": [
        "Figura 3.14: Puntuaciones de ingresos y gastos de tres clientes"
      ],
      "metadata": {
        "id": "nr8NzAh5FLTx"
      }
    },
    {
      "cell_type": "markdown",
      "source": [
        "Puede ver los tres primeros registros. En este ejercicio se calculará la distancia entre estos tres clientes.\n",
        "2. Luego, usar el método cdist desde scipy.spatial.distance usando el siguiente código:"
      ],
      "metadata": {
        "id": "MIuvqP72FMyG"
      }
    },
    {
      "cell_type": "code",
      "source": [
        "from scipy.spatial.distance import cdist"
      ],
      "metadata": {
        "id": "3eRWqLOXFOzi"
      },
      "execution_count": null,
      "outputs": []
    },
    {
      "cell_type": "markdown",
      "source": [
        "3. La función cdist se puede usar para calcular la distancia entre cada par de las dos colecciones de entradas. Para calcular la distancia entre los clientes en cust3, proporcione el conjunto de datos cust3 como entradas de datos para cdist, especificando euclidiana como la métrica."
      ],
      "metadata": {
        "id": "RZlgOZxLFQbe"
      }
    },
    {
      "cell_type": "code",
      "source": [
        "cdist(cust3, cust3, metric='euclidean')"
      ],
      "metadata": {
        "colab": {
          "base_uri": "https://localhost:8080/"
        },
        "id": "2hHJEQTmFSOW",
        "outputId": "c12f5d8e-88f1-4357-fa62-b7e16f6eaeb6"
      },
      "execution_count": 40,
      "outputs": [
        {
          "output_type": "execute_result",
          "data": {
            "text/plain": [
              "array([[0.        , 1.63050555, 1.28167999],\n",
              "       [1.63050555, 0.        , 2.91186723],\n",
              "       [1.28167999, 2.91186723, 0.        ]])"
            ]
          },
          "metadata": {},
          "execution_count": 40
        }
      ]
    },
    {
      "cell_type": "markdown",
      "source": [
        "Debería obtener el siguiente resultado, una cuadrícula bidimensional de distancias entre cada par de clientes:\n",
        "\n",
        "El resultado muestra que la distancia entre el primer y el segundo cliente es de 1,63 unidades, mientras que la distancia entre el primer y el tercer cliente es de 1,28 unidades. La distancia entre el segundo y el tercer cliente es de 2,92 unidades."
      ],
      "metadata": {
        "id": "WK2Ww_a7FVGy"
      }
    },
    {
      "cell_type": "markdown",
      "source": [
        "4. Verifique que 1,6305 sea efectivamente la distancia euclidiana entre el cliente 1 y el cliente 2, calculándola manualmente con el siguiente código:"
      ],
      "metadata": {
        "id": "t2zTPDqiFXsN"
      }
    },
    {
      "cell_type": "code",
      "source": [
        "np.sqrt((-1.739+1.739)**2 + (-0.4348-1.1957)**2)"
      ],
      "metadata": {
        "colab": {
          "base_uri": "https://localhost:8080/"
        },
        "id": "WlOFar1oFZWO",
        "outputId": "927379d4-ed0c-4f79-974c-c91850f71aba"
      },
      "execution_count": 41,
      "outputs": [
        {
          "output_type": "execute_result",
          "data": {
            "text/plain": [
              "1.6305"
            ]
          },
          "metadata": {},
          "execution_count": 41
        }
      ]
    },
    {
      "cell_type": "markdown",
      "source": [
        "El resultado es 1.6305.\n",
        "\n",
        "Esto coincide exactamente con la distancia calculada por el método cdist.\n",
        "\n",
        "En este ejercicio, calculó la distancia entre tres puntos utilizando el paquete cdist. Note que los puntos con valores que son similares tienen distancias más bajas. Dicho cálculo de distancia es un paso clave para determinar la similitud entre entidades y lo utilizan los algoritmos de aprendizaje automático para la agrupación."
      ],
      "metadata": {
        "id": "d1XYvTXvFbQZ"
      }
    },
    {
      "cell_type": "markdown",
      "source": [
        "# 3.3. K-Means Clustering\n",
        "K-Means Clustering es una técnica de aprendizaje no supervisado muy común con una amplia gama de aplicaciones. Es poderoso porque es conceptualmente relativamente simple, se escala a conjuntos de datos muy grandes y tiende a funcionar bien en la práctica. En esta sección, aprenderá los fundamentos conceptuales de la agrupación k-means clustering, cómo aplicar k-means clustering a los datos y cómo manejar datos de alta dimensión es decir, datos con muchas variables diferentes."
      ],
      "metadata": {
        "id": "r8q6w0P2FdeG"
      }
    },
    {
      "cell_type": "markdown",
      "source": [
        "El K-means clustering es un algoritmo que intenta encontrar la mejor manera de agrupar puntos de datos en k grupos diferentes, donde k es un parámetro dado al algoritmo. Por ahora, elegiremos k arbitrariamente. Luego, el algoritmo funciona iterativamente para tratar de encontrar la mejor agrupación. Hay dos pasos para este algoritmo:\n",
        "\n",
        "1. El algoritmo comienza seleccionando aleatoriamente k puntos en el espacio para que sean los centroides de los conglomerados. Luego, cada punto de datos se asigna al centroide más cercano.\n",
        "\n",
        "2. Los centroides se actualizan para que sean la media de todos los puntos de datos que se les asignan. Luego, los puntos de datos se reasignan al centroide más cercano a ellos.\n",
        "\n",
        "\n",
        "El paso 2 se repite hasta que ninguno de los puntos de datos cambia el centroide al que están asignados después de actualizar el centroide.\n",
        "Un punto a tener en cuenta aquí es que este **algoritmo no es determinista**, es decir, el resultado del algoritmo depende de las ubicaciones iniciales de los centroides. \n",
        "\n",
        "Por lo tanto, no siempre se garantiza encontrar la mejor agrupación. Sin embargo, en la práctica, tiende a encontrar buenas agrupaciones sin dejar de ser computacionalmente económico incluso para grandes conjuntos de datos. El agrupamiento de K-means es rápido y fácilmente escalable y, por lo tanto, es el algoritmo de agrupamiento más común utilizado.\n",
        "\n",
        "Usaremos el módulo KMeans en el paquete scikit-learn para agrupar en los ejercicios prácticos y actividades de este capítulo. "
      ],
      "metadata": {
        "id": "XxXfeP4JFhZv"
      }
    },
    {
      "cell_type": "code",
      "source": [
        "# from sklearn.cluster import KMeans\n",
        "# model = KMeans(n_clusters=N, random_state=random_state)"
      ],
      "metadata": {
        "id": "hW6P0SaiFlkh"
      },
      "execution_count": null,
      "outputs": []
    },
    {
      "cell_type": "markdown",
      "source": [
        "Los comandos anteriores crean una instancia de modelo con un número N de clústeres. Tenga en cuenta que este comando no realiza ningún agrupamiento. Especificar un estado aleatorio garantiza que obtengamos los mismos resultados en ejecuciones repetidas, ya que el algoritmo k-means no es determinista. A continuación, el modelo se ajusta a los datos y se extraen las asignaciones de conglomerados resultantes:"
      ],
      "metadata": {
        "id": "-kUZtnQfFnCA"
      }
    },
    {
      "cell_type": "code",
      "source": [
        "# model.fit(data[cols])\n",
        "# data['Cluster'] = model.predict(data[cols])"
      ],
      "metadata": {
        "id": "4YDGRn_OFoXN"
      },
      "execution_count": null,
      "outputs": []
    },
    {
      "cell_type": "markdown",
      "source": [
        "En los comandos anteriores, el método de ajuste del objeto KMeans crea la cantidad especificada de clústeres a partir del conjunto de datos. cols es una lista que contiene las columnas del conjunto de datos que se utilizará para la agrupación. Una vez ajustado el modelo, se utiliza el método de predicción para extraer las asignaciones de conglomerados para cada registro en el conjunto de datos Las asignaciones de clúster se pueden agregar al conjunto de datos original como una nueva columna, como en el ejemplo anterior.\n",
        "\n",
        "Para los clientes del centro comercial, aplicamos un enfoque tradicional a la segmentación de clientes y creamos algunos segmentos simples y prácticos. Ahora estamos listos para realizar la agrupación en clústeres basada en aprendizaje automático para crear grupos. "
      ],
      "metadata": {
        "id": "h5o6q1BxFqF9"
      }
    },
    {
      "cell_type": "markdown",
      "source": [
        "# Ejercicio 3.05: Clustering de K-Means de Centros Comerciales\n",
        "En este ejercicio, utilizará machine learning descubrir grupos naturales en los clientes del centro comercial. Realizará la agrupación en clustering de K-Meansen los datos de clientes del centro comercial que se estandarizaron en el ejercicio anterior. Solo utilizará las columnas income y spend_score. "
      ],
      "metadata": {
        "id": "Pkc90F1_Fr6X"
      }
    },
    {
      "cell_type": "markdown",
      "source": [
        "1. Cree una lista llamada cluster_cols que contenga las columnas income y spend_score, que se utilizarán para la agrupación. Imprima las primeras tres filas del conjunto de datos, limitándose a estas columnas para asegurarse de que está filtrando los datos correctamente:"
      ],
      "metadata": {
        "id": "PKAKGsz-Fx02"
      }
    },
    {
      "cell_type": "code",
      "source": [
        "cluster_cols = ['Income', 'Spend_score']\n",
        "data_scaled[cluster_cols].head(3)"
      ],
      "metadata": {
        "colab": {
          "base_uri": "https://localhost:8080/",
          "height": 143
        },
        "id": "Mq5Vk2reFzMH",
        "outputId": "82d0a980-faa1-459f-c716-c059f7c1c563"
      },
      "execution_count": 44,
      "outputs": [
        {
          "output_type": "execute_result",
          "data": {
            "text/plain": [
              "     Income  Spend_score\n",
              "0 -1.738999    -0.434801\n",
              "1 -1.738999     1.195704\n",
              "2 -1.700830    -1.715913"
            ],
            "text/html": [
              "\n",
              "  <div id=\"df-f7017ab1-65a6-487e-9558-e05691a496d0\">\n",
              "    <div class=\"colab-df-container\">\n",
              "      <div>\n",
              "<style scoped>\n",
              "    .dataframe tbody tr th:only-of-type {\n",
              "        vertical-align: middle;\n",
              "    }\n",
              "\n",
              "    .dataframe tbody tr th {\n",
              "        vertical-align: top;\n",
              "    }\n",
              "\n",
              "    .dataframe thead th {\n",
              "        text-align: right;\n",
              "    }\n",
              "</style>\n",
              "<table border=\"1\" class=\"dataframe\">\n",
              "  <thead>\n",
              "    <tr style=\"text-align: right;\">\n",
              "      <th></th>\n",
              "      <th>Income</th>\n",
              "      <th>Spend_score</th>\n",
              "    </tr>\n",
              "  </thead>\n",
              "  <tbody>\n",
              "    <tr>\n",
              "      <th>0</th>\n",
              "      <td>-1.738999</td>\n",
              "      <td>-0.434801</td>\n",
              "    </tr>\n",
              "    <tr>\n",
              "      <th>1</th>\n",
              "      <td>-1.738999</td>\n",
              "      <td>1.195704</td>\n",
              "    </tr>\n",
              "    <tr>\n",
              "      <th>2</th>\n",
              "      <td>-1.700830</td>\n",
              "      <td>-1.715913</td>\n",
              "    </tr>\n",
              "  </tbody>\n",
              "</table>\n",
              "</div>\n",
              "      <button class=\"colab-df-convert\" onclick=\"convertToInteractive('df-f7017ab1-65a6-487e-9558-e05691a496d0')\"\n",
              "              title=\"Convert this dataframe to an interactive table.\"\n",
              "              style=\"display:none;\">\n",
              "        \n",
              "  <svg xmlns=\"http://www.w3.org/2000/svg\" height=\"24px\"viewBox=\"0 0 24 24\"\n",
              "       width=\"24px\">\n",
              "    <path d=\"M0 0h24v24H0V0z\" fill=\"none\"/>\n",
              "    <path d=\"M18.56 5.44l.94 2.06.94-2.06 2.06-.94-2.06-.94-.94-2.06-.94 2.06-2.06.94zm-11 1L8.5 8.5l.94-2.06 2.06-.94-2.06-.94L8.5 2.5l-.94 2.06-2.06.94zm10 10l.94 2.06.94-2.06 2.06-.94-2.06-.94-.94-2.06-.94 2.06-2.06.94z\"/><path d=\"M17.41 7.96l-1.37-1.37c-.4-.4-.92-.59-1.43-.59-.52 0-1.04.2-1.43.59L10.3 9.45l-7.72 7.72c-.78.78-.78 2.05 0 2.83L4 21.41c.39.39.9.59 1.41.59.51 0 1.02-.2 1.41-.59l7.78-7.78 2.81-2.81c.8-.78.8-2.07 0-2.86zM5.41 20L4 18.59l7.72-7.72 1.47 1.35L5.41 20z\"/>\n",
              "  </svg>\n",
              "      </button>\n",
              "      \n",
              "  <style>\n",
              "    .colab-df-container {\n",
              "      display:flex;\n",
              "      flex-wrap:wrap;\n",
              "      gap: 12px;\n",
              "    }\n",
              "\n",
              "    .colab-df-convert {\n",
              "      background-color: #E8F0FE;\n",
              "      border: none;\n",
              "      border-radius: 50%;\n",
              "      cursor: pointer;\n",
              "      display: none;\n",
              "      fill: #1967D2;\n",
              "      height: 32px;\n",
              "      padding: 0 0 0 0;\n",
              "      width: 32px;\n",
              "    }\n",
              "\n",
              "    .colab-df-convert:hover {\n",
              "      background-color: #E2EBFA;\n",
              "      box-shadow: 0px 1px 2px rgba(60, 64, 67, 0.3), 0px 1px 3px 1px rgba(60, 64, 67, 0.15);\n",
              "      fill: #174EA6;\n",
              "    }\n",
              "\n",
              "    [theme=dark] .colab-df-convert {\n",
              "      background-color: #3B4455;\n",
              "      fill: #D2E3FC;\n",
              "    }\n",
              "\n",
              "    [theme=dark] .colab-df-convert:hover {\n",
              "      background-color: #434B5C;\n",
              "      box-shadow: 0px 1px 3px 1px rgba(0, 0, 0, 0.15);\n",
              "      filter: drop-shadow(0px 1px 2px rgba(0, 0, 0, 0.3));\n",
              "      fill: #FFFFFF;\n",
              "    }\n",
              "  </style>\n",
              "\n",
              "      <script>\n",
              "        const buttonEl =\n",
              "          document.querySelector('#df-f7017ab1-65a6-487e-9558-e05691a496d0 button.colab-df-convert');\n",
              "        buttonEl.style.display =\n",
              "          google.colab.kernel.accessAllowed ? 'block' : 'none';\n",
              "\n",
              "        async function convertToInteractive(key) {\n",
              "          const element = document.querySelector('#df-f7017ab1-65a6-487e-9558-e05691a496d0');\n",
              "          const dataTable =\n",
              "            await google.colab.kernel.invokeFunction('convertToInteractive',\n",
              "                                                     [key], {});\n",
              "          if (!dataTable) return;\n",
              "\n",
              "          const docLinkHtml = 'Like what you see? Visit the ' +\n",
              "            '<a target=\"_blank\" href=https://colab.research.google.com/notebooks/data_table.ipynb>data table notebook</a>'\n",
              "            + ' to learn more about interactive tables.';\n",
              "          element.innerHTML = '';\n",
              "          dataTable['output_type'] = 'display_data';\n",
              "          await google.colab.output.renderOutput(dataTable, element);\n",
              "          const docLink = document.createElement('div');\n",
              "          docLink.innerHTML = docLinkHtml;\n",
              "          element.appendChild(docLink);\n",
              "        }\n",
              "      </script>\n",
              "    </div>\n",
              "  </div>\n",
              "  "
            ]
          },
          "metadata": {},
          "execution_count": 44
        }
      ]
    },
    {
      "cell_type": "markdown",
      "source": [
        "2. Visualice los datos utilizando un gráfico de dispersión con income y spend_score en los ejes $x$ e $y$ respectivamente con el siguiente código:"
      ],
      "metadata": {
        "id": "gDJicHfuF1Hm"
      }
    },
    {
      "cell_type": "code",
      "source": [
        "data_scaled.plot.scatter(x='Income', y='Spend_score', color='gray')\n",
        "plt.show()"
      ],
      "metadata": {
        "colab": {
          "base_uri": "https://localhost:8080/",
          "height": 335
        },
        "id": "HDD0cG0AF3Mc",
        "outputId": "d1cf5a12-86ca-444f-86da-e63f78c0217d"
      },
      "execution_count": 46,
      "outputs": [
        {
          "output_type": "stream",
          "name": "stderr",
          "text": [
            "/usr/local/lib/python3.9/dist-packages/pandas/plotting/_matplotlib/core.py:1114: UserWarning: No data for colormapping provided via 'c'. Parameters 'cmap' will be ignored\n",
            "  scatter = ax.scatter(\n"
          ]
        },
        {
          "output_type": "display_data",
          "data": {
            "text/plain": [
              "<Figure size 432x288 with 1 Axes>"
            ],
            "image/png": "[encoded data removed]"
          },
          "metadata": {
            "needs_background": "light"
          }
        }
      ]
    },
    {
      "cell_type": "markdown",
      "source": [
        "De la gráfica, hay 5 grupos naturales en los datos. Esto nos dice que necesitamos especificar 5 como el número de grupos para el algoritmo k-means."
      ],
      "metadata": {
        "id": "T7umWhTOF49h"
      }
    },
    {
      "cell_type": "markdown",
      "source": [
        "3. Importe KMeans desde sklearn.cluster. Cree una instancia del modelo KMeans especificando 5 clústeres (n_clusters) y 42 para random_state:"
      ],
      "metadata": {
        "id": "TQdjXifQF8MV"
      }
    },
    {
      "cell_type": "code",
      "source": [
        "# 42 es una elección arbitraria.\n",
        "from sklearn.cluster import KMeans\n",
        "model = KMeans(n_clusters=5, random_state=42)"
      ],
      "metadata": {
        "id": "2N__Ed-2F-NC"
      },
      "execution_count": 47,
      "outputs": []
    },
    {
      "cell_type": "markdown",
      "source": [
        "Se crea la instancia del modelo. Tenga en cuenta que no se ha realizado ningún agrupamiento en los datos todavía. \n",
        "n_clusters especifica el número de clústeres para crear (5). Especificar un estado aleatorio asegura que obtengamos los mismos resultados en ejecuciones repetidas ya que el algoritmo k-means no es determinista. 42 es una elección arbitraria."
      ],
      "metadata": {
        "id": "rvEU-JQxF_rE"
      }
    },
    {
      "cell_type": "markdown",
      "source": [
        "4. A continuación, ajuste el modelo a los datos utilizando las columnas de cluster_cols para tal fin. Utilizando el método de predicción del modelo de k-medias, asigne el clúster para cada cliente a la variable 'Cluster'. Imprima los primeros tres registros del conjunto de datos data_scaled:"
      ],
      "metadata": {
        "id": "u4uykULeGA5Q"
      }
    },
    {
      "cell_type": "code",
      "source": [
        "model.fit(data_scaled[cluster_cols])\n",
        "data_scaled['Cluster'] = model.predict(data_scaled[cluster_cols])\n",
        "data_scaled.head(3)"
      ],
      "metadata": {
        "colab": {
          "base_uri": "https://localhost:8080/",
          "height": 199
        },
        "id": "m4BrHd_GGCF0",
        "outputId": "ed69eade-034f-46ef-e3c0-2235267b2608"
      },
      "execution_count": 48,
      "outputs": [
        {
          "output_type": "stream",
          "name": "stderr",
          "text": [
            "/usr/local/lib/python3.9/dist-packages/sklearn/cluster/_kmeans.py:870: FutureWarning: The default value of `n_init` will change from 10 to 'auto' in 1.4. Set the value of `n_init` explicitly to suppress the warning\n",
            "  warnings.warn(\n"
          ]
        },
        {
          "output_type": "execute_result",
          "data": {
            "text/plain": [
              "   CustomerID  Gender       Age    Income  Spend_score  Cluster\n",
              "0           1    Male -1.424569 -1.738999    -0.434801        2\n",
              "1           2    Male -1.281035 -1.738999     1.195704        3\n",
              "2           3  Female -1.352802 -1.700830    -1.715913        2"
            ],
            "text/html": [
              "\n",
              "  <div id=\"df-96c04854-5ba4-4552-8f23-0170dc5f3ce7\">\n",
              "    <div class=\"colab-df-container\">\n",
              "      <div>\n",
              "<style scoped>\n",
              "    .dataframe tbody tr th:only-of-type {\n",
              "        vertical-align: middle;\n",
              "    }\n",
              "\n",
              "    .dataframe tbody tr th {\n",
              "        vertical-align: top;\n",
              "    }\n",
              "\n",
              "    .dataframe thead th {\n",
              "        text-align: right;\n",
              "    }\n",
              "</style>\n",
              "<table border=\"1\" class=\"dataframe\">\n",
              "  <thead>\n",
              "    <tr style=\"text-align: right;\">\n",
              "      <th></th>\n",
              "      <th>CustomerID</th>\n",
              "      <th>Gender</th>\n",
              "      <th>Age</th>\n",
              "      <th>Income</th>\n",
              "      <th>Spend_score</th>\n",
              "      <th>Cluster</th>\n",
              "    </tr>\n",
              "  </thead>\n",
              "  <tbody>\n",
              "    <tr>\n",
              "      <th>0</th>\n",
              "      <td>1</td>\n",
              "      <td>Male</td>\n",
              "      <td>-1.424569</td>\n",
              "      <td>-1.738999</td>\n",
              "      <td>-0.434801</td>\n",
              "      <td>2</td>\n",
              "    </tr>\n",
              "    <tr>\n",
              "      <th>1</th>\n",
              "      <td>2</td>\n",
              "      <td>Male</td>\n",
              "      <td>-1.281035</td>\n",
              "      <td>-1.738999</td>\n",
              "      <td>1.195704</td>\n",
              "      <td>3</td>\n",
              "    </tr>\n",
              "    <tr>\n",
              "      <th>2</th>\n",
              "      <td>3</td>\n",
              "      <td>Female</td>\n",
              "      <td>-1.352802</td>\n",
              "      <td>-1.700830</td>\n",
              "      <td>-1.715913</td>\n",
              "      <td>2</td>\n",
              "    </tr>\n",
              "  </tbody>\n",
              "</table>\n",
              "</div>\n",
              "      <button class=\"colab-df-convert\" onclick=\"convertToInteractive('df-96c04854-5ba4-4552-8f23-0170dc5f3ce7')\"\n",
              "              title=\"Convert this dataframe to an interactive table.\"\n",
              "              style=\"display:none;\">\n",
              "        \n",
              "  <svg xmlns=\"http://www.w3.org/2000/svg\" height=\"24px\"viewBox=\"0 0 24 24\"\n",
              "       width=\"24px\">\n",
              "    <path d=\"M0 0h24v24H0V0z\" fill=\"none\"/>\n",
              "    <path d=\"M18.56 5.44l.94 2.06.94-2.06 2.06-.94-2.06-.94-.94-2.06-.94 2.06-2.06.94zm-11 1L8.5 8.5l.94-2.06 2.06-.94-2.06-.94L8.5 2.5l-.94 2.06-2.06.94zm10 10l.94 2.06.94-2.06 2.06-.94-2.06-.94-.94-2.06-.94 2.06-2.06.94z\"/><path d=\"M17.41 7.96l-1.37-1.37c-.4-.4-.92-.59-1.43-.59-.52 0-1.04.2-1.43.59L10.3 9.45l-7.72 7.72c-.78.78-.78 2.05 0 2.83L4 21.41c.39.39.9.59 1.41.59.51 0 1.02-.2 1.41-.59l7.78-7.78 2.81-2.81c.8-.78.8-2.07 0-2.86zM5.41 20L4 18.59l7.72-7.72 1.47 1.35L5.41 20z\"/>\n",
              "  </svg>\n",
              "      </button>\n",
              "      \n",
              "  <style>\n",
              "    .colab-df-container {\n",
              "      display:flex;\n",
              "      flex-wrap:wrap;\n",
              "      gap: 12px;\n",
              "    }\n",
              "\n",
              "    .colab-df-convert {\n",
              "      background-color: #E8F0FE;\n",
              "      border: none;\n",
              "      border-radius: 50%;\n",
              "      cursor: pointer;\n",
              "      display: none;\n",
              "      fill: #1967D2;\n",
              "      height: 32px;\n",
              "      padding: 0 0 0 0;\n",
              "      width: 32px;\n",
              "    }\n",
              "\n",
              "    .colab-df-convert:hover {\n",
              "      background-color: #E2EBFA;\n",
              "      box-shadow: 0px 1px 2px rgba(60, 64, 67, 0.3), 0px 1px 3px 1px rgba(60, 64, 67, 0.15);\n",
              "      fill: #174EA6;\n",
              "    }\n",
              "\n",
              "    [theme=dark] .colab-df-convert {\n",
              "      background-color: #3B4455;\n",
              "      fill: #D2E3FC;\n",
              "    }\n",
              "\n",
              "    [theme=dark] .colab-df-convert:hover {\n",
              "      background-color: #434B5C;\n",
              "      box-shadow: 0px 1px 3px 1px rgba(0, 0, 0, 0.15);\n",
              "      filter: drop-shadow(0px 1px 2px rgba(0, 0, 0, 0.3));\n",
              "      fill: #FFFFFF;\n",
              "    }\n",
              "  </style>\n",
              "\n",
              "      <script>\n",
              "        const buttonEl =\n",
              "          document.querySelector('#df-96c04854-5ba4-4552-8f23-0170dc5f3ce7 button.colab-df-convert');\n",
              "        buttonEl.style.display =\n",
              "          google.colab.kernel.accessAllowed ? 'block' : 'none';\n",
              "\n",
              "        async function convertToInteractive(key) {\n",
              "          const element = document.querySelector('#df-96c04854-5ba4-4552-8f23-0170dc5f3ce7');\n",
              "          const dataTable =\n",
              "            await google.colab.kernel.invokeFunction('convertToInteractive',\n",
              "                                                     [key], {});\n",
              "          if (!dataTable) return;\n",
              "\n",
              "          const docLinkHtml = 'Like what you see? Visit the ' +\n",
              "            '<a target=\"_blank\" href=https://colab.research.google.com/notebooks/data_table.ipynb>data table notebook</a>'\n",
              "            + ' to learn more about interactive tables.';\n",
              "          element.innerHTML = '';\n",
              "          dataTable['output_type'] = 'display_data';\n",
              "          await google.colab.output.renderOutput(dataTable, element);\n",
              "          const docLink = document.createElement('div');\n",
              "          docLink.innerHTML = docLinkHtml;\n",
              "          element.appendChild(docLink);\n",
              "        }\n",
              "      </script>\n",
              "    </div>\n",
              "  </div>\n",
              "  "
            ]
          },
          "metadata": {},
          "execution_count": 48
        }
      ]
    },
    {
      "cell_type": "markdown",
      "source": [
        "5. Ahora necesitas visualizarlo para ver los puntos asignados a cada clúster. Traza cada grupo con un marcador usando el siguiente código. Creará un subconjunto del conjunto de datos para cada grupo y utilizará un diccionario para especificar el marcador para el grupo:"
      ],
      "metadata": {
        "id": "9wouJiQgGE9-"
      }
    },
    {
      "cell_type": "code",
      "source": [
        "markers = ['x', '*', '.', '|', '_']\n",
        "for clust in range(5):\n",
        "    temp = data_scaled[data_scaled.Cluster == clust]\n",
        "    plt.scatter(temp.Income, temp.Spend_score, marker=markers[clust], \n",
        "                color = 'gray', \n",
        "                label=\"Cluster \" + str(clust))\n",
        "plt.xlabel('Income')\n",
        "plt.ylabel('Spend_score')\n",
        "plt.legend()\n",
        "plt.show()"
      ],
      "metadata": {
        "colab": {
          "base_uri": "https://localhost:8080/",
          "height": 279
        },
        "id": "Y9mo2ceGGGk3",
        "outputId": "baa6dd91-28f4-4646-8519-ff9dadededdc"
      },
      "execution_count": 54,
      "outputs": [
        {
          "output_type": "display_data",
          "data": {
            "text/plain": [
              "<Figure size 432x288 with 1 Axes>"
            ],
            "image/png": "[encoded data removed]"
          },
          "metadata": {
            "needs_background": "light"
          }
        }
      ]
    },
    {
      "cell_type": "markdown",
      "source": [
        "Los conglomerados, representados por las diferentes formas en el diagrama de dispersión, parecen estar alineados con los grupos naturales que identificamos visualmente en la Figura 3.18. El algoritmo k-means hizo un buen trabajo al identificar los grupos \"naturales\" en los datos."
      ],
      "metadata": {
        "id": "bWMcK6Q9GIvN"
      }
    },
    {
      "cell_type": "markdown",
      "source": [
        "En este ejercicio, ha realizado con éxito la agrupación en clústeres de k-means utilizando el paquete scikit-learn. Pero el ejercicio de segmentación aún no ha terminado. Aún necesitará comprender estos clústeres y describirlos de una manera que la empresa los entienda."
      ],
      "metadata": {
        "id": "65gLma6DGKcX"
      }
    },
    {
      "cell_type": "markdown",
      "source": [
        "# 3.3.1 Comprendiendo y describiendo los clústeres\n",
        "\n",
        "Los analistas de marketing deben tener una comprensión clara de estos grupos para que puedan explicárselos a las distintas partes interesadas en el negocio. Como se mencionó anteriormente, las partes interesadas del negocio juegan un papel fundamental en el ejercicio de segmentación al revisar los **segmentos desde una perspectiva comercial**. Para comprender los clústeres, un enfoque sencillo consiste en estudiar las diversas **características de los clientes de cada clúster**. Para este propósito, no necesitamos restringirnos a las características que se incluyeron en el agrupamiento. De hecho, complementar el análisis con otras características relevantes nos ayuda a comprender mejor los segmentos de clientes y su comportamiento. La comprensión debe transmitirse al negocio. Además, dado que la empresa se referirá a los clústeres una y otra vez, debemos asegurarnos de etiquetar y describir mejor estos segmentos."
      ],
      "metadata": {
        "id": "ewpTSl0CGMlo"
      }
    },
    {
      "cell_type": "markdown",
      "source": [
        "Entendamos los clusters obtenidos en el Ejercicio 3.05, Clustering de K-Means en Clientes de Centros Comerciales. \n",
        "\n",
        "Para comprender mejor las características de los conglomerados, analizaremos las características en la escala original y no las características estandarizadas. Para hacerlo, primero agreguemos la información del clúster al conjunto de datos data0 que preparamos en el Ejercicio 3.01, Segmentación de clientes de centros comerciales: comprensión de los datos. Recuerde que este es el conjunto de datos sin la estandarización aplicada y, por lo tanto, Income y Spend_Score están disponibles en sus escalas originales. Luego, veamos cómo varían los valores de Income y Spend_score entre los clústeres. Agruparemos el conjunto de datos por clúster y calcularemos y trazaremos el valor medio de estas variables usando el siguiente código:"
      ],
      "metadata": {
        "id": "oB_v4jM2GRD7"
      }
    },
    {
      "cell_type": "code",
      "source": [
        "data0['Cluster'] = data_scaled.Cluster\n",
        "data0.groupby('Cluster')[['Income', 'Spend_score']].mean().plot.bar(color=['gray','black']) \n",
        "plt.show()"
      ],
      "metadata": {
        "colab": {
          "base_uri": "https://localhost:8080/",
          "height": 276
        },
        "id": "cRBBkB87GS7O",
        "outputId": "cbebac03-ce31-4f8f-a45b-cb5f0e71e807"
      },
      "execution_count": 57,
      "outputs": [
        {
          "output_type": "display_data",
          "data": {
            "text/plain": [
              "<Figure size 432x288 with 1 Axes>"
            ],
            "image/png": "[encoded data removed]"
          },
          "metadata": {
            "needs_background": "light"
          }
        }
      ]
    },
    {
      "cell_type": "markdown",
      "source": [
        "La información aquí es en cierto modo un resumen de la gráfica en la Figura 3.20. Cada grupo se puede describir de la siguiente manera:\n",
        "- Grupo 0: gastadores altos de bajos ingresos\n",
        "- Grupo 1: gastadores moderados de ingresos moderados\n",
        "- Grupo 2: gastadores de ingresos altos y bajos\n",
        "- Grupo 3: gastadores de bajos ingresos\n",
        "- Grupo 4: gastadores de altos ingresos"
      ],
      "metadata": {
        "id": "Nb--2ERJaHvr"
      }
    },
    {
      "cell_type": "markdown",
      "source": [
        "Además, puede asignar nombres creativos a estos grupos que capturen la esencia de su comportamiento. Ayuda a registrar y transmitir mejor la comprensión y es más fácil trabajar con él. "
      ],
      "metadata": {
        "id": "y00ZeHPKGYtZ"
      }
    },
    {
      "cell_type": "markdown",
      "source": [
        "Este paso clave completa el ejercicio de segmentación. Esta comprensión se presenta a los consumidores comerciales, quienes, como se mencionó anteriormente, a menudo tienen algunos comentarios que puede incorporar, lo que lleva a segmentos más refinados. Ahora que comprende todos los pasos clave involucrados, es hora de poner a prueba sus habilidades recién aprendidas."
      ],
      "metadata": {
        "id": "rFgFAw-VGbT2"
      }
    },
    {
      "cell_type": "markdown",
      "source": [
        "# Actividad 3.01: Segmentación de Clientes Bancarios para Campaña de Crédito\n",
        "Los bancos a menudo tienen campañas de marketing para sus productos individuales. \n",
        "Therabank es un banco establecido que ofrece préstamos personales como producto. La mayoría de los clientes de Therabank tienen depósitos, lo que es un pasivo para el banco y no es rentable. Los préstamos son rentables para el banco. Por tanto, conseguir que más clientes opten por un préstamo personal hace que la ecuación sea más rentable. \n",
        "**La tarea en cuestión es crear segmentos de clientes para maximizar la efectividad de su campaña de préstamos personales.**\n",
        "El banco tiene datos de los clientes, incluidos datos demográficos, cierta información financiera y cómo respondieron estos clientes a una campaña anterior (consulte la Figura 3.21). \n"
      ],
      "metadata": {
        "id": "56ZtWGCDGeQt"
      }
    },
    {
      "cell_type": "markdown",
      "source": [
        "- Experiencia: La experiencia laboral del cliente en años\n",
        "- Ingresos: Los ingresos anuales estimados del cliente (miles de\n",
        "Dólares estadounidenses)\n",
        "- CCAvg: El gasto promedio en tarjetas de crédito por mes (miles de dólares estadounidenses)\n",
        "- Hipoteca: El valor de la hipoteca de la casa del cliente (si la hubiere)\n",
        "- Edad: La edad (en años) del cliente"
      ],
      "metadata": {
        "id": "nHr_okIMGjiV"
      }
    },
    {
      "cell_type": "markdown",
      "source": [
        "El objetivo es crear segmentos de clientes para la campaña de marketing. También identificará cuál de estos segmentos tiene la mayor propensión a responder a la campaña, información que ayudará en gran medida a optimizar futuras campañas."
      ],
      "metadata": {
        "id": "D1MH2yfCGq7q"
      }
    },
    {
      "cell_type": "markdown",
      "source": [
        "Tenga en cuenta que si bien la respuesta de la campaña anterior está disponible para usted, si usa\n",
        "como un criterio/característica para la segmentación, no podrá segmentar a otros clientes para los que nunca se ejecutó la campaña anterior, lo que limita severamente la cantidad de clientes a los que puede dirigirse. Por lo tanto, excluirá la característica (respuesta de campaña anterior) para la agrupación, pero puede usarla para evaluar cómo responderían sus grupos en general a la campaña."
      ],
      "metadata": {
        "id": "Pf7nn4u-Gs8n"
      }
    },
    {
      "cell_type": "markdown",
      "source": [
        "1. Importamos las bibliotecas necesarias para el procesamiento, visualización y agrupación de datos."
      ],
      "metadata": {
        "id": "RrIaMqSzezlv"
      }
    },
    {
      "cell_type": "code",
      "source": [
        "import numpy as np, pandas as pd\n",
        "import matplotlib.pyplot as plt, seaborn as sns\n",
        "from sklearn.preprocessing import StandardScaler\n",
        "from sklearn.cluster import KMeans"
      ],
      "metadata": {
        "id": "lNrEpSUFfDAy"
      },
      "execution_count": 58,
      "outputs": []
    },
    {
      "cell_type": "markdown",
      "source": [
        "2. Cargue los datos en un DataFrame de pandas y muestre las cinco filas superiores. Usando el método de información, comprenda las columnas y sus tipos."
      ],
      "metadata": {
        "id": "9t4EzTU7e4-7"
      }
    },
    {
      "cell_type": "code",
      "source": [
        "bank0 = pd.read_csv(\"Bank_Personal_Loan_Modelling-1.csv\") \n",
        "bank0.head()"
      ],
      "metadata": {
        "colab": {
          "base_uri": "https://localhost:8080/",
          "height": 353
        },
        "id": "549Lym01fDjs",
        "outputId": "9a11dc75-e3ba-4121-c3b0-3d405053af61"
      },
      "execution_count": 59,
      "outputs": [
        {
          "output_type": "error",
          "ename": "FileNotFoundError",
          "evalue": "ignored",
          "traceback": [
            "\u001b[0;31m---------------------------------------------------------------------------\u001b[0m",
            "\u001b[0;31mFileNotFoundError\u001b[0m                         Traceback (most recent call last)",
            "\u001b[0;32m<ipython-input-59-4b5511915fab>\u001b[0m in \u001b[0;36m<module>\u001b[0;34m\u001b[0m\n\u001b[0;32m----> 1\u001b[0;31m \u001b[0mbank0\u001b[0m \u001b[0;34m=\u001b[0m \u001b[0mpd\u001b[0m\u001b[0;34m.\u001b[0m\u001b[0mread_csv\u001b[0m\u001b[0;34m(\u001b[0m\u001b[0;34m\"Bank_Personal_Loan_Modelling-1.csv\"\u001b[0m\u001b[0;34m)\u001b[0m\u001b[0;34m\u001b[0m\u001b[0;34m\u001b[0m\u001b[0m\n\u001b[0m\u001b[1;32m      2\u001b[0m \u001b[0mbank0\u001b[0m\u001b[0;34m.\u001b[0m\u001b[0mhead\u001b[0m\u001b[0;34m(\u001b[0m\u001b[0;34m)\u001b[0m\u001b[0;34m\u001b[0m\u001b[0;34m\u001b[0m\u001b[0m\n",
            "\u001b[0;32m/usr/local/lib/python3.9/dist-packages/pandas/util/_decorators.py\u001b[0m in \u001b[0;36mwrapper\u001b[0;34m(*args, **kwargs)\u001b[0m\n\u001b[1;32m    309\u001b[0m                     \u001b[0mstacklevel\u001b[0m\u001b[0;34m=\u001b[0m\u001b[0mstacklevel\u001b[0m\u001b[0;34m,\u001b[0m\u001b[0;34m\u001b[0m\u001b[0;34m\u001b[0m\u001b[0m\n\u001b[1;32m    310\u001b[0m                 )\n\u001b[0;32m--> 311\u001b[0;31m             \u001b[0;32mreturn\u001b[0m \u001b[0mfunc\u001b[0m\u001b[0;34m(\u001b[0m\u001b[0;34m*\u001b[0m\u001b[0margs\u001b[0m\u001b[0;34m,\u001b[0m \u001b[0;34m**\u001b[0m\u001b[0mkwargs\u001b[0m\u001b[0;34m)\u001b[0m\u001b[0;34m\u001b[0m\u001b[0;34m\u001b[0m\u001b[0m\n\u001b[0m\u001b[1;32m    312\u001b[0m \u001b[0;34m\u001b[0m\u001b[0m\n\u001b[1;32m    313\u001b[0m         \u001b[0;32mreturn\u001b[0m \u001b[0mwrapper\u001b[0m\u001b[0;34m\u001b[0m\u001b[0;34m\u001b[0m\u001b[0m\n",
            "\u001b[0;32m/usr/local/lib/python3.9/dist-packages/pandas/io/parsers/readers.py\u001b[0m in \u001b[0;36mread_csv\u001b[0;34m(filepath_or_buffer, sep, delimiter, header, names, index_col, usecols, squeeze, prefix, mangle_dupe_cols, dtype, engine, converters, true_values, false_values, skipinitialspace, skiprows, skipfooter, nrows, na_values, keep_default_na, na_filter, verbose, skip_blank_lines, parse_dates, infer_datetime_format, keep_date_col, date_parser, dayfirst, cache_dates, iterator, chunksize, compression, thousands, decimal, lineterminator, quotechar, quoting, doublequote, escapechar, comment, encoding, encoding_errors, dialect, error_bad_lines, warn_bad_lines, on_bad_lines, delim_whitespace, low_memory, memory_map, float_precision, storage_options)\u001b[0m\n\u001b[1;32m    676\u001b[0m     \u001b[0mkwds\u001b[0m\u001b[0;34m.\u001b[0m\u001b[0mupdate\u001b[0m\u001b[0;34m(\u001b[0m\u001b[0mkwds_defaults\u001b[0m\u001b[0;34m)\u001b[0m\u001b[0;34m\u001b[0m\u001b[0;34m\u001b[0m\u001b[0m\n\u001b[1;32m    677\u001b[0m \u001b[0;34m\u001b[0m\u001b[0m\n\u001b[0;32m--> 678\u001b[0;31m     \u001b[0;32mreturn\u001b[0m \u001b[0m_read\u001b[0m\u001b[0;34m(\u001b[0m\u001b[0mfilepath_or_buffer\u001b[0m\u001b[0;34m,\u001b[0m \u001b[0mkwds\u001b[0m\u001b[0;34m)\u001b[0m\u001b[0;34m\u001b[0m\u001b[0;34m\u001b[0m\u001b[0m\n\u001b[0m\u001b[1;32m    679\u001b[0m \u001b[0;34m\u001b[0m\u001b[0m\n\u001b[1;32m    680\u001b[0m \u001b[0;34m\u001b[0m\u001b[0m\n",
            "\u001b[0;32m/usr/local/lib/python3.9/dist-packages/pandas/io/parsers/readers.py\u001b[0m in \u001b[0;36m_read\u001b[0;34m(filepath_or_buffer, kwds)\u001b[0m\n\u001b[1;32m    573\u001b[0m \u001b[0;34m\u001b[0m\u001b[0m\n\u001b[1;32m    574\u001b[0m     \u001b[0;31m# Create the parser.\u001b[0m\u001b[0;34m\u001b[0m\u001b[0;34m\u001b[0m\u001b[0m\n\u001b[0;32m--> 575\u001b[0;31m     \u001b[0mparser\u001b[0m \u001b[0;34m=\u001b[0m \u001b[0mTextFileReader\u001b[0m\u001b[0;34m(\u001b[0m\u001b[0mfilepath_or_buffer\u001b[0m\u001b[0;34m,\u001b[0m \u001b[0;34m**\u001b[0m\u001b[0mkwds\u001b[0m\u001b[0;34m)\u001b[0m\u001b[0;34m\u001b[0m\u001b[0;34m\u001b[0m\u001b[0m\n\u001b[0m\u001b[1;32m    576\u001b[0m \u001b[0;34m\u001b[0m\u001b[0m\n\u001b[1;32m    577\u001b[0m     \u001b[0;32mif\u001b[0m \u001b[0mchunksize\u001b[0m \u001b[0;32mor\u001b[0m \u001b[0miterator\u001b[0m\u001b[0;34m:\u001b[0m\u001b[0;34m\u001b[0m\u001b[0;34m\u001b[0m\u001b[0m\n",
            "\u001b[0;32m/usr/local/lib/python3.9/dist-packages/pandas/io/parsers/readers.py\u001b[0m in \u001b[0;36m__init__\u001b[0;34m(self, f, engine, **kwds)\u001b[0m\n\u001b[1;32m    930\u001b[0m \u001b[0;34m\u001b[0m\u001b[0m\n\u001b[1;32m    931\u001b[0m         \u001b[0mself\u001b[0m\u001b[0;34m.\u001b[0m\u001b[0mhandles\u001b[0m\u001b[0;34m:\u001b[0m \u001b[0mIOHandles\u001b[0m \u001b[0;34m|\u001b[0m \u001b[0;32mNone\u001b[0m \u001b[0;34m=\u001b[0m \u001b[0;32mNone\u001b[0m\u001b[0;34m\u001b[0m\u001b[0;34m\u001b[0m\u001b[0m\n\u001b[0;32m--> 932\u001b[0;31m         \u001b[0mself\u001b[0m\u001b[0;34m.\u001b[0m\u001b[0m_engine\u001b[0m \u001b[0;34m=\u001b[0m \u001b[0mself\u001b[0m\u001b[0;34m.\u001b[0m\u001b[0m_make_engine\u001b[0m\u001b[0;34m(\u001b[0m\u001b[0mf\u001b[0m\u001b[0;34m,\u001b[0m \u001b[0mself\u001b[0m\u001b[0;34m.\u001b[0m\u001b[0mengine\u001b[0m\u001b[0;34m)\u001b[0m\u001b[0;34m\u001b[0m\u001b[0;34m\u001b[0m\u001b[0m\n\u001b[0m\u001b[1;32m    933\u001b[0m \u001b[0;34m\u001b[0m\u001b[0m\n\u001b[1;32m    934\u001b[0m     \u001b[0;32mdef\u001b[0m \u001b[0mclose\u001b[0m\u001b[0;34m(\u001b[0m\u001b[0mself\u001b[0m\u001b[0;34m)\u001b[0m\u001b[0;34m:\u001b[0m\u001b[0;34m\u001b[0m\u001b[0;34m\u001b[0m\u001b[0m\n",
            "\u001b[0;32m/usr/local/lib/python3.9/dist-packages/pandas/io/parsers/readers.py\u001b[0m in \u001b[0;36m_make_engine\u001b[0;34m(self, f, engine)\u001b[0m\n\u001b[1;32m   1214\u001b[0m             \u001b[0;31m# \"Union[str, PathLike[str], ReadCsvBuffer[bytes], ReadCsvBuffer[str]]\"\u001b[0m\u001b[0;34m\u001b[0m\u001b[0;34m\u001b[0m\u001b[0m\n\u001b[1;32m   1215\u001b[0m             \u001b[0;31m# , \"str\", \"bool\", \"Any\", \"Any\", \"Any\", \"Any\", \"Any\"\u001b[0m\u001b[0;34m\u001b[0m\u001b[0;34m\u001b[0m\u001b[0m\n\u001b[0;32m-> 1216\u001b[0;31m             self.handles = get_handle(  # type: ignore[call-overload]\n\u001b[0m\u001b[1;32m   1217\u001b[0m                 \u001b[0mf\u001b[0m\u001b[0;34m,\u001b[0m\u001b[0;34m\u001b[0m\u001b[0;34m\u001b[0m\u001b[0m\n\u001b[1;32m   1218\u001b[0m                 \u001b[0mmode\u001b[0m\u001b[0;34m,\u001b[0m\u001b[0;34m\u001b[0m\u001b[0;34m\u001b[0m\u001b[0m\n",
            "\u001b[0;32m/usr/local/lib/python3.9/dist-packages/pandas/io/common.py\u001b[0m in \u001b[0;36mget_handle\u001b[0;34m(path_or_buf, mode, encoding, compression, memory_map, is_text, errors, storage_options)\u001b[0m\n\u001b[1;32m    784\u001b[0m         \u001b[0;32mif\u001b[0m \u001b[0mioargs\u001b[0m\u001b[0;34m.\u001b[0m\u001b[0mencoding\u001b[0m \u001b[0;32mand\u001b[0m \u001b[0;34m\"b\"\u001b[0m \u001b[0;32mnot\u001b[0m \u001b[0;32min\u001b[0m \u001b[0mioargs\u001b[0m\u001b[0;34m.\u001b[0m\u001b[0mmode\u001b[0m\u001b[0;34m:\u001b[0m\u001b[0;34m\u001b[0m\u001b[0;34m\u001b[0m\u001b[0m\n\u001b[1;32m    785\u001b[0m             \u001b[0;31m# Encoding\u001b[0m\u001b[0;34m\u001b[0m\u001b[0;34m\u001b[0m\u001b[0m\n\u001b[0;32m--> 786\u001b[0;31m             handle = open(\n\u001b[0m\u001b[1;32m    787\u001b[0m                 \u001b[0mhandle\u001b[0m\u001b[0;34m,\u001b[0m\u001b[0;34m\u001b[0m\u001b[0;34m\u001b[0m\u001b[0m\n\u001b[1;32m    788\u001b[0m                 \u001b[0mioargs\u001b[0m\u001b[0;34m.\u001b[0m\u001b[0mmode\u001b[0m\u001b[0;34m,\u001b[0m\u001b[0;34m\u001b[0m\u001b[0;34m\u001b[0m\u001b[0m\n",
            "\u001b[0;31mFileNotFoundError\u001b[0m: [Errno 2] No such file or directory: 'Bank_Personal_Loan_Modelling-1.csv'"
          ]
        }
      ]
    },
    {
      "cell_type": "markdown",
      "source": [
        "3. Realice escalas estándar en las columnas Ingreso y CCAvg para crear nuevas columnas Income_scaled y CCAvg_scaled. Utilizará estas dos variables para la segmentación de clientes. Obtenga un resumen descriptivo de las columnas procesadas para verificar que la escala se ha aplicado correctamente."
      ],
      "metadata": {
        "id": "qrdmy4XZe5JE"
      }
    },
    {
      "cell_type": "code",
      "source": [
        " bank0.info()"
      ],
      "metadata": {
        "id": "Ya_X_juPfEH5"
      },
      "execution_count": null,
      "outputs": []
    },
    {
      "cell_type": "markdown",
      "source": [
        "\n",
        "4. Realice la agrupación en clústeres de k-medias, especificando 3 clústeres utilizando Ingresos y CCAvg como características. Especifique random_state como 42 (una elección arbitraria) para garantizar la coherencia de los resultados. Cree una nueva columna, Clúster, que contenga el clúster pronosticado del modelo."
      ],
      "metadata": {
        "id": "tsdeP22ee5Ss"
      }
    },
    {
      "cell_type": "code",
      "source": [
        "scaler = StandardScaler()\n",
        "bank0[['Income_scaled', 'CCAvg_scaled']] = scaler.fit_transform\\\n",
        "                                           (bank0[['Income', \\\n",
        "                                                   'CCAvg']])\n",
        "bank0[['Income_scaled', 'CCAvg_scaled']].describe()"
      ],
      "metadata": {
        "id": "_ipKtfwcfEll"
      },
      "execution_count": null,
      "outputs": []
    },
    {
      "cell_type": "markdown",
      "source": [
        "5. Visualice los grupos utilizando diferentes marcadores para los grupos en un diagrama de dispersión entre Ingreso y CCAvg. La salida debe ser la siguiente:"
      ],
      "metadata": {
        "id": "NfxHWv-Ze5qZ"
      }
    },
    {
      "cell_type": "code",
      "source": [
        "model = KMeans(n_clusters=3, random_state=42)\n",
        "cluster_cols = ['Income_scaled', 'CCAvg_scaled']\n",
        "model.fit(bank0[cluster_cols])\n",
        "bank0['Cluster'] = model.predict(bank0[cluster_cols])"
      ],
      "metadata": {
        "id": "_QB8XyTffFLa"
      },
      "execution_count": null,
      "outputs": []
    },
    {
      "cell_type": "markdown",
      "source": [
        "Figure 3.22: Clusters on a scatter plot\n",
        "\n",
        "6. Para comprender los grupos, imprima los valores promedio de Ingreso y CCAvg para los tres grupos."
      ],
      "metadata": {
        "id": "kRCZwakEfup6"
      }
    },
    {
      "cell_type": "code",
      "source": [
        "markers = ['x', '.', '_']\n",
        "plt.figure(figsize=[8,5])\n",
        "for clust in range(3):\n",
        "    temp = bank0[bank0.Cluster == clust]\n",
        "    plt.scatter(temp.Income, temp.CCAvg, \\\n",
        "marker=markers[clust], \\ color='gray',\\ label=\"Cluster \"+str(clust) )\n",
        "plt.xlabel('Income')\n",
        "plt.ylabel('CCAvg')\n",
        "plt.legend()\n",
        "plt.show()"
      ],
      "metadata": {
        "id": "r1agfuohf5nQ"
      },
      "execution_count": null,
      "outputs": []
    },
    {
      "cell_type": "markdown",
      "source": [
        "7. Realice una comparación visual de los conglomerados utilizando los valores estandarizados para Ingreso y CCAvg. Debería obtener la siguiente trama:\n",
        "Figura 3.23: Comparación visual de los clústeres usando los valores estandarizados para Ingreso y CCAvg"
      ],
      "metadata": {
        "id": "RMmtV2hZfusn"
      }
    },
    {
      "cell_type": "code",
      "source": [
        "bank0.groupby('Cluster')[['Income', 'CCAvg']].mean()"
      ],
      "metadata": {
        "id": "gnYmRultf6K6"
      },
      "execution_count": null,
      "outputs": []
    },
    {
      "cell_type": "markdown",
      "source": [
        "8. Para comprender mejor los grupos utilizando otras funciones relevantes, imprima los valores promedio contra los grupos para las funciones Edad, Hipoteca, Familia, Tarjeta de crédito, En línea y Préstamo personal. Compruebe qué clúster tiene la mayor propensión a tomar un préstamo personal."
      ],
      "metadata": {
        "id": "hjjL-Bxyfuvc"
      }
    },
    {
      "cell_type": "code",
      "source": [
        "bank0.groupby('Cluster')[['Income_scaled', 'CCAvg_scaled']]\\\n",
        "                        .mean().plot\\\n",
        "plt.show()"
      ],
      "metadata": {
        "id": "ifkkNrd_f6qe"
      },
      "execution_count": null,
      "outputs": []
    },
    {
      "cell_type": "markdown",
      "source": [
        "\n",
        "9. Basándose en su comprensión de los grupos, asigne etiquetas descriptivas a los grupos."
      ],
      "metadata": {
        "id": "soK9eDDyfu98"
      }
    },
    {
      "cell_type": "code",
      "source": [
        "sel_cols = ['Income', 'CCAvg', 'Age', 'Mortgage', 'Family', \\\n",
        "            'CreditCard', 'Online', 'Personal Loan']\n",
        "bank0.groupby('Cluster')[sel_cols].mean()"
      ],
      "metadata": {
        "id": "9S9UM07LgDY7"
      },
      "execution_count": null,
      "outputs": []
    },
    {
      "cell_type": "markdown",
      "source": [
        "\n",
        "\n",
        "\n",
        "\n",
        "si completó esta actividad, debe haber realizado todos los pasos clave para realizar el ejercicio de segmentación completo. No solo realizó el procesamiento de datos necesario y aplicó el algoritmo k-means, sino que también creó clústeres útiles y obtuvo información valiosa para el negocio. Hasta ahora, en los ejercicios y la actividad, utilizó como máximo dos variables (o dimensiones) para la agrupación. Si bien eso fue conveniente, muchos escenarios comerciales requerirán que usted trate con numerosos atributos de los clientes, por lo que tendrá que lidiar con datos de gran dimensión.\n",
        "Vamos a entender las consideraciones y el proceso a continuación."
      ],
      "metadata": {
        "id": "za1fcsSbGuU5"
      }
    },
    {
      "cell_type": "markdown",
      "source": [
        "# 3.4 Clustering con High-Dimensional Data\n",
        "Es común tener conjuntos de datos que tengan más de dos dimensiones. En el conjunto de datos de clientes del centro comercial que vimos en los ejercicios anteriores, tenemos la edad del cliente además de la puntuación de ingresos y gastos. Anteriormente, solo usábamos puntajes de ingresos y gastos para realizar la segmentación. La edad podría ser una característica interesante ya que podemos tener diferencias en el comportamiento y la capacidad de respuesta a las campañas de marketing para clientes en diferentes grupos de edad. Además, aparte de los datos demográficos habituales, si tuviéramos alguna información sobre cómo respondieron estos clientes a las ventas anunciadas, cuántas compras han realizado de nuestros productos o cuántas personas viven en su hogar, podríamos tener muchas más dimensiones.\n",
        "\n",
        "La agrupación de entidades representadas en dimensiones superiores no es diferente de la agrupación con dos dimensiones. El paso clave es el cálculo de similitud/distancia. Recuerde que la medida de distancia que empleamos, la distancia euclidiana, se definió de la siguiente manera:"
      ],
      "metadata": {
        "id": "fz3u1GCpG9Mw"
      }
    },
    {
      "cell_type": "markdown",
      "source": [
        "<h1><center>\n",
        "$ d\\left( p,q\\right)   = \\sqrt {\\sum  \\left( p_{i}-q_{i}\\right)^2 } $\n",
        "\n",
        "\n",
        "Figura 3.24: Ecuación para calcular la distancia euclidiana entre dos puntos\n",
        "</center><h1>\n",
        "\n",
        "\n",
        "\n",
        "Aquí, $p = (p1+p2+...pn)$, $q = (q1+q2+...qn)$, mientras que n es el número de características. La distancia euclidiana puede manejar muy bien múltiples dimensiones. Una vez que se define la distancia, se pueden emplear los algoritmos habituales de ML para la agrupación, por ejemplo, k-means."
      ],
      "metadata": {
        "id": "0LsFtyQSHBKx"
      }
    },
    {
      "cell_type": "markdown",
      "source": [
        "Sin embargo, lo que sí cambia es cómo visualizamos los grupos. En el Ejercicio 3.05, Agrupación de K-Means en Clientes de Centros Comerciales, solo teníamos dos variables y podíamos visualizar fácilmente los puntos de datos y las agrupaciones formadas. Sin embargo, con datos de mayor dimensión, primero debemos reducir los datos a dos dimensiones.\n",
        "\n",
        "Las técnicas de reducción de dimensionalidad se emplean comúnmente para esto. La idea de la reducción de la dimensionalidad es que los datos multidimensionales se reducen, generalmente a dos dimensiones, con fines de visualización, de una manera que preserva la distancia entre los puntos. Una forma simple e intuitiva de entender la reducción de la dimensionalidad es considerar que las imágenes y videos que vemos en pantallas bidimensionales son, de hecho, representaciones de un mundo tridimensional, reducido a dos dimensiones para que puedan visualizarse en la pantalla bidimensional. . Mientras\n",
        "perdemos una dimensión (profundidad) en las imágenes, la pérdida es mínima y no arruinar la experiencia visual. La reducción de dimensionalidad, cuando se aplica a nuestro conjunto de datos multidimensional, condensaría la mayor parte de la información en dos dimensiones para permitir la visualización."
      ],
      "metadata": {
        "id": "0WDe-Uv9HC_d"
      }
    },
    {
      "cell_type": "markdown",
      "source": [
        "Las técnicas para la reducción de la dimensionalidad son muchas. Estudiarás y aplicarás\n",
        "el enfoque más popular con diferencia: el análisis de componentes principales (PCA). PCA es un método de transformación de datos. Toma las características/dimensiones originales y crea nuevas características/dimensiones que capturan la mayor variación en los datos. En otras palabras, crea dimensiones que contienen la mayor cantidad de información sobre los datos, de modo que cuando toma los dos primeros componentes principales (PC), es decir, las dimensiones, se queda con la mayor parte de la información sobre los datos, pero reducido a solo\n",
        "dos dimensiones:"
      ],
      "metadata": {
        "id": "C8tVBaONHEta"
      }
    },
    {
      "cell_type": "markdown",
      "source": [
        "\n",
        "<figure>\n",
        "<center><img src='https://drive.google.com/uc?export=view&id=1pLdgI7PbEFqDKewhao2JgqAZC4lmMOMQ' width=\"800\" />\n",
        "<figcaption>Figure 3.25: How PCA works</figcaption></center>\n",
        "</figure>\n",
        "\n",
        "Para la implementación de Python, utilizará el módulo PCA del paquete scikit-learn. El uso del paquete es similar al uso del módulo KMeans.\n",
        "Similar al módulo KMeans, el módulo PCA tiene métodos de ajuste y transformación. Ajustar significaría calcular las PC a partir de los datos y transformar significaría representar los datos en estas nuevas PC. El método fit_transform combina los dos métodos. \n",
        "\n",
        "El siguiente código ilustra el uso del módulo PCA:"
      ],
      "metadata": {
        "id": "M618MEmTHHKv"
      }
    },
    {
      "cell_type": "code",
      "source": [
        "from sklearn import decomposition\n",
        "pca = decomposition.PCA(n_components=N) pca_res = pca.fit_transform(data[cols])"
      ],
      "metadata": {
        "id": "nTXpTMp-HKDJ"
      },
      "execution_count": null,
      "outputs": []
    },
    {
      "cell_type": "markdown",
      "source": [
        "Aquí, N es el número de PCA para calcular, cols es una lista de columnas para calcular los PCA y data es el conjunto de datos que contiene estas columnas. pca_res contendría los datos transformados. Para resumir la discusión sobre PCA, cuando se realiza el agrupamiento con datos de alta dimensión, el enfoque de formación de grupos sigue siendo el mismo. Es solo la visualización la que ahora necesita un paso adicional: la reducción a dos dimensiones utilizando una técnica de reducción de dimensionalidad como PCA. En el siguiente ejercicio, probará esto de primera mano agrupando a los clientes del centro comercial según la edad, los ingresos y la puntuación de gastos."
      ],
      "metadata": {
        "id": "o0GmltUcHLuv"
      }
    },
    {
      "cell_type": "markdown",
      "source": [
        "# Ejercicio 3.06: Manejo de datos de alta dimensión\n",
        "En este ejercicio, realizará la agrupación en clústeres en el conjunto de datos de clientes del centro comercial utilizando\n",
        "la puntuación de edad, ingresos y gastos. El objetivo es encontrar grupos naturales en los datos basados ​​en estos tres criterios y analizar los segmentos de clientes para identificar sus características diferenciadoras, brindando a la empresa información valiosa sobre la naturaleza de sus clientes. Esta vez, sin embargo, la visualización no será fácil. Deberá usar PCA para reducir los datos a dos dimensiones para visualizar los clústeres:"
      ],
      "metadata": {
        "id": "GA-KxMPCHOPO"
      }
    },
    {
      "cell_type": "markdown",
      "source": [
        "1. Cree una lista, cluster_cols, que contenga las columnas Age, Income y Spend_score, que se utilizarán para la agrupación. Imprima las primeras tres filas del conjunto de datos para estas columnas:\n"
      ],
      "metadata": {
        "id": "OIFRyW6xHRV9"
      }
    },
    {
      "cell_type": "code",
      "source": [
        "cluster_cols = ['Age', 'Income', 'Spend_score']\n",
        "data_scaled[cluster_cols].head(3)"
      ],
      "metadata": {
        "id": "zh7re-wqlHc7"
      },
      "execution_count": null,
      "outputs": []
    },
    {
      "cell_type": "markdown",
      "source": [
        "2. Realice la agrupación en clústeres de k-medias, especificando 4 clústeres utilizando las características escaladas. Especifique random_state como 42.\n",
        "\n",
        "  Asigne los clústeres a la columna Clúster:"
      ],
      "metadata": {
        "id": "t07Fno6eAAQ0"
      }
    },
    {
      "cell_type": "code",
      "source": [
        "cluster_cols = ['Age', 'Income', 'Spend_score']\n",
        "data_scaled[cluster_cols].head(3)\n",
        "model = KMeans(n_clusters=4, random_state=42)\n",
        "model.fit(data_scaled[cluster_cols])\n",
        "data_scaled['Cluster'] = model.predict(data_scaled[cluster_cols])"
      ],
      "metadata": {
        "id": "crs24Jk1ANfB"
      },
      "execution_count": null,
      "outputs": []
    },
    {
      "cell_type": "markdown",
      "source": [
        "3. Usando PCA en las columnas escaladas, cree dos columnas nuevas, pc1 y pc2, que contengan los datos para PC1 y PC2 respectivamente:"
      ],
      "metadata": {
        "id": "Zt98JgMNlGzB"
      }
    },
    {
      "cell_type": "code",
      "source": [
        "from sklearn import decomposition\n",
        "pca = decomposition.PCA(n_components=2)\n",
        "pca_res = pca.fit_transform(data_scaled[cluster_cols])\n",
        "data_scaled['pc1'] = pca_res[:,0]\n",
        "data_scaled['pc2'] = pca_res[:,1]"
      ],
      "metadata": {
        "id": "QEc0K6VPAHxy"
      },
      "execution_count": null,
      "outputs": []
    },
    {
      "cell_type": "markdown",
      "source": [
        "4. Visualice los conglomerados usando diferentes marcadores y colores para los conglomerados en un diagrama de dispersión entre pc1 y pc2 usando el siguiente código:"
      ],
      "metadata": {
        "id": "nRUXMJPGADBS"
      }
    },
    {
      "cell_type": "code",
      "source": [
        "markers = ['x', '*', 'o','|']\n",
        "for clust in range(4):\n",
        "    temp = data_scaled[data_scaled.Cluster == clust]\n",
        "    plt.scatter(temp.pc1, temp.pc2, marker=markers[clust], \\\n",
        "                label=\"Cluster \"+str(clust), \\\n",
        "color='gray') plt.xlabel('PC1')\n",
        "plt.ylabel('PC2')\n",
        "plt.show()"
      ],
      "metadata": {
        "id": "vQu5fuFXAKwO"
      },
      "execution_count": null,
      "outputs": []
    },
    {
      "cell_type": "markdown",
      "source": [
        "Debe aparecer el siguiente gráfico:\n",
        "\n",
        "Figura 3.27: Un gráfico de los datos reducidos a dos dimensiones que denotan los tres conglomerados\n",
        "\n",
        "Tenga en cuenta que los ejes x e y aquí son las PC y, por lo tanto, no son fáciles de interpretar (ya que son combinaciones derivadas de las características originales). Sin embargo, al visualizar los grupos, podemos tener una idea de qué tan buenos son los grupos en función de cuánto se superponen."
      ],
      "metadata": {
        "id": "c3yeahk0HWqM"
      }
    },
    {
      "cell_type": "markdown",
      "source": [
        "5. Para comprender los grupos, imprima los valores promedio de las características originales utilizadas para agrupar contra los cuatro grupos:"
      ],
      "metadata": {
        "id": "XfpVnIt-HYhw"
      }
    },
    {
      "cell_type": "code",
      "source": [
        "data0['Cluster'] = data_scaled.Cluster\n",
        "data0.groupby('Cluster')[['Age', 'Income', 'Spend_score']].mean()"
      ],
      "metadata": {
        "id": "bl9NvaduHaPr"
      },
      "execution_count": null,
      "outputs": []
    },
    {
      "cell_type": "markdown",
      "source": [
        "En la tabla anterior, puede ver que el puntaje de gasto varía significativamente entre los clústeres. Esto es cierto tanto para la edad como para los ingresos.\n",
        "6. A continuación, visualice esta información mediante diagramas de barras. Verifique qué características son las más diferenciadas para los clústeres utilizando el siguiente código:"
      ],
      "metadata": {
        "id": "fM1JC1kwHccV"
      }
    },
    {
      "cell_type": "code",
      "source": [
        "data0.groupby('Cluster')[['Age', 'Income', \\\n",
        "                          'Spend_score']].mean() \\\n",
        "     .plot.bar(color=['lightgray', 'darkgray', 'black'])\n",
        "plt.show()"
      ],
      "metadata": {
        "id": "nqZX2kyFHeFD"
      },
      "execution_count": null,
      "outputs": []
    },
    {
      "cell_type": "markdown",
      "source": [
        "Figura 3.29: Diagrama de barras para verificar las características que son las más diferenciadas para los conglomerados\n",
        "Puede ver que las tres columnas varían significativamente entre los clústeres. Tiene el clúster 0 con el ingreso promedio más alto pero el puntaje de gasto y la edad promedio más bajos. Tiene el grupo 2, que es promedio en edad, alto en ingresos y el más alto en gastos. Vamos a describirlos mejor en el siguiente paso.\n",
        "7. Basándose en su comprensión de los grupos, asigne etiquetas descriptivas a los grupos.\n",
        "Una forma de describir los grupos es la siguiente:\n",
        "Grupo 0: tacaños de mediana edad (ingresos altos, gasto bajo) Grupo 1: grandes apostadores jóvenes (edad más joven, ingresos altos, gasto alto) Grupo 2: aspirantes jóvenes (ingresos bajos, gasto alto)\n",
        "Grupo 3: Viejos Joes promedio (ingreso promedio, gasto promedio)"
      ],
      "metadata": {
        "id": "yj6Edf4lHgQK"
      }
    },
    {
      "cell_type": "markdown",
      "source": [
        "En este ejercicio, ha utilizado con éxito PCA para la reducción de la dimensionalidad y la visualización de los clústeres. Con la ayuda de PCA, vio que los clústeres\n",
        "están bien separados. También analizó los grupos y les dio descripciones que las empresas pueden entender e interpretar.\n",
        "Con esto hemos recorrido todos los pasos que se emplean en un ejercicio de segmentación de clientes. Es importante darse cuenta y recordar que la \"agrupación\", la agrupación real de los clientes, es parte del ejercicio general. La estandarización de las variables, la elección de los criterios correctos para la segmentación y la construcción de una buena comprensión de los grupos son todos pasos críticos. Sin mencionar la importancia de las partes interesadas del negocio para obtener los segmentos de clientes más procesables.\n",
        "Ahora pongamos a prueba todo lo que hemos aprendido hasta ahora en la siguiente actividad. Una vez más, trabajará en la declaración del problema de Therabank y ayudará al banco a maximizar la eficacia de su campaña de marketing para préstamos personales."
      ],
      "metadata": {
        "id": "UuEvRwLjHjmj"
      }
    },
    {
      "cell_type": "markdown",
      "source": [
        "# Actividad 3.02: Segmentación de Clientes Bancarios con Múltiples Funcionalidades\n",
        "\n",
        "En esta actividad, revisará el enunciado del problema de Therabank. Deberá crear segmentos de clientes para maximizar la eficacia de su campaña de préstamos personales. Lo logrará encontrando los tipos de clientes naturales en los datos y descubriendo las características que los diferencian. Luego, identificará los segmentos de clientes que tienen la mayor propensión a tomar un préstamo.\n",
        "En la Actividad 3.01, Segmentación de clientes bancarios para campañas de préstamos, empleó solo dos características del cliente. En esta actividad, empleará funciones adicionales, a saber, Edad, Experiencia e Hipoteca. Como se trata de alto dimensional\n",
        "datos, utilizará PCA para visualizar los clústeres. Comprenderá los segmentos de clientes obtenidos y les proporcionará etiquetas comerciales. Como parte de su evaluación y comprensión de los segmentos, también verificará las tasas de respuesta históricas de los segmentos obtenidos."
      ],
      "metadata": {
        "id": "bV9p-cwfHldW"
      }
    },
    {
      "cell_type": "markdown",
      "source": [
        "Ejecute los siguientes pasos para completar la actividad:\n",
        "\n",
        "1. Cree una copia del conjunto de datos denominado bank_scaled y realice un escalado estándar de las columnas Ingreso, CCAvg, Edad, Experiencia e Hipoteca.\n",
        "\n",
        "2. Obtenga un resumen descriptivo de las columnas procesadas para verificar que la escala se ha aplicado correctamente.\n",
        "\n",
        "3. Realice la agrupación en clústeres de k-medias, especificando 3 clústeres utilizando las características escaladas. Especifique estado_aleatorio como 42.\n",
        "\n",
        "4. Usando PCA en las columnas escaladas, cree dos columnas nuevas, pc1 y pc2, que contengan los datos para PC1 y PC2 respectivamente.\n",
        "\n",
        "5. Visualice los conglomerados usando diferentes marcadores para los conglomerados en un diagrama de dispersión entre pc1 y pc2. El gráfico debe aparecer como en la siguiente figura:\n",
        "\n",
        "    Figura 3.30: Un gráfico de los datos reducidos a dos dimensiones que denotan los tres conglomerados\n",
        "\n",
        "6. Para comprender los conglomerados, imprima los valores promedio de las características utilizadas para agrupar contra los tres conglomerados. Compruebe qué características son las más diferenciadas para los clústeres.\n",
        "7. Para comprender mejor los grupos utilizando otras funciones relevantes, imprima los valores promedio contra los grupos para las funciones Edad, Hipoteca, Familia, Tarjeta de crédito, En línea y Préstamo personal y verifique qué grupo tiene la mayor propensión a tomar un préstamo personal.\n",
        "8. Basándose en su comprensión de los grupos, asigne etiquetas descriptivas a los grupos."
      ],
      "metadata": {
        "id": "zSXn1HehHpXr"
      }
    }
  ]
}