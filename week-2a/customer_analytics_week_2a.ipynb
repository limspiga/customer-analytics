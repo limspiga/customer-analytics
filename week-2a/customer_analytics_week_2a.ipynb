{
  "nbformat": 4,
  "nbformat_minor": 0,
  "metadata": {
    "colab": {
      "provenance": []
    },
    "kernelspec": {
      "name": "python3",
      "display_name": "Python 3"
    },
    "language_info": {
      "name": "python"
    }
  },
  "cells": [
    {
      "cell_type": "markdown",
      "source": [
        "## Aprendizaje no supervisado y segmentación de clientes ##\n",
        "\n",
        "En este capítulo, revisará una de las técnicas más poderosas en marketing: la segmentación de clientes. Comenzará por comprender la necesidad de la segmentación de clientes, después de lo cual estudiará e implementará el enfoque de aprendizaje automático para la segmentación. Utilizará el algoritmo de agrupación **cluster k-means** para segmentar a los clientes y luego analizará los segmentos obtenidos para obtener una comprensión de los resultados para que las empresas puedan actuar sobre ellos.\n",
        "\n",
        "Se realiza segmentación utilizando herramientas y técnicas relevantes y analizar los resultados de los datos segmentados.\n",
        "\n",
        "## Introducción ##\n",
        "\n",
        "Póngase en el lugar del director de marketing de una empresa de comercio electrónico con una base de 1 millón de clientes que realizan transacciones. Desea que las campañas de marketing sean más efectivas, llegando al cliente correcto con el mensaje correcto. \n",
        "\n",
        "Al comprender mejor al cliente y sus necesidades, las campañas de marketing pueden proporcionar un impulso significativo al negocio. A medida que comienzamos a resolver este problema, se piensa en la experiencia del cliente. Un cliente promedio recibe varias mensajes sobre las últimas ofertas. Estos se envian por correo electrónico, notificaciones automáticas y campañas en las redes sociales. Esta puede no ser una gran experiencia para ellos, especialmente si estas comunicaciones son campañas genéricas/masivas. Si la empresa entendiera mejor las necesidades de los clientes y les enviara el contenido relevante, comprarían con mucha más frecuencia.\n",
        "\n",
        "Varios ejemplos como este muestran que una comprensión profunda de los clientes y sus necesidades es beneficiosa no solo para la empresa sino también para el cliente. Si tiene una empresa pequeña, comprender las necesidades de todos los clientes es tan fácil como realizar una encuesta rápida. Sin embargo, para una empresa con una gran base de usuarios con millones de clientes, comprender sus necesidades sería extremadamente difícil, dado que cada cliente tendrá sus propios gustos y necesidades diferentes. Además, con clientes de diferentes orígenes, culturas y grupos de edad, este problema se vuelve aún más difícil de resolver.\n",
        "\n",
        "Seguramente las cosas serían más fáciles si pudiéramos simplificar esta tarea y condensar a los clientes en unos pocos grupos. En lugar de tratar con un millón de clientes, ¿no sería más fácil tratar con, digamos, cinco tipos de clientes? La segmentación de clientes le permite haga exactamente eso: abstraiga potencialmente a millones de clientes a unos pocos segmentos y comprenda sus características y necesidades. Con tal entendimiento, el impacto te puedes dar cuenta es tremendo.\n",
        "\n",
        "Puede enviar mensajes más dirigidos y específicos a través de campañas de marketing, ofrecer servicios diferenciales, hacer mejores recomendaciones de productos y más para mejorar la experiencia general del cliente; todo esto conduce a un impacto comercial significativo, no solo un impacto inmediato en los ingresos a través de campañas de marketing más eficientes, sino también un impacto positivo significativo en el valor a largo plazo que los clientes aportan a la plataforma.\n",
        "\n",
        "En esta sección se comprenderá qué es la segmentación de clientes, cómo se usa y cómo usar ML para crear sus propios modelos de segmentación de clientes en Python."
      ],
      "metadata": {
        "id": "QTaddUTgByGs"
      }
    },
    {
      "cell_type": "markdown",
      "source": [
        "Segmentación\n",
        "\n",
        "La segmentación, en pocas palabras, significa agrupar entidades similares. Las entidades de cada grupo son similares entre sí, es decir, \"los grupos son homogéneos\", lo que significa que las entidades tienen propiedades similares.\n",
        "\n",
        "**¿Qué entidades se pueden segmentar?** Puedes segmentar clientes, productos, ofertas, vehículos, frutas, animales, países o incluso estrellas. Si puede expresar, a través de datos, las propiedades de la entidad, puede comparar esa entidad con otras entidades y segmentarla. En este capítulo, nos centraremos en la **segmentación de clientes**, es decir, agrupar y segmentar clientes actuales/potenciales, un ejercicio que tiene una enorme utilidad en marketing.\n",
        "\n",
        "Pasando al segundo aspecto clave, ¿de qué propiedades estamos hablando? Estamos hablando de propiedades relevantes para el ejercicio de agrupación. **Supongamos que está tratando de agrupar a los clientes en función de la frecuencia de compra de un producto.** En tales casos, es posible que datos como el género de los clientes, aunque estén fácilmente disponibles para usted, no ser relevante para su análisis. Es por eso que elegir los atributos relevantes es fundamental. Discutiremos este aspecto con más detalle más adelante en este capítulo, en la sección Elección de atributos relevantes (criterios de segmentación).\n"
      ],
      "metadata": {
        "id": "1CRe565uOur2"
      }
    },
    {
      "cell_type": "markdown",
      "source": [
        "\n",
        "Un ejercicio general de segmentación de clientes implica los siguientes pasos clave:\n",
        "\n",
        "1. Elegir los **atributos** relevantes para las entidades\n",
        "2. Agrupación/agrupación de las **entidades**\n",
        "3. **Comprender y describir** los segmentos\n",
        "\n",
        "Si bien los pasos 1 y 2 generalmente se discuten y se les presta bastante atención, el paso 3 a menudo se ignora. Los segmentos determinados como resultado de esta actividad deben tener sentido para el negocio y ser accionables. Las partes interesadas del negocio, que desempeñan el papel fundamental del \"humano en el circuito\", deben poder comprender estos segmentos con claridad. Luego, con sus comentarios, estos segmentos se pueden refinar aún más, haciéndolos aún más prácticos e impulsados ​​por el negocio. El equipo de marketing puede entenderlos fácilmente y aprovecharlos para crear una campaña de marketing exitosa. Por eso, describir los segmentos obtenidos de forma que el negocio los entienda es un paso necesario.\n",
        "Abordaremos todos estos pasos en detalle en este capítulo. \n",
        "\n",
        "Primero, ensuciémonos las manos cargando algunos datos y comencemos todo el proceso, cuyo resultado serán sus propios modelos de segmentación. Ayudará a un centro comercial a obtener una mejor comprensión de sus clientes para permitir una mejor orientación y aumentar las ventas."
      ],
      "metadata": {
        "id": "a8JtpSXUQBDu"
      }
    },
    {
      "cell_type": "markdown",
      "source": [
        "## Exercise 3.01: Mall Customer Segmentation – Understanding the Data ##\n",
        "\n",
        "Usted es un analista en una empresa de consultoría líder y entre sus clientes más nuevos se encuentra una popular cadena de centros comerciales repartidos en muchos países. El centro comercial desea obtener una mejor comprensión de sus clientes para rediseñar sus ofertas existentes y comunicaciones de marketing para mejorar las ventas en un área geográfica. Los datos sobre los clientes están disponibles en el archivo Mall_Customers.csv."
      ],
      "metadata": {
        "id": "kHqODnDsQUVr"
      }
    },
    {
      "cell_type": "markdown",
      "source": [
        "1. Importe numpy, pandas y pyplot desde matplotlib y seaborn usando el siguiente código:"
      ],
      "metadata": {
        "id": "1_YjqmNKU8tA"
      }
    },
    {
      "cell_type": "code",
      "source": [
        "import numpy as np, pandas as pd\n",
        "import matplotlib.pyplot as plt, seaborn as sns\n",
        "%matplotlib inline"
      ],
      "metadata": {
        "id": "Nm7XvbO3UbQI"
      },
      "execution_count": 1,
      "outputs": []
    },
    {
      "cell_type": "markdown",
      "source": [
        "2. Usando el método read_csv de pandas, importe el archivo Mall_Customers.csv en un DataFrame de pandas llamado data0 e imprima las primeras cinco filas:"
      ],
      "metadata": {
        "id": "cb0wJ8LGUts7"
      }
    },
    {
      "cell_type": "code",
      "source": [
        "!curl https://raw.githubusercontent.com/limspiga/customer-analytics/main/week-2a/Mall_Customers.csv -O\n",
        "\n",
        "data0 = pd.read_csv(\"Mall_Customers.csv\")\n",
        "data0.head()"
      ],
      "metadata": {
        "colab": {
          "base_uri": "https://localhost:8080/",
          "height": 103
        },
        "id": "OYV43yPQU646",
        "outputId": "29fbe3e7-b73f-4110-e5c2-8e9e15e3e0d4"
      },
      "execution_count": 3,
      "outputs": [
        {
          "output_type": "stream",
          "name": "stdout",
          "text": [
            "  % Total    % Received % Xferd  Average Speed   Time    Time     Time  Current\n",
            "                                 Dload  Upload   Total   Spent    Left  Speed\n",
            "\r  0     0    0     0    0     0      0      0 --:--:-- --:--:-- --:--:--     0\r100    14  100    14    0     0    101      0 --:--:-- --:--:-- --:--:--   101\n"
          ]
        },
        {
          "output_type": "execute_result",
          "data": {
            "text/plain": [
              "Empty DataFrame\n",
              "Columns: [404: Not Found]\n",
              "Index: []"
            ],
            "text/html": [
              "\n",
              "  <div id=\"df-9efcaf86-cb00-411a-afab-5fcf62a7f0ea\">\n",
              "    <div class=\"colab-df-container\">\n",
              "      <div>\n",
              "<style scoped>\n",
              "    .dataframe tbody tr th:only-of-type {\n",
              "        vertical-align: middle;\n",
              "    }\n",
              "\n",
              "    .dataframe tbody tr th {\n",
              "        vertical-align: top;\n",
              "    }\n",
              "\n",
              "    .dataframe thead th {\n",
              "        text-align: right;\n",
              "    }\n",
              "</style>\n",
              "<table border=\"1\" class=\"dataframe\">\n",
              "  <thead>\n",
              "    <tr style=\"text-align: right;\">\n",
              "      <th></th>\n",
              "      <th>404: Not Found</th>\n",
              "    </tr>\n",
              "  </thead>\n",
              "  <tbody>\n",
              "  </tbody>\n",
              "</table>\n",
              "</div>\n",
              "      <button class=\"colab-df-convert\" onclick=\"convertToInteractive('df-9efcaf86-cb00-411a-afab-5fcf62a7f0ea')\"\n",
              "              title=\"Convert this dataframe to an interactive table.\"\n",
              "              style=\"display:none;\">\n",
              "        \n",
              "  <svg xmlns=\"http://www.w3.org/2000/svg\" height=\"24px\"viewBox=\"0 0 24 24\"\n",
              "       width=\"24px\">\n",
              "    <path d=\"M0 0h24v24H0V0z\" fill=\"none\"/>\n",
              "    <path d=\"M18.56 5.44l.94 2.06.94-2.06 2.06-.94-2.06-.94-.94-2.06-.94 2.06-2.06.94zm-11 1L8.5 8.5l.94-2.06 2.06-.94-2.06-.94L8.5 2.5l-.94 2.06-2.06.94zm10 10l.94 2.06.94-2.06 2.06-.94-2.06-.94-.94-2.06-.94 2.06-2.06.94z\"/><path d=\"M17.41 7.96l-1.37-1.37c-.4-.4-.92-.59-1.43-.59-.52 0-1.04.2-1.43.59L10.3 9.45l-7.72 7.72c-.78.78-.78 2.05 0 2.83L4 21.41c.39.39.9.59 1.41.59.51 0 1.02-.2 1.41-.59l7.78-7.78 2.81-2.81c.8-.78.8-2.07 0-2.86zM5.41 20L4 18.59l7.72-7.72 1.47 1.35L5.41 20z\"/>\n",
              "  </svg>\n",
              "      </button>\n",
              "      \n",
              "  <style>\n",
              "    .colab-df-container {\n",
              "      display:flex;\n",
              "      flex-wrap:wrap;\n",
              "      gap: 12px;\n",
              "    }\n",
              "\n",
              "    .colab-df-convert {\n",
              "      background-color: #E8F0FE;\n",
              "      border: none;\n",
              "      border-radius: 50%;\n",
              "      cursor: pointer;\n",
              "      display: none;\n",
              "      fill: #1967D2;\n",
              "      height: 32px;\n",
              "      padding: 0 0 0 0;\n",
              "      width: 32px;\n",
              "    }\n",
              "\n",
              "    .colab-df-convert:hover {\n",
              "      background-color: #E2EBFA;\n",
              "      box-shadow: 0px 1px 2px rgba(60, 64, 67, 0.3), 0px 1px 3px 1px rgba(60, 64, 67, 0.15);\n",
              "      fill: #174EA6;\n",
              "    }\n",
              "\n",
              "    [theme=dark] .colab-df-convert {\n",
              "      background-color: #3B4455;\n",
              "      fill: #D2E3FC;\n",
              "    }\n",
              "\n",
              "    [theme=dark] .colab-df-convert:hover {\n",
              "      background-color: #434B5C;\n",
              "      box-shadow: 0px 1px 3px 1px rgba(0, 0, 0, 0.15);\n",
              "      filter: drop-shadow(0px 1px 2px rgba(0, 0, 0, 0.3));\n",
              "      fill: #FFFFFF;\n",
              "    }\n",
              "  </style>\n",
              "\n",
              "      <script>\n",
              "        const buttonEl =\n",
              "          document.querySelector('#df-9efcaf86-cb00-411a-afab-5fcf62a7f0ea button.colab-df-convert');\n",
              "        buttonEl.style.display =\n",
              "          google.colab.kernel.accessAllowed ? 'block' : 'none';\n",
              "\n",
              "        async function convertToInteractive(key) {\n",
              "          const element = document.querySelector('#df-9efcaf86-cb00-411a-afab-5fcf62a7f0ea');\n",
              "          const dataTable =\n",
              "            await google.colab.kernel.invokeFunction('convertToInteractive',\n",
              "                                                     [key], {});\n",
              "          if (!dataTable) return;\n",
              "\n",
              "          const docLinkHtml = 'Like what you see? Visit the ' +\n",
              "            '<a target=\"_blank\" href=https://colab.research.google.com/notebooks/data_table.ipynb>data table notebook</a>'\n",
              "            + ' to learn more about interactive tables.';\n",
              "          element.innerHTML = '';\n",
              "          dataTable['output_type'] = 'display_data';\n",
              "          await google.colab.output.renderOutput(dataTable, element);\n",
              "          const docLink = document.createElement('div');\n",
              "          docLink.innerHTML = docLinkHtml;\n",
              "          element.appendChild(docLink);\n",
              "        }\n",
              "      </script>\n",
              "    </div>\n",
              "  </div>\n",
              "  "
            ]
          },
          "metadata": {},
          "execution_count": 3
        }
      ]
    },
    {
      "cell_type": "markdown",
      "source": [
        "Vemos que tenemos información como el sexo y la edad de los clientes, junto con su ingreso anual estimado (**Ingreso Anual (k$)**). También tenemos un puntaje de gasto calculado por el centro comercial **(Puntuación de gasto (1-100)**), que indica la cantidad de compras que el cliente ha realizado en el centro comercial: un puntaje más alto significa un gasto más alto."
      ],
      "metadata": {
        "id": "8IzukU1JVYEa"
      }
    },
    {
      "cell_type": "markdown",
      "source": [
        "Use el método de información del DataFrame para imprimir información al respecto:"
      ],
      "metadata": {
        "id": "Zol3N8fwViu7"
      }
    },
    {
      "cell_type": "markdown",
      "source": [],
      "metadata": {
        "id": "AcoFAlqmWOPm"
      }
    },
    {
      "cell_type": "code",
      "source": [
        "data0.info()"
      ],
      "metadata": {
        "id": "dE03aZZ6VtR2"
      },
      "execution_count": null,
      "outputs": []
    },
    {
      "cell_type": "markdown",
      "source": [
        "Puede observar que el conjunto de datos contiene los datos de 200 clientes. También puede ver que no faltan valores en el conjunto de datos para manejar."
      ],
      "metadata": {
        "id": "XeYDXwbJV4p8"
      }
    },
    {
      "cell_type": "markdown",
      "source": [
        "4. Por conveniencia, cambie el nombre de Ingreso Anual (k$) y\n",
        "Spending Score (1-100) columnas a Income y Spend_score respectivamente, e imprima los cinco registros principales usando el siguiente código:"
      ],
      "metadata": {
        "id": "0AP4j39gWCtF"
      }
    },
    {
      "cell_type": "code",
      "source": [
        "data0.rename({'Annual Income (k$)':'Income', \\\n",
        "              'Spending Score (1-100)':'Spend_score'}, axis=1, \\\n",
        "             inplace=True)\n",
        "data0.head()"
      ],
      "metadata": {
        "id": "LxTJ-hz5WFJD"
      },
      "execution_count": null,
      "outputs": []
    },
    {
      "cell_type": "markdown",
      "source": [
        "5. Para obtener una comprensión de alto nivel de los datos del cliente, imprima el resumen descriptivo de los campos numéricos en los datos utilizando el método de descripción de DataFrame:"
      ],
      "metadata": {
        "id": "roSo2iFBWRP1"
      }
    },
    {
      "cell_type": "markdown",
      "source": [],
      "metadata": {
        "id": "KwvbrtmCWotD"
      }
    },
    {
      "cell_type": "code",
      "source": [
        "data0.describe()"
      ],
      "metadata": {
        "id": "Jc2zUe-uWTiv"
      },
      "execution_count": null,
      "outputs": []
    },
    {
      "cell_type": "markdown",
      "source": [
        "Los promedios generales muestran que la edad promedio del cliente es de alrededor de 39 años y el ingreso promedio es de alrededor de 61,000 USD. Los puntajes de gasto parecen calcularse en base a percentiles, con un valor mínimo de 1 y un máximo de 99, lo cual es común con los percentiles (los puntajes de 0 a 1 también son comunes para los percentiles). El ingreso máximo ronda los 137.000 USD. Al observar estos valores, no sospechamos ningún valor atípico en los datos. Esto completa una comprensión de muy alto nivel de los datos."
      ],
      "metadata": {
        "id": "T3c_I0CTWdq6"
      }
    }
  ]
}