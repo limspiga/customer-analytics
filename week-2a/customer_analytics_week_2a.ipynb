{
  "nbformat": 4,
  "nbformat_minor": 0,
  "metadata": {
    "colab": {
      "provenance": []
    },
    "kernelspec": {
      "name": "python3",
      "display_name": "Python 3"
    },
    "language_info": {
      "name": "python"
    }
  },
  "cells": [
    {
      "cell_type": "markdown",
      "source": [
        "# III Aprendizaje no supervisado y segmentación de clientes\n",
        "\n",
        "En este capítulo, revisaremos una de las técnicas más poderosas en marketing: la segmentación de clientes. Comenzará por comprender la necesidad de la segmentación de clientes, después de lo cual estudiará e implementará el enfoque de aprendizaje automático para la segmentación. Utilizaremos el algoritmo de agrupación **cluster k-means** para segmentar a los clientes y luego analizará los segmentos obtenidos para obtener una comprensión de los resultados para que las empresas puedan actuar sobre ellos.\n",
        "\n",
        "# 1. Introducción\n",
        "\n",
        "Pongámonos en el lugar del director de marketing de una empresa de comercio electrónico con una base de 1 millón de clientes que realizan transacciones. Desea que las campañas de marketing sean más **efectivas**, llegando al cliente correcto con el mensaje correcto. \n",
        "\n",
        "Al comprender mejor al cliente y sus necesidades, las campañas de marketing pueden proporcionar un **impulso** significativo al negocio. A medida que comenzamos a resolver este problema, se piensa en la **experiencia del cliente**. Un cliente promedio recibe varios mensajes sobre las últimas ofertas. Estos se envían por correo electrónico, notificaciones automáticas y campañas en las redes sociales. Esta puede no ser una gran experiencia para ellos, especialmente si estas comunicaciones son **campañas genéricas/masivas.** Si la empresa entendiera mejor las necesidades de los clientes y les enviara el contenido relevante, comprarían con mucha más frecuencia.\n",
        "\n",
        "Varios ejemplos como este muestran que una comprensión profunda de los clientes y sus necesidades es beneficiosa no solo para la empresa sino también para el cliente. Si tiene una empresa pequeña, comprender las necesidades de todos los clientes es tan fácil como realizar una **encuesta rápida**. Sin embargo, para una empresa con una gran base de usuarios con millones de clientes, comprender sus necesidades sería extremadamente difícil, dado que cada cliente tendrá sus propios gustos y necesidades diferentes. **Además, con clientes de diferentes orígenes, culturas y grupos de edad, este problema se vuelve aún más difícil de resolver**.\n",
        "\n",
        "Seguramente las cosas serían más fáciles si pudiéramos simplificar esta tarea y condensar a los clientes en unos pocos grupos. En lugar de tratar con un millón de clientes, ¿no sería más fácil tratar con, digamos, cinco tipos de clientes? **La segmentación de clientes le permite hacer exactamente eso: abstraiga potencialmente a millones de clientes a unos pocos segmentos y comprenda sus características y necesidades**. Con este conocimiento, el impacto te puedes tener es mayor.\n",
        "\n",
        "Puede enviar mensajes más dirigidos y específicos a través de campañas de marketing, ofrecer servicios diferenciales, hacer mejores recomendaciones de productos y más para mejorar la experiencia general del cliente; todo esto conduce a un impacto comercial significativo, no solo un impacto inmediato en los ingresos a través de campañas de marketing más eficientes, sino también un impacto positivo significativo en el valor a largo plazo que los clientes aportan a la plataforma.\n",
        "\n",
        "En esta sección se comprenderá qué es la segmentación de clientes, cómo se usa y cómo usar ML para crear sus propios modelos de segmentación de clientes en Python.\n"
      ],
      "metadata": {
        "id": "QTaddUTgByGs"
      }
    },
    {
      "cell_type": "code",
      "source": [
        "#  http://tech.nitoyon.com/en/blog/2013/11/07/k-means/\n",
        "#  http://nl-hugo.github.io/d3-kmeans/index.html\n",
        "\n",
        "from IPython.display import IFrame\n",
        "IFrame(\"https://nl-hugo.github.io/d3-kmeans/index.html\", width=800, height=400)\n"
      ],
      "metadata": {
        "colab": {
          "base_uri": "https://localhost:8080/",
          "height": 421
        },
        "id": "ptvfX1ybXslv",
        "outputId": "cb0212b7-d479-4aa8-9ba6-5960fd5d6fc4"
      },
      "execution_count": 19,
      "outputs": [
        {
          "output_type": "execute_result",
          "data": {
            "text/plain": [
              "<IPython.lib.display.IFrame at 0x7fb5e01636d0>"
            ],
            "text/html": [
              "\n",
              "        <iframe\n",
              "            width=\"800\"\n",
              "            height=\"400\"\n",
              "            src=\"https://nl-hugo.github.io/d3-kmeans/index.html\"\n",
              "            frameborder=\"0\"\n",
              "            allowfullscreen\n",
              "        ></iframe>\n",
              "        "
            ]
          },
          "metadata": {},
          "execution_count": 19
        }
      ]
    },
    {
      "cell_type": "markdown",
      "source": [
        "# 2. Segmentación\n",
        "\n",
        "La segmentación, en pocas palabras, significa agrupar entidades similares. Las entidades de cada grupo son similares entre sí, es decir, \"los grupos son homogéneos\", lo que significa que las entidades tienen propiedades similares.\n",
        "\n",
        "**¿Qué entidades se pueden segmentar?** \n",
        "- Puedes segmentar clientes, \n",
        "- productos, \n",
        "- ofertas, \n",
        "- vehículos, \n",
        "- frutas, \n",
        "- animales, \n",
        "- países o incluso estrellas. \n",
        "\n",
        "Si puede expresar, a través de datos, las propiedades de la entidad, puede comparar esa entidad con otras entidades y segmentarla.\n",
        "\n",
        "Pasando al segundo aspecto clave, ¿de qué propiedades estamos hablando? Estamos hablando de propiedades relevantes para el ejercicio de agrupación. \n",
        "\n",
        "**Supongamos que está tratando de agrupar a los clientes en función de la frecuencia de compra de un producto.** En tales casos, es posible que datos como el género de los clientes, aunque estén fácilmente disponibles para usted, no ser relevante para su análisis. \n",
        "\n",
        "Es por eso que elegir los atributos relevantes es fundamental. Discutiremos este aspecto con más detalle más adelante en este capítulo, en la sección Elección de atributos **relevantes criterios de segmentación**.\n"
      ],
      "metadata": {
        "id": "1CRe565uOur2"
      }
    },
    {
      "cell_type": "markdown",
      "source": [
        "\n",
        "Un ejercicio general de segmentación de clientes implica los siguientes pasos clave:\n",
        "\n",
        "1.\tSelección de los atributos relevantes para las entidades ???\n",
        "2.\tAgrupación entidades\n",
        "3.\tComprender y describir los segmentos\n",
        "\n",
        "En el último paso los segmentos resultantes deben tener sentido para el negocio y ser accionables. Las partes interesadas del negocio, que desempeñan el papel fundamental del \"Know-how\", deben poder comprender estos segmentos con claridad. \n",
        "\n",
        "Posteriormente estos segmentos se pueden refinar, haciéndolos aún más prácticos e impulsados por el negocio. El equipo de marketing puede entenderlos fácilmente y aprovecharlos para crear una campaña de marketing exitosa. Por eso, describir los segmentos obtenidos de forma que el negocio los entienda es un paso necesario.\n"
      ],
      "metadata": {
        "id": "a8JtpSXUQBDu"
      }
    },
    {
      "cell_type": "markdown",
      "source": [
        "# Ejercicio 3.01: Segmentación de clientes de centros comerciales: comprensión de los datos\n",
        "\n",
        "Eres analista en una empresa de consultoría líder y entre tus clientes más nuevos se incluye una popular cadena de centros comerciales repartidos por muchos países. El centro comercial quiere obtener una mejor comprensión de sus clientes para rediseñar sus ofertas existentes y comunicaciones de marketing para mejorar las ventas en un área geográfica. Los datos sobre los clientes están disponibles en el archivo mall_Customers.csv."
      ],
      "metadata": {
        "id": "kHqODnDsQUVr"
      }
    },
    {
      "cell_type": "markdown",
      "source": [
        "1. Importe numpy, pandas y pyplot desde matplotlib y seaborn usando el siguiente código:"
      ],
      "metadata": {
        "id": "1_YjqmNKU8tA"
      }
    },
    {
      "cell_type": "code",
      "source": [
        "import numpy as np, pandas as pd\n",
        "import matplotlib.pyplot as plt, seaborn as sns\n",
        "%matplotlib inline"
      ],
      "metadata": {
        "id": "Nm7XvbO3UbQI"
      },
      "execution_count": null,
      "outputs": []
    },
    {
      "cell_type": "markdown",
      "source": [
        "2. Usando el método read_csv de pandas, importe el archivo Mall_Customers.csv en un DataFrame de pandas llamado data0 e imprima las primeras cinco filas:"
      ],
      "metadata": {
        "id": "cb0wJ8LGUts7"
      }
    },
    {
      "cell_type": "code",
      "source": [
        "!curl https://raw.githubusercontent.com/limspiga/customer-analytics/main/week-2a/mall_customers.csv -O\n",
        "\n",
        "data0 = pd.read_csv(\"mall_customers.csv\")\n",
        "data0.head()"
      ],
      "metadata": {
        "colab": {
          "base_uri": "https://localhost:8080/",
          "height": 276
        },
        "id": "OYV43yPQU646",
        "outputId": "d2055286-37be-407f-d60e-6090fe83917a"
      },
      "execution_count": 23,
      "outputs": [
        {
          "output_type": "stream",
          "name": "stdout",
          "text": [
            "  % Total    % Received % Xferd  Average Speed   Time    Time     Time  Current\n",
            "                                 Dload  Upload   Total   Spent    Left  Speed\n",
            "\r  0     0    0     0    0     0      0      0 --:--:-- --:--:-- --:--:--     0\r100    14  100    14    0     0     70      0 --:--:-- --:--:-- --:--:--    70\n"
          ]
        },
        {
          "output_type": "error",
          "ename": "NameError",
          "evalue": "ignored",
          "traceback": [
            "\u001b[0;31m---------------------------------------------------------------------------\u001b[0m",
            "\u001b[0;31mNameError\u001b[0m                                 Traceback (most recent call last)",
            "\u001b[0;32m<ipython-input-23-392a1df22f20>\u001b[0m in \u001b[0;36m<module>\u001b[0;34m\u001b[0m\n\u001b[1;32m      1\u001b[0m \u001b[0mget_ipython\u001b[0m\u001b[0;34m(\u001b[0m\u001b[0;34m)\u001b[0m\u001b[0;34m.\u001b[0m\u001b[0msystem\u001b[0m\u001b[0;34m(\u001b[0m\u001b[0;34m'curl https://raw.githubusercontent.com/limspiga/customer-analytics/main/week-2a/mall_Customers.csv -O'\u001b[0m\u001b[0;34m)\u001b[0m\u001b[0;34m\u001b[0m\u001b[0;34m\u001b[0m\u001b[0m\n\u001b[1;32m      2\u001b[0m \u001b[0;34m\u001b[0m\u001b[0m\n\u001b[0;32m----> 3\u001b[0;31m \u001b[0mdata0\u001b[0m \u001b[0;34m=\u001b[0m \u001b[0mpd\u001b[0m\u001b[0;34m.\u001b[0m\u001b[0mread_csv\u001b[0m\u001b[0;34m(\u001b[0m\u001b[0;34m\"mall_Customers.csv\"\u001b[0m\u001b[0;34m)\u001b[0m\u001b[0;34m\u001b[0m\u001b[0;34m\u001b[0m\u001b[0m\n\u001b[0m\u001b[1;32m      4\u001b[0m \u001b[0mdata0\u001b[0m\u001b[0;34m.\u001b[0m\u001b[0mhead\u001b[0m\u001b[0;34m(\u001b[0m\u001b[0;34m)\u001b[0m\u001b[0;34m\u001b[0m\u001b[0;34m\u001b[0m\u001b[0m\n",
            "\u001b[0;31mNameError\u001b[0m: name 'pd' is not defined"
          ]
        }
      ]
    },
    {
      "cell_type": "code",
      "source": [],
      "metadata": {
        "id": "TvwdR1wB75-a"
      },
      "execution_count": null,
      "outputs": []
    },
    {
      "cell_type": "markdown",
      "source": [
        "Vemos que tenemos información como el genero y la edad de los clientes, junto con su ingreso anual estimado (**Ingreso Anual (k$)**). También tenemos un puntaje de gasto calculado por el centro comercial **(Puntuación de gasto (1-100)**), que indica la cantidad de compras que el cliente ha realizado en el centro comercial: un puntaje más alto significa un gasto más alto."
      ],
      "metadata": {
        "id": "8IzukU1JVYEa"
      }
    },
    {
      "cell_type": "markdown",
      "source": [
        "Use el método de información del DataFrame para imprimir información al respecto:"
      ],
      "metadata": {
        "id": "Zol3N8fwViu7"
      }
    },
    {
      "cell_type": "markdown",
      "source": [],
      "metadata": {
        "id": "AcoFAlqmWOPm"
      }
    },
    {
      "cell_type": "code",
      "source": [
        "data0.info()"
      ],
      "metadata": {
        "id": "dE03aZZ6VtR2"
      },
      "execution_count": null,
      "outputs": []
    },
    {
      "cell_type": "markdown",
      "source": [
        "Se puede observar que el conjunto de datos contiene los datos de 200 clientes. También puede ver que no faltan valores en el conjunto de datos para manejar."
      ],
      "metadata": {
        "id": "XeYDXwbJV4p8"
      }
    },
    {
      "cell_type": "markdown",
      "source": [
        "4. Por conveniencia, cambie el nombre de Ingreso Anual (k$) y\n",
        "Spending Score (1-100) columnas a Income y Spend_score respectivamente, e imprima los cinco registros principales usando el siguiente código:"
      ],
      "metadata": {
        "id": "0AP4j39gWCtF"
      }
    },
    {
      "cell_type": "code",
      "source": [
        "data0.rename({'Annual Income (k$)':'Income', \\\n",
        "              'Spending Score (1-100)':'Spend_score'}, axis=1, \\\n",
        "             inplace=True)\n",
        "data0.head()"
      ],
      "metadata": {
        "id": "LxTJ-hz5WFJD",
        "colab": {
          "base_uri": "https://localhost:8080/",
          "height": 222
        },
        "outputId": "d2019fd8-5a0f-451d-ee9e-f9bead350c18"
      },
      "execution_count": 22,
      "outputs": [
        {
          "output_type": "error",
          "ename": "NameError",
          "evalue": "ignored",
          "traceback": [
            "\u001b[0;31m---------------------------------------------------------------------------\u001b[0m",
            "\u001b[0;31mNameError\u001b[0m                                 Traceback (most recent call last)",
            "\u001b[0;32m<ipython-input-22-84eaeb14261c>\u001b[0m in \u001b[0;36m<module>\u001b[0;34m\u001b[0m\n\u001b[0;32m----> 1\u001b[0;31m data0.rename({'Annual Income (k$)':'Income', \\\n\u001b[0m\u001b[1;32m      2\u001b[0m               'Spending Score (1-100)':'Spend_score'}, axis=1, \\\n\u001b[1;32m      3\u001b[0m              inplace=True)\n\u001b[1;32m      4\u001b[0m \u001b[0mdata0\u001b[0m\u001b[0;34m.\u001b[0m\u001b[0mhead\u001b[0m\u001b[0;34m(\u001b[0m\u001b[0;34m)\u001b[0m\u001b[0;34m\u001b[0m\u001b[0;34m\u001b[0m\u001b[0m\n",
            "\u001b[0;31mNameError\u001b[0m: name 'data0' is not defined"
          ]
        }
      ]
    },
    {
      "cell_type": "markdown",
      "source": [
        "5. Para obtener una comprensión de alto nivel de los datos del cliente, imprima el resumen descriptivo de los campos numéricos en los datos utilizando el método de descripción de DataFrame"
      ],
      "metadata": {
        "id": "roSo2iFBWRP1"
      }
    },
    {
      "cell_type": "code",
      "source": [
        "data0.describe()"
      ],
      "metadata": {
        "id": "Jc2zUe-uWTiv",
        "colab": {
          "base_uri": "https://localhost:8080/",
          "height": 169
        },
        "outputId": "ca874b93-8581-454d-e7d3-b26b40e3f8c9"
      },
      "execution_count": 21,
      "outputs": [
        {
          "output_type": "error",
          "ename": "NameError",
          "evalue": "ignored",
          "traceback": [
            "\u001b[0;31m---------------------------------------------------------------------------\u001b[0m",
            "\u001b[0;31mNameError\u001b[0m                                 Traceback (most recent call last)",
            "\u001b[0;32m<ipython-input-21-fae87691fa48>\u001b[0m in \u001b[0;36m<module>\u001b[0;34m\u001b[0m\n\u001b[0;32m----> 1\u001b[0;31m \u001b[0mdata0\u001b[0m\u001b[0;34m.\u001b[0m\u001b[0mdescribe\u001b[0m\u001b[0;34m(\u001b[0m\u001b[0;34m)\u001b[0m\u001b[0;34m\u001b[0m\u001b[0;34m\u001b[0m\u001b[0m\n\u001b[0m",
            "\u001b[0;31mNameError\u001b[0m: name 'data0' is not defined"
          ]
        }
      ]
    },
    {
      "cell_type": "markdown",
      "source": [
        "Los promedios generales muestran que la edad promedio del cliente es de alrededor de **39 años** y el ingreso promedio es de alrededor de **61,000 USD**. Los puntajes de gasto parecen calcularse en base a percentiles, con un **valor mínimo de 1 y un máximo de 99**, lo cual es común con los percentiles (los puntajes de 0 a 1 también son comunes para los percentiles). El ingreso máximo ronda los **137.000 USD**. Al observar estos valores, no sospechamos ningún valor atípico en los datos. Esto completa una comprensión de muy alto nivel de los datos."
      ],
      "metadata": {
        "id": "T3c_I0CTWdq6"
      }
    },
    {
      "cell_type": "markdown",
      "source": [
        "# 3.1 Enfoques de la segmentación\n",
        "\n",
        "Cada grupo de marketing hace, en efecto, cierta cantidad de segmentación de clientes. Sin embargo, los métodos que utilizan para hacer esto pueden no ser siempre claros. Estos pueden basarse en intuiciones  sobre ciertos grupos demográficos, o pueden ser el resultado de algún software de marketing, donde los métodos utilizados son oscuros. Hay ventajas y desventajas para cada método posible y comprenderlas le permite utilizar la herramienta adecuada para el trabajo. En las siguientes secciones, analizaremos algunos de los **enfoques** más utilizados para la segmentación de clientes junto con las consideraciones al usar dichos enfoques."
      ],
      "metadata": {
        "id": "uDrZ_Cuz5kwl"
      }
    },
    {
      "cell_type": "markdown",
      "source": [
        "# 3.1.1 Métodos de segmentación tradicionales\n",
        "Un método preferido por los analistas de marketing consiste en generar **agrupaciones** aproximadas basadas en:\n",
        "- **intuiciones y umbrales arbitrarios**.\n",
        "\n",
        "Para ello, aprovechan todos los datos sobre los clientes que tienen a su disposición, normalmente demográficos o de comportamiento. Un ejemplo de esto sería decidir segmentar a los clientes en diferentes niveles de ingresos en función de incrementos de $10,000. Otro enfoque podría ser observar cómo se distribuyen los valores de los atributos y buscar umbrales naturales a partir de los datos."
      ],
      "metadata": {
        "id": "ueggUSyk53RF"
      }
    },
    {
      "cell_type": "markdown",
      "source": [
        "## Ejercicio 3.02: Segmentación Tradicional de Clientes de Centros Comerciales\n",
        "\n",
        "El centro comercial quiere segmentar a sus clientes y planea utilizar los segmentos derivados para mejorar sus campañas de marketing. El equipo comercial cree que la segmentación en función de los:\n",
        "- **niveles de ingresos** \n",
        "\n",
        "es relevante para sus ofertas. \n",
        "\n",
        "Se le pide que utilice un enfoque tradicional basado en reglas para definir los segmentos de clientes."
      ],
      "metadata": {
        "id": "bM5XhiV36o9w"
      }
    },
    {
      "cell_type": "markdown",
      "source": [
        "\n",
        "En este ejercicio, realizará su primera segmentación de clientes utilizando los **ingresos del cliente**, empleando un enfoque tradicional basado en **reglas** para definir segmentos de clientes. Graficará la distribución de la variable Ingresos y asignará grupos a los clientes en función de dónde vea que se encuentran los valores:"
      ],
      "metadata": {
        "id": "5vzpOF6t7BGI"
      }
    },
    {
      "cell_type": "markdown",
      "source": [
        "1. Grafique un histograma de la columna Ingresos usando el método de trazado de DataFrame usando el siguiente código:"
      ],
      "metadata": {
        "id": "-Y3_vuRG7N4c"
      }
    },
    {
      "cell_type": "code",
      "source": [
        "data0.Income.plot.hist(color='gray') \n",
        "plt.xlabel('Income')\n",
        "plt.show()"
      ],
      "metadata": {
        "colab": {
          "base_uri": "https://localhost:8080/",
          "height": 204
        },
        "id": "UnaOm8Ha6_KJ",
        "outputId": "3686a9e4-578f-443a-9467-4ab64474942a"
      },
      "execution_count": 20,
      "outputs": [
        {
          "output_type": "error",
          "ename": "NameError",
          "evalue": "ignored",
          "traceback": [
            "\u001b[0;31m---------------------------------------------------------------------------\u001b[0m",
            "\u001b[0;31mNameError\u001b[0m                                 Traceback (most recent call last)",
            "\u001b[0;32m<ipython-input-20-f54bfbe6230a>\u001b[0m in \u001b[0;36m<module>\u001b[0;34m\u001b[0m\n\u001b[0;32m----> 1\u001b[0;31m \u001b[0mdata0\u001b[0m\u001b[0;34m.\u001b[0m\u001b[0mIncome\u001b[0m\u001b[0;34m.\u001b[0m\u001b[0mplot\u001b[0m\u001b[0;34m.\u001b[0m\u001b[0mhist\u001b[0m\u001b[0;34m(\u001b[0m\u001b[0mcolor\u001b[0m\u001b[0;34m=\u001b[0m\u001b[0;34m'gray'\u001b[0m\u001b[0;34m)\u001b[0m\u001b[0;34m\u001b[0m\u001b[0;34m\u001b[0m\u001b[0m\n\u001b[0m\u001b[1;32m      2\u001b[0m \u001b[0mplt\u001b[0m\u001b[0;34m.\u001b[0m\u001b[0mxlabel\u001b[0m\u001b[0;34m(\u001b[0m\u001b[0;34m'Income'\u001b[0m\u001b[0;34m)\u001b[0m\u001b[0;34m\u001b[0m\u001b[0;34m\u001b[0m\u001b[0m\n\u001b[1;32m      3\u001b[0m \u001b[0mplt\u001b[0m\u001b[0;34m.\u001b[0m\u001b[0mshow\u001b[0m\u001b[0;34m(\u001b[0m\u001b[0;34m)\u001b[0m\u001b[0;34m\u001b[0m\u001b[0;34m\u001b[0m\u001b[0m\n",
            "\u001b[0;31mNameError\u001b[0m: name 'data0' is not defined"
          ]
        }
      ]
    }
  ]
}