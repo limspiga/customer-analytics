{
  "nbformat": 4,
  "nbformat_minor": 0,
  "metadata": {
    "colab": {
      "provenance": []
    },
    "kernelspec": {
      "name": "python3",
      "display_name": "Python 3"
    },
    "language_info": {
      "name": "python"
    }
  },
  "cells": [
    {
      "cell_type": "markdown",
      "source": [
        "## Herramientas\n",
        "- Python 3.x \n",
        "- Colab\n",
        "- [Pandas](https://github.com/pandas-dev/pandas).\n",
        "- [Orange Data Maining](https://orangedatamining.com).\n",
        "\n",
        "## Preparación del entorno\n",
        "\n",
        "   1. Entorno de [COLAB](https://colab.research.google.com).\n",
        "   2. Python [cheatsheet](https://quickref.me/python).\n",
        "   2. Github [customer-analytics](https://github.com/limspiga/customer-analytics).\n"
      ],
      "metadata": {
        "id": "w-MMFlS-a_wX"
      }
    },
    {
      "cell_type": "markdown",
      "source": [
        "# **1. Preparación y limpieza de los datos**\n",
        "Se revisará como procesar y limpiar datos para  prepararlos de manera efectiva para un análisis posterior. Con Pandas, podrá leer e importar datos como JSON y CSV, en un DataFrame. Luego aprenderá a fraccionar, agregar y filtrar en DataFrames.\n",
        "\n",
        "* Datos estructurados\n",
        "\n",
        "<center>\n",
        "\n",
        "| employee id | first name | last_name | hire_date | confirmation_date |\n",
        "| --- | - | - | ----------- | ----------- |\n",
        "| FTE_1782 | John |Doe |31-03-2016 | 29-07-2016 |\n",
        "| FTE_1783 | Patrick |Forrester |31-03-2016 | 21-09-2013 |\n",
        "| FTE_1784 | Pierre |Blanchet |31-03-2016 | 23-12-2007 |\n",
        "| FTE_1785 | Prachi |Jain |31-03-2016 | 26-07-2011 |\n",
        "| FTE_1786 | Sally |Pressfield |31-03-2016 | 30-04-2012 |\n",
        "\n",
        "</center>\n",
        "\n",
        "* Datos semi-estructurados\n",
        "```json\n",
        "    {\n",
        "      \"id\": \"101\"\n",
        "      \"name\": \"Jack Jones\"\n",
        "      \"email\": \"jackjones123@example.com\"\n",
        "      \"age\": 35\n",
        "      \"address\": \"31, Chivas Place\"\n",
        "      \"city\": \"San Diego\"\n",
        "      \"state\": \"California\"\n",
        "    }\n",
        "```\n",
        "\n",
        "\n",
        "* Data sin estructura\n",
        "\n",
        "<!-- ![](https://drive.google.com/uc?export=view&id=17UiceM4BxgN9s9A44VzLZVgNL0eA04_c) -->\n",
        "\n",
        "<figure>\n",
        "<center>\n",
        "<img src='https://drive.google.com/uc?export=view&id=17UiceM4BxgN9s9A44VzLZVgNL0eA04_c' width=\"300\" />\n",
        "<figcaption>Figure 1.1: Data model for marketing analytics</figcaption></center>\n",
        "</figure>"
      ],
      "metadata": {
        "id": "WFMmmn1OBAU0"
      }
    },
    {
      "cell_type": "markdown",
      "source": [
        "## **Pandas**\n",
        "- https://pandas.pydata.org/\n",
        "- https://pandas.pydata.org/docs/user_guide/index.html\n",
        "\n",
        "Pandas es un componente manipulación y el análisis de datos. Ofrece una colección de herramientas de análisis y estructuras de datos intuitivas, fáciles de usar y de alto rendimiento que son de gran utilidad tanto para los analistas de marketing como para los científicos de datos.\n"
      ],
      "metadata": {
        "id": "PdWthRYHa7uA"
      }
    },
    {
      "cell_type": "markdown",
      "source": [
        "Pandas tipos de objetos principales DataFrame\n",
        "\n",
        "* DataFrame: almacena datos en filas y columnas (como una hoja de cálculo)\n",
        "* Series: columna sola del DataFrame\n",
        "\n",
        "<figure>\n",
        "<center>\n",
        "<img src='https://drive.google.com/uc?export=view&id=1cWgnaDWiDTWs_bnuacHJUE0GrLeBs6HT' width=\"300\" />\n",
        "<figcaption>Figure 1.2: A sample pandas DataFrame and series</figcaption></center>\n",
        "</figure>\n"
      ],
      "metadata": {
        "id": "pi88rhHN9dZu"
      }
    },
    {
      "cell_type": "markdown",
      "source": [
        "## Importación y exportación de datos con pandas DataFrames ##\n",
        "Cada equipo de un grupo de marketing puede tener su propia fuente de datos preferida para su caso de uso específico. Los equipos que manejan muchos datos de clientes, como detalles demográficos e historial de compras, preferirían una base de datos como MySQL u Oracle, mientras que los equipos que manejan mucho texto podrían preferir JSON, CSV o XML. Debido al uso de múltiples fuentes de datos, terminamos teniendo una gran variedad de archivos. En tales casos, la biblioteca de pandas  que proporciona una variedad de API (interfaces de programas de aplicación) que se pueden usar para leer múltiples tipos diferentes de datos en un DataFrames.\n",
        "\n",
        "- https://pandas.pydata.org/docs/user_guide/10min.html#importing-and-exporting-data\n",
        "- https://raw.githubusercontent.com/limspiga/customer-analytics/main/week-1/sales.csv"
      ],
      "metadata": {
        "id": "46SJVSwbWiKE"
      }
    },
    {
      "cell_type": "code",
      "source": [
        "#@title Texto de título predeterminado\n",
        "# 1. Instalación\n",
        "!pip install pandas\n",
        "\n",
        "# 2. Importar pandas library\n",
        "import pandas as pd\n",
        "\n",
        "# 3. Ejecutamos el siguiente código para almacenar el archivo CSV en un DataFrame\n",
        "!curl https://raw.githubusercontent.com/limspiga/customer-analytics/main/week-1a/sales.csv -O\n",
        "\n",
        "df = pd.read_csv(\"sales.csv\") \n",
        "\n",
        "# df = pd.read_csv(r\"C:\\Users\\lim\\Documents\\sales.csv\")\n",
        "# df = pd.read_csv(\"sales.csv\", header=1, nrows=10, usecols=[0,1,2])\n",
        "print(df)"
      ],
      "metadata": {
        "colab": {
          "base_uri": "https://localhost:8080/"
        },
        "id": "rQ58Ewk32dzf",
        "outputId": "53a80248-0b72-4385-d6c8-5f347b3f0166"
      },
      "execution_count": null,
      "outputs": [
        {
          "output_type": "stream",
          "name": "stdout",
          "text": [
            "Looking in indexes: https://pypi.org/simple, https://us-python.pkg.dev/colab-wheels/public/simple/\n",
            "Requirement already satisfied: pandas in /usr/local/lib/python3.9/dist-packages (1.4.4)\n",
            "Requirement already satisfied: python-dateutil>=2.8.1 in /usr/local/lib/python3.9/dist-packages (from pandas) (2.8.2)\n",
            "Requirement already satisfied: pytz>=2020.1 in /usr/local/lib/python3.9/dist-packages (from pandas) (2022.7.1)\n",
            "Requirement already satisfied: numpy>=1.18.5 in /usr/local/lib/python3.9/dist-packages (from pandas) (1.22.4)\n",
            "Requirement already satisfied: six>=1.5 in /usr/local/lib/python3.9/dist-packages (from python-dateutil>=2.8.1->pandas) (1.15.0)\n",
            "  % Total    % Received % Xferd  Average Speed   Time    Time     Time  Current\n",
            "                                 Dload  Upload   Total   Spent    Left  Speed\n",
            "100  8294  100  8294    0     0   231k      0 --:--:-- --:--:-- --:--:--  231k\n",
            "    Year  Product       line Product.1  type  Product.2  Order method  \\\n",
            "0   2004  Camping  Equipment   Cooking  Gear  TrailChef  Water    Bag   \n",
            "1   2004  Camping  Equipment   Cooking  Gear  TrailChef  Water    Bag   \n",
            "2   2004  Camping  Equipment   Cooking  Gear  TrailChef  Water    Bag   \n",
            "3   2004  Camping  Equipment   Cooking  Gear  TrailChef  Water    Bag   \n",
            "4   2004  Camping  Equipment   Cooking  Gear  TrailChef  Water    Bag   \n",
            "..   ...      ...        ...       ...   ...        ...    ...    ...   \n",
            "95  2004  Camping  Equipment   Cooking  Gear  TrailChef  Water    Bag   \n",
            "96  2004  Camping  Equipment   Cooking  Gear  TrailChef  Water    Bag   \n",
            "97  2004  Camping  Equipment   Cooking  Gear  TrailChef  Water    Bag   \n",
            "98  2004  Camping  Equipment   Cooking  Gear  TrailChef  Water    Bag   \n",
            "99  2004  Camping  Equipment   Cooking  Gear  TrailChef  Water    Bag   \n",
            "\n",
            "       type.1 Retailer  country    Revenue  \n",
            "0   Telephone   United   States  315044.33  \n",
            "1   Telephone   Canada      NaN   14313.48  \n",
            "2   Telephone   Mexico      NaN  156644.47  \n",
            "3   Telephone   Brazil      NaN   59191.72  \n",
            "4   Telephone    Japan      NaN    7029.33  \n",
            "..        ...      ...      ...        ...  \n",
            "95       Mail  Finland      NaN    6615.84  \n",
            "96       Mail  Denmark      NaN   52613.47  \n",
            "97       Mail   France      NaN   41912.85  \n",
            "98       Mail  Germany      NaN   59479.91  \n",
            "99       Mail   United  Kingdom  156324.28  \n",
            "\n",
            "[100 rows x 12 columns]\n"
          ]
        }
      ]
    },
    {
      "cell_type": "code",
      "source": [
        "df.head()"
      ],
      "metadata": {
        "colab": {
          "base_uri": "https://localhost:8080/",
          "height": 206
        },
        "id": "O4lLiah9_ulI",
        "outputId": "99781064-8af3-4ade-9caf-04be41436b41"
      },
      "execution_count": null,
      "outputs": [
        {
          "output_type": "execute_result",
          "data": {
            "text/plain": [
              "   Year  Product       line Product.1  type  Product.2  Order method  \\\n",
              "0  2004  Camping  Equipment   Cooking  Gear  TrailChef  Water    Bag   \n",
              "1  2004  Camping  Equipment   Cooking  Gear  TrailChef  Water    Bag   \n",
              "2  2004  Camping  Equipment   Cooking  Gear  TrailChef  Water    Bag   \n",
              "3  2004  Camping  Equipment   Cooking  Gear  TrailChef  Water    Bag   \n",
              "4  2004  Camping  Equipment   Cooking  Gear  TrailChef  Water    Bag   \n",
              "\n",
              "      type.1 Retailer country    Revenue  \n",
              "0  Telephone   United  States  315044.33  \n",
              "1  Telephone   Canada     NaN   14313.48  \n",
              "2  Telephone   Mexico     NaN  156644.47  \n",
              "3  Telephone   Brazil     NaN   59191.72  \n",
              "4  Telephone    Japan     NaN    7029.33  "
            ],
            "text/html": [
              "\n",
              "  <div id=\"df-e8628cca-5c9d-4568-a57a-6cdfe73bde87\">\n",
              "    <div class=\"colab-df-container\">\n",
              "      <div>\n",
              "<style scoped>\n",
              "    .dataframe tbody tr th:only-of-type {\n",
              "        vertical-align: middle;\n",
              "    }\n",
              "\n",
              "    .dataframe tbody tr th {\n",
              "        vertical-align: top;\n",
              "    }\n",
              "\n",
              "    .dataframe thead th {\n",
              "        text-align: right;\n",
              "    }\n",
              "</style>\n",
              "<table border=\"1\" class=\"dataframe\">\n",
              "  <thead>\n",
              "    <tr style=\"text-align: right;\">\n",
              "      <th></th>\n",
              "      <th>Year</th>\n",
              "      <th>Product</th>\n",
              "      <th>line</th>\n",
              "      <th>Product.1</th>\n",
              "      <th>type</th>\n",
              "      <th>Product.2</th>\n",
              "      <th>Order</th>\n",
              "      <th>method</th>\n",
              "      <th>type.1</th>\n",
              "      <th>Retailer</th>\n",
              "      <th>country</th>\n",
              "      <th>Revenue</th>\n",
              "    </tr>\n",
              "  </thead>\n",
              "  <tbody>\n",
              "    <tr>\n",
              "      <th>0</th>\n",
              "      <td>2004</td>\n",
              "      <td>Camping</td>\n",
              "      <td>Equipment</td>\n",
              "      <td>Cooking</td>\n",
              "      <td>Gear</td>\n",
              "      <td>TrailChef</td>\n",
              "      <td>Water</td>\n",
              "      <td>Bag</td>\n",
              "      <td>Telephone</td>\n",
              "      <td>United</td>\n",
              "      <td>States</td>\n",
              "      <td>315044.33</td>\n",
              "    </tr>\n",
              "    <tr>\n",
              "      <th>1</th>\n",
              "      <td>2004</td>\n",
              "      <td>Camping</td>\n",
              "      <td>Equipment</td>\n",
              "      <td>Cooking</td>\n",
              "      <td>Gear</td>\n",
              "      <td>TrailChef</td>\n",
              "      <td>Water</td>\n",
              "      <td>Bag</td>\n",
              "      <td>Telephone</td>\n",
              "      <td>Canada</td>\n",
              "      <td>NaN</td>\n",
              "      <td>14313.48</td>\n",
              "    </tr>\n",
              "    <tr>\n",
              "      <th>2</th>\n",
              "      <td>2004</td>\n",
              "      <td>Camping</td>\n",
              "      <td>Equipment</td>\n",
              "      <td>Cooking</td>\n",
              "      <td>Gear</td>\n",
              "      <td>TrailChef</td>\n",
              "      <td>Water</td>\n",
              "      <td>Bag</td>\n",
              "      <td>Telephone</td>\n",
              "      <td>Mexico</td>\n",
              "      <td>NaN</td>\n",
              "      <td>156644.47</td>\n",
              "    </tr>\n",
              "    <tr>\n",
              "      <th>3</th>\n",
              "      <td>2004</td>\n",
              "      <td>Camping</td>\n",
              "      <td>Equipment</td>\n",
              "      <td>Cooking</td>\n",
              "      <td>Gear</td>\n",
              "      <td>TrailChef</td>\n",
              "      <td>Water</td>\n",
              "      <td>Bag</td>\n",
              "      <td>Telephone</td>\n",
              "      <td>Brazil</td>\n",
              "      <td>NaN</td>\n",
              "      <td>59191.72</td>\n",
              "    </tr>\n",
              "    <tr>\n",
              "      <th>4</th>\n",
              "      <td>2004</td>\n",
              "      <td>Camping</td>\n",
              "      <td>Equipment</td>\n",
              "      <td>Cooking</td>\n",
              "      <td>Gear</td>\n",
              "      <td>TrailChef</td>\n",
              "      <td>Water</td>\n",
              "      <td>Bag</td>\n",
              "      <td>Telephone</td>\n",
              "      <td>Japan</td>\n",
              "      <td>NaN</td>\n",
              "      <td>7029.33</td>\n",
              "    </tr>\n",
              "  </tbody>\n",
              "</table>\n",
              "</div>\n",
              "      <button class=\"colab-df-convert\" onclick=\"convertToInteractive('df-e8628cca-5c9d-4568-a57a-6cdfe73bde87')\"\n",
              "              title=\"Convert this dataframe to an interactive table.\"\n",
              "              style=\"display:none;\">\n",
              "        \n",
              "  <svg xmlns=\"http://www.w3.org/2000/svg\" height=\"24px\"viewBox=\"0 0 24 24\"\n",
              "       width=\"24px\">\n",
              "    <path d=\"M0 0h24v24H0V0z\" fill=\"none\"/>\n",
              "    <path d=\"M18.56 5.44l.94 2.06.94-2.06 2.06-.94-2.06-.94-.94-2.06-.94 2.06-2.06.94zm-11 1L8.5 8.5l.94-2.06 2.06-.94-2.06-.94L8.5 2.5l-.94 2.06-2.06.94zm10 10l.94 2.06.94-2.06 2.06-.94-2.06-.94-.94-2.06-.94 2.06-2.06.94z\"/><path d=\"M17.41 7.96l-1.37-1.37c-.4-.4-.92-.59-1.43-.59-.52 0-1.04.2-1.43.59L10.3 9.45l-7.72 7.72c-.78.78-.78 2.05 0 2.83L4 21.41c.39.39.9.59 1.41.59.51 0 1.02-.2 1.41-.59l7.78-7.78 2.81-2.81c.8-.78.8-2.07 0-2.86zM5.41 20L4 18.59l7.72-7.72 1.47 1.35L5.41 20z\"/>\n",
              "  </svg>\n",
              "      </button>\n",
              "      \n",
              "  <style>\n",
              "    .colab-df-container {\n",
              "      display:flex;\n",
              "      flex-wrap:wrap;\n",
              "      gap: 12px;\n",
              "    }\n",
              "\n",
              "    .colab-df-convert {\n",
              "      background-color: #E8F0FE;\n",
              "      border: none;\n",
              "      border-radius: 50%;\n",
              "      cursor: pointer;\n",
              "      display: none;\n",
              "      fill: #1967D2;\n",
              "      height: 32px;\n",
              "      padding: 0 0 0 0;\n",
              "      width: 32px;\n",
              "    }\n",
              "\n",
              "    .colab-df-convert:hover {\n",
              "      background-color: #E2EBFA;\n",
              "      box-shadow: 0px 1px 2px rgba(60, 64, 67, 0.3), 0px 1px 3px 1px rgba(60, 64, 67, 0.15);\n",
              "      fill: #174EA6;\n",
              "    }\n",
              "\n",
              "    [theme=dark] .colab-df-convert {\n",
              "      background-color: #3B4455;\n",
              "      fill: #D2E3FC;\n",
              "    }\n",
              "\n",
              "    [theme=dark] .colab-df-convert:hover {\n",
              "      background-color: #434B5C;\n",
              "      box-shadow: 0px 1px 3px 1px rgba(0, 0, 0, 0.15);\n",
              "      filter: drop-shadow(0px 1px 2px rgba(0, 0, 0, 0.3));\n",
              "      fill: #FFFFFF;\n",
              "    }\n",
              "  </style>\n",
              "\n",
              "      <script>\n",
              "        const buttonEl =\n",
              "          document.querySelector('#df-e8628cca-5c9d-4568-a57a-6cdfe73bde87 button.colab-df-convert');\n",
              "        buttonEl.style.display =\n",
              "          google.colab.kernel.accessAllowed ? 'block' : 'none';\n",
              "\n",
              "        async function convertToInteractive(key) {\n",
              "          const element = document.querySelector('#df-e8628cca-5c9d-4568-a57a-6cdfe73bde87');\n",
              "          const dataTable =\n",
              "            await google.colab.kernel.invokeFunction('convertToInteractive',\n",
              "                                                     [key], {});\n",
              "          if (!dataTable) return;\n",
              "\n",
              "          const docLinkHtml = 'Like what you see? Visit the ' +\n",
              "            '<a target=\"_blank\" href=https://colab.research.google.com/notebooks/data_table.ipynb>data table notebook</a>'\n",
              "            + ' to learn more about interactive tables.';\n",
              "          element.innerHTML = '';\n",
              "          dataTable['output_type'] = 'display_data';\n",
              "          await google.colab.output.renderOutput(dataTable, element);\n",
              "          const docLink = document.createElement('div');\n",
              "          docLink.innerHTML = docLinkHtml;\n",
              "          element.appendChild(docLink);\n",
              "        }\n",
              "      </script>\n",
              "    </div>\n",
              "  </div>\n",
              "  "
            ]
          },
          "metadata": {},
          "execution_count": 5
        }
      ]
    },
    {
      "cell_type": "code",
      "source": [
        "df.info()"
      ],
      "metadata": {
        "colab": {
          "base_uri": "https://localhost:8080/"
        },
        "id": "b5Q2bSM9kvYh",
        "outputId": "e748baa7-05bc-4c4a-c18b-4cd81569d212"
      },
      "execution_count": null,
      "outputs": [
        {
          "output_type": "stream",
          "name": "stdout",
          "text": [
            "<class 'pandas.core.frame.DataFrame'>\n",
            "RangeIndex: 100 entries, 0 to 99\n",
            "Data columns (total 12 columns):\n",
            " #   Column     Non-Null Count  Dtype  \n",
            "---  ------     --------------  -----  \n",
            " 0   Year       100 non-null    int64  \n",
            " 1   Product    100 non-null    object \n",
            " 2   line       100 non-null    object \n",
            " 3   Product.1  100 non-null    object \n",
            " 4   type       100 non-null    object \n",
            " 5   Product.2  100 non-null    object \n",
            " 6   Order      100 non-null    object \n",
            " 7   method     100 non-null    object \n",
            " 8   type.1     100 non-null    object \n",
            " 9   Retailer   100 non-null    object \n",
            " 10  country    9 non-null      object \n",
            " 11  Revenue    100 non-null    float64\n",
            "dtypes: float64(1), int64(1), object(10)\n",
            "memory usage: 9.5+ KB\n"
          ]
        }
      ]
    },
    {
      "cell_type": "code",
      "source": [
        "df.shape"
      ],
      "metadata": {
        "colab": {
          "base_uri": "https://localhost:8080/"
        },
        "id": "zXmwbJ-tkyzm",
        "outputId": "0a672d9a-e309-4e64-d85c-52711fc4851e"
      },
      "execution_count": null,
      "outputs": [
        {
          "output_type": "execute_result",
          "data": {
            "text/plain": [
              "(100, 12)"
            ]
          },
          "metadata": {},
          "execution_count": 7
        }
      ]
    },
    {
      "cell_type": "markdown",
      "source": [
        "## Ejercicio 1.01: Carga de datos almacenados en un archivo JSON ##\n",
        "El equipo técnico de su empresa ha estado probando una versión web de su aplicación de compras insignia. Se pidió a algunos usuarios leales que se ofrecieron como voluntarios para probar el sitio web que enviaran sus datos a través de un formulario en línea. El formulario capturó algunos detalles útiles (como la edad, los ingresos y más) junto con algunos no tan útiles (como el color de los ojos). Luego, el equipo técnico probó su nuevo módulo de página de perfil, mediante el cual se capturaron algunos detalles adicionales. Todos estos datos se almacenaron en un archivo JSON llamado user_info.json, que el equipo técnico le envió para su validación.\n",
        "\n",
        "\n",
        "El objetivo es importar este archivo JSON a Pandas y dejar que el equipo técnico conozca las respuestas a las siguientes preguntas para que puedan agregar más módulos al sitio web:\n",
        "\n",
        "* ¿Se están cargando correctamente los datos?\n",
        "* ¿Hay valores faltantes en alguna de las columnas?\n",
        "* ¿Cuáles son los tipos de datos de todas las columnas?\n",
        "* ¿Cuántas filas y columnas hay en el conjunto de datos?"
      ],
      "metadata": {
        "id": "0pXMZ72S1WPL"
      }
    },
    {
      "cell_type": "code",
      "source": [
        "# 1. Importar la biblioteca de pandas.\n",
        "import pandas as pd"
      ],
      "metadata": {
        "id": "oGryUvG318ao"
      },
      "execution_count": null,
      "outputs": []
    },
    {
      "cell_type": "code",
      "source": [
        "# 2. Bajar los datos de repo\n",
        "!curl https://raw.githubusercontent.com/limspiga/customer-analytics/main/week-1a/user_info.json -O"
      ],
      "metadata": {
        "id": "kp5BmBQqLJEl"
      },
      "execution_count": null,
      "outputs": []
    },
    {
      "cell_type": "code",
      "source": [
        "# 3. Crear un nuevo DataFrame con el nombre user_info y leer el archivo user_info.json\n",
        "user_info = pd.read_json(\"user_info.json\")"
      ],
      "metadata": {
        "id": "6gpGfMXyKsFH"
      },
      "execution_count": null,
      "outputs": []
    },
    {
      "cell_type": "code",
      "source": [
        "# 4. Examinar si los datos se cargaron correctamente al verificar los primeros cinco valores en el DataFrame.\n",
        "user_info.head()"
      ],
      "metadata": {
        "id": "arEcuKZrK6Mv"
      },
      "execution_count": null,
      "outputs": []
    },
    {
      "cell_type": "code",
      "source": [
        "# 5. Ahora, para responder a la segunda pregunta, necesitará usar el comando info():\n",
        "user_info.info()"
      ],
      "metadata": {
        "id": "mtKouGhCK7W_"
      },
      "execution_count": null,
      "outputs": []
    },
    {
      "cell_type": "code",
      "source": [
        "# 6. Ejecute el siguiente comando para verificar la cantidad de filas y columnas \n",
        "# en el DataFrame de información de usuario:\n",
        "user_info.shape"
      ],
      "metadata": {
        "colab": {
          "base_uri": "https://localhost:8080/"
        },
        "id": "NNlP7ziZK8fr",
        "outputId": "afda7482-16e1-4fee-9cac-f450ce5fcac9"
      },
      "execution_count": null,
      "outputs": [
        {
          "output_type": "execute_result",
          "data": {
            "text/plain": [
              "(6, 22)"
            ]
          },
          "metadata": {},
          "execution_count": 16
        }
      ]
    },
    {
      "cell_type": "code",
      "source": [
        "# En este ejercicio, se cargaron datos, se verificó si se cargaron correctamente,\n",
        "# se obtuvo más información sobre las entradas contenidas en él.\n",
        "# Todo esto se hizo cargando datos almacenados en una sola fuente, que era el archivo JSON.\n",
        "# Como analista de marketing, se encontrará con situaciones en las que deberá\n",
        "# cargar y procesar datos de diferentes fuentes."
      ],
      "metadata": {
        "id": "IP1ChfLLK9m0"
      },
      "execution_count": null,
      "outputs": []
    },
    {
      "cell_type": "markdown",
      "source": [
        "## Ejercicio 1.02: Carga de datos de múltiples fuentes ##\n",
        "\n",
        "Trabajas para una empresa que utiliza Facebook para sus campañas de marketing. El archivo data.csv contiene las vistas y los me gusta de 100 publicaciones diferentes en Facebook utilizadas para una campaña de marketing. El equipo también utiliza datos históricos de ventas para obtener información. El archivo sales.csv contiene algunos datos históricos de ventas registrados en un archivo CSV relacionados con diferentes compras de clientes en las tiendas en los últimos años.\n",
        "\n",
        "El objetivo es leer los archivos  DataFrames y verificar lo siguiente:\n",
        "\n",
        "- Si alguno de los conjuntos de datos contiene valores nulos o faltantes\n",
        "- Si los datos se almacenan en las columnas correctas y los nombres de las columnas correspondientes tienen sentido (en otras palabras, los nombres de las columnas transmiten correctamente qué tipo de información se almacena en las filas)"
      ],
      "metadata": {
        "id": "i48K5PFmAXpE"
      }
    },
    {
      "cell_type": "code",
      "source": [
        "import pandas as pd"
      ],
      "metadata": {
        "id": "edTzcaQqiPHM"
      },
      "execution_count": null,
      "outputs": []
    },
    {
      "cell_type": "code",
      "source": [
        "# 1. Download dataset\n",
        "!curl https://raw.githubusercontent.com/limspiga/customer-analytics/main/week-1a/data.csv -O"
      ],
      "metadata": {
        "colab": {
          "base_uri": "https://localhost:8080/"
        },
        "id": "WqIW8JqwMW1H",
        "outputId": "2746f560-fb29-47f3-83b9-e209a1923101"
      },
      "execution_count": null,
      "outputs": [
        {
          "output_type": "stream",
          "name": "stdout",
          "text": [
            "  % Total    % Received % Xferd  Average Speed   Time    Time     Time  Current\n",
            "                                 Dload  Upload   Total   Spent    Left  Speed\n",
            "\r  0     0    0     0    0     0      0      0 --:--:-- --:--:-- --:--:--     0\r100  1074  100  1074    0     0  28263      0 --:--:-- --:--:-- --:--:-- 28263\n"
          ]
        }
      ]
    },
    {
      "cell_type": "code",
      "source": [
        "# 2. Bajar un nuevo DataFrame llamado Campaign_data. Con el método read_csv para leer el contenido del archivo data.csv\n",
        "campaign_data = pd.read_csv(\"data.csv\")"
      ],
      "metadata": {
        "id": "gJwMxQV4McVR"
      },
      "execution_count": null,
      "outputs": []
    },
    {
      "cell_type": "code",
      "source": [
        "# 3. Examinamos las primeras cinco filas del DataFrame usando la función head():\n",
        "campaign_data.head()"
      ],
      "metadata": {
        "id": "DMYJzmPgMdjr"
      },
      "execution_count": null,
      "outputs": []
    },
    {
      "cell_type": "code",
      "source": [
        "# 4. Para leer los nombres de las columnas, leeremos los datos en Campaign_data\n",
        "# de nuevo (paso 2), pero esta vez\n",
        "# deberá usamos el parámetro de encabezado para que las entradas\n",
        "# en la primera fila se lean como nombres de columna.\n",
        "# El parámetro header = 1 lee la primera fila como el encabezado:\n",
        "campaign_data = pd.read_csv(\"data.csv\", header = 1)"
      ],
      "metadata": {
        "id": "2Zx3hhSTMego"
      },
      "execution_count": null,
      "outputs": []
    },
    {
      "cell_type": "code",
      "source": [
        "# volvemos a ejecutar el comando head:\n",
        "campaign_data.head()"
      ],
      "metadata": {
        "id": "4d-aWWzUMfp2"
      },
      "execution_count": null,
      "outputs": []
    },
    {
      "cell_type": "code",
      "source": [
        "# 5. Ahora, examinamos las últimas cinco filas usando la función tail():\n",
        "campaign_data.tail()"
      ],
      "metadata": {
        "id": "Nqu87BTYMg_i"
      },
      "execution_count": null,
      "outputs": []
    },
    {
      "cell_type": "code",
      "source": [
        "# 6. Aunque hemos visto las últimas filas, todavía no podemos estar seguros de que todas los\n",
        "# valores en la parte central (oculta) del DataFrame no tienen ningún valor nulo.\n",
        "# Verifique los tipos de datos del DataFrame para estar seguro usando el siguiente comando:\n",
        "campaign_data.info()"
      ],
      "metadata": {
        "id": "1YcHnaLHMiA7"
      },
      "execution_count": null,
      "outputs": []
    },
    {
      "cell_type": "code",
      "source": [
        "# 7. Ahora, analizamos el archivo sales.csv. \n",
        "# Creamos un DataFrame llamado sales. Utilizamos el método read_csv() para leer el contenido del archivo sales.csv\n",
        "sales = pd.read_csv(\"sales.csv\")"
      ],
      "metadata": {
        "id": "NatYXBY2MjBi"
      },
      "execution_count": null,
      "outputs": []
    },
    {
      "cell_type": "code",
      "source": [
        "# 8. Observamos las primeras cinco filas del DataFrame de sales usando el siguiente comando:\n",
        "sales.head()"
      ],
      "metadata": {
        "id": "YjTnFwe4Mj-e"
      },
      "execution_count": null,
      "outputs": []
    },
    {
      "cell_type": "code",
      "source": [
        "# 9. Para buscar valores nulos y examinar los tipos de datos de las columnas, ejecutamos el siguiente comando:\n",
        "sales.info()"
      ],
      "metadata": {
        "id": "VAzkpukBMk9y"
      },
      "execution_count": null,
      "outputs": []
    },
    {
      "cell_type": "markdown",
      "source": [
        "## Estructura de DataFrames y series de pandas ## \n",
        "\n",
        "Cuando no se sabe que estructura de datos usar porque se desconoce si faltan valores, además la clasificacion la información se llevara por equipos diferentes.\n",
        "\n",
        "En este caso en lugar de índices numéricos (0-10), se usan etiquetas personalizadas para acceder a valores específicos. \n",
        "\n",
        "Pandas proporciona las _**Series**_ como estructuras almacenar y trabajar los datos.\n",
        "\n",
        "https://pandas.pydata.org/pandas-docs/stable/reference/series.html\n",
        "\n",
        "<figure>\n",
        "<center>\n",
        "<img src='https://drive.google.com/uc?export=view&id=1_wPIUED_kQWvu6IOo3p60Y6ngH4gPMEW' width=\"800\" />\n",
        "<figcaption>Figura 1.3: Muestra de una serie de pandas</figcaption></center>\n",
        "</figure>\n",
        "\n",
        "A medida que una campaña crece, también lo hace el número de series. Con eso, surgen nuevos requisitos. Ahora, si se desea poder realizar operaciones como la concatenación\n",
        "en entradas específicas en varias series a la vez. Sin embargo, para acceder a los valores, estas diferentes series deben compartir el mismo **_índice_**. Y ahí es exactamente donde los DataFrames entran en escena. \n",
        "\n",
        "Un _**DataFrame**_ de pandas es solo un diccionario con los nombres de las columnas como claves y valores como diferentes series de pandas, unidos por el índice.\n",
        "\n",
        "Un DataFrame se crea cuando diferentes columnas (que no son más que series) como estas se unen mediante el índice\n",
        "\n",
        "<figure>\n",
        "<center>\n",
        "<img src='https://drive.google.com/uc?export=view&id=1Jj4X1do-IeavHx3OBlgL6PDdseEyV90q' width=\"800\" />\n",
        "<figcaption>Figura 1.4: Series unidas por el mismo índice crean un DataFrame de pandas</figcaption></center>\n",
        "</figure>\n",
        "\n",
        "En la figura 1.4, se observa los números del 0 al 4 a la izquierda de la columna de age. Estos son los índices. Las columnas age, balance, _id, about y address, junto con otras, son series y juntas forman un DataFrame.\n",
        "\n",
        "Esta forma de almacenar datos hace que sea muy fácil realizar las operaciones que necesita en los datos que desea. \n",
        "\n",
        "Se puede elegir fácilmente la serie que desea **modificar** seleccionando una columna y cortando directamente los índices en función del valor de esa columna. También se puede **agrupar** índices con valores similares en una columna y ver cómo cambian los valores en otras columnas.\n",
        "\n",
        "\n"
      ],
      "metadata": {
        "id": "DW1Wv_4p4zaK"
      }
    },
    {
      "cell_type": "code",
      "source": [
        "# Aplicar la función de suma a todas las filas en la columna de saldo del DataFrame\n",
        "# df['balance'].sum(axis=0)\n",
        "# import pandas as pd\n",
        "# !curl https://raw.githubusercontent.com/limspiga/customer-analytics/main/week-1/user_info.json -O\n",
        "user_info = pd.read_json(\"user_info.json\")\n",
        "user_info"
      ],
      "metadata": {
        "id": "n5IJoZvmU4pp"
      },
      "execution_count": null,
      "outputs": []
    },
    {
      "cell_type": "code",
      "source": [
        "user_info['age']"
      ],
      "metadata": {
        "colab": {
          "base_uri": "https://localhost:8080/"
        },
        "id": "17ENyg7GSjkL",
        "outputId": "23275fba-86d5-4ce2-cd3b-f3a44b3bc675"
      },
      "execution_count": null,
      "outputs": [
        {
          "output_type": "execute_result",
          "data": {
            "text/plain": [
              "0    20\n",
              "1    22\n",
              "2    40\n",
              "3    29\n",
              "4    33\n",
              "5    23\n",
              "Name: age, dtype: int64"
            ]
          },
          "metadata": {},
          "execution_count": 55
        }
      ]
    },
    {
      "cell_type": "code",
      "source": [
        "user_info['balance']"
      ],
      "metadata": {
        "colab": {
          "base_uri": "https://localhost:8080/"
        },
        "id": "7WfuW1kDS0rR",
        "outputId": "9bc6ba30-d0d9-470a-9ca3-653dc698febc"
      },
      "execution_count": null,
      "outputs": [
        {
          "output_type": "execute_result",
          "data": {
            "text/plain": [
              "0    $3,806.93\n",
              "1    $3,330.01\n",
              "2    $1,619.46\n",
              "3    $3,334.12\n",
              "4    $1,368.48\n",
              "5    $2,441.66\n",
              "Name: balance, dtype: object"
            ]
          },
          "metadata": {},
          "execution_count": 56
        }
      ]
    },
    {
      "cell_type": "markdown",
      "source": [
        "\n",
        "Pandas también permite que se apliquen operaciones tanto a las filas como a las columnas de un DataFrame. Puede elegir cuál aplicar especificando el eje, 0 se refiere a las filas y 1 se refiere a las columnas.\n",
        "\n",
        "<figure>\n",
        "<center>\n",
        "<img src='https://drive.google.com/uc?export=view&id=1CDbNd7YhZOE9NuePKXHp24yQsqwajR_7' width=\"800\" />\n",
        "<figcaption>Figura 1.5: Series unidas por el mismo índice crean un DataFrame de pandas</figcaption></center>\n",
        "</figure>"
      ],
      "metadata": {
        "id": "nOnJtq80TJGv"
      }
    },
    {
      "cell_type": "code",
      "source": [
        "# user_info['balance'].sum(axis=0)\n",
        "# user_info['balance'].astype(float)\n",
        "# user_info['balance'].replace('[\\$,]', '', regex=True).astype(float)\n",
        "user_info['balance'].replace('[\\$,]', '', regex=True).astype(float).sum(axis=0)"
      ],
      "metadata": {
        "colab": {
          "base_uri": "https://localhost:8080/"
        },
        "id": "XWsQLWYGSwmP",
        "outputId": "55acd5ee-c80c-44f8-e213-cc5d9930c769"
      },
      "execution_count": null,
      "outputs": [
        {
          "output_type": "execute_result",
          "data": {
            "text/plain": [
              "15900.66"
            ]
          },
          "metadata": {},
          "execution_count": 59
        }
      ]
    },
    {
      "cell_type": "markdown",
      "source": [
        "## Manipulación de datos ##\n",
        "\n",
        "Tareas de manipulación de datos en DataFrame:\n",
        "\n",
        "1. Crear nuevos DataFrames\n",
        "\n",
        "2. Seleccionar o dividir un DataFrame\n",
        "\n",
        "3. Filtrar DataFrames para algunos valores\n",
        "\n",
        "4. Unir diferentes DataFrames\n",
        "\n",
        "# Selección y filtrado de DataFrames\n",
        "\n",
        "Para accesar a una celda en particular en una hoja de cálculo, se hace dirigiéndose a esa celda usando (nombre de columna, nombre de fila). Por ejemplo, cuando llama a la celda A63, A se refiere a la columna y 63 se refiere a la fila. Los datos se almacenan de manera similar en pandas, pero como (nombre de fila, nombre de columna) y podemos usar la misma convención para acceder a las celdas en un DataFrame.\n",
        "\n",
        "Por ejemplo, mire el siguiente DataFrame. La columna de viewers es el índice del DataFrame:\n",
        "\n"
      ],
      "metadata": {
        "id": "iw4CDLkSk_xD"
      }
    },
    {
      "cell_type": "code",
      "source": [
        "!curl https://raw.githubusercontent.com/limspiga/customer-analytics/main/week-1a/viewers.json -O\n",
        "df = pd.read_json(\"viewers.json\")\n",
        "df"
      ],
      "metadata": {
        "id": "Dv7grpggu7_P"
      },
      "execution_count": null,
      "outputs": []
    },
    {
      "cell_type": "code",
      "source": [
        "# df.loc[[1,2],['cost','views']] \n",
        "\n",
        "# Error porque no tiene un indice\n",
        "# df.loc[['Adam','Anurag'],['cost','views']] \n",
        "\n",
        "# df.set_index(['viewers'], inplace = True)\n",
        "df.loc[['Adam','Anurag'],['cost','views']] "
      ],
      "metadata": {
        "colab": {
          "base_uri": "https://localhost:8080/",
          "height": 143
        },
        "id": "M8wn3ZF2x_GF",
        "outputId": "35569152-e125-48df-e207-b211360a4310"
      },
      "execution_count": null,
      "outputs": [
        {
          "output_type": "execute_result",
          "data": {
            "text/plain": [
              "         cost  views\n",
              "viewers             \n",
              "Adam     20.0  17.90\n",
              "Anurag    NaN  42.47"
            ],
            "text/html": [
              "\n",
              "  <div id=\"df-a7871e9a-6c89-4b8e-826e-0ea00b5e6232\">\n",
              "    <div class=\"colab-df-container\">\n",
              "      <div>\n",
              "<style scoped>\n",
              "    .dataframe tbody tr th:only-of-type {\n",
              "        vertical-align: middle;\n",
              "    }\n",
              "\n",
              "    .dataframe tbody tr th {\n",
              "        vertical-align: top;\n",
              "    }\n",
              "\n",
              "    .dataframe thead th {\n",
              "        text-align: right;\n",
              "    }\n",
              "</style>\n",
              "<table border=\"1\" class=\"dataframe\">\n",
              "  <thead>\n",
              "    <tr style=\"text-align: right;\">\n",
              "      <th></th>\n",
              "      <th>cost</th>\n",
              "      <th>views</th>\n",
              "    </tr>\n",
              "    <tr>\n",
              "      <th>viewers</th>\n",
              "      <th></th>\n",
              "      <th></th>\n",
              "    </tr>\n",
              "  </thead>\n",
              "  <tbody>\n",
              "    <tr>\n",
              "      <th>Adam</th>\n",
              "      <td>20.0</td>\n",
              "      <td>17.90</td>\n",
              "    </tr>\n",
              "    <tr>\n",
              "      <th>Anurag</th>\n",
              "      <td>NaN</td>\n",
              "      <td>42.47</td>\n",
              "    </tr>\n",
              "  </tbody>\n",
              "</table>\n",
              "</div>\n",
              "      <button class=\"colab-df-convert\" onclick=\"convertToInteractive('df-a7871e9a-6c89-4b8e-826e-0ea00b5e6232')\"\n",
              "              title=\"Convert this dataframe to an interactive table.\"\n",
              "              style=\"display:none;\">\n",
              "        \n",
              "  <svg xmlns=\"http://www.w3.org/2000/svg\" height=\"24px\"viewBox=\"0 0 24 24\"\n",
              "       width=\"24px\">\n",
              "    <path d=\"M0 0h24v24H0V0z\" fill=\"none\"/>\n",
              "    <path d=\"M18.56 5.44l.94 2.06.94-2.06 2.06-.94-2.06-.94-.94-2.06-.94 2.06-2.06.94zm-11 1L8.5 8.5l.94-2.06 2.06-.94-2.06-.94L8.5 2.5l-.94 2.06-2.06.94zm10 10l.94 2.06.94-2.06 2.06-.94-2.06-.94-.94-2.06-.94 2.06-2.06.94z\"/><path d=\"M17.41 7.96l-1.37-1.37c-.4-.4-.92-.59-1.43-.59-.52 0-1.04.2-1.43.59L10.3 9.45l-7.72 7.72c-.78.78-.78 2.05 0 2.83L4 21.41c.39.39.9.59 1.41.59.51 0 1.02-.2 1.41-.59l7.78-7.78 2.81-2.81c.8-.78.8-2.07 0-2.86zM5.41 20L4 18.59l7.72-7.72 1.47 1.35L5.41 20z\"/>\n",
              "  </svg>\n",
              "      </button>\n",
              "      \n",
              "  <style>\n",
              "    .colab-df-container {\n",
              "      display:flex;\n",
              "      flex-wrap:wrap;\n",
              "      gap: 12px;\n",
              "    }\n",
              "\n",
              "    .colab-df-convert {\n",
              "      background-color: #E8F0FE;\n",
              "      border: none;\n",
              "      border-radius: 50%;\n",
              "      cursor: pointer;\n",
              "      display: none;\n",
              "      fill: #1967D2;\n",
              "      height: 32px;\n",
              "      padding: 0 0 0 0;\n",
              "      width: 32px;\n",
              "    }\n",
              "\n",
              "    .colab-df-convert:hover {\n",
              "      background-color: #E2EBFA;\n",
              "      box-shadow: 0px 1px 2px rgba(60, 64, 67, 0.3), 0px 1px 3px 1px rgba(60, 64, 67, 0.15);\n",
              "      fill: #174EA6;\n",
              "    }\n",
              "\n",
              "    [theme=dark] .colab-df-convert {\n",
              "      background-color: #3B4455;\n",
              "      fill: #D2E3FC;\n",
              "    }\n",
              "\n",
              "    [theme=dark] .colab-df-convert:hover {\n",
              "      background-color: #434B5C;\n",
              "      box-shadow: 0px 1px 3px 1px rgba(0, 0, 0, 0.15);\n",
              "      filter: drop-shadow(0px 1px 2px rgba(0, 0, 0, 0.3));\n",
              "      fill: #FFFFFF;\n",
              "    }\n",
              "  </style>\n",
              "\n",
              "      <script>\n",
              "        const buttonEl =\n",
              "          document.querySelector('#df-a7871e9a-6c89-4b8e-826e-0ea00b5e6232 button.colab-df-convert');\n",
              "        buttonEl.style.display =\n",
              "          google.colab.kernel.accessAllowed ? 'block' : 'none';\n",
              "\n",
              "        async function convertToInteractive(key) {\n",
              "          const element = document.querySelector('#df-a7871e9a-6c89-4b8e-826e-0ea00b5e6232');\n",
              "          const dataTable =\n",
              "            await google.colab.kernel.invokeFunction('convertToInteractive',\n",
              "                                                     [key], {});\n",
              "          if (!dataTable) return;\n",
              "\n",
              "          const docLinkHtml = 'Like what you see? Visit the ' +\n",
              "            '<a target=\"_blank\" href=https://colab.research.google.com/notebooks/data_table.ipynb>data table notebook</a>'\n",
              "            + ' to learn more about interactive tables.';\n",
              "          element.innerHTML = '';\n",
              "          dataTable['output_type'] = 'display_data';\n",
              "          await google.colab.output.renderOutput(dataTable, element);\n",
              "          const docLink = document.createElement('div');\n",
              "          docLink.innerHTML = docLinkHtml;\n",
              "          element.appendChild(docLink);\n",
              "        }\n",
              "      </script>\n",
              "    </div>\n",
              "  </div>\n",
              "  "
            ]
          },
          "metadata": {},
          "execution_count": 72
        }
      ]
    },
    {
      "cell_type": "markdown",
      "source": [
        "Si se necesita acceder a más de una sola celda, como un subconjunto de algunas filas y columnas del DataFrame, o cambiar el orden de visualización de algunas columnas en el DataFrame, se puede utilizar la sintaxis que se muestra en la siguiente tabla:\n",
        "\n",
        "\n",
        "<figure>\n",
        "<center>\n",
        "<img src='https://drive.google.com/uc?export=view&id=1F59DroUz3CdVrl4GR-YGXEQ0i666kNtI' width=\"800\" />\n",
        "<figcaption>Figura 1.5: Sintaxis utilizada para diferentes operaciones en un DataFrame de pandas</figcaption></center>\n",
        "</figure>\n"
      ],
      "metadata": {
        "id": "p_33hlTXz_x5"
      }
    },
    {
      "cell_type": "code",
      "source": [
        "# df = pd.read_json(\"viewers.json\")\n",
        "# df ['views']\n",
        "\n",
        "# df [['views', 'users']]\n",
        "# df.loc [1]\n",
        "# df.iloc [1, 2]\n",
        "\n",
        "# df.af[1, 4] // descontinuado"
      ],
      "metadata": {
        "id": "oqm9UCkU1RQZ"
      },
      "execution_count": null,
      "outputs": []
    },
    {
      "cell_type": "markdown",
      "source": [
        "## Creating DataFrames in Python ## \n",
        "Desde cero"
      ],
      "metadata": {
        "id": "e_cJqSrk3ysg"
      }
    },
    {
      "cell_type": "code",
      "source": [
        "import pandas as pd\n",
        "import numpy as np\n",
        "\n",
        "df1 = pd.DataFrame() \n",
        "df2 = pd.DataFrame()\n",
        "\n",
        "df1['viewers'] = [\"Sushmita\", \"Adam\", \"Benny\", \"Anurag\"]\n",
        "df2['users'] = [\"Adam\", \"Anurag\", \"Benny\", \"Sushmita\", \"Apoorva\"]"
      ],
      "metadata": {
        "id": "aivO6Utul4ie"
      },
      "execution_count": null,
      "outputs": []
    },
    {
      "cell_type": "code",
      "source": [
        "df1 = df1.assign(views = [31.2, 17.9, 265.23, 42.47]) \n",
        "df1"
      ],
      "metadata": {
        "id": "Jp1ubXItXJm1"
      },
      "execution_count": null,
      "outputs": []
    },
    {
      "cell_type": "code",
      "source": [
        "df2 = df2.assign(cost =  [20, np.nan,     15,     2, 7])\n",
        "df1.head() "
      ],
      "metadata": {
        "id": "g8vFfRcsp4a1"
      },
      "execution_count": null,
      "outputs": []
    },
    {
      "cell_type": "code",
      "source": [
        "df = df1.merge(df2, left_on=\"viewers\", right_on=\"users\", how=\"left\") \n",
        "df.head()\n",
        "df"
      ],
      "metadata": {
        "id": "GPavAoD0puaB"
      },
      "execution_count": null,
      "outputs": []
    },
    {
      "cell_type": "code",
      "source": [
        "df['Gender'] = [\"Female\", \"Male\", \"Male\", \"Female\"]\n",
        "df"
      ],
      "metadata": {
        "id": "Uo3PZAOoXjTB"
      },
      "execution_count": null,
      "outputs": []
    },
    {
      "cell_type": "code",
      "source": [
        "df['Gender'] = df['Gender'].map({\"Female\":\"F\",\"Male\":\"M\"})\n",
        "df\n",
        "# output = df.to_json(orient = 'columns')\n",
        "# print(output)"
      ],
      "metadata": {
        "id": "VbiR4xbspIVF"
      },
      "execution_count": null,
      "outputs": []
    },
    {
      "cell_type": "code",
      "source": [
        "df.groupby('Gender')['cost'].sum()"
      ],
      "metadata": {
        "id": "Th0wYD_UmHRs"
      },
      "execution_count": null,
      "outputs": []
    },
    {
      "cell_type": "code",
      "source": [
        "df.set_index(['viewers'], inplace = True)\n",
        "df.head()"
      ],
      "metadata": {
        "id": "iIOstMtkqNmu"
      },
      "execution_count": null,
      "outputs": []
    },
    {
      "cell_type": "code",
      "source": [
        "df.loc[['Adam','Anurag'],['cost','views']]"
      ],
      "metadata": {
        "id": "fcNKkp_zqpFq"
      },
      "execution_count": null,
      "outputs": []
    },
    {
      "cell_type": "markdown",
      "source": [
        "## Creating DataFrames in Python ##\n",
        "\n",
        "Creación de nuevos DataFrames: por lo general, utiliza la función de DataFrames para crear un DataFrames nuevo. La función convierte directamente un objeto Python\n",
        "en un marco de datos de pandas. La función DataFrame en general funciona con cualquier colección iterable de datos, como dict y list. También puede pasarle una colección vacía o una colección singleton"
      ],
      "metadata": {
        "id": "4e61_XW0rxWK"
      }
    },
    {
      "cell_type": "code",
      "source": [
        "df= pd.DataFrame({'Currency': pd.Series(['USD','EUR','GBP']),'ValueInINR': pd.Series([70, 89, 99])})\n",
        "df.head()"
      ],
      "metadata": {
        "colab": {
          "base_uri": "https://localhost:8080/",
          "height": 143
        },
        "id": "CE77955-qtk0",
        "outputId": "536945a7-44fd-41e2-cbec-f3ffdf908afb"
      },
      "execution_count": null,
      "outputs": [
        {
          "output_type": "execute_result",
          "data": {
            "text/plain": [
              "  Currency  ValueInINR\n",
              "0      USD          70\n",
              "1      EUR          89\n",
              "2      GBP          99"
            ],
            "text/html": [
              "\n",
              "  <div id=\"df-6a2a43a6-7262-4e15-8bf2-604fb713eae2\">\n",
              "    <div class=\"colab-df-container\">\n",
              "      <div>\n",
              "<style scoped>\n",
              "    .dataframe tbody tr th:only-of-type {\n",
              "        vertical-align: middle;\n",
              "    }\n",
              "\n",
              "    .dataframe tbody tr th {\n",
              "        vertical-align: top;\n",
              "    }\n",
              "\n",
              "    .dataframe thead th {\n",
              "        text-align: right;\n",
              "    }\n",
              "</style>\n",
              "<table border=\"1\" class=\"dataframe\">\n",
              "  <thead>\n",
              "    <tr style=\"text-align: right;\">\n",
              "      <th></th>\n",
              "      <th>Currency</th>\n",
              "      <th>ValueInINR</th>\n",
              "    </tr>\n",
              "  </thead>\n",
              "  <tbody>\n",
              "    <tr>\n",
              "      <th>0</th>\n",
              "      <td>USD</td>\n",
              "      <td>70</td>\n",
              "    </tr>\n",
              "    <tr>\n",
              "      <th>1</th>\n",
              "      <td>EUR</td>\n",
              "      <td>89</td>\n",
              "    </tr>\n",
              "    <tr>\n",
              "      <th>2</th>\n",
              "      <td>GBP</td>\n",
              "      <td>99</td>\n",
              "    </tr>\n",
              "  </tbody>\n",
              "</table>\n",
              "</div>\n",
              "      <button class=\"colab-df-convert\" onclick=\"convertToInteractive('df-6a2a43a6-7262-4e15-8bf2-604fb713eae2')\"\n",
              "              title=\"Convert this dataframe to an interactive table.\"\n",
              "              style=\"display:none;\">\n",
              "        \n",
              "  <svg xmlns=\"http://www.w3.org/2000/svg\" height=\"24px\"viewBox=\"0 0 24 24\"\n",
              "       width=\"24px\">\n",
              "    <path d=\"M0 0h24v24H0V0z\" fill=\"none\"/>\n",
              "    <path d=\"M18.56 5.44l.94 2.06.94-2.06 2.06-.94-2.06-.94-.94-2.06-.94 2.06-2.06.94zm-11 1L8.5 8.5l.94-2.06 2.06-.94-2.06-.94L8.5 2.5l-.94 2.06-2.06.94zm10 10l.94 2.06.94-2.06 2.06-.94-2.06-.94-.94-2.06-.94 2.06-2.06.94z\"/><path d=\"M17.41 7.96l-1.37-1.37c-.4-.4-.92-.59-1.43-.59-.52 0-1.04.2-1.43.59L10.3 9.45l-7.72 7.72c-.78.78-.78 2.05 0 2.83L4 21.41c.39.39.9.59 1.41.59.51 0 1.02-.2 1.41-.59l7.78-7.78 2.81-2.81c.8-.78.8-2.07 0-2.86zM5.41 20L4 18.59l7.72-7.72 1.47 1.35L5.41 20z\"/>\n",
              "  </svg>\n",
              "      </button>\n",
              "      \n",
              "  <style>\n",
              "    .colab-df-container {\n",
              "      display:flex;\n",
              "      flex-wrap:wrap;\n",
              "      gap: 12px;\n",
              "    }\n",
              "\n",
              "    .colab-df-convert {\n",
              "      background-color: #E8F0FE;\n",
              "      border: none;\n",
              "      border-radius: 50%;\n",
              "      cursor: pointer;\n",
              "      display: none;\n",
              "      fill: #1967D2;\n",
              "      height: 32px;\n",
              "      padding: 0 0 0 0;\n",
              "      width: 32px;\n",
              "    }\n",
              "\n",
              "    .colab-df-convert:hover {\n",
              "      background-color: #E2EBFA;\n",
              "      box-shadow: 0px 1px 2px rgba(60, 64, 67, 0.3), 0px 1px 3px 1px rgba(60, 64, 67, 0.15);\n",
              "      fill: #174EA6;\n",
              "    }\n",
              "\n",
              "    [theme=dark] .colab-df-convert {\n",
              "      background-color: #3B4455;\n",
              "      fill: #D2E3FC;\n",
              "    }\n",
              "\n",
              "    [theme=dark] .colab-df-convert:hover {\n",
              "      background-color: #434B5C;\n",
              "      box-shadow: 0px 1px 3px 1px rgba(0, 0, 0, 0.15);\n",
              "      filter: drop-shadow(0px 1px 2px rgba(0, 0, 0, 0.3));\n",
              "      fill: #FFFFFF;\n",
              "    }\n",
              "  </style>\n",
              "\n",
              "      <script>\n",
              "        const buttonEl =\n",
              "          document.querySelector('#df-6a2a43a6-7262-4e15-8bf2-604fb713eae2 button.colab-df-convert');\n",
              "        buttonEl.style.display =\n",
              "          google.colab.kernel.accessAllowed ? 'block' : 'none';\n",
              "\n",
              "        async function convertToInteractive(key) {\n",
              "          const element = document.querySelector('#df-6a2a43a6-7262-4e15-8bf2-604fb713eae2');\n",
              "          const dataTable =\n",
              "            await google.colab.kernel.invokeFunction('convertToInteractive',\n",
              "                                                     [key], {});\n",
              "          if (!dataTable) return;\n",
              "\n",
              "          const docLinkHtml = 'Like what you see? Visit the ' +\n",
              "            '<a target=\"_blank\" href=https://colab.research.google.com/notebooks/data_table.ipynb>data table notebook</a>'\n",
              "            + ' to learn more about interactive tables.';\n",
              "          element.innerHTML = '';\n",
              "          dataTable['output_type'] = 'display_data';\n",
              "          await google.colab.output.renderOutput(dataTable, element);\n",
              "          const docLink = document.createElement('div');\n",
              "          docLink.innerHTML = docLinkHtml;\n",
              "          element.appendChild(docLink);\n",
              "        }\n",
              "      </script>\n",
              "    </div>\n",
              "  </div>\n",
              "  "
            ]
          },
          "metadata": {},
          "execution_count": 82
        }
      ]
    },
    {
      "cell_type": "code",
      "source": [
        "# Duplicar o cortar un DataFrame previamente existente\n",
        "import copy\n",
        "df1 = df.copy(deep=True) # La función DEEP permite al usuario recorrer \n",
        "# recursivamente los objetos señalados por las referencias y crear objetos completamente nuevos."
      ],
      "metadata": {
        "id": "xaJghFcRrQ8K"
      },
      "execution_count": null,
      "outputs": []
    },
    {
      "cell_type": "code",
      "source": [
        "df1.head()"
      ],
      "metadata": {
        "colab": {
          "base_uri": "https://localhost:8080/",
          "height": 143
        },
        "id": "zA2yB0girRb8",
        "outputId": "b774e0a2-d88a-4293-ede6-12e0934c034e"
      },
      "execution_count": null,
      "outputs": [
        {
          "output_type": "execute_result",
          "data": {
            "text/plain": [
              "  Currency  ValueInINR\n",
              "0      USD          70\n",
              "1      EUR          89\n",
              "2      GBP          99"
            ],
            "text/html": [
              "\n",
              "  <div id=\"df-509f503b-f300-4762-ac6a-c3eb4ab56e50\">\n",
              "    <div class=\"colab-df-container\">\n",
              "      <div>\n",
              "<style scoped>\n",
              "    .dataframe tbody tr th:only-of-type {\n",
              "        vertical-align: middle;\n",
              "    }\n",
              "\n",
              "    .dataframe tbody tr th {\n",
              "        vertical-align: top;\n",
              "    }\n",
              "\n",
              "    .dataframe thead th {\n",
              "        text-align: right;\n",
              "    }\n",
              "</style>\n",
              "<table border=\"1\" class=\"dataframe\">\n",
              "  <thead>\n",
              "    <tr style=\"text-align: right;\">\n",
              "      <th></th>\n",
              "      <th>Currency</th>\n",
              "      <th>ValueInINR</th>\n",
              "    </tr>\n",
              "  </thead>\n",
              "  <tbody>\n",
              "    <tr>\n",
              "      <th>0</th>\n",
              "      <td>USD</td>\n",
              "      <td>70</td>\n",
              "    </tr>\n",
              "    <tr>\n",
              "      <th>1</th>\n",
              "      <td>EUR</td>\n",
              "      <td>89</td>\n",
              "    </tr>\n",
              "    <tr>\n",
              "      <th>2</th>\n",
              "      <td>GBP</td>\n",
              "      <td>99</td>\n",
              "    </tr>\n",
              "  </tbody>\n",
              "</table>\n",
              "</div>\n",
              "      <button class=\"colab-df-convert\" onclick=\"convertToInteractive('df-509f503b-f300-4762-ac6a-c3eb4ab56e50')\"\n",
              "              title=\"Convert this dataframe to an interactive table.\"\n",
              "              style=\"display:none;\">\n",
              "        \n",
              "  <svg xmlns=\"http://www.w3.org/2000/svg\" height=\"24px\"viewBox=\"0 0 24 24\"\n",
              "       width=\"24px\">\n",
              "    <path d=\"M0 0h24v24H0V0z\" fill=\"none\"/>\n",
              "    <path d=\"M18.56 5.44l.94 2.06.94-2.06 2.06-.94-2.06-.94-.94-2.06-.94 2.06-2.06.94zm-11 1L8.5 8.5l.94-2.06 2.06-.94-2.06-.94L8.5 2.5l-.94 2.06-2.06.94zm10 10l.94 2.06.94-2.06 2.06-.94-2.06-.94-.94-2.06-.94 2.06-2.06.94z\"/><path d=\"M17.41 7.96l-1.37-1.37c-.4-.4-.92-.59-1.43-.59-.52 0-1.04.2-1.43.59L10.3 9.45l-7.72 7.72c-.78.78-.78 2.05 0 2.83L4 21.41c.39.39.9.59 1.41.59.51 0 1.02-.2 1.41-.59l7.78-7.78 2.81-2.81c.8-.78.8-2.07 0-2.86zM5.41 20L4 18.59l7.72-7.72 1.47 1.35L5.41 20z\"/>\n",
              "  </svg>\n",
              "      </button>\n",
              "      \n",
              "  <style>\n",
              "    .colab-df-container {\n",
              "      display:flex;\n",
              "      flex-wrap:wrap;\n",
              "      gap: 12px;\n",
              "    }\n",
              "\n",
              "    .colab-df-convert {\n",
              "      background-color: #E8F0FE;\n",
              "      border: none;\n",
              "      border-radius: 50%;\n",
              "      cursor: pointer;\n",
              "      display: none;\n",
              "      fill: #1967D2;\n",
              "      height: 32px;\n",
              "      padding: 0 0 0 0;\n",
              "      width: 32px;\n",
              "    }\n",
              "\n",
              "    .colab-df-convert:hover {\n",
              "      background-color: #E2EBFA;\n",
              "      box-shadow: 0px 1px 2px rgba(60, 64, 67, 0.3), 0px 1px 3px 1px rgba(60, 64, 67, 0.15);\n",
              "      fill: #174EA6;\n",
              "    }\n",
              "\n",
              "    [theme=dark] .colab-df-convert {\n",
              "      background-color: #3B4455;\n",
              "      fill: #D2E3FC;\n",
              "    }\n",
              "\n",
              "    [theme=dark] .colab-df-convert:hover {\n",
              "      background-color: #434B5C;\n",
              "      box-shadow: 0px 1px 3px 1px rgba(0, 0, 0, 0.15);\n",
              "      filter: drop-shadow(0px 1px 2px rgba(0, 0, 0, 0.3));\n",
              "      fill: #FFFFFF;\n",
              "    }\n",
              "  </style>\n",
              "\n",
              "      <script>\n",
              "        const buttonEl =\n",
              "          document.querySelector('#df-509f503b-f300-4762-ac6a-c3eb4ab56e50 button.colab-df-convert');\n",
              "        buttonEl.style.display =\n",
              "          google.colab.kernel.accessAllowed ? 'block' : 'none';\n",
              "\n",
              "        async function convertToInteractive(key) {\n",
              "          const element = document.querySelector('#df-509f503b-f300-4762-ac6a-c3eb4ab56e50');\n",
              "          const dataTable =\n",
              "            await google.colab.kernel.invokeFunction('convertToInteractive',\n",
              "                                                     [key], {});\n",
              "          if (!dataTable) return;\n",
              "\n",
              "          const docLinkHtml = 'Like what you see? Visit the ' +\n",
              "            '<a target=\"_blank\" href=https://colab.research.google.com/notebooks/data_table.ipynb>data table notebook</a>'\n",
              "            + ' to learn more about interactive tables.';\n",
              "          element.innerHTML = '';\n",
              "          dataTable['output_type'] = 'display_data';\n",
              "          await google.colab.output.renderOutput(dataTable, element);\n",
              "          const docLink = document.createElement('div');\n",
              "          docLink.innerHTML = docLinkHtml;\n",
              "          element.appendChild(docLink);\n",
              "        }\n",
              "      </script>\n",
              "    </div>\n",
              "  </div>\n",
              "  "
            ]
          },
          "metadata": {},
          "execution_count": 84
        }
      ]
    },
    {
      "cell_type": "markdown",
      "source": [
        "### Adición y eliminación de atributos y observaciones ###\n",
        "Este método elimina las filas o columnas especificadas por las etiquetas y el eje correspondiente, o aquellas especificadas por el índice o los nombres de las columnas directamente."
      ],
      "metadata": {
        "id": "NHLbY5GZYkku"
      }
    },
    {
      "cell_type": "code",
      "source": [
        "df.drop(['Currency'],axis=1)"
      ],
      "metadata": {
        "id": "PKL-CLYsrXRK"
      },
      "execution_count": null,
      "outputs": []
    },
    {
      "cell_type": "code",
      "source": [
        "pd.DataFrame.from_dict({'Currency': ['USD','EUR','GBP'],'ValueInINR':[70, 89, 99]})"
      ],
      "metadata": {
        "id": "Dlc0dL0DrbJS"
      },
      "execution_count": null,
      "outputs": []
    },
    {
      "cell_type": "markdown",
      "source": [
        "## Combinando datos ##"
      ],
      "metadata": {
        "id": "a6FJSGu454Xi"
      }
    },
    {
      "cell_type": "code",
      "source": [
        "products = {'CampaignYear': [2015, 2016, 2017, 2018, 2019 , 2020, 2021],\n",
        "        'ProductPrice': [199, 199, 199, 299, 299, 349, 349 ],\n",
        "        'ProductVersion': ['v1', 'v1', 'v1', 'v2', 'v2', 'v2', 'v3']\n",
        "        }\n",
        "df_products = pd.DataFrame(products, columns = ['CampaignYear', 'ProductPrice', 'ProductVersion'])\n",
        "df_products"
      ],
      "metadata": {
        "id": "EuUzmcSd6EVZ"
      },
      "execution_count": null,
      "outputs": []
    },
    {
      "cell_type": "code",
      "source": [
        "revenue = {'CampaignYear': [ 2016, 2017, 2018, 2019 , 2020, 2021],\n",
        "        'Revenue': [9473, 8422, 9987, 7994, 9530, 9444 ]\n",
        "        }\n",
        "df_revenue = pd.DataFrame(revenue, columns = ['CampaignYear', 'Revenue'])\n",
        "df_revenue"
      ],
      "metadata": {
        "id": "jas5oRjj6bNi"
      },
      "execution_count": null,
      "outputs": []
    },
    {
      "cell_type": "code",
      "source": [
        "# merge\n",
        "df_combined = pd.merge(df_products, df_revenue)\n",
        "df_combined"
      ],
      "metadata": {
        "id": "BpsKghWb6sqZ"
      },
      "execution_count": null,
      "outputs": []
    },
    {
      "cell_type": "markdown",
      "source": [],
      "metadata": {
        "id": "fsR1CTgvaFXB"
      }
    },
    {
      "cell_type": "code",
      "source": [
        "df_combined_outer = pd.merge(df_products, df_revenue, \\\n",
        "                             how = 'outer')\n",
        "df_combined_inner = pd.merge(df_products, df_revenue, \\\n",
        "                             how = 'inner')\n",
        "df_combined_left = pd.merge(df_products, df_revenue, \\\n",
        "                            how = 'left')\n",
        "df_combined_right = pd.merge(df_products, df_revenue, \\\n",
        "                             how = 'right')"
      ],
      "metadata": {
        "id": "5Lz8OwjR6tQZ"
      },
      "execution_count": null,
      "outputs": []
    },
    {
      "cell_type": "markdown",
      "source": [
        "\n",
        "<figure>\n",
        "<center>\n",
        "<img src='https://drive.google.com/uc?export=view&id=1593LzZWrxA2RCdDrH1ds7McRy6QjEGas' width=\"800\" />\n",
        "</center>\n",
        "</figure>\n",
        "\n"
      ],
      "metadata": {
        "id": "oRTV0EmGZ3fg"
      }
    },
    {
      "cell_type": "code",
      "source": [
        "df_combined_inner"
      ],
      "metadata": {
        "id": "QVn3-16Q7CUV"
      },
      "execution_count": null,
      "outputs": []
    },
    {
      "cell_type": "markdown",
      "source": [
        "\n",
        "<figure>\n",
        "<center><img src='https://drive.google.com/uc?export=view&id=1RiJacA5oIwrZXnCAaUyDo91QvsJgPMsh' width=\"800\" />\n",
        "<figcaption>Figura 1.6: Tabla que describe los diferentes tipos de joins</figcaption></center>\n",
        "</figure>\n",
        "\n",
        "\n",
        "<figure>\n",
        "<center><img src='https://drive.google.com/uc?export=view&id=1a5xJ6oKnr_n_URmfl_tfNvIOg12sH5FL' width=\"800\" />\n",
        "<figcaption>Figura 1.7: Resultados de los DataFrames con diferentes tipos de joins</figcaption></center>\n",
        "</figure>\n",
        "\n",
        "\n",
        "\n"
      ],
      "metadata": {
        "id": "01d7vJMV7uOg"
      }
    },
    {
      "cell_type": "markdown",
      "source": [
        "## Manejo de datos faltantes  ##\n",
        "\n",
        "Como analista de marketing, encontrará muchos datos con valores faltantes. Por ejemplo, supongamos que se une a una tabla de categorías de productos con una tabla de audiencia de anuncios. Al fusionar estos dos, es posible que no todas las categorías de productos tengan un valor correspondiente en la tabla de visualización de anuncios. Por ejemplo, si una empresa no publicó anuncios de ropa de invierno en países tropicales, faltarían los valores de esos productos en la tabla de visualización de anuncios. Estos casos son bastante comunes cuando se trata de datos del mundo real."
      ],
      "metadata": {
        "id": "lqPozc8-9M8A"
      }
    },
    {
      "cell_type": "code",
      "source": [
        "import pandas as pd\n",
        "!rm -rf viewers.json\n",
        "!curl https://raw.githubusercontent.com/limspiga/customer-analytics/main/week-1a/viewers.json -O\n",
        "df = pd.read_json(\"viewers.json\")\n",
        "df"
      ],
      "metadata": {
        "id": "slYkXxO4Pqq1"
      },
      "execution_count": null,
      "outputs": []
    },
    {
      "cell_type": "code",
      "source": [
        "df = pd.read_json(\"viewers.json\")\n",
        "df = df.fillna(df.mean()) # promedio de cost\n",
        "df"
      ],
      "metadata": {
        "id": "Z0vZmYe6Bkvr"
      },
      "execution_count": null,
      "outputs": []
    },
    {
      "cell_type": "code",
      "source": [
        "df = pd.read_json(\"viewers.json\")\n",
        "df=df.fillna(df.median()) # mediana de cost\n",
        "df"
      ],
      "metadata": {
        "id": "3ARfSehGC7G-"
      },
      "execution_count": null,
      "outputs": []
    },
    {
      "cell_type": "code",
      "source": [
        "df = pd.read_json(\"viewers.json\")\n",
        "df=df.dropna()\n",
        "df"
      ],
      "metadata": {
        "id": "AMzweqroB9x6"
      },
      "execution_count": null,
      "outputs": []
    },
    {
      "cell_type": "code",
      "source": [
        "df = pd.read_json(\"viewers.json\")\n",
        "df = df.fillna(-1)\n",
        "df"
      ],
      "metadata": {
        "id": "BWjNy12GCtb-"
      },
      "execution_count": null,
      "outputs": []
    },
    {
      "cell_type": "code",
      "source": [
        "df = pd.read_json(\"viewers.json\")\n",
        "df.isnull()"
      ],
      "metadata": {
        "id": "rl-3GxdCFHCL"
      },
      "execution_count": null,
      "outputs": []
    },
    {
      "cell_type": "code",
      "source": [
        "# Usando la función isna \n",
        "df = pd.read_json(\"viewers.json\")\n",
        "df[['cost']].isna #?\n",
        "\n"
      ],
      "metadata": {
        "id": "n2tMD6GhFTAU"
      },
      "execution_count": null,
      "outputs": []
    },
    {
      "cell_type": "markdown",
      "source": [
        "## Ejercicio 1.03: Combinación de DataFrames y manejo de valores perdidos ##\n",
        "\n",
        "Como parte de su próxima campaña navideña, la empresa deseaba entender el costo de adquisición de clientes para un sitio web de comercio electrónico especializado en juguetes para niños. Como analista de marketing, ahora debe buscar en los registros históricos de la campaña anterior y sugerir el presupuesto de marketing para la campaña actual.\n",
        "\n",
        "En este ejercicio, importará dos archivos CSV, timeSpent.csv y cost.csv, en los DataFrames df1 y df2. El DataFrame df1 tiene los detalles de los usuarios, junto con el tiempo que pasan en el sitio web. El df2 DataFrame consiste en el costo de adquisición de un usuario.\n",
        "\n",
        "Combinará el DataFrame que contiene el tiempo dedicado por los usuarios con el otro DataFrame que contiene el costo de adquisición del usuario. Combinará ambos DataFrames para tener una idea del comportamiento del usuario."
      ],
      "metadata": {
        "id": "wmM38PqiF23k"
      }
    },
    {
      "cell_type": "code",
      "source": [
        "import pandas as pd\n",
        "\n",
        "# Load the CSV files into the DataFrames df1 and df2:\n",
        "!curl https://raw.githubusercontent.com/limspiga/customer-analytics/main/week-1a/timeSpent.csv -O\n",
        "!curl https://raw.githubusercontent.com/limspiga/customer-analytics/main/week-1a/cost.csv -O\n",
        "\n",
        "df1 = pd.read_csv(\"timeSpent.csv\") \n",
        "df2 = pd.read_csv(\"cost.csv\")\n",
        "\n",
        "# 3. Examinamos las primeras filas del primer DataFrame usando head()\n",
        "df1.head()"
      ],
      "metadata": {
        "id": "x6LuwfU3GkUj"
      },
      "execution_count": null,
      "outputs": []
    },
    {
      "cell_type": "code",
      "source": [
        "# 4. A continuación, observamos las primeras filas del segundo conjunto de datos:\n",
        "df2.head()"
      ],
      "metadata": {
        "id": "uHZCRCFVJlUI"
      },
      "execution_count": null,
      "outputs": []
    },
    {
      "cell_type": "code",
      "source": [
        "# 5. Hacer una combinación izquierda de df1 con df2 y almacenar la salida en un DataFrame,\n",
        "# df. Usar una combinación izquierda ya que solo nos interesan los usuarios que están gastando\n",
        "# tiempo en el sitio web. Especifique la clave de unión como \"users\":\n",
        "df = df1.merge(df2, on=\"users\", how=\"left\")\n",
        "df"
      ],
      "metadata": {
        "id": "OsGR8oHVJpGp"
      },
      "execution_count": null,
      "outputs": []
    },
    {
      "cell_type": "code",
      "source": [
        "# Observará algunos valores faltantes (NaN) en el resultado anterior.\n",
        "# Este tipo de escenarios son muy comunes, ya que es posible que no puedas capturar algunos\n",
        "# detalles relacionados con los usuarios. Esto se puede atribuir al hecho de que\n",
        "# algunos usuarios visitaron el sitio web de forma orgánica y, por lo tanto, el costo de adquisición\n",
        "# es cero.\n",
        "df = df.fillna(0)\n",
        "df"
      ],
      "metadata": {
        "id": "s1drYIz5JFW_"
      },
      "execution_count": null,
      "outputs": []
    },
    {
      "cell_type": "code",
      "source": [
        "# Ahora, el DataFrame no tiene valores faltantes y puede calcular el promedio\n",
        "# costo de adquisición junto con el tiempo promedio empleado.\n",
        "# Para calcular el valor promedio, usará la función incorporada describe,\n",
        "# que da las estadísticas de las columnas numéricas en el DataFrame.\n",
        "df.describe()"
      ],
      "metadata": {
        "id": "5uxl3N36KiXG"
      },
      "execution_count": null,
      "outputs": []
    },
    {
      "cell_type": "markdown",
      "source": [
        "De la captura de pantalla anterior, puede deducir que el costo promedio de adquisición de un usuario es **$9.25** y, en promedio, un usuario pasa alrededor de **89 segundos** en el sitio web. Basado en el tráfico que desea atraer para el próximo  temporada de vacaciones, ahora puede calcular el presupuesto de marketing utilizando la siguiente fórmula\n",
        "\n",
        "    Presupuesto de marketing = Número de usuarios * Costo de adquisición\n",
        "\n",
        "En este ejercicio, ha tratado con éxito los valores faltantes en sus datos. Hay en cuenta que manejar valores faltantes es más un arte que una ciencia y cada escenario puede ser diferente. En la siguiente sección, aprenderá cómo para aplicar funciones y operaciones en un DataFrame."
      ],
      "metadata": {
        "id": "xAB1i50gdWu3"
      }
    },
    {
      "cell_type": "markdown",
      "source": [
        "##  Aplicación de funciones y operaciones en tramas de datos ##\n",
        "\n",
        "De forma predeterminada, las operaciones en todos los objetos pandas son por elementos y devuelven el mismo tipo de objetos pandas. Por ejemplo, mira el siguiente código:\n"
      ],
      "metadata": {
        "id": "3AOwbX0YIhPB"
      }
    },
    {
      "cell_type": "code",
      "source": [
        "# df= pd.DataFrame({'cities': [ ['Delhi','Numbai'],['Lucknow','Bhopal'], ['Chennai','Balgalore'], ['Kolkata','Hyderabad']], \n",
        "#                   'adult_viewers':[2500000, 3500000, 1600000, 200000],\n",
        "#                   'aged_viewers':[2300000, 2800000, 2000000, 200000],\n",
        "#                   'young_viewers':[2000000, 3000000, 1500000, 1500000],\n",
        "#                   })\n",
        "# df.head()\n",
        "\n",
        "!curl https://raw.githubusercontent.com/limspiga/customer-analytics/main/week-1a/cities.json -O\n",
        "df = pd.read_json('cities.json')\n",
        "df"
      ],
      "metadata": {
        "id": "6M8_FWZsLVN6"
      },
      "execution_count": null,
      "outputs": []
    },
    {
      "cell_type": "code",
      "source": [
        "df['viewers']= df['adult_viewers'] + df['aged_viewers'] + df['young_viewers']\n",
        "df"
      ],
      "metadata": {
        "id": "xyqaQyJ1RyX_"
      },
      "execution_count": null,
      "outputs": []
    },
    {
      "cell_type": "code",
      "source": [
        "df['expected clicks'] = 0.03*df['viewers']\n",
        "df"
      ],
      "metadata": {
        "id": "D-RMA-6oR9BC"
      },
      "execution_count": null,
      "outputs": []
    },
    {
      "cell_type": "markdown",
      "source": [
        "<figure>\n",
        "<center><img src='https://drive.google.com/uc?export=view&id=1kN6JdGPzWyeDdJbAYKS1GvqqbS-RjvmJ' width=\"800\" />\n",
        "<figcaption>Figura 1.8: \n",
        "Funciones integradas utilizadas en pandas</figcaption></center>\n",
        "</figure>\n"
      ],
      "metadata": {
        "id": "IBylARcoSs-f"
      }
    },
    {
      "cell_type": "markdown",
      "source": [
        "\n",
        "Para aplicar funciones integradas o personalizadas a pandas, puede utilizar mapas y aplicar funciones. Puede pasar cualquier función integrada, NumPy o personalizada como parámetros a estas funciones y se aplicarán a todos los elementos de la columna.\n",
        "\n",
        "map: map ejecuta una función sobre cada valor presente en la columna. \n"
      ],
      "metadata": {
        "id": "rYdKtVisTvGT"
      }
    },
    {
      "cell_type": "code",
      "source": [
        "# df = pd.read_json(\"viewers.json\")\n",
        "# df\n",
        "\n",
        "# df2= pd.DataFrame({'viewers': [ 'Sushmita', 'Adam', 'Benny', 'Anurag'], \n",
        "#                   'electronics':[42.470696, 31.266056, 265.236086, 17.900529],\n",
        "#                   'food':[14.177886, 209.896774, 0.658621, 192.594603],\n",
        "#                   'furniture':[77.557639, 107.488676, 112.095155, 152.935554],\n",
        "#                   })\n",
        "# df2.head()\n",
        "# df_combined = pd.merge(df, df2)\n",
        "# df_combined\n",
        "\n",
        "# output = df_combined.to_json(orient = 'columns')\n",
        "# print(output)\n",
        "!curl https://raw.githubusercontent.com/limspiga/customer-analytics/main/week-1/viewers_complete.json -O\n",
        "df = pd.read_json('viewers_complete.json')\n",
        "df\n",
        "\n"
      ],
      "metadata": {
        "id": "kjfbazJPUMP_"
      },
      "execution_count": null,
      "outputs": []
    },
    {
      "cell_type": "code",
      "source": [
        "df['Gender']=df['Gender'].map({\"F\":\"Female\",\"M\":\"Male\"})\n",
        "df"
      ],
      "metadata": {
        "id": "N5fbquCrVIoF"
      },
      "execution_count": null,
      "outputs": []
    },
    {
      "cell_type": "markdown",
      "source": [
        "apply: Aplica la función al objeto pasado y devuelve un DataFrame. Puede tomar fácilmente varias columnas como entrada. También acepta el parámetro eje, dependiendo de cómo se vaya a aplicar la función. Por ejemplo, supongamos que en el siguiente DataFrame desea sumar todas las compras realizadas por el usuario en las diferentes categorías y almacenar la suma en una nueva columna:"
      ],
      "metadata": {
        "id": "TcUU65CHVeKk"
      }
    },
    {
      "cell_type": "code",
      "source": [
        "df['purchase'] = df[['electronics','food','furnitu  re']].apply(np.sum,axis=1)\n",
        "df"
      ],
      "metadata": {
        "id": "JpFqqD5SZTz-"
      },
      "execution_count": null,
      "outputs": []
    },
    {
      "cell_type": "markdown",
      "source": [
        "En la captura de pantalla anterior, puede ver que se crea una nueva columna, compra, que es la suma de las columnas de productos electrónicos, alimentos y muebles.\n",
        "\n",
        "## Grouping Data ##\n",
        "\n",
        "Supongamos, según ciertas condiciones, que desea aplicar una función a varias filas de un DataFrame. Por ejemplo, es posible que deba hacerlo cuando desee calcular la suma de los precios de los productos por separado para cada moneda. La forma Pythonic de resolver este problema es dividir el DataFrame en la(s) clave(s) que desea agregar y luego aplicar su función a ese grupo, almacenar los valores y pasar al siguiente grupo. pandas proporciona una mejor manera de hacer esto, utilizando la función groupby."
      ],
      "metadata": {
        "id": "afiQ8OyUZq_Q"
      }
    },
    {
      "cell_type": "code",
      "source": [
        "!curl https://raw.githubusercontent.com/limspiga/customer-analytics/main/week-1a/viewers_complete.json -O\n",
        "df = pd.read_json('viewers_complete.json')\n",
        "df"
      ],
      "metadata": {
        "id": "aRVGrjFRZ5hA"
      },
      "execution_count": null,
      "outputs": []
    },
    {
      "cell_type": "code",
      "source": [
        "df.groupby('Gender')['cost'].sum()"
      ],
      "metadata": {
        "id": "UxQrAN_ZZ93N"
      },
      "execution_count": null,
      "outputs": []
    },
    {
      "cell_type": "markdown",
      "source": [
        "## Ejercicio 1.04: Aplicar transformaciones de datos ##\n",
        "\n",
        "En el **Ejercicio 1.01**, Carga de datos almacenados de archivo JSON  que contenía los detalles de los usuarios de una aplicación de compras. Validar si los datos se cargaron correctamente y proporcionar algunas respuestas sobre la información contenida en ellos.\n",
        "\n",
        "- ¿Cuál es la edad promedio de los usuarios?\n",
        "- ¿Cuál es la fruta favorita de los usuarios?\n",
        "- ¿Tienen más clientes las mujeres?\n",
        "- ¿Cuántos de los usuarios están activos?"
      ],
      "metadata": {
        "id": "9c_8HjifaEo-"
      }
    },
    {
      "cell_type": "code",
      "source": [
        "# 1. Importe el módulo pandas usando el siguiente comando:\n",
        "import pandas as pd"
      ],
      "metadata": {
        "id": "ZNfr00AeeoD5"
      },
      "execution_count": null,
      "outputs": []
    },
    {
      "cell_type": "code",
      "source": [
        "# 2. Lea el archivo user_info.json en un DataFrame de pandas, user_info, usando el siguiente comando:\n",
        "!curl https://raw.githubusercontent.com/limspiga/customer-analytics/main/week-1a/user_info.json -O\n",
        "user_info = pd.read_json('user_info.json')"
      ],
      "metadata": {
        "id": "Zun65vn_eset"
      },
      "execution_count": null,
      "outputs": []
    },
    {
      "cell_type": "code",
      "source": [
        "# 3. Ahora, examine si sus datos se cargaron correctamente al verificar los primeros valores en el DataFrame. \n",
        "# Haz esto usando el comando head():\n",
        "user_info.head()"
      ],
      "metadata": {
        "id": "qppI6QiYe0Nq"
      },
      "execution_count": null,
      "outputs": []
    },
    {
      "cell_type": "code",
      "source": [
        "# 4. Ahora, mire los atributos y los datos dentro de ellos usando el siguiente comando:\n",
        "user_info.info()"
      ],
      "metadata": {
        "id": "9G-TjFkxe9sm"
      },
      "execution_count": null,
      "outputs": []
    },
    {
      "cell_type": "code",
      "source": [
        "# Ahora, comencemos a responder las preguntas:\n",
        "# ¿Cuál es la edad promedio de los usuarios? Para encontrar la edad promedio,\n",
        "# use el siguiente código:\n",
        "user_info['age'].mean()"
      ],
      "metadata": {
        "id": "6dI2zYC4fIqX"
      },
      "execution_count": null,
      "outputs": []
    },
    {
      "cell_type": "code",
      "source": [
        "# ¿Cuál es la fruta favorita de los usuarios? Para responder a esta pregunta,\n",
        "# puede usar la función groupby en la columna de frutas favoritas y obtener un conteo de usuarios con el siguiente código:\n",
        "user_info.groupby('favoriteFruit')['_id'].count()"
      ],
      "metadata": {
        "id": "sxqvQdEkfK9T"
      },
      "execution_count": null,
      "outputs": []
    },
    {
      "cell_type": "code",
      "source": [
        "# ¿Cuántos de los usuarios están activos? Similar a las preguntas anteriores,\n",
        "# puede usar la función groupby en la columna isActive para encontrar la respuesta.\n",
        "# Utilice el siguiente código:\n",
        "user_info.groupby('isActive')['_id'].count()"
      ],
      "metadata": {
        "id": "k_nlFft6fQLx"
      },
      "execution_count": null,
      "outputs": []
    },
    {
      "cell_type": "markdown",
      "source": [
        "Este ejercicio actúa como una breve introducción para aplicar transformaciones de datos, funciones y obtener una descripción general de la agregación, que puede ser útil durante la fase exploratoria de un proyecto."
      ],
      "metadata": {
        "id": "FvTT5cnhfWUS"
      }
    },
    {
      "cell_type": "markdown",
      "source": [
        "## Actividad 1.01: Abordar el spilling (derrame) de datos ##\n",
        "\n",
        "Los datos que recibimos en la mayoría de los casos no están limpios. Habrá problemas como valores faltantes, tipos de datos incorrectos, datos que no se cargaron correctamente en las columnas y más. Como analista de marketing, deberá limpiar estos datos y presentarlos en un formato utilizable para que pueda analizarlos más a fondo y extraer información útil.\n",
        "\n",
        "En esta actividad, ahora resolverá el problema que se encontró en Ejercicio 1.02, Carga de datos de múltiples fuentes. Comenzará cargando sales.csv, que contiene algunos datos históricos de ventas sobre diferentes compras de clientes en las tiendas en los últimos años. Como recordará, los datos cargados en DataFrame no eran correctos ya que los valores de algunas columnas se completaban incorrectamente en otras columnas. El objetivo de esta actividad es limpiar el DataFrame y convertirlo en una forma utilizable."
      ],
      "metadata": {
        "id": "eNesPMxfgZu1"
      }
    },
    {
      "cell_type": "code",
      "source": [
        "# Importar el módulo pandas.\n",
        "\n",
        "# Cargar los datos de sales.csv en un DataFrame separado, llamado sales, y\n",
        "# mirar las primeras filas del DataFrame generado.\n",
        "\n",
        "# Debería obtener el siguiente resultado:"
      ],
      "metadata": {
        "id": "oRjTDrGYgVMq"
      },
      "execution_count": null,
      "outputs": []
    },
    {
      "cell_type": "markdown",
      "source": [
        "<figure>\n",
        "<center><img src='https://drive.google.com/uc?export=view&id=1rn15s2_ujUvQYup3HkJr6r1o0L6PrhJL' width=\"800\" />\n",
        "<figcaption>Figura 1.58: Salida de la función principal sobre ventas.csv</figcaption></center>\n",
        "</figure>\n"
      ],
      "metadata": {
        "id": "FYT0BCRPoTa4"
      }
    },
    {
      "cell_type": "code",
      "source": [
        "# 3. Analizar el tipo de datos de los campos.\n",
        "\n",
        "# 4. Revisar la primera columna. Si el valor de la columna coincide con los valores esperados,\n",
        "# pase a la siguiente columna o arreglarlo con el valor correcto.\n",
        "\n",
        "# 5. Una vez que haya fijado la primera columna, examine las otras columnas una\n",
        "# por una e intente determinar si los valores son correctos.\n"
      ],
      "metadata": {
        "id": "8SoOlEeKshq7"
      },
      "execution_count": null,
      "outputs": []
    },
    {
      "cell_type": "markdown",
      "source": [
        "Una vez que haya limpiado el DataFrame, el resultado final debería aparecer de la siguiente manera:\n",
        "\n",
        "<figure>\n",
        "<center><img src='https://drive.google.com/uc?export=view&id=1nOouhwjM65qpSDlZBIg9fXDXieKE28Va' width=\"800\" />\n",
        "<figcaption>Figura 1.59: Primeras filas del DataFrame estructurado</figcaption></center>\n",
        "</figure>\n",
        "\n"
      ],
      "metadata": {
        "id": "aCtPJc0Ap--T"
      }
    }
  ]
}