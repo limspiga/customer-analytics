{
  "nbformat": 4,
  "nbformat_minor": 0,
  "metadata": {
    "colab": {
      "provenance": [],
      "toc_visible": true
    },
    "kernelspec": {
      "name": "python3",
      "display_name": "Python 3"
    },
    "language_info": {
      "name": "python"
    }
  },
  "cells": [
    {
      "cell_type": "markdown",
      "source": [
        "# 7. Aprendizaje supervisado: predicción de la rotación de clientes\n",
        "\n",
        "El éxito de una empresa depende en gran medida de su capacidad para\n",
        "- atraer nuevos clientes\n",
        "- conservar los existentes. \n",
        "\n",
        "**Churn** se refiere a la situación en la que un **cliente** de una empresa deja de usar su producto y abandona la empresa. \n",
        "\n",
        "Churn puede ser: \n",
        "- abandono de empleados de una empresa, \n",
        "- abandono de clientes de una suscripción móvil, etc. \n",
        "\n",
        "Predecir la rotación de clientes es importante para una organización porque adquirir nuevos clientes es fácil, pero retenerlos es más difícil. \n",
        "\n",
        "La predicción de abandono es uno de los casos de uso más comunes del aprendizaje automático.\n",
        "\n",
        "Para predecir la rotación de clientes, la mayoría de los casos de uso implican tareas de clasificación supervisadas. \n",
        "\n",
        "Es por eso que comenzará este capítulo revisa problemas de clasificación. Luego sobre el algoritmo de regresión logística.\n",
        "\n"
      ],
      "metadata": {
        "id": "wsYvHcpaJ2-W"
      }
    },
    {
      "cell_type": "markdown",
      "source": [
        "# Problemas de clasificación\n",
        "\n",
        "Considere una situación en la que se le ha pedido que construya un modelo para predecir si un producto comprado por un cliente será devuelto o no.\n",
        "\n",
        "Un modelo de regresión dará valores continuos como salida (por ejemplo, 0.1, 100, 100.25, etc.), pero en nuestro estudio de caso solo tenemos dos valores como salida: \n",
        "- se devolverá un producto o \n",
        "- no se devolverá. \n",
        "\n",
        "En tal caso, todos los demás valores serán incorrectos/no válidos. Si bien podemos decir que el producto devuelto se puede considerar como el valor 0, y el producto no devuelto se puede considerar como el valor 1, todavía no podemos definir qué significa un valor de 1,5."
      ],
      "metadata": {
        "id": "0CoJ3AunK3Qh"
      }
    },
    {
      "cell_type": "markdown",
      "source": [
        "En escenarios como estos, los modelos de clasificación entran en escena. \n",
        "- Las tareas de clasificación son diferentes de las tareas de regresión en el sentido de que en las tareas de clasificación,\n",
        "predecimos una etiqueta de clase discreta (por ejemplo, el producto será devuelto o no devuelto), \n",
        "- mientras que, en el caso de regresión, predecimos valores continuos (por ejemplo, el precio de una casa, la edad de una persona y pronto). \n",
        "\n",
        "Otra diferencia notable entre los problemas de clasificación y los problemas de regresión radica en la elección de las métricas de rendimiento. Con problemas de clasificación, la precisión se elige comúnmente como una métrica de **rendimiento**, mientras que la **raíz cuadrática** media es bastante común en el caso de regresión"
      ],
      "metadata": {
        "id": "jbHGGwNcLu_Z"
      }
    },
    {
      "cell_type": "markdown",
      "source": [
        "Hay muchos casos de uso comercial importantes para problemas de clasificación en los que la variable dependiente (también denominada variable objetivo, que es el valor que\n",
        "están tratando de predecir) es discreto, como abandono o detección de fraude. En estos casos, la variable respuesta tiene solo dos valores, es decir, churn o no churn y fraude o no fraude. \n",
        "\n",
        "Por ejemplo, supongamos que queremos predecir si un cliente abandonará $(y = 1)$ o no abandonará $(y = 0)$ después de suscribirse a un contrato de servicio móvil. \n",
        "\n",
        "Aquí, la probabilidad de que un cliente abandone se indica como $p = P(Abandono)$, y la posible variable explicativa $x$ incluye la antigüedad de la cuenta, el monto de facturación actual y el promedio de días de morosidad (es decir, el número promedio de días que una persona pierde realizar su pago). \n",
        "\n",
        "La siguiente figura ilustra cómo funciona una tarea de clasificación supervisada:"
      ],
      "metadata": {
        "id": "4MQ11iBTL-qS"
      }
    },
    {
      "cell_type": "markdown",
      "source": [
        "\n",
        "\n",
        "<figure>\n",
        "<center><img src='https://drive.google.com/uc?export=view&id=1klL0Yma4R0Tw8iiG2CX7W2m8FR7efJWm' width=\"800\" />\n",
        "<figcaption>\n",
        "Figura 7.1: El flujo de trabajo de una tarea de clasificación supervisada</figcaption></center>\n",
        "</figure>\n"
      ],
      "metadata": {
        "id": "nqKJmT5nMVIt"
      }
    },
    {
      "cell_type": "markdown",
      "source": [
        "Como supervisor, proporcionamos al modelo las variables $(x,y)$, lo que permite al modelo calculer el parámetro theta $\\theta$. Este parámetro se aprende de los datos de entrenamiento y también se denomina coeficiente. $x$ incluye las variables explicativas y\n",
        "$y$ es la etiqueta de destino que proporcionamos al modelo para que el modelo aprenda los parámetros. Usando esto, el modelo produce una función $h(\\theta)$, que asigna la entrada $x$ a una predicción $h_\\theta(x)$."
      ],
      "metadata": {
        "id": "wHwFFrb4Mbrm"
      }
    },
    {
      "cell_type": "markdown",
      "source": [
        "Para el estudio de caso de predicción de abandono, \n",
        "- $x$ se referirá a los atributos del cliente, que se introducirán en la función de mapeo $h(\\theta)$ para predecir la probabilidad de abandono del cliente (variable objetivo $y$).\n",
        "\n",
        "Los problemas de clasificación generalmente se pueden dividir en dos tipos:\n",
        "- Clasificación binaria: la variable de destino solo puede tener dos valores categóricos o clases. Por ejemplo, dada una imagen, clasificar si es un gato o no.\n",
        "- Clasificación multiclase: la variable de destino puede tener varias clases. Por ejemplo, dada una imagen, clasifique si es un gato, un perro, un conejo o un pájaro.\n"
      ],
      "metadata": {
        "id": "2_Z1qr-CMgsB"
      }
    },
    {
      "cell_type": "markdown",
      "source": [
        "#### Comprender la regresión logística\n",
        "La regresión logística es uno de los métodos de clasificación más utilizados y funciona bien cuando los datos son linealmente separables. El objetivo de la regresión logística es\n",
        "para aplastar la salida de la regresión lineal a las clases 0 y 1. \n"
      ],
      "metadata": {
        "id": "QVLigrWMMqQc"
      }
    },
    {
      "cell_type": "markdown",
      "source": [
        "\n",
        "## Revisando la regresión lineal\n",
        "\n",
        "En el caso de la regresión lineal, nuestra función de mapeo sería la siguiente:\n",
        "<h1><center>\n",
        "\n",
        "$h_\\theta(x) = \\theta_o + \\theta_1 * x$\n",
        "\n",
        "Figura 7.2: Ecuación de regresión lineal\n",
        "</center></h1>\n",
        "\n",
        "Aquí, $x$ se refiere a los datos de entrada, $\\theta_0$ y $\\theta_1$ son parámetros que se aprenden de los datos de entrenamiento.\n",
        "\n",
        "<!-- revisar este punto del capitulo anterior???  -->\n",
        "Además, la **función de costo en el caso de la regresión lineal**, que debe minimizarse, es la raíz del error cuadrático medio (RMSE), que analizamos en el capítulo anterior."
      ],
      "metadata": {
        "id": "mhXxYVYOMsMs"
      }
    },
    {
      "cell_type": "markdown",
      "source": [
        "Esto funciona bien para datos continuos, pero el problema surge cuando tenemos una variable objetivo categórica, como 0 ó 1. Cuando tratamos de usar la regresión lineal\n",
        "para predecir la variable objetivo, podemos obtener un valor entre −$\\infty$ y +$\\infty$, que no es lo que necesitamos. \n",
        "<!-- necesitamos un 0 ó un 1 -->\n",
        "\n",
        "Ahora que sabemos por qué no se puede usar la regresión lineal en tareas de clasificación, comprendamos cómo se puede usar la regresión logística como modelo de clasificación."
      ],
      "metadata": {
        "id": "hY--JiImNXPr"
      }
    },
    {
      "cell_type": "markdown",
      "source": [
        "# Regresión logística\n",
        "\n",
        "Si una variable de respuesta tiene valores binarios, los supuestos de regresión lineal no son válidos por las siguientes razones:\n",
        "\n",
        "- La relación entre la variable independiente y la variable predictora no es lineal.\n",
        "- Los términos de error son heteroscedásticos. Recuerde que heteroscedástico significa que la varianza de los términos de error no es la misma en todo el rango de x (datos de entrada).\n",
        "- Los términos de error no se distribuyen normalmente.\n",
        "\n",
        "Si procedemos, considerando estas violaciones, los resultados serían los siguientes:\n",
        "\n",
        "- Las probabilidades pronosticadas pueden ser mayores que 1 o menores que 0.\n",
        "- La magnitud de los efectos de las variables independientes puede estar subestimada.\n",
        "\n",
        "Con la regresión logística, estamos interesados ​​en modelar la media de la variable de respuesta, $p$, en términos de una variable explicativa, $x$, como un modelo probabilístico en términos de la razón de posibilidades. La razón de posibilidades es la relación de dos probabilidades: la probabilidad de que ocurra el evento y la probabilidad de que no ocurra. Una razón de probabilidades alta significa que las posibilidades de que ocurra el evento son altas. De manera similar, un evento que ocurre raramente tendrá una razón de probabilidad baja. Una fórmula de modelo de regresión logística simple, que utiliza el concepto de razón de probabilidades, es la siguiente:"
      ],
      "metadata": {
        "id": "qUyAvYHXN9Pa"
      }
    },
    {
      "cell_type": "markdown",
      "source": [
        "<center>\n",
        "$logit(p)= log(\\frac{p}{1-p}) =  \\theta_0 + \\theta_1 *  x_1 + \\theta_2 *  x_2 + \\theta_3 *  x_3 ... $\n",
        "\n",
        "donde, $p$ es la probabilidad que un evento ocurra $p(y=1)$\n",
        "\n",
        "$(\\frac{p}{1-p})$ es la razón impar\n",
        "\n",
        "$log(\\frac{p}{1-p})$es el registro de probabilidades, o $logit$.\n",
        "\n",
        "Figura 7.3: Fórmula del modelo de regresión logística simple\n",
        "</center>\n",
        "\n",
        "\n",
        "\n"
      ],
      "metadata": {
        "id": "sguKKiQ8OP0D"
      }
    },
    {
      "cell_type": "markdown",
      "source": [
        "\n",
        "Con la regresión logística, todavía usamos la fórmula de regresión lineal. Sin embargo, aplastaremos la salida de la función lineal a un rango de 0 y 1 usando la función sigmoidea. La función sigmoidea es la inversa de la función logit:"
      ],
      "metadata": {
        "id": "Af4E0ItsQSXJ"
      }
    },
    {
      "cell_type": "markdown",
      "source": [
        "<h1><center>\n",
        "\n",
        "$ p =g(z) = \\frac{1}{1+e^{-z} }$\n",
        "\n",
        "Figura 7.4: Función sigmoidea\n",
        "</center></h1>\n",
        "\n",
        "\n",
        "\n",
        "<h1><center>\n",
        "\n",
        "$ h_\\theta(x) = \\theta_0 + \\theta_1 *  x_1 + \\theta_2 *  x_2 + \\theta_3 *  x_3 ...$\n",
        "\n",
        "tomando $ (\\theta_0 + \\theta_1 *  x_1 + \\theta_2 *  x_2 + \\theta_3 *  x_3 ...) $ como $\\theta^Tx $\n",
        "\n",
        "\n",
        "$ g(\\theta^Tx) = \\frac{1}{1+e^{-\\theta^Tx} }$\n",
        "\n",
        "Figura 7.5: Aplastamiento de salida de ecuación lineal usando sigmoide\n",
        "</center></h1>\n",
        "\n",
        "Aquí, $z$ es cualquier número real.\n",
        "Aplaste la salida de la ecuación lineal de la siguiente manera:\n",
        "\n",
        "Aquí, tomamos la salida de hθ(x) y se la damos a la función g(z), que devuelve la función aplastada en el rango de 0 a 1.\n",
        "Si ahora tratamos de trazar la función sigmoidea, terminaremos con una curva en forma de S, como se muestra en la Figura 7.6:\n",
        "\n",
        "<figure>\n",
        "<center><img src='https://drive.google.com/uc?export=view&id=1sgSAEVOXdUyKuwXeDnNysUS16Lagd4Mu' width=\"300\" />\n",
        "<figcaption>\n",
        "Figura 7.6: Gráfico de la función sigmoidea</figcaption></center>\n",
        "</figure>\n",
        "\n"
      ],
      "metadata": {
        "id": "UmGrdAn3QSUi"
      }
    },
    {
      "cell_type": "markdown",
      "source": [
        "Del gráfico anterior, es evidente que la función sigmoidea aplasta los valores\n",
        "de −10 a +10 entre 0 y 1, mientras que la función lineal no puede hacerlo.\n",
        "Hasta ahora, hemos cubierto el concepto de la función sigmoidea. Sin embargo, todavía tenemos que discutir la función de costo que podemos usar aquí. Todos los algoritmos de aprendizaje automático tienen como objetivo minimizar el valor de la función de costo para encontrar el mejor ajuste. También discutimos por qué RMSE no es una buena función de costo en el caso de las tareas de clasificación. Analicemos la función de costo utilizada en la regresión logística en la siguiente sección.\n",
        "\n",
        "### Función de costo para regresión logística\n",
        "\n",
        "La función sigmoidea que describimos anteriormente contiene un término no lineal. Debemos convertirlo en un término lineal, de lo contrario tendríamos una función compleja que sería difícil de optimizar. La función de costo de la regresión logística se puede definir\n",
        "como sigue:"
      ],
      "metadata": {
        "id": "TRevSYjqS7U9"
      }
    },
    {
      "cell_type": "markdown",
      "source": [
        "Aquí, tomamos la salida de $h\\theta_0(x)$ y se la damos a la función $g(z)$, que devuelve la función aplastada en el rango de 0 a 1.\n",
        "Si ahora tratamos de trazar la función sigmoidea, terminaremos con una curva en forma de S, como se muestra en la Figura 7.6:"
      ],
      "metadata": {
        "id": "uElc8Sg1RHSR"
      }
    },
    {
      "cell_type": "markdown",
      "source": [
        "<center>\n",
        "$ cost  (g(\\theta^Tx), y) =\n",
        "\\biggl\\{\n",
        "    \\begin{array}{l}\n",
        "        -log(g(\\theta^Tx)) y = 1\\\\\n",
        "        -log(1 - g(\\theta^Tx)) y = 0\n",
        "    \\end{array}\n",
        "$ \n",
        "\n",
        "Figura 7.7: Función de costo de regresión logística\n",
        "</center>"
      ],
      "metadata": {
        "id": "cRQOOdJBTwm1"
      }
    },
    {
      "cell_type": "markdown",
      "source": [
        "Es fácil para el algoritmo optimizar la función de costo cuando tenemos un término lineal (vea la gráfica a la izquierda en la siguiente figura), mientras que se vuelve difícil para el algoritmo optimizar si nuestra función de costo no es lineal (vea la gráfico a la derecha en la siguiente figura):"
      ],
      "metadata": {
        "id": "2Z0StIk6WHsG"
      }
    },
    {
      "cell_type": "markdown",
      "source": [
        "\n",
        "<figure>\n",
        "<center><img src='https://drive.google.com/uc?export=view&id=15_yUjiEfxzNOzLYQFpbXqeIc8a40ioHd' width=\"500\" />\n",
        "<figcaption>\n",
        "\n",
        "Figura 7.8: Diferencia entre parcelas con términos lineales y no lineales</figcaption></center>\n",
        "</figure>\n"
      ],
      "metadata": {
        "id": "QNiAwWX_WaRy"
      }
    },
    {
      "cell_type": "markdown",
      "source": [
        "Después de convertir nuestra función de costo $(J(\\theta))$ para la regresión logística a un término lineal, finalmente obtenemos la siguiente ecuación:\n"
      ],
      "metadata": {
        "id": "6wZogIEqWe4b"
      }
    },
    {
      "cell_type": "markdown",
      "source": [
        "<h1><center>\n",
        "\n",
        "$j(\\theta) = - \\frac{1}{\\text{no of rows}} \\sum_{i=0}^{i = \\text{no of rows}} y^i* log(g(\\theta^Tx)+(1-y^i)*log(1 - g(\\theta^Tx))$\n",
        "\n",
        "Figure 7.9: Optimized logistic regression cost function\n",
        "</center></h1>"
      ],
      "metadata": {
        "id": "iIvJOrLiYKti"
      }
    },
    {
      "cell_type": "markdown",
      "source": [
        "Aquí, $\\theta$ es el parámetro que el modelo aprende de los datos de entrenamiento. Ahora que hemos cubierto tanto la función de mapeo como la función de costo para la regresión logística, repasemos los supuestos del algoritmo de regresión logística, que nos ayudarán a comprender los escenarios en los que se puede aplicar."
      ],
      "metadata": {
        "id": "3utFCMNFWzqh"
      }
    },
    {
      "cell_type": "markdown",
      "source": [
        "### Supuestos de regresión logística\n",
        "\n",
        "Los siguientes son los supuestos del algoritmo de regresión logística:\n",
        "- A diferencia de la regresión lineal, la regresión logística no asume linealidad entre\n",
        "las variables independientes (x) y la variable objetivo (y).\n",
        "- La variable dependiente debe ser binaria (es decir, tener dos categorías).\n",
        "- La variable independiente no necesita tener intervalos, estar normalmente distribuida, linealmente relacionada o tener la misma varianza dentro de cada grupo.\n",
        "- Las categorías deben ser mutuamente excluyentes y exhaustivas."
      ],
      "metadata": {
        "id": "VByIBfTeW62B"
      }
    },
    {
      "cell_type": "markdown",
      "source": [
        "Ahora que hemos repasado la teoría y los supuestos de la regresión logística, veamos cómo podemos implementarla usando el módulo scikit-learn. Estos son los pasos que debemos seguir:"
      ],
      "metadata": {
        "id": "zILT8bj4bAET"
      }
    },
    {
      "cell_type": "markdown",
      "source": [
        "1. Importe el módulo linear_model de scikit-learn:"
      ],
      "metadata": {
        "id": "9OFTRXQDbFV7"
      }
    },
    {
      "cell_type": "code",
      "source": [
        "from sklearn import linear_model"
      ],
      "metadata": {
        "id": "Tj7aKK3zbDlS"
      },
      "execution_count": null,
      "outputs": []
    },
    {
      "cell_type": "markdown",
      "source": [
        "\n",
        "2. Cree un modelo de regresión logística:"
      ],
      "metadata": {
        "id": "PVXWF69LbPZm"
      }
    },
    {
      "cell_type": "code",
      "source": [
        "logit = linear_model.LogisticRegression()"
      ],
      "metadata": {
        "id": "nTxMZbYAbTRV"
      },
      "execution_count": null,
      "outputs": []
    },
    {
      "cell_type": "markdown",
      "source": [
        "3. A continuación, podemos entrenar el modelo en el conjunto de datos de entrenamiento de la siguiente manera:"
      ],
      "metadata": {
        "id": "NUS7nd3obW4I"
      }
    },
    {
      "cell_type": "code",
      "source": [
        "# logit.fit(X_train,y_train)"
      ],
      "metadata": {
        "id": "euTdtmPJbbmV"
      },
      "execution_count": null,
      "outputs": []
    },
    {
      "cell_type": "markdown",
      "source": [
        "4. Finalmente, similar a la regresión lineal, podemos usar logit.predict(X) para hacer predicciones para un valor específico. Además, podemos usar logit.score(X_train,y_train) para obtener el puntaje de entrenamiento y logit.score(X_test,y_test) para obtener el puntaje de prueba para el modelo entrenado."
      ],
      "metadata": {
        "id": "9wGs0vlXbijP"
      }
    },
    {
      "cell_type": "markdown",
      "source": [
        "En las secciones anteriores, hemos discutido los supuestos junto con la función de mapeo y la función de costo de la regresión logística. También vimos cómo implementar la regresión logística usando la biblioteca scikit-learn en Python. Ahora es el momento de usar estos conceptos en el enunciado de un problema de la vida real."
      ],
      "metadata": {
        "id": "yYpGlBpAbvs6"
      }
    },
    {
      "cell_type": "markdown",
      "source": [
        "## Ejercicio 7.01: Comparación de predicciones por regresión lineal y logística en el conjunto de datos Shill Bidding\n",
        "\n",
        "Considere el conjunto de datos `Shill_Bidding_Dataset.csv`, que contiene detalles sobre las subastas realizadas para varios productos en eBay.com. \n",
        "\n",
        "La columna de destino, Clase, proporciona información sobre el comportamiento de licitación, siendo 0 un comportamiento normal y 1 un comportamiento anormal. \n",
        "\n",
        "El comportamiento anormal puede ser similar a los clics maliciosos o las ofertas automáticas. Se le ha pedido que desarrolle un modelo de aprendizaje automático que pueda predecir si el comportamiento de las ofertas en una subasta en particular es normal $0$ ó no $1$. \n",
        "\n",
        "Aplique la regresión lineal y logística para predecir el resultado y verifique cuál de ellos es útil en esta situación:"
      ],
      "metadata": {
        "id": "kMTKUrte_ZZ3"
      }
    },
    {
      "cell_type": "markdown",
      "source": [
        "1. Importe las bibliotecas pandas, numpy, sklearn y matplotlib usando el siguiente código:"
      ],
      "metadata": {
        "id": "ZrNWP_VpASxU"
      }
    },
    {
      "cell_type": "code",
      "source": [
        "import pandas as pd\n",
        "import numpy as np\n",
        "from sklearn.model_selection import train_test_split\n",
        "from sklearn import linear_model\n",
        "import matplotlib.pyplot as plt"
      ],
      "metadata": {
        "id": "taW8I35GAaka"
      },
      "execution_count": 1,
      "outputs": []
    },
    {
      "cell_type": "markdown",
      "source": [
        "2. Cree un nuevo DataFrame y asígnele el nombre `data`."
      ],
      "metadata": {
        "id": "0R-uNcSAELQY"
      }
    },
    {
      "cell_type": "code",
      "source": [
        "!curl https://raw.githubusercontent.com/limspiga/customer-analytics/main/week-5a/Shill_Bidding_Dataset.csv -O\n",
        "data = pd.read_csv(\"Shill_Bidding_Dataset.csv\")\n",
        "data.head()"
      ],
      "metadata": {
        "colab": {
          "base_uri": "https://localhost:8080/",
          "height": 322
        },
        "id": "xNV1kaELEfKu",
        "outputId": "9392d98f-1aaf-452b-8b7a-fb2b5a97cbe9"
      },
      "execution_count": 2,
      "outputs": [
        {
          "output_type": "stream",
          "name": "stdout",
          "text": [
            "  % Total    % Received % Xferd  Average Speed   Time    Time     Time  Current\n",
            "                                 Dload  Upload   Total   Spent    Left  Speed\n",
            "\r  0     0    0     0    0     0      0      0 --:--:-- --:--:-- --:--:--     0\r100  537k  100  537k    0     0  2673k      0 --:--:-- --:--:-- --:--:-- 2673k\n"
          ]
        },
        {
          "output_type": "execute_result",
          "data": {
            "text/plain": [
              "   Record_ID  Auction_ID Bidder_ID  Bidder_Tendency  Bidding_Ratio  \\\n",
              "0          1         732     _***i         0.200000       0.400000   \n",
              "1          2         732     g***r         0.024390       0.200000   \n",
              "2          3         732     t***p         0.142857       0.200000   \n",
              "3          4         732     7***n         0.100000       0.200000   \n",
              "4          5         900     z***z         0.051282       0.222222   \n",
              "\n",
              "   Successive_Outbidding  Last_Bidding  Auction_Bids  Starting_Price_Average  \\\n",
              "0                    0.0      0.000028           0.0                0.993593   \n",
              "1                    0.0      0.013123           0.0                0.993593   \n",
              "2                    0.0      0.003042           0.0                0.993593   \n",
              "3                    0.0      0.097477           0.0                0.993593   \n",
              "4                    0.0      0.001318           0.0                0.000000   \n",
              "\n",
              "   Early_Bidding  Winning_Ratio  Auction_Duration  Class  \n",
              "0       0.000028       0.666667                 5      0  \n",
              "1       0.013123       0.944444                 5      0  \n",
              "2       0.003042       1.000000                 5      0  \n",
              "3       0.097477       1.000000                 5      0  \n",
              "4       0.001242       0.500000                 7      0  "
            ],
            "text/html": [
              "\n",
              "  <div id=\"df-733cc63e-2830-468c-8dd8-bfdf69e92951\">\n",
              "    <div class=\"colab-df-container\">\n",
              "      <div>\n",
              "<style scoped>\n",
              "    .dataframe tbody tr th:only-of-type {\n",
              "        vertical-align: middle;\n",
              "    }\n",
              "\n",
              "    .dataframe tbody tr th {\n",
              "        vertical-align: top;\n",
              "    }\n",
              "\n",
              "    .dataframe thead th {\n",
              "        text-align: right;\n",
              "    }\n",
              "</style>\n",
              "<table border=\"1\" class=\"dataframe\">\n",
              "  <thead>\n",
              "    <tr style=\"text-align: right;\">\n",
              "      <th></th>\n",
              "      <th>Record_ID</th>\n",
              "      <th>Auction_ID</th>\n",
              "      <th>Bidder_ID</th>\n",
              "      <th>Bidder_Tendency</th>\n",
              "      <th>Bidding_Ratio</th>\n",
              "      <th>Successive_Outbidding</th>\n",
              "      <th>Last_Bidding</th>\n",
              "      <th>Auction_Bids</th>\n",
              "      <th>Starting_Price_Average</th>\n",
              "      <th>Early_Bidding</th>\n",
              "      <th>Winning_Ratio</th>\n",
              "      <th>Auction_Duration</th>\n",
              "      <th>Class</th>\n",
              "    </tr>\n",
              "  </thead>\n",
              "  <tbody>\n",
              "    <tr>\n",
              "      <th>0</th>\n",
              "      <td>1</td>\n",
              "      <td>732</td>\n",
              "      <td>_***i</td>\n",
              "      <td>0.200000</td>\n",
              "      <td>0.400000</td>\n",
              "      <td>0.0</td>\n",
              "      <td>0.000028</td>\n",
              "      <td>0.0</td>\n",
              "      <td>0.993593</td>\n",
              "      <td>0.000028</td>\n",
              "      <td>0.666667</td>\n",
              "      <td>5</td>\n",
              "      <td>0</td>\n",
              "    </tr>\n",
              "    <tr>\n",
              "      <th>1</th>\n",
              "      <td>2</td>\n",
              "      <td>732</td>\n",
              "      <td>g***r</td>\n",
              "      <td>0.024390</td>\n",
              "      <td>0.200000</td>\n",
              "      <td>0.0</td>\n",
              "      <td>0.013123</td>\n",
              "      <td>0.0</td>\n",
              "      <td>0.993593</td>\n",
              "      <td>0.013123</td>\n",
              "      <td>0.944444</td>\n",
              "      <td>5</td>\n",
              "      <td>0</td>\n",
              "    </tr>\n",
              "    <tr>\n",
              "      <th>2</th>\n",
              "      <td>3</td>\n",
              "      <td>732</td>\n",
              "      <td>t***p</td>\n",
              "      <td>0.142857</td>\n",
              "      <td>0.200000</td>\n",
              "      <td>0.0</td>\n",
              "      <td>0.003042</td>\n",
              "      <td>0.0</td>\n",
              "      <td>0.993593</td>\n",
              "      <td>0.003042</td>\n",
              "      <td>1.000000</td>\n",
              "      <td>5</td>\n",
              "      <td>0</td>\n",
              "    </tr>\n",
              "    <tr>\n",
              "      <th>3</th>\n",
              "      <td>4</td>\n",
              "      <td>732</td>\n",
              "      <td>7***n</td>\n",
              "      <td>0.100000</td>\n",
              "      <td>0.200000</td>\n",
              "      <td>0.0</td>\n",
              "      <td>0.097477</td>\n",
              "      <td>0.0</td>\n",
              "      <td>0.993593</td>\n",
              "      <td>0.097477</td>\n",
              "      <td>1.000000</td>\n",
              "      <td>5</td>\n",
              "      <td>0</td>\n",
              "    </tr>\n",
              "    <tr>\n",
              "      <th>4</th>\n",
              "      <td>5</td>\n",
              "      <td>900</td>\n",
              "      <td>z***z</td>\n",
              "      <td>0.051282</td>\n",
              "      <td>0.222222</td>\n",
              "      <td>0.0</td>\n",
              "      <td>0.001318</td>\n",
              "      <td>0.0</td>\n",
              "      <td>0.000000</td>\n",
              "      <td>0.001242</td>\n",
              "      <td>0.500000</td>\n",
              "      <td>7</td>\n",
              "      <td>0</td>\n",
              "    </tr>\n",
              "  </tbody>\n",
              "</table>\n",
              "</div>\n",
              "      <button class=\"colab-df-convert\" onclick=\"convertToInteractive('df-733cc63e-2830-468c-8dd8-bfdf69e92951')\"\n",
              "              title=\"Convert this dataframe to an interactive table.\"\n",
              "              style=\"display:none;\">\n",
              "        \n",
              "  <svg xmlns=\"http://www.w3.org/2000/svg\" height=\"24px\"viewBox=\"0 0 24 24\"\n",
              "       width=\"24px\">\n",
              "    <path d=\"M0 0h24v24H0V0z\" fill=\"none\"/>\n",
              "    <path d=\"M18.56 5.44l.94 2.06.94-2.06 2.06-.94-2.06-.94-.94-2.06-.94 2.06-2.06.94zm-11 1L8.5 8.5l.94-2.06 2.06-.94-2.06-.94L8.5 2.5l-.94 2.06-2.06.94zm10 10l.94 2.06.94-2.06 2.06-.94-2.06-.94-.94-2.06-.94 2.06-2.06.94z\"/><path d=\"M17.41 7.96l-1.37-1.37c-.4-.4-.92-.59-1.43-.59-.52 0-1.04.2-1.43.59L10.3 9.45l-7.72 7.72c-.78.78-.78 2.05 0 2.83L4 21.41c.39.39.9.59 1.41.59.51 0 1.02-.2 1.41-.59l7.78-7.78 2.81-2.81c.8-.78.8-2.07 0-2.86zM5.41 20L4 18.59l7.72-7.72 1.47 1.35L5.41 20z\"/>\n",
              "  </svg>\n",
              "      </button>\n",
              "      \n",
              "  <style>\n",
              "    .colab-df-container {\n",
              "      display:flex;\n",
              "      flex-wrap:wrap;\n",
              "      gap: 12px;\n",
              "    }\n",
              "\n",
              "    .colab-df-convert {\n",
              "      background-color: #E8F0FE;\n",
              "      border: none;\n",
              "      border-radius: 50%;\n",
              "      cursor: pointer;\n",
              "      display: none;\n",
              "      fill: #1967D2;\n",
              "      height: 32px;\n",
              "      padding: 0 0 0 0;\n",
              "      width: 32px;\n",
              "    }\n",
              "\n",
              "    .colab-df-convert:hover {\n",
              "      background-color: #E2EBFA;\n",
              "      box-shadow: 0px 1px 2px rgba(60, 64, 67, 0.3), 0px 1px 3px 1px rgba(60, 64, 67, 0.15);\n",
              "      fill: #174EA6;\n",
              "    }\n",
              "\n",
              "    [theme=dark] .colab-df-convert {\n",
              "      background-color: #3B4455;\n",
              "      fill: #D2E3FC;\n",
              "    }\n",
              "\n",
              "    [theme=dark] .colab-df-convert:hover {\n",
              "      background-color: #434B5C;\n",
              "      box-shadow: 0px 1px 3px 1px rgba(0, 0, 0, 0.15);\n",
              "      filter: drop-shadow(0px 1px 2px rgba(0, 0, 0, 0.3));\n",
              "      fill: #FFFFFF;\n",
              "    }\n",
              "  </style>\n",
              "\n",
              "      <script>\n",
              "        const buttonEl =\n",
              "          document.querySelector('#df-733cc63e-2830-468c-8dd8-bfdf69e92951 button.colab-df-convert');\n",
              "        buttonEl.style.display =\n",
              "          google.colab.kernel.accessAllowed ? 'block' : 'none';\n",
              "\n",
              "        async function convertToInteractive(key) {\n",
              "          const element = document.querySelector('#df-733cc63e-2830-468c-8dd8-bfdf69e92951');\n",
              "          const dataTable =\n",
              "            await google.colab.kernel.invokeFunction('convertToInteractive',\n",
              "                                                     [key], {});\n",
              "          if (!dataTable) return;\n",
              "\n",
              "          const docLinkHtml = 'Like what you see? Visit the ' +\n",
              "            '<a target=\"_blank\" href=https://colab.research.google.com/notebooks/data_table.ipynb>data table notebook</a>'\n",
              "            + ' to learn more about interactive tables.';\n",
              "          element.innerHTML = '';\n",
              "          dataTable['output_type'] = 'display_data';\n",
              "          await google.colab.output.renderOutput(dataTable, element);\n",
              "          const docLink = document.createElement('div');\n",
              "          docLink.innerHTML = docLinkHtml;\n",
              "          element.appendChild(docLink);\n",
              "        }\n",
              "      </script>\n",
              "    </div>\n",
              "  </div>\n",
              "  "
            ]
          },
          "metadata": {},
          "execution_count": 2
        }
      ]
    },
    {
      "cell_type": "markdown",
      "source": [
        "3. A continuación, elimine las columnas que sean irrelevantes para el estudio de caso; es decir, elimine las columnas `Record_ID`, `Auction_ID` y `Bidder_ID`. Esto se debe a que estas columnas contienen ID únicos y, por lo tanto, no agregan ninguna información nueva al modelo:"
      ],
      "metadata": {
        "id": "oETZmlHTE4PJ"
      }
    },
    {
      "cell_type": "code",
      "source": [
        "data.drop([\"Record_ID\",\"Auction_ID\",\"Bidder_ID\"],axis=1,\\\n",
        "          inplace=True)"
      ],
      "metadata": {
        "id": "2ekrdJ7BFAie"
      },
      "execution_count": 3,
      "outputs": []
    },
    {
      "cell_type": "markdown",
      "source": [
        "Ahora vea las primeras cinco filas de los datos revisados:"
      ],
      "metadata": {
        "id": "vHG9h59IFC0b"
      }
    },
    {
      "cell_type": "code",
      "source": [
        "data.head()"
      ],
      "metadata": {
        "colab": {
          "base_uri": "https://localhost:8080/",
          "height": 270
        },
        "id": "KNOZxV-TFH4O",
        "outputId": "de2d95b3-38cf-48ed-cf83-d38fc839de9f"
      },
      "execution_count": 4,
      "outputs": [
        {
          "output_type": "execute_result",
          "data": {
            "text/plain": [
              "   Bidder_Tendency  Bidding_Ratio  Successive_Outbidding  Last_Bidding  \\\n",
              "0         0.200000       0.400000                    0.0      0.000028   \n",
              "1         0.024390       0.200000                    0.0      0.013123   \n",
              "2         0.142857       0.200000                    0.0      0.003042   \n",
              "3         0.100000       0.200000                    0.0      0.097477   \n",
              "4         0.051282       0.222222                    0.0      0.001318   \n",
              "\n",
              "   Auction_Bids  Starting_Price_Average  Early_Bidding  Winning_Ratio  \\\n",
              "0           0.0                0.993593       0.000028       0.666667   \n",
              "1           0.0                0.993593       0.013123       0.944444   \n",
              "2           0.0                0.993593       0.003042       1.000000   \n",
              "3           0.0                0.993593       0.097477       1.000000   \n",
              "4           0.0                0.000000       0.001242       0.500000   \n",
              "\n",
              "   Auction_Duration  Class  \n",
              "0                 5      0  \n",
              "1                 5      0  \n",
              "2                 5      0  \n",
              "3                 5      0  \n",
              "4                 7      0  "
            ],
            "text/html": [
              "\n",
              "  <div id=\"df-d09f1fa6-b07e-4d19-afb7-38c8cc486349\">\n",
              "    <div class=\"colab-df-container\">\n",
              "      <div>\n",
              "<style scoped>\n",
              "    .dataframe tbody tr th:only-of-type {\n",
              "        vertical-align: middle;\n",
              "    }\n",
              "\n",
              "    .dataframe tbody tr th {\n",
              "        vertical-align: top;\n",
              "    }\n",
              "\n",
              "    .dataframe thead th {\n",
              "        text-align: right;\n",
              "    }\n",
              "</style>\n",
              "<table border=\"1\" class=\"dataframe\">\n",
              "  <thead>\n",
              "    <tr style=\"text-align: right;\">\n",
              "      <th></th>\n",
              "      <th>Bidder_Tendency</th>\n",
              "      <th>Bidding_Ratio</th>\n",
              "      <th>Successive_Outbidding</th>\n",
              "      <th>Last_Bidding</th>\n",
              "      <th>Auction_Bids</th>\n",
              "      <th>Starting_Price_Average</th>\n",
              "      <th>Early_Bidding</th>\n",
              "      <th>Winning_Ratio</th>\n",
              "      <th>Auction_Duration</th>\n",
              "      <th>Class</th>\n",
              "    </tr>\n",
              "  </thead>\n",
              "  <tbody>\n",
              "    <tr>\n",
              "      <th>0</th>\n",
              "      <td>0.200000</td>\n",
              "      <td>0.400000</td>\n",
              "      <td>0.0</td>\n",
              "      <td>0.000028</td>\n",
              "      <td>0.0</td>\n",
              "      <td>0.993593</td>\n",
              "      <td>0.000028</td>\n",
              "      <td>0.666667</td>\n",
              "      <td>5</td>\n",
              "      <td>0</td>\n",
              "    </tr>\n",
              "    <tr>\n",
              "      <th>1</th>\n",
              "      <td>0.024390</td>\n",
              "      <td>0.200000</td>\n",
              "      <td>0.0</td>\n",
              "      <td>0.013123</td>\n",
              "      <td>0.0</td>\n",
              "      <td>0.993593</td>\n",
              "      <td>0.013123</td>\n",
              "      <td>0.944444</td>\n",
              "      <td>5</td>\n",
              "      <td>0</td>\n",
              "    </tr>\n",
              "    <tr>\n",
              "      <th>2</th>\n",
              "      <td>0.142857</td>\n",
              "      <td>0.200000</td>\n",
              "      <td>0.0</td>\n",
              "      <td>0.003042</td>\n",
              "      <td>0.0</td>\n",
              "      <td>0.993593</td>\n",
              "      <td>0.003042</td>\n",
              "      <td>1.000000</td>\n",
              "      <td>5</td>\n",
              "      <td>0</td>\n",
              "    </tr>\n",
              "    <tr>\n",
              "      <th>3</th>\n",
              "      <td>0.100000</td>\n",
              "      <td>0.200000</td>\n",
              "      <td>0.0</td>\n",
              "      <td>0.097477</td>\n",
              "      <td>0.0</td>\n",
              "      <td>0.993593</td>\n",
              "      <td>0.097477</td>\n",
              "      <td>1.000000</td>\n",
              "      <td>5</td>\n",
              "      <td>0</td>\n",
              "    </tr>\n",
              "    <tr>\n",
              "      <th>4</th>\n",
              "      <td>0.051282</td>\n",
              "      <td>0.222222</td>\n",
              "      <td>0.0</td>\n",
              "      <td>0.001318</td>\n",
              "      <td>0.0</td>\n",
              "      <td>0.000000</td>\n",
              "      <td>0.001242</td>\n",
              "      <td>0.500000</td>\n",
              "      <td>7</td>\n",
              "      <td>0</td>\n",
              "    </tr>\n",
              "  </tbody>\n",
              "</table>\n",
              "</div>\n",
              "      <button class=\"colab-df-convert\" onclick=\"convertToInteractive('df-d09f1fa6-b07e-4d19-afb7-38c8cc486349')\"\n",
              "              title=\"Convert this dataframe to an interactive table.\"\n",
              "              style=\"display:none;\">\n",
              "        \n",
              "  <svg xmlns=\"http://www.w3.org/2000/svg\" height=\"24px\"viewBox=\"0 0 24 24\"\n",
              "       width=\"24px\">\n",
              "    <path d=\"M0 0h24v24H0V0z\" fill=\"none\"/>\n",
              "    <path d=\"M18.56 5.44l.94 2.06.94-2.06 2.06-.94-2.06-.94-.94-2.06-.94 2.06-2.06.94zm-11 1L8.5 8.5l.94-2.06 2.06-.94-2.06-.94L8.5 2.5l-.94 2.06-2.06.94zm10 10l.94 2.06.94-2.06 2.06-.94-2.06-.94-.94-2.06-.94 2.06-2.06.94z\"/><path d=\"M17.41 7.96l-1.37-1.37c-.4-.4-.92-.59-1.43-.59-.52 0-1.04.2-1.43.59L10.3 9.45l-7.72 7.72c-.78.78-.78 2.05 0 2.83L4 21.41c.39.39.9.59 1.41.59.51 0 1.02-.2 1.41-.59l7.78-7.78 2.81-2.81c.8-.78.8-2.07 0-2.86zM5.41 20L4 18.59l7.72-7.72 1.47 1.35L5.41 20z\"/>\n",
              "  </svg>\n",
              "      </button>\n",
              "      \n",
              "  <style>\n",
              "    .colab-df-container {\n",
              "      display:flex;\n",
              "      flex-wrap:wrap;\n",
              "      gap: 12px;\n",
              "    }\n",
              "\n",
              "    .colab-df-convert {\n",
              "      background-color: #E8F0FE;\n",
              "      border: none;\n",
              "      border-radius: 50%;\n",
              "      cursor: pointer;\n",
              "      display: none;\n",
              "      fill: #1967D2;\n",
              "      height: 32px;\n",
              "      padding: 0 0 0 0;\n",
              "      width: 32px;\n",
              "    }\n",
              "\n",
              "    .colab-df-convert:hover {\n",
              "      background-color: #E2EBFA;\n",
              "      box-shadow: 0px 1px 2px rgba(60, 64, 67, 0.3), 0px 1px 3px 1px rgba(60, 64, 67, 0.15);\n",
              "      fill: #174EA6;\n",
              "    }\n",
              "\n",
              "    [theme=dark] .colab-df-convert {\n",
              "      background-color: #3B4455;\n",
              "      fill: #D2E3FC;\n",
              "    }\n",
              "\n",
              "    [theme=dark] .colab-df-convert:hover {\n",
              "      background-color: #434B5C;\n",
              "      box-shadow: 0px 1px 3px 1px rgba(0, 0, 0, 0.15);\n",
              "      filter: drop-shadow(0px 1px 2px rgba(0, 0, 0, 0.3));\n",
              "      fill: #FFFFFF;\n",
              "    }\n",
              "  </style>\n",
              "\n",
              "      <script>\n",
              "        const buttonEl =\n",
              "          document.querySelector('#df-d09f1fa6-b07e-4d19-afb7-38c8cc486349 button.colab-df-convert');\n",
              "        buttonEl.style.display =\n",
              "          google.colab.kernel.accessAllowed ? 'block' : 'none';\n",
              "\n",
              "        async function convertToInteractive(key) {\n",
              "          const element = document.querySelector('#df-d09f1fa6-b07e-4d19-afb7-38c8cc486349');\n",
              "          const dataTable =\n",
              "            await google.colab.kernel.invokeFunction('convertToInteractive',\n",
              "                                                     [key], {});\n",
              "          if (!dataTable) return;\n",
              "\n",
              "          const docLinkHtml = 'Like what you see? Visit the ' +\n",
              "            '<a target=\"_blank\" href=https://colab.research.google.com/notebooks/data_table.ipynb>data table notebook</a>'\n",
              "            + ' to learn more about interactive tables.';\n",
              "          element.innerHTML = '';\n",
              "          dataTable['output_type'] = 'display_data';\n",
              "          await google.colab.output.renderOutput(dataTable, element);\n",
              "          const docLink = document.createElement('div');\n",
              "          docLink.innerHTML = docLinkHtml;\n",
              "          element.appendChild(docLink);\n",
              "        }\n",
              "      </script>\n",
              "    </div>\n",
              "  </div>\n",
              "  "
            ]
          },
          "metadata": {},
          "execution_count": 4
        }
      ]
    },
    {
      "cell_type": "markdown",
      "source": [
        "5. Divida los datos en conjuntos de entrenamiento y prueba de la siguiente manera. \n",
        "\n",
        "- Nos apegamos al valor predeterminado para el tamaño de los datos de prueba (30 % de todos los datos). \n",
        "- Además, para agregar reproducibilidad, estamos usando un estado aleatorio de 1, y para tener en cuenta cualquier desequilibrio de clase, usaremos división estratificada. \n",
        "\n",
        "La división estratificada garantizará que tengamos en cuenta la **distribución de clases** de la columna de destino al dividir los datos en conjuntos de entrenamiento y prueba: \n",
        "\n",
        "https://en.wikipedia.org/wiki/Stratified_sampling"
      ],
      "metadata": {
        "id": "o7_45yVMFPGW"
      }
    },
    {
      "cell_type": "code",
      "source": [
        "X = data.drop(\"Class\",axis=1)\n",
        "y = data[\"Class\"]\n",
        "\n",
        "# Divida el conjunto de datos en conjuntos de entrenamiento y prueba\n",
        "X_train,X_test,y_train,y_test = train_test_split (X,y,test_size=0.3, random_state=1, stratify=y)"
      ],
      "metadata": {
        "colab": {
          "base_uri": "https://localhost:8080/"
        },
        "id": "CQc_XUfEFf3U",
        "outputId": "14a94504-5298-407c-b3e5-1e3fd8295e3c"
      },
      "execution_count": 18,
      "outputs": [
        {
          "output_type": "execute_result",
          "data": {
            "text/plain": [
              "0       0\n",
              "1       0\n",
              "2       0\n",
              "3       0\n",
              "4       0\n",
              "       ..\n",
              "6316    1\n",
              "6317    0\n",
              "6318    0\n",
              "6319    0\n",
              "6320    0\n",
              "Name: Class, Length: 6321, dtype: int64"
            ]
          },
          "metadata": {},
          "execution_count": 18
        }
      ]
    },
    {
      "cell_type": "markdown",
      "source": [
        "6. Imprima el tamaño de los conjuntos de datos de entrenamiento y prueba:"
      ],
      "metadata": {
        "id": "P9F_LOHoFoia"
      }
    },
    {
      "cell_type": "code",
      "source": [
        "print(\"Training dataset size: {}, Testing dataset size: {}\"\\\n",
        "      .format(X_train.shape, X_test.shape))\n",
        "\n",
        "# Tenga en cuenta que la proporción del tamaño del conjunto de datos de \n",
        "# entrenamiento y prueba es 7:3, lo que coincide con nuestro cálculo sobre el \n",
        "# tamaño del conjunto de prueba (30 % del tamaño del conjunto de prueba, 70 % \n",
        "# del tamaño del conjunto de entrenamiento)."
      ],
      "metadata": {
        "colab": {
          "base_uri": "https://localhost:8080/"
        },
        "id": "NHFDcCYwF0t1",
        "outputId": "499cb4aa-5805-4d98-e249-98439ce72299"
      },
      "execution_count": 19,
      "outputs": [
        {
          "output_type": "stream",
          "name": "stdout",
          "text": [
            "Training dataset size: (4424, 9), Testing dataset size: (1897, 9)\n"
          ]
        }
      ]
    },
    {
      "cell_type": "markdown",
      "source": [
        "7. Ajuste el modelo usando regresión lineal:"
      ],
      "metadata": {
        "id": "YrgO4NdDGGx7"
      }
    },
    {
      "cell_type": "code",
      "source": [
        "linear = linear_model.LinearRegression()\n",
        "linear.fit(X_train,y_train)"
      ],
      "metadata": {
        "colab": {
          "base_uri": "https://localhost:8080/",
          "height": 75
        },
        "id": "FykbmkV1GJ5f",
        "outputId": "b39cee0c-ef74-44ad-e930-8ed9a9870ced"
      },
      "execution_count": 20,
      "outputs": [
        {
          "output_type": "execute_result",
          "data": {
            "text/plain": [
              "LinearRegression()"
            ],
            "text/html": [
              "<style>#sk-container-id-3 {color: black;background-color: white;}#sk-container-id-3 pre{padding: 0;}#sk-container-id-3 div.sk-toggleable {background-color: white;}#sk-container-id-3 label.sk-toggleable__label {cursor: pointer;display: block;width: 100%;margin-bottom: 0;padding: 0.3em;box-sizing: border-box;text-align: center;}#sk-container-id-3 label.sk-toggleable__label-arrow:before {content: \"▸\";float: left;margin-right: 0.25em;color: #696969;}#sk-container-id-3 label.sk-toggleable__label-arrow:hover:before {color: black;}#sk-container-id-3 div.sk-estimator:hover label.sk-toggleable__label-arrow:before {color: black;}#sk-container-id-3 div.sk-toggleable__content {max-height: 0;max-width: 0;overflow: hidden;text-align: left;background-color: #f0f8ff;}#sk-container-id-3 div.sk-toggleable__content pre {margin: 0.2em;color: black;border-radius: 0.25em;background-color: #f0f8ff;}#sk-container-id-3 input.sk-toggleable__control:checked~div.sk-toggleable__content {max-height: 200px;max-width: 100%;overflow: auto;}#sk-container-id-3 input.sk-toggleable__control:checked~label.sk-toggleable__label-arrow:before {content: \"▾\";}#sk-container-id-3 div.sk-estimator input.sk-toggleable__control:checked~label.sk-toggleable__label {background-color: #d4ebff;}#sk-container-id-3 div.sk-label input.sk-toggleable__control:checked~label.sk-toggleable__label {background-color: #d4ebff;}#sk-container-id-3 input.sk-hidden--visually {border: 0;clip: rect(1px 1px 1px 1px);clip: rect(1px, 1px, 1px, 1px);height: 1px;margin: -1px;overflow: hidden;padding: 0;position: absolute;width: 1px;}#sk-container-id-3 div.sk-estimator {font-family: monospace;background-color: #f0f8ff;border: 1px dotted black;border-radius: 0.25em;box-sizing: border-box;margin-bottom: 0.5em;}#sk-container-id-3 div.sk-estimator:hover {background-color: #d4ebff;}#sk-container-id-3 div.sk-parallel-item::after {content: \"\";width: 100%;border-bottom: 1px solid gray;flex-grow: 1;}#sk-container-id-3 div.sk-label:hover label.sk-toggleable__label {background-color: #d4ebff;}#sk-container-id-3 div.sk-serial::before {content: \"\";position: absolute;border-left: 1px solid gray;box-sizing: border-box;top: 0;bottom: 0;left: 50%;z-index: 0;}#sk-container-id-3 div.sk-serial {display: flex;flex-direction: column;align-items: center;background-color: white;padding-right: 0.2em;padding-left: 0.2em;position: relative;}#sk-container-id-3 div.sk-item {position: relative;z-index: 1;}#sk-container-id-3 div.sk-parallel {display: flex;align-items: stretch;justify-content: center;background-color: white;position: relative;}#sk-container-id-3 div.sk-item::before, #sk-container-id-3 div.sk-parallel-item::before {content: \"\";position: absolute;border-left: 1px solid gray;box-sizing: border-box;top: 0;bottom: 0;left: 50%;z-index: -1;}#sk-container-id-3 div.sk-parallel-item {display: flex;flex-direction: column;z-index: 1;position: relative;background-color: white;}#sk-container-id-3 div.sk-parallel-item:first-child::after {align-self: flex-end;width: 50%;}#sk-container-id-3 div.sk-parallel-item:last-child::after {align-self: flex-start;width: 50%;}#sk-container-id-3 div.sk-parallel-item:only-child::after {width: 0;}#sk-container-id-3 div.sk-dashed-wrapped {border: 1px dashed gray;margin: 0 0.4em 0.5em 0.4em;box-sizing: border-box;padding-bottom: 0.4em;background-color: white;}#sk-container-id-3 div.sk-label label {font-family: monospace;font-weight: bold;display: inline-block;line-height: 1.2em;}#sk-container-id-3 div.sk-label-container {text-align: center;}#sk-container-id-3 div.sk-container {/* jupyter's `normalize.less` sets `[hidden] { display: none; }` but bootstrap.min.css set `[hidden] { display: none !important; }` so we also need the `!important` here to be able to override the default hidden behavior on the sphinx rendered scikit-learn.org. See: https://github.com/scikit-learn/scikit-learn/issues/21755 */display: inline-block !important;position: relative;}#sk-container-id-3 div.sk-text-repr-fallback {display: none;}</style><div id=\"sk-container-id-3\" class=\"sk-top-container\"><div class=\"sk-text-repr-fallback\"><pre>LinearRegression()</pre><b>In a Jupyter environment, please rerun this cell to show the HTML representation or trust the notebook. <br />On GitHub, the HTML representation is unable to render, please try loading this page with nbviewer.org.</b></div><div class=\"sk-container\" hidden><div class=\"sk-item\"><div class=\"sk-estimator sk-toggleable\"><input class=\"sk-toggleable__control sk-hidden--visually\" id=\"sk-estimator-id-3\" type=\"checkbox\" checked><label for=\"sk-estimator-id-3\" class=\"sk-toggleable__label sk-toggleable__label-arrow\">LinearRegression</label><div class=\"sk-toggleable__content\"><pre>LinearRegression()</pre></div></div></div></div></div>"
            ]
          },
          "metadata": {},
          "execution_count": 20
        }
      ]
    },
    {
      "cell_type": "markdown",
      "source": [
        "8. Predecir los primeros 10 puntos de datos"
      ],
      "metadata": {
        "id": "4q5Unu-FGTsg"
      }
    },
    {
      "cell_type": "code",
      "source": [
        "linear.predict(X_test)[:10]"
      ],
      "metadata": {
        "colab": {
          "base_uri": "https://localhost:8080/"
        },
        "id": "jxmS6PsnGZXo",
        "outputId": "a6c3f2a3-c161-4a7a-f0d2-b8813c157dca"
      },
      "execution_count": 21,
      "outputs": [
        {
          "output_type": "execute_result",
          "data": {
            "text/plain": [
              "array([-0.00375542, -0.00248633, -0.01090699, -0.02753235,  0.01939224,\n",
              "        0.99493654,  0.02761226, -0.00565047,  0.48101551,  0.00471959])"
            ]
          },
          "metadata": {},
          "execution_count": 21
        }
      ]
    },
    {
      "cell_type": "markdown",
      "source": [
        "9. Ahora verifique los valores objetivo reales usando `y_test[:10].values`:"
      ],
      "metadata": {
        "id": "PmvCHb65Gfw4"
      }
    },
    {
      "cell_type": "code",
      "source": [
        "y_test[:10].values\n",
        "\n",
        "# Puede observar que la regresión lineal no pudo predecir los valores \n",
        "# como 1 y 0 y, en cambio, proporcionó valores continuos como salida \n",
        "# (como vimos en el paso anterior).\n",
        "# Por lo tanto, el modelo no es capaz de distinguir correctamente las clases."
      ],
      "metadata": {
        "colab": {
          "base_uri": "https://localhost:8080/"
        },
        "id": "985TUA85GkJK",
        "outputId": "dd068f90-7639-4575-92cd-c0f2d53b4b4c"
      },
      "execution_count": 11,
      "outputs": [
        {
          "output_type": "execute_result",
          "data": {
            "text/plain": [
              "array([0, 0, 0, 0, 0, 1, 0, 0, 0, 0])"
            ]
          },
          "metadata": {},
          "execution_count": 11
        }
      ]
    },
    {
      "cell_type": "markdown",
      "source": [
        "10. Evalúe la puntuación del modelo de regresión lineal en los conjuntos de datos de entrenamiento y prueba:"
      ],
      "metadata": {
        "id": "qIt5Me0yG6pt"
      }
    },
    {
      "cell_type": "code",
      "source": [
        "print(\"Score on training dataset: {}, \"\\\n",
        "      \"Score on testing dataset: {}\"\\\n",
        "      .format(linear.score(X_train, y_train),\\\n",
        "              linear.score(X_test, y_test)))\n",
        "\n",
        "# Ahora compararemos este resultado con el ajuste de un modelo utilizando \n",
        "# el algoritmo de regresión logística."
      ],
      "metadata": {
        "colab": {
          "base_uri": "https://localhost:8080/"
        },
        "id": "kvAwPxmuG9bB",
        "outputId": "c614e90b-2628-4fcc-9d17-fe25167fa492"
      },
      "execution_count": 22,
      "outputs": [
        {
          "output_type": "stream",
          "name": "stdout",
          "text": [
            "Score on training dataset: 0.8166836356918417, Score on testing dataset: 0.8119909602893054\n"
          ]
        }
      ]
    },
    {
      "cell_type": "markdown",
      "source": [
        "11. Ajuste el modelo usando la regresión logística de la siguiente manera:"
      ],
      "metadata": {
        "id": "6R8XQ4oLHGjp"
      }
    },
    {
      "cell_type": "code",
      "source": [
        "logit = linear_model.LogisticRegression()\n",
        "logit.fit(X_train,y_train)"
      ],
      "metadata": {
        "colab": {
          "base_uri": "https://localhost:8080/",
          "height": 75
        },
        "id": "pRMDaC_zHJrM",
        "outputId": "7c055e1f-93ba-4b5e-b4e0-858633e6aac1"
      },
      "execution_count": 23,
      "outputs": [
        {
          "output_type": "execute_result",
          "data": {
            "text/plain": [
              "LogisticRegression()"
            ],
            "text/html": [
              "<style>#sk-container-id-4 {color: black;background-color: white;}#sk-container-id-4 pre{padding: 0;}#sk-container-id-4 div.sk-toggleable {background-color: white;}#sk-container-id-4 label.sk-toggleable__label {cursor: pointer;display: block;width: 100%;margin-bottom: 0;padding: 0.3em;box-sizing: border-box;text-align: center;}#sk-container-id-4 label.sk-toggleable__label-arrow:before {content: \"▸\";float: left;margin-right: 0.25em;color: #696969;}#sk-container-id-4 label.sk-toggleable__label-arrow:hover:before {color: black;}#sk-container-id-4 div.sk-estimator:hover label.sk-toggleable__label-arrow:before {color: black;}#sk-container-id-4 div.sk-toggleable__content {max-height: 0;max-width: 0;overflow: hidden;text-align: left;background-color: #f0f8ff;}#sk-container-id-4 div.sk-toggleable__content pre {margin: 0.2em;color: black;border-radius: 0.25em;background-color: #f0f8ff;}#sk-container-id-4 input.sk-toggleable__control:checked~div.sk-toggleable__content {max-height: 200px;max-width: 100%;overflow: auto;}#sk-container-id-4 input.sk-toggleable__control:checked~label.sk-toggleable__label-arrow:before {content: \"▾\";}#sk-container-id-4 div.sk-estimator input.sk-toggleable__control:checked~label.sk-toggleable__label {background-color: #d4ebff;}#sk-container-id-4 div.sk-label input.sk-toggleable__control:checked~label.sk-toggleable__label {background-color: #d4ebff;}#sk-container-id-4 input.sk-hidden--visually {border: 0;clip: rect(1px 1px 1px 1px);clip: rect(1px, 1px, 1px, 1px);height: 1px;margin: -1px;overflow: hidden;padding: 0;position: absolute;width: 1px;}#sk-container-id-4 div.sk-estimator {font-family: monospace;background-color: #f0f8ff;border: 1px dotted black;border-radius: 0.25em;box-sizing: border-box;margin-bottom: 0.5em;}#sk-container-id-4 div.sk-estimator:hover {background-color: #d4ebff;}#sk-container-id-4 div.sk-parallel-item::after {content: \"\";width: 100%;border-bottom: 1px solid gray;flex-grow: 1;}#sk-container-id-4 div.sk-label:hover label.sk-toggleable__label {background-color: #d4ebff;}#sk-container-id-4 div.sk-serial::before {content: \"\";position: absolute;border-left: 1px solid gray;box-sizing: border-box;top: 0;bottom: 0;left: 50%;z-index: 0;}#sk-container-id-4 div.sk-serial {display: flex;flex-direction: column;align-items: center;background-color: white;padding-right: 0.2em;padding-left: 0.2em;position: relative;}#sk-container-id-4 div.sk-item {position: relative;z-index: 1;}#sk-container-id-4 div.sk-parallel {display: flex;align-items: stretch;justify-content: center;background-color: white;position: relative;}#sk-container-id-4 div.sk-item::before, #sk-container-id-4 div.sk-parallel-item::before {content: \"\";position: absolute;border-left: 1px solid gray;box-sizing: border-box;top: 0;bottom: 0;left: 50%;z-index: -1;}#sk-container-id-4 div.sk-parallel-item {display: flex;flex-direction: column;z-index: 1;position: relative;background-color: white;}#sk-container-id-4 div.sk-parallel-item:first-child::after {align-self: flex-end;width: 50%;}#sk-container-id-4 div.sk-parallel-item:last-child::after {align-self: flex-start;width: 50%;}#sk-container-id-4 div.sk-parallel-item:only-child::after {width: 0;}#sk-container-id-4 div.sk-dashed-wrapped {border: 1px dashed gray;margin: 0 0.4em 0.5em 0.4em;box-sizing: border-box;padding-bottom: 0.4em;background-color: white;}#sk-container-id-4 div.sk-label label {font-family: monospace;font-weight: bold;display: inline-block;line-height: 1.2em;}#sk-container-id-4 div.sk-label-container {text-align: center;}#sk-container-id-4 div.sk-container {/* jupyter's `normalize.less` sets `[hidden] { display: none; }` but bootstrap.min.css set `[hidden] { display: none !important; }` so we also need the `!important` here to be able to override the default hidden behavior on the sphinx rendered scikit-learn.org. See: https://github.com/scikit-learn/scikit-learn/issues/21755 */display: inline-block !important;position: relative;}#sk-container-id-4 div.sk-text-repr-fallback {display: none;}</style><div id=\"sk-container-id-4\" class=\"sk-top-container\"><div class=\"sk-text-repr-fallback\"><pre>LogisticRegression()</pre><b>In a Jupyter environment, please rerun this cell to show the HTML representation or trust the notebook. <br />On GitHub, the HTML representation is unable to render, please try loading this page with nbviewer.org.</b></div><div class=\"sk-container\" hidden><div class=\"sk-item\"><div class=\"sk-estimator sk-toggleable\"><input class=\"sk-toggleable__control sk-hidden--visually\" id=\"sk-estimator-id-4\" type=\"checkbox\" checked><label for=\"sk-estimator-id-4\" class=\"sk-toggleable__label sk-toggleable__label-arrow\">LogisticRegression</label><div class=\"sk-toggleable__content\"><pre>LogisticRegression()</pre></div></div></div></div></div>"
            ]
          },
          "metadata": {},
          "execution_count": 23
        }
      ]
    },
    {
      "cell_type": "markdown",
      "source": [
        "12. Prediga sobre los datos de prueba:"
      ],
      "metadata": {
        "id": "RrHNUy_uHMAt"
      }
    },
    {
      "cell_type": "code",
      "source": [
        "logit.predict(X_test)[:10]\n",
        "# Observe cómo los valores obtenidos mediante la regresión logística son valores \n",
        "# discretos de 0 y 1, a diferencia de los valores continuos obtenidos mediante \n",
        "# la regresión lineal."
      ],
      "metadata": {
        "colab": {
          "base_uri": "https://localhost:8080/"
        },
        "id": "ZAIs3ZSqHPse",
        "outputId": "c05db0b6-e642-493d-9bf7-780c83517f72"
      },
      "execution_count": 24,
      "outputs": [
        {
          "output_type": "execute_result",
          "data": {
            "text/plain": [
              "array([0, 0, 0, 0, 0, 1, 0, 0, 0, 0])"
            ]
          },
          "metadata": {},
          "execution_count": 24
        }
      ]
    },
    {
      "cell_type": "markdown",
      "source": [
        "13. Compruebe los valores objetivo reales con `y_test[:10].values`:"
      ],
      "metadata": {
        "id": "k6coT87DHbtu"
      }
    },
    {
      "cell_type": "code",
      "source": [
        "y_test[:10].values"
      ],
      "metadata": {
        "colab": {
          "base_uri": "https://localhost:8080/"
        },
        "id": "-31eB9edHfG-",
        "outputId": "f2803322-7e4e-45b5-f7cf-7186a2d5257f"
      },
      "execution_count": 25,
      "outputs": [
        {
          "output_type": "execute_result",
          "data": {
            "text/plain": [
              "array([0, 0, 0, 0, 0, 1, 0, 0, 0, 0])"
            ]
          },
          "metadata": {},
          "execution_count": 25
        }
      ]
    },
    {
      "cell_type": "markdown",
      "source": [
        "14. De forma similar a la regresión lineal, encuentre la puntuación en los conjuntos de datos de entrenamiento y prueba de la siguiente manera:"
      ],
      "metadata": {
        "id": "FQESTdH6Hjee"
      }
    },
    {
      "cell_type": "code",
      "source": [
        "print(\"Score on training dataset: {}, \"\\\n",
        "      \"Score on testing dataset: {}\"\\\n",
        "      .format(logit.score(X_train,y_train),\\\n",
        "              logit.score(X_test,y_test)))"
      ],
      "metadata": {
        "colab": {
          "base_uri": "https://localhost:8080/"
        },
        "id": "lQbC-4NaHnsn",
        "outputId": "ae20f109-182c-4197-e4c2-95a17ad1ecea"
      },
      "execution_count": 26,
      "outputs": [
        {
          "output_type": "stream",
          "name": "stdout",
          "text": [
            "Score on training dataset: 0.9794303797468354, Score on testing dataset: 0.9715340010542962\n"
          ]
        }
      ]
    },
    {
      "cell_type": "markdown",
      "source": [
        "Podemos notar un par de cosas con respecto al algoritmo de regresión logística de este caso de estudio. Primero, la regresión logística puede predecir clases discretas como salidas, a diferencia de la regresión lineal, que nos dio valores no discretos. En segundo lugar, tenga en cuenta que la regresión logística pudo obtener una puntuación mucho más alta en comparación con la regresión lineal. Esto significa que la regresión logística pudo funcionar mucho mejor que la regresión lineal y es más adecuada para tareas de clasificación."
      ],
      "metadata": {
        "id": "LF3XHTtOHuhO"
      }
    },
    {
      "cell_type": "markdown",
      "source": [
        "# Creación de un \"Pipeline/tubería\" de ciencia de datos\n",
        "\n",
        "\"Pipeline\" es un término de uso común en la ciencia de datos y significa que una lista predefinida de pasos se realiza en una secuencia adecuada, uno tras otro. \n",
        "\n",
        "Cuanto más claro las instrucciones, mejor será el estándar de los resultados obtenidos, en términos de calidad y cantidad OSEMN es una de las Pipelines de ciencia de datos más comunes utilizadas para abordar cualquier tipo de problema de ciencia de datos. \n",
        "\n",
        "La siguiente figura proporciona una descripción general de la secuencia típica de acciones que seguiría un analista de datos para crear una tubería de ciencia de datos:"
      ],
      "metadata": {
        "id": "0ysdQQ-PNmMZ"
      }
    },
    {
      "cell_type": "markdown",
      "source": [
        "<figure>\n",
        "<center><img src='https://drive.google.com/uc?export=view&id=1346dsxgvK6PJ_3-nh9vbW-0oRAfHCb9b' width=\"800\" />\n",
        "<figcaption>\n",
        "Figura 7.12: El Pipeline OSEMN</figcaption></center>\n",
        "</figure>\n"
      ],
      "metadata": {
        "id": "elnKMDhEOXVN"
      }
    },
    {
      "cell_type": "markdown",
      "source": [],
      "metadata": {
        "id": "0xOoNbmgQ4Ik"
      }
    },
    {
      "cell_type": "markdown",
      "source": [
        "Detalle de los pasos en la tubería OSEMN:\n",
        "\n",
        "1. Obtención de los datos, que pueden ser de cualquier fuente: estructurada, no estructurada o semiestructurada.\n",
        "2. Limpiar los datos, lo que significa ensuciarse las manos y limpiar los datos, lo que puede implicar cambiar el nombre de las columnas e imputar valores faltantes.\n",
        "3. Explorar los datos para averiguar las relaciones entre cada una de las variables. Esto significa buscar cualquier correlación entre las variables y encontrar la relación entre las variables explicativas y la variable de respuesta.\n",
        "4. Modelado de los datos, que puede incluir predicción, pronóstico y agrupación.\n",
        "5. Interpretar los datos, que es combinar todos los análisis y resultados para dibujar\n",
        "una conclusion.\n",
        "Aprenderá más sobre estos pasos y también los implementará en el estudio de caso que sigue."
      ],
      "metadata": {
        "id": "MYFVZcVzPHrL"
      }
    }
  ]
}