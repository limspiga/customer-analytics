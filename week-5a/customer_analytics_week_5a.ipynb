{
  "nbformat": 4,
  "nbformat_minor": 0,
  "metadata": {
    "colab": {
      "provenance": [],
      "toc_visible": true
    },
    "kernelspec": {
      "name": "python3",
      "display_name": "Python 3"
    },
    "language_info": {
      "name": "python"
    }
  },
  "cells": [
    {
      "cell_type": "markdown",
      "source": [
        "# 7. Aprendizaje supervisado: predicción de la rotación de clientes\n",
        "\n",
        "## Introducción\n",
        "\n",
        "El éxito de una empresa depende en gran medida de su capacidad para:\n",
        "- atraer nuevos clientes y \n",
        "- conservar los existentes. \n",
        "\n",
        "**Churn** se refiere a la situación en la que un cliente de una empresa deja de usar su producto y abandona la empresa. \n",
        "\n",
        "Churn puede ser: \n",
        "- abandono de empleados de una empresa, \n",
        "- abandono de clientes de una suscripción móvil, etc. \n",
        "\n",
        "Predecir la rotación de clientes es importante para una organización porque adquirir nuevos clientes es fácil, pero retenerlos es más difícil. \n",
        "\n",
        "La predicción de abandono es uno de los casos de uso más comunes del aprendizaje automático.\n",
        "\n",
        "Para predecir la rotación de clientes, la mayoría de los casos de uso implican tareas de clasificación supervisadas. \n",
        "\n",
        "Es por eso que comenzará este capítulo revisa problemas de clasificación. Luego sobre el algoritmo de regresión logística.\n",
        "\n"
      ],
      "metadata": {
        "id": "wsYvHcpaJ2-W"
      }
    },
    {
      "cell_type": "markdown",
      "source": [
        "# Problemas de clasificación\n",
        "\n",
        "Considere una situación en la que se le ha pedido que construya un modelo para predecir si un producto comprado por un cliente será devuelto o no.\n",
        "\n",
        "Un modelo de regresión dará valores continuos como salida (por ejemplo, 0.1, 100, 100.25, etc.), pero en nuestro estudio de caso solo tenemos dos valores como salida: \n",
        "- se devolverá un producto o \n",
        "- no se devolverá. \n",
        "\n",
        "En tal caso, todos los demás valores serán incorrectos/no válidos. Si bien podemos decir que el producto devuelto se puede considerar como el valor 0, y el producto no devuelto se puede considerar como el valor 1, todavía no podemos definir qué significa un valor de 1,5."
      ],
      "metadata": {
        "id": "0CoJ3AunK3Qh"
      }
    },
    {
      "cell_type": "markdown",
      "source": [
        "En escenarios como estos, los modelos de clasificación entran en escena. \n",
        "- Las tareas de clasificación son diferentes de las tareas de regresión en el sentido de que en las tareas de clasificación,\n",
        "predecimos una etiqueta de clase discreta (por ejemplo, el producto será devuelto o no devuelto), \n",
        "- mientras que, en el caso de regresión, predecimos valores continuos (por ejemplo, el precio de una casa, la edad de una persona y pronto). \n",
        "\n",
        "Otra diferencia notable entre los problemas de clasificación y los problemas de regresión radica en la elección de las métricas de rendimiento. Con problemas de clasificación, la precisión se elige comúnmente como una métrica de **rendimiento**, mientras que la **raíz cuadrática** media es bastante común en el caso de regresión"
      ],
      "metadata": {
        "id": "jbHGGwNcLu_Z"
      }
    },
    {
      "cell_type": "markdown",
      "source": [
        "Hay muchos casos de uso comercial importantes para problemas de clasificación en los que la variable dependiente (también denominada variable objetivo, que es el valor que\n",
        "están tratando de predecir) es discreto, como abandono o detección de fraude. En estos casos, la variable respuesta tiene solo dos valores, es decir, churn o no churn y fraude o no fraude. \n",
        "\n",
        "Por ejemplo, supongamos que queremos predecir si un cliente abandonará $(y = 1)$ o no abandonará $(y = 0)$ después de suscribirse a un contrato de servicio móvil. \n",
        "\n",
        "Aquí, la probabilidad de que un cliente abandone se indica como $p = P(Abandono)$, y la posible variable explicativa $x$ incluye la antigüedad de la cuenta, el monto de facturación actual y el promedio de días de morosidad (es decir, el número promedio de días que una persona pierde realizar su pago). \n",
        "\n",
        "La siguiente figura ilustra cómo funciona una tarea de clasificación supervisada:"
      ],
      "metadata": {
        "id": "4MQ11iBTL-qS"
      }
    },
    {
      "cell_type": "markdown",
      "source": [
        "\n",
        "\n",
        "<figure>\n",
        "<center><img src='https://drive.google.com/uc?export=view&id=1klL0Yma4R0Tw8iiG2CX7W2m8FR7efJWm' width=\"800\" />\n",
        "<figcaption>\n",
        "Figura 7.1: El flujo de trabajo de una tarea de clasificación supervisada</figcaption></center>\n",
        "</figure>\n"
      ],
      "metadata": {
        "id": "nqKJmT5nMVIt"
      }
    },
    {
      "cell_type": "markdown",
      "source": [
        "Como supervisor, proporcionamos al modelo las variables $(x,y)$, lo que permite al modelo calculer el parámetro theta $\\theta$. Este parámetro se aprende de los datos de entrenamiento y también se denomina coeficiente. $x$ incluye las variables explicativas y\n",
        "$y$ es la etiqueta de destino que proporcionamos al modelo para que el modelo aprenda los parámetros. Usando esto, el modelo produce una función $h(\\theta)$, que asigna la entrada $x$ a una predicción $h_\\theta(x)$."
      ],
      "metadata": {
        "id": "wHwFFrb4Mbrm"
      }
    },
    {
      "cell_type": "markdown",
      "source": [
        "Para el estudio de caso de predicción de abandono, $x$ se referirá a los atributos del cliente, que se introducirán en la función de mapeo $h(\\theta)$ para predecir la probabilidad de abandono del cliente (variable objetivo $y$).\n",
        "\n",
        "Los problemas de clasificación generalmente se pueden dividir en dos tipos:\n",
        "- Clasificación binaria: la variable de destino solo puede tener dos valores categóricos o clases. Por ejemplo, dada una imagen, clasificar si es un gato o no.\n",
        "- Clasificación multiclase: la variable de destino puede tener varias clases. Por ejemplo, dada una imagen, clasifique si es un gato, un perro, un conejo o un pájaro.\n",
        "\n",
        "Ahora que hemos repasado los conceptos básicos de una tarea de clasificación supervisada, comencemos con el aprendizaje del modelo de línea de base de uso común en la clasificación \n",
        "- regresión logística."
      ],
      "metadata": {
        "id": "2_Z1qr-CMgsB"
      }
    },
    {
      "cell_type": "markdown",
      "source": [
        "#### Comprender la regresión logística\n",
        "La regresión logística es uno de los métodos de clasificación más utilizados y funciona bien cuando los datos son linealmente separables. El objetivo de la regresión logística es\n",
        "para aplastar la salida de la regresión lineal a las clases 0 y 1. \n",
        "\n",
        "Primero comprendamos la parte de \"regresión\" del nombre y por qué, a pesar de su nombre, la regresión logística es un modelo de clasificación."
      ],
      "metadata": {
        "id": "QVLigrWMMqQc"
      }
    },
    {
      "cell_type": "markdown",
      "source": [
        "\n",
        "## Revisando la regresión lineal\n",
        "\n",
        "En el caso de la regresión lineal, nuestra función de mapeo sería la siguiente:\n",
        "<h1><center>\n",
        "\n",
        "$h_\\theta(x) = \\theta_o + \\theta_1 * x$\n",
        "\n",
        "Figura 7.2: Ecuación de regresión lineal\n",
        "</center></h1>\n",
        "\n",
        "Aquí, $x$ se refiere a los datos de entrada, $\\theta_0$ y $\\theta_1$ son parámetros que se aprenden de los datos de entrenamiento.\n",
        "\n",
        "<!-- revisar este punto del capitulo anterior???  -->\n",
        "Además, la **función de costo en el caso de la regresión lineal**, que debe minimizarse, es la raíz del error cuadrático medio (RMSE), que analizamos en el capítulo anterior."
      ],
      "metadata": {
        "id": "mhXxYVYOMsMs"
      }
    },
    {
      "cell_type": "markdown",
      "source": [
        "Esto funciona bien para datos continuos, pero el problema surge cuando tenemos una variable objetivo categórica, como 0 ó 1. Cuando tratamos de usar la regresión lineal\n",
        "para predecir la variable objetivo, podemos obtener un valor entre −$\\infty$ y +$\\infty$, que no es lo que necesitamos. \n",
        "<!-- necesitamos un 0 ó un 1 -->\n",
        "\n",
        "Ahora que sabemos por qué no se puede usar la regresión lineal en tareas de clasificación, comprendamos cómo se puede usar la regresión logística como modelo de clasificación."
      ],
      "metadata": {
        "id": "hY--JiImNXPr"
      }
    },
    {
      "cell_type": "markdown",
      "source": [
        "# Regresión logística\n",
        "\n",
        "Si una variable de respuesta tiene valores binarios, los supuestos de regresión lineal no son válidos por las siguientes razones:\n",
        "\n",
        "- La relación entre la variable independiente y la variable predictora no es lineal.\n",
        "- Los términos de error son heteroscedásticos. Recuerde que heteroscedástico significa que la varianza de los términos de error no es la misma en todo el rango de x (datos de entrada).\n",
        "- Los términos de error no se distribuyen normalmente.\n",
        "\n",
        "Si procedemos, considerando estas violaciones, los resultados serían los siguientes:\n",
        "\n",
        "- Las probabilidades pronosticadas pueden ser mayores que 1 o menores que 0.\n",
        "- La magnitud de los efectos de las variables independientes puede estar subestimada.\n",
        "\n",
        "Con la regresión logística, estamos interesados ​​en modelar la media de la variable de respuesta, $p$, en términos de una variable explicativa, $x$, como un modelo probabilístico en términos de la razón de posibilidades. La razón de posibilidades es la relación de dos probabilidades: la probabilidad de que ocurra el evento y la probabilidad de que no ocurra. Una razón de probabilidades alta significa que las posibilidades de que ocurra el evento son altas. De manera similar, un evento que ocurre raramente tendrá una razón de probabilidad baja. Una fórmula de modelo de regresión logística simple, que utiliza el concepto de razón de probabilidades, es la siguiente:"
      ],
      "metadata": {
        "id": "qUyAvYHXN9Pa"
      }
    },
    {
      "cell_type": "markdown",
      "source": [
        "<center>\n",
        "$logit(p)= log(\\frac{p}{1-p}) =  \\theta_0 + \\theta_1 *  x_1 + \\theta_2 *  x_2 + \\theta_3 *  x_3 ... $\n",
        "\n",
        "donde, $p$ es la probabilidad que un evento ocurra $p(y=1)$\n",
        "\n",
        "$(\\frac{p}{1-p})$ es la razón impar\n",
        "\n",
        "$log(\\frac{p}{1-p})$es el registro de probabilidades, o $logit$.\n",
        "\n",
        "Figura 7.3: Fórmula del modelo de regresión logística simple\n",
        "</center>\n",
        "\n",
        "\n",
        "\n"
      ],
      "metadata": {
        "id": "sguKKiQ8OP0D"
      }
    },
    {
      "cell_type": "markdown",
      "source": [
        "\n",
        "Con la regresión logística, todavía usamos la fórmula de regresión lineal. Sin embargo, aplastaremos la salida de la función lineal a un rango de 0 y 1 usando la función sigmoidea. La función sigmoidea es la inversa de la función logit:"
      ],
      "metadata": {
        "id": "Af4E0ItsQSXJ"
      }
    },
    {
      "cell_type": "markdown",
      "source": [
        "<h1><center>\n",
        "\n",
        "$ p =g(z) = \\frac{1}{1+e^{-z} }$\n",
        "\n",
        "Figura 7.4: Función sigmoidea\n",
        "</center></h1>\n",
        "\n",
        "\n",
        "\n",
        "<h1><center>\n",
        "\n",
        "$ h_\\theta(x) = \\theta_0 + \\theta_1 *  x_1 + \\theta_2 *  x_2 + \\theta_3 *  x_3 ...$\n",
        "\n",
        "tomando $ (\\theta_0 + \\theta_1 *  x_1 + \\theta_2 *  x_2 + \\theta_3 *  x_3 ...) $ como $\\theta^Tx $\n",
        "\n",
        "\n",
        "$ g(\\theta^Tx) = \\frac{1}{1+e^{-\\theta^Tx} }$\n",
        "\n",
        "Figura 7.5: Aplastamiento de salida de ecuación lineal usando sigmoide\n",
        "</center></h1>\n",
        "\n",
        "Aquí, $z$ es cualquier número real.\n",
        "Aplaste la salida de la ecuación lineal de la siguiente manera:\n",
        "\n",
        "Aquí, tomamos la salida de hθ(x) y se la damos a la función g(z), que devuelve la función aplastada en el rango de 0 a 1.\n",
        "Si ahora tratamos de trazar la función sigmoidea, terminaremos con una curva en forma de S, como se muestra en la Figura 7.6:\n",
        "\n",
        "<figure>\n",
        "<center><img src='https://drive.google.com/uc?export=view&id=1sgSAEVOXdUyKuwXeDnNysUS16Lagd4Mu' width=\"300\" />\n",
        "<figcaption>\n",
        "Figura 7.6: Gráfico de la función sigmoidea</figcaption></center>\n",
        "</figure>\n",
        "\n"
      ],
      "metadata": {
        "id": "UmGrdAn3QSUi"
      }
    },
    {
      "cell_type": "markdown",
      "source": [
        "Del gráfico anterior, es evidente que la función sigmoidea aplasta los valores\n",
        "de −10 a +10 entre 0 y 1, mientras que la función lineal no puede hacerlo.\n",
        "Hasta ahora, hemos cubierto el concepto de la función sigmoidea. Sin embargo, todavía tenemos que discutir la función de costo que podemos usar aquí. Todos los algoritmos de aprendizaje automático tienen como objetivo minimizar el valor de la función de costo para encontrar el mejor ajuste. También discutimos por qué RMSE no es una buena función de costo en el caso de las tareas de clasificación. Analicemos la función de costo utilizada en la regresión logística en la siguiente sección.\n",
        "\n",
        "### Función de costo para regresión logística\n",
        "\n",
        "La función sigmoidea que describimos anteriormente contiene un término no lineal. Debemos convertirlo en un término lineal, de lo contrario tendríamos una función compleja que sería difícil de optimizar. La función de costo de la regresión logística se puede definir\n",
        "como sigue:"
      ],
      "metadata": {
        "id": "TRevSYjqS7U9"
      }
    },
    {
      "cell_type": "markdown",
      "source": [
        "Aquí, tomamos la salida de $h\\theta_0(x)$ y se la damos a la función $g(z)$, que devuelve la función aplastada en el rango de 0 a 1.\n",
        "Si ahora tratamos de trazar la función sigmoidea, terminaremos con una curva en forma de S, como se muestra en la Figura 7.6:"
      ],
      "metadata": {
        "id": "uElc8Sg1RHSR"
      }
    },
    {
      "cell_type": "markdown",
      "source": [
        "<center>\n",
        "$ cost  (g(\\theta^Tx), y) =\n",
        "\\biggl\\{\n",
        "    \\begin{array}{l}\n",
        "        -log(g(\\theta^Tx)) y = 1\\\\\n",
        "        -log(1 - g(\\theta^Tx)) y = 0\n",
        "    \\end{array}\n",
        "$ \n",
        "\n",
        "Figura 7.7: Función de costo de regresión logística\n",
        "</center>"
      ],
      "metadata": {
        "id": "cRQOOdJBTwm1"
      }
    },
    {
      "cell_type": "markdown",
      "source": [
        "Es fácil para el algoritmo optimizar la función de costo cuando tenemos un término lineal (vea la gráfica a la izquierda en la siguiente figura), mientras que se vuelve difícil para el algoritmo optimizar si nuestra función de costo no es lineal (vea la gráfico a la derecha en la siguiente figura):"
      ],
      "metadata": {
        "id": "2Z0StIk6WHsG"
      }
    },
    {
      "cell_type": "markdown",
      "source": [
        "\n",
        "<figure>\n",
        "<center><img src='https://drive.google.com/uc?export=view&id=15_yUjiEfxzNOzLYQFpbXqeIc8a40ioHd' width=\"500\" />\n",
        "<figcaption>\n",
        "\n",
        "Figura 7.8: Diferencia entre parcelas con términos lineales y no lineales</figcaption></center>\n",
        "</figure>\n"
      ],
      "metadata": {
        "id": "QNiAwWX_WaRy"
      }
    },
    {
      "cell_type": "markdown",
      "source": [
        "Después de convertir nuestra función de costo $(J(\\theta))$ para la regresión logística a un término lineal, finalmente obtenemos la siguiente ecuación:\n"
      ],
      "metadata": {
        "id": "6wZogIEqWe4b"
      }
    },
    {
      "cell_type": "markdown",
      "source": [
        "<h1><center>\n",
        "\n",
        "$j(\\theta) = - \\frac{1}{\\text{no of rows}} \\sum_{i=0}^{i = \\text{no of rows}} y^i* log(g(\\theta^Tx)+(1-y^i)*log(1 - g(\\theta^Tx))$\n",
        "\n",
        "Figure 7.9: Optimized logistic regression cost function\n",
        "</center></h1>"
      ],
      "metadata": {
        "id": "iIvJOrLiYKti"
      }
    },
    {
      "cell_type": "markdown",
      "source": [
        "Aquí, $\\theta$ es el parámetro que el modelo aprende de los datos de entrenamiento. Ahora que hemos cubierto tanto la función de mapeo como la función de costo para la regresión logística, repasemos los supuestos del algoritmo de regresión logística, que nos ayudarán a comprender los escenarios en los que se puede aplicar."
      ],
      "metadata": {
        "id": "3utFCMNFWzqh"
      }
    },
    {
      "cell_type": "markdown",
      "source": [
        "### Supuestos de regresión logística\n",
        "\n",
        "Los siguientes son los supuestos del algoritmo de regresión logística:\n",
        "- A diferencia de la regresión lineal, la regresión logística no asume linealidad entre\n",
        "las variables independientes (x) y la variable objetivo (y).\n",
        "- La variable dependiente debe ser binaria (es decir, tener dos categorías).\n",
        "- La variable independiente no necesita tener intervalos, estar normalmente distribuida, linealmente relacionada o tener la misma varianza dentro de cada grupo.\n",
        "- Las categorías deben ser mutuamente excluyentes y exhaustivas."
      ],
      "metadata": {
        "id": "VByIBfTeW62B"
      }
    },
    {
      "cell_type": "markdown",
      "source": [
        "Ahora que hemos repasado la teoría y los supuestos de la regresión logística, veamos cómo podemos implementarla usando el módulo scikit-learn. Estos son los pasos que debemos seguir:"
      ],
      "metadata": {
        "id": "zILT8bj4bAET"
      }
    },
    {
      "cell_type": "markdown",
      "source": [
        "1. Importe el módulo linear_model de scikit-learn:"
      ],
      "metadata": {
        "id": "9OFTRXQDbFV7"
      }
    },
    {
      "cell_type": "code",
      "source": [
        "from sklearn import linear_model"
      ],
      "metadata": {
        "id": "Tj7aKK3zbDlS"
      },
      "execution_count": 1,
      "outputs": []
    },
    {
      "cell_type": "markdown",
      "source": [
        "\n",
        "2. Cree un modelo de regresión logística:"
      ],
      "metadata": {
        "id": "PVXWF69LbPZm"
      }
    },
    {
      "cell_type": "code",
      "source": [
        "logit = linear_model.LogisticRegression()"
      ],
      "metadata": {
        "id": "nTxMZbYAbTRV"
      },
      "execution_count": 2,
      "outputs": []
    },
    {
      "cell_type": "markdown",
      "source": [
        "3. A continuación, podemos entrenar el modelo en el conjunto de datos de entrenamiento de la siguiente manera:"
      ],
      "metadata": {
        "id": "NUS7nd3obW4I"
      }
    },
    {
      "cell_type": "code",
      "source": [
        "# logit.fit(X_train,y_train)"
      ],
      "metadata": {
        "id": "euTdtmPJbbmV"
      },
      "execution_count": 4,
      "outputs": []
    },
    {
      "cell_type": "markdown",
      "source": [
        "4. Finalmente, similar a la regresión lineal, podemos usar logit.predict(X) para hacer predicciones para un valor específico. Además, podemos usar logit.score(X_train,y_train) para obtener el puntaje de entrenamiento y logit.score(X_test,y_test) para obtener el puntaje de prueba para el modelo entrenado."
      ],
      "metadata": {
        "id": "9wGs0vlXbijP"
      }
    },
    {
      "cell_type": "markdown",
      "source": [
        "En las secciones anteriores, hemos discutido los supuestos junto con la función de mapeo y la función de costo de la regresión logística. También vimos cómo implementar la regresión logística usando la biblioteca scikit-learn en Python. Ahora es el momento de usar estos conceptos en el enunciado de un problema de la vida real."
      ],
      "metadata": {
        "id": "yYpGlBpAbvs6"
      }
    }
  ]
}