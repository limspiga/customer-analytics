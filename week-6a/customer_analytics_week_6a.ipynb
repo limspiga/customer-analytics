{
  "nbformat": 4,
  "nbformat_minor": 0,
  "metadata": {
    "colab": {
      "provenance": []
    },
    "kernelspec": {
      "name": "python3",
      "display_name": "Python 3"
    },
    "language_info": {
      "name": "python"
    }
  },
  "cells": [
    {
      "cell_type": "markdown",
      "source": [
        "# 8. Algoritmos de clasificación de ajuste fino\n",
        "\n",
        "Este capítulo nos ayudará a optimizar el análisis predictivo mediante la clasificación algoritmos como **máquinas de vectores de soporte**, que es uno de los algoritmos de clasificación más comunes de la biblioteca de aprendizaje automático de scikit-learn. \n"
      ],
      "metadata": {
        "id": "jsr8KhNkTAxI"
      }
    },
    {
      "cell_type": "markdown",
      "source": [
        "Consideremos un escenario somos analistas en una empresa de análisis de marketing. Su empresa se hizo cargo de un proyecto de Amazon para\n",
        " - predecir si un usuario comprará o no un producto durante las campañas de venta de temporada festiva. \n",
        "\n",
        "Se le han proporcionado datos anónimos sobre la actividad del cliente en el sitio web de Amazon: \n",
        "\n",
        "- la cantidad de productos comprados, \n",
        "- sus precios, \n",
        "- categorías de productos y otros. \n",
        "\n",
        "En tales escenarios, donde la variable objetivo es un valor discreto, por ejemplo, el cliente comprará el producto o no, este tipo se denominan problemas de **clasificación**. \n",
        "\n",
        "\n",
        "https://blog.bismart.com/la-clasificaci%C3%B3n-y-la-clusterizaci%C3%B3n-una-explicaci%C3%B3n-pr%C3%A1ctica\n"
      ],
      "metadata": {
        "id": "CpBL2arsU6hV"
      }
    },
    {
      "cell_type": "markdown",
      "source": [
        "## Máquinas de Soporte Vectorial\n",
        "Cuando se trata de datos que son **linealmente separables**, el objetivo del algoritmo de aprendizaje de Máquinas de Soporte Vectorial (SVM) es encontrar el límite entre las clases para que haya menos errores de clasificación. Sin embargo, el problema es que puede haber varios límites de decisión (B1, B2), que se pueden ver en la siguiente figura:\n",
        "\n",
        "\n",
        "<figure>\n",
        "<center><img src='https://drive.google.com/uc?export=view&id=18K3T0JH4UUWzev9QK6tuudPqrwqutwVg' width=\"300\" />\n",
        "<figcaption>\n",
        "\n",
        "Figura 8.1: Límite de decisión múltiple</figcaption></center>\n",
        "</figure>\n",
        "\n",
        "Como resultado, surge la pregunta de cuál de los límites es mejor. \n",
        "- La solución es utilizar un margen como objetivo de optimización. \n",
        "\n",
        "Un margen se puede describir como la distancia entre el límite y dos puntos (de diferentes clases) que se encuentran más cerca del límite. La Figura 8.2 da una buena definición visual del margen.\n",
        "\n",
        "El objetivo del algoritmo SVM es maximizar el margen, es aumentar el ancho del límite antes de llegar a un punto de datos. El algoritmo primero averigua el ancho del hiperplano y luego maximiza el margen. Elige el límite de decisión que tiene el margen máximo.\n"
      ],
      "metadata": {
        "id": "DVWXJsEaVNd7"
      }
    },
    {
      "cell_type": "markdown",
      "source": [
        "<figure>\n",
        "<center><img src='https://drive.google.com/uc?export=view&id=1hVGQlaWkek-DKg_kypCgJuZ_5BuR5dY3' width=\"300\" />\n",
        "<figcaption>\n",
        "\n",
        "Figura 8.2: Límite de decisión con un ancho/margen diferente</figcaption></center>\n",
        "</figure>\n",
        "\n"
      ],
      "metadata": {
        "id": "XbhJM2Gx0hXu"
      }
    },
    {
      "cell_type": "markdown",
      "source": [
        "\n",
        "En la figura anterior, elige $B1$ porque tenía un margen mayor en comparación con $B2$. Puede consultar los márgenes de los límites de decisión de $B1$ y $B2$ en la Figura 8.2:\n",
        "\n",
        "Ventajas\n",
        "- Las SVM son efectivas en datos de alta dimensión, donde el número de dimensiones es mayor que el número de muestras de entrenamiento.\n",
        "- Las SVM son conocidas por su uso de la función kernel, lo que la convierte en un algoritmo muy versátil.\n",
        "\n",
        "Nota: Los métodos kernel son funciones matemáticas que se utilizan para convertir datos de un espacio de menor dimensión a un espacio de mayor dimensión, o viceversa.\n",
        "\n",
        "Desventajas:\n",
        "- Las SVM no calculan la probabilidad directamente y, en su lugar, utilizan una validación cruzada quíntuple para calcular la probabilidad, lo que puede hacer que el algoritmo sea considerablemente lento.\n",
        "- Con datos de alta dimensión, es importante elegir la función kernel y el término de regularización, lo que puede hacer que el proceso sea muy lento."
      ],
      "metadata": {
        "id": "zkohy77G07jh"
      }
    },
    {
      "cell_type": "markdown",
      "source": [
        "## La intuición detrás del Máximo Margen\n",
        "\n",
        "<figure>\n",
        "<center><img src='https://drive.google.com/uc?export=view&id=1cPt_hg1uBUukelapwldLZyvRvEwP-yMT' width=\"300\" />\n",
        "<figcaption>\n",
        "\n",
        "Figura 8.3: Interpretación geométrica del margen máximo</figcaption></center>\n",
        "</figure>\n",
        "\n",
        "\n",
        "La lógica detrás de tener márgenes grandes en el caso de una SVM es que tienen un \n",
        "- error de generalización más bajo \n",
        "\n",
        "en comparación con los márgenes pequeños, lo que puede resultar en datos sobreajustados.\n",
        "\n",
        "Considere la Figura 8.3, donde tiene puntos de datos de dos clases: cuadrados y círculos. Los puntos de datos que están más cerca del límite se denominan \n",
        "- vectores de soporte, \n",
        "\n",
        "ya que se utilizan para calcular el margen. El margen del lado izquierdo del límite se \n",
        "- denomina hiperplano negativo \n",
        "- y el margen del lado derecho del límite se denomina hiperplano positivo.\n"
      ],
      "metadata": {
        "id": "z9otSOYT1nnO"
      }
    },
    {
      "cell_type": "markdown",
      "source": [
        "\n",
        "Consideremos el hiperplano positivo y negativo de la siguiente manera:\n",
        "<h1><center>\n",
        "\n",
        "$w^{t}x_{pos} + b_0 = 1$ \n",
        "\n",
        "$w^{t}x_{neg} + b_1 = -1$\n",
        "\n",
        "Ecuación de hiperplano positivo y negativo\n",
        "</center></h1>"
      ],
      "metadata": {
        "id": "d4zIGBxE28Hv"
      }
    },
    {
      "cell_type": "markdown",
      "source": [
        "En las ecuaciones anteriores:\n",
        "- $w$ se refiere a la pendiente del hiperplano.\n",
        "- $b0$ y $b1$ se refieren a las intersecciones de los hiperplanos.\n",
        "- $T$ se refiere a la transpuesta.\n",
        "- $x_{pos}$ y $x_{neg}$ se refieren a los puntos por los que pasan los hiperplanos positivo y negativo, respectivamente.\n",
        "\n",
        "Las ecuaciones anteriores también se pueden considerar como una ecuación de una línea:\n",
        "\n",
        "$y = mx + c$, donde $m$ es la pendiente y $c$ es la intersección. Debido a esta similitud, SVM se denomina clasificador lineal SVM.\n",
        "\n",
        "Restando las dos ecuaciones anteriores, se obtiene lo siguiente:\n",
        "\n",
        "<h1><center>\n",
        "\n",
        "$w^{t}(x_{pos}- x_{neg}) = 2$ \n",
        "\n",
        "\n",
        "Figura 8.5: Ecuación combinada de dos hiperplanos separados\n",
        "</center></h1>"
      ],
      "metadata": {
        "id": "iAWbZCH_4JgW"
      }
    },
    {
      "cell_type": "markdown",
      "source": [
        "Normalizando la ecuación por el vector $w$, se obtiene lo siguiente, donde $m$ se refiere a los puntos de datos que tienes e $i$ se refiere al $i$-ésimo punto de datos:\n",
        "\n",
        "<h1><center>\n",
        "\n",
        "$ \\big||w|\\big| = \t\\sqrt{ \\sum_{i=1}^{m} w_{i^2}}$\n",
        "\n",
        "Figura 8.6: Ecuación normalizada\n",
        "\n",
        "</center></h1>\n",
        "\n",
        "La ecuación anterior se reduce de la siguiente manera:\n",
        "\n",
        "<center>\n",
        "$ margin = \\frac{ w^{t}(x_{pos}- x_{neg})}{\\big||w|\\big|}$ \n",
        "$  = \\frac{2}{\\big||w|\\big|}$\n",
        "\n",
        "Figura 8.7: Ecuación para margen $m$\n",
        "\n",
        "</center>\n",
        "\n",
        "Ahora, la función objetivo se obtiene maximizando el margen dentro de la restricción de que el límite de decisión debería clasificar todos los puntos correctamente.\n",
        "\n",
        "una vez que tenga listo el límite de decisión, puede usar la siguiente ecuación para clasificar los puntos según el lado del límite de decisión en el que se encuentran:"
      ],
      "metadata": {
        "id": "bsfWVpuB46q7"
      }
    },
    {
      "cell_type": "markdown",
      "source": [
        "<h1><center>\n",
        "\n",
        "$w^{t}x_{i} + b_0 \\geq 1 $   $ if y_i = 1$ \n",
        "\n",
        "$w^{t}x_{i} + b_0 \\leq -1 $   $ if y_i = -1$ \n",
        "\n",
        "Figura 8.8: Ecuación para separar los puntos de datos en un hiperplano\n",
        "</center></h1>\n",
        "\n",
        "Para implementar un clasificador basado en SVM, puede usar el módulo scikit-learn de la siguiente manera:"
      ],
      "metadata": {
        "id": "PNhgZLan7hkf"
      }
    },
    {
      "cell_type": "markdown",
      "source": [
        "\n",
        "1. Importar svm desde scikit-learn:\n",
        "\n",
        "```\n",
        " from sklearn import svm\n",
        "```\n",
        "\n",
        "2. Cree una instancia del modelo SVM que luego se usará para entrenar en el conjunto de datos:\n",
        "\n",
        "```\n",
        "   model = svm.SVC()\n",
        "```\n",
        "\n",
        "  En la función anterior, también puede especificar el tipo de núcleo/kernel (lineal, sigmoide, rbf, etc.), el parámetro de regularización C, el valor gamma del núcleo, etc. Puede leer la lista completa de parámetros disponibles junto con sus valores predeterminados: https://scikit-learn.org/stable/modules/generated/sklearn.svm.SVC.html#sklearn.svm.SVC.\n",
        "\n",
        "3. Una vez que tenga la instancia del modelo, puede usar `model.fit(X_train, y_train)` para entrenar el modelo y `model.predict(X)` y obtener la predicción.\n",
        "\n",
        "Hasta ahora hemos usado un el margen duro, que no deja espacio para errores. En otras palabras,\n",
        "- todas las instancias de una clase deben estar en un lado del margen. \n",
        " \n",
        "Sin embargo, este comportamiento rígido puede afectar la generalización del modelo. Para resolver esto, puede usar un clasificador de \n",
        "- margen suave."
      ],
      "metadata": {
        "id": "BnOYpSLT8S0T"
      }
    },
    {
      "cell_type": "markdown",
      "source": [
        "## Casos linealmente inseparables\n",
        "\n",
        "Los casos linealmente inseparables, como el que se ilustra en la siguiente figura, no puede usar un clasificador de **margen rígido**. \n",
        "\n",
        "La solución es introducir un nuevo tipo de clasificador, conocido como clasificador de **margen suave,** utilizando la variable de holgura ξ. Esta variable convierte las ecuaciones discutidas anteriormente en desigualdades al permitir algunos errores, como se muestra en la Figura 8.9:"
      ],
      "metadata": {
        "id": "zKtqeOzA9vKz"
      }
    },
    {
      "cell_type": "markdown",
      "source": [
        "<figure>\n",
        "<center><img src='https://drive.google.com/uc?export=view&id=1tacYCJHi8q-avC6oYJNygpfGuF-7MsgJ' width=\"300\" />\n",
        "<figcaption>\n",
        "\n",
        "Figura 8.9: Puntos de datos linealmente inseparables</figcaption></center>\n",
        "</figure>\n",
        "\n",
        "\n"
      ],
      "metadata": {
        "id": "lqcTpRlF96VV"
      }
    },
    {
      "cell_type": "markdown",
      "source": [
        "Una SVM de margen suave funciona haciendo lo siguiente:\n",
        "1. Introducimos una variable de holgura $\\xi$\n",
        "2. Relajamos las restricciones\n",
        "3. Penalizamos la relajación $C$\n",
        "\n",
        "<figure>\n",
        "<center><img src='https://drive.google.com/uc?export=view&id=1mXt5qPxnxNihjAyo_7MSO7umYAvK3Di0' width=\"300\" />\n",
        "<figcaption>\n",
        "\n",
        "Figura 8.10: Uso de la variable de holgura ξ para datos linealmente inseparables</figcaption></center>\n",
        "</figure>\n"
      ],
      "metadata": {
        "id": "43TFH3f5-iny"
      }
    },
    {
      "cell_type": "markdown",
      "source": [
        "Las restricciones lineales se pueden cambiar agregando la variable de holgura a la ecuación en la Figura 8.5 de la siguiente manera:\n",
        "\n",
        "<h1><center>\n",
        "\n",
        "$w^{t}x_{i} + b_0 \\geq 1 -\\xi_i$   $ if y_i = 1$ \n",
        "\n",
        "$w^{t}x_{i} + b_0 \\leq -1 + \\xi_i $   $ if y_i = -1$ \n",
        "\n",
        "Figura 8.11: Restricciones lineales para maximizar el margen con la variable de holgura $\\xi$\n",
        "</center></h1>\n",
        "\n",
        "\n",
        "\n",
        "La **función objetivo** para puntos de datos linealmente inseparables se obtiene minimizando lo siguiente:\n",
        "\n",
        "<center>\n",
        "$ \\frac{1}{2}\\big||w|\\big|^2 +c \\big(\\sum_{i} \\xi_i\\big)$\n",
        "\n",
        "Figura 8.12: Función objetivo a minimizar\n",
        "\n",
        "</center>\n",
        "\n",
        "\n",
        "Aquí, **$C$ es el parámetro del costo** de la penalización (regularización). Este parámetro $C$ se puede especificar como un parámetro al llamar a la función `svm.SVC()`, como se explicó en la sección anterior.\n",
        "\n"
      ],
      "metadata": {
        "id": "pCdrpJ6E_Jvu"
      }
    },
    {
      "cell_type": "markdown",
      "source": [
        "## Casos linealmente inseparables usando el kernel\n",
        "En el ejemplo anterior, se observó cómo usar un SVM de margen suave para clasificar conjuntos de datos usando la variable de holgura. Sin embargo, puede haber escenarios en los que sea bastante difícil separar los datos. \n",
        "\n",
        "Por ejemplo, en la siguiente figura, sería imposible tener un límite de decisión utilizando la variable de holgura y un hiperplano lineal:"
      ],
      "metadata": {
        "id": "6Qe8J9iJA-GH"
      }
    },
    {
      "cell_type": "markdown",
      "source": [
        "\n",
        "\n",
        "<figure>\n",
        "<center><img src='https://drive.google.com/uc?export=view&id=17q78lYjS99MWSpqkFq5lKWc8JuPHeS--' width=\"300\" />\n",
        "<figcaption>\n",
        "\n",
        "\n",
        "Figura 8.13: Puntos de datos linealmente inseparables</figcaption></center>\n",
        "</figure>"
      ],
      "metadata": {
        "id": "WpROFB8RBJPY"
      }
    },
    {
      "cell_type": "markdown",
      "source": [
        "En este escenario, puede utilizar el concepto de kernel/núcleo, que crea una combinación no lineal de características originales (X1, X2) para proyectar a un espacio de mayor dimensión a través de una función de mapeo, $\\varphi$, para hacerlo linealmente separable:"
      ],
      "metadata": {
        "id": "TbNrg4_BBdFT"
      }
    },
    {
      "cell_type": "markdown",
      "source": [
        "\n",
        "<figure>\n",
        "<center><img src='https://drive.google.com/uc?export=view&id=1DxNzquMAQ9k5xHynhLqDsYJ5TEg6Etde' width=\"500\" />\n",
        "<figcaption>\n",
        "\n",
        "\n",
        "Figura 8.14: Interpretación geométrica y ecuación para proyección de una dimensión baja a una alta</figcaption></center>\n",
        "</figure>"
      ],
      "metadata": {
        "id": "BBBphAqqBm2A"
      }
    },
    {
      "cell_type": "markdown",
      "source": [
        "El problema con este mapeo explícito de funciones es que la dimensionalidad de la función puede ser muy alta, lo que dificulta su representación explícita en la memoria. Esto se mitiga usando el truco del núcleo. El truco del kernel básicamente reemplaza el producto escalar $x_i^T$ $x_j$ con un kernel φ $x_i^T$φ($x_j$), que se puede definir de la siguiente manera:\n",
        "\n",
        "<center>\n",
        "$ \\frac{1}{2}\\big||w|\\big|^2 +c \\big(\\sum_{i} \\xi_i\\big)$\n",
        "\n",
        "Figura 8.15: Función del núcleo\n",
        "\n",
        "</center>"
      ],
      "metadata": {
        "id": "bkfmtcJFB_Mj"
      }
    },
    {
      "cell_type": "markdown",
      "source": [
        "Hay diferentes tipos de funciones del núcleo:\n",
        "\n",
        "Un núcleo también se puede interpretar como una función de similitud y se encuentra entre\n",
        "- 0 (una muestra exactamente diferente) y\n",
        "-  1 (una muestra que es exactamente igual).\n",
        "\n",
        "En scikit-learn, las siguientes funciones del kernel están disponibles:\n",
        "\n",
        "- linear: $(x, x')$\n",
        "\n",
        "- polynomial: $(\\gamma(x, x') + r)^d $. $d$ se especifica por palabra clave grado, $r$ por coef0.\n",
        "\n",
        "- rbf: $exp(-\\gamma||x-x'||2)$. gamma se especifica mediante la palabra clave gamma, debe ser mayor que 0.\n",
        "- sigmoid  $(tanh(\\gamma (x, x') + r))$, donde r está especificado por coef0.\n",
        "\n"
      ],
      "metadata": {
        "id": "TeB6XoHuQefX"
      }
    },
    {
      "cell_type": "markdown",
      "source": [
        "Entonces, puedes usarlas de la siguiente manera:\n",
        "```\n",
        "svm.SVC(kernel='poly', C=1)\n",
        "```\n",
        "Aquí, puede cambiar el kernel usando diferentes funciones del kernel como 'linear', 'poly', etc., que es similar a lo que hemos descrito en la Figura 8.17."
      ],
      "metadata": {
        "id": "8vHW1gAzST2s"
      }
    },
    {
      "cell_type": "markdown",
      "source": [
        "## Ejercicio 8.01: Entrenamiento de un algoritmo SVM sobre un conjunto de datos\n",
        "\n",
        "En este ejercicio, usaremos el conjunto de datos Shill Bidding, cuyo archivo se llama `Shill_Bidding_Dataset.csv`. EL objetivo es utilizar esta información para predecir si una subasta representa un comportamiento normal o no (0 significa comportamiento normal y 1 significa comportamiento anormal). "
      ],
      "metadata": {
        "id": "rVegKGRPUD5n"
      }
    },
    {
      "cell_type": "code",
      "source": [
        "!curl https://raw.githubusercontent.com/limspiga/customer-analytics/main/week-6a/Shill_Bidding_Dataset.csv -O"
      ],
      "metadata": {
        "id": "5S1syTpuUz5d",
        "outputId": "0113c823-813a-478c-bdc5-d8d681f52d64",
        "colab": {
          "base_uri": "https://localhost:8080/"
        }
      },
      "execution_count": 1,
      "outputs": [
        {
          "output_type": "stream",
          "name": "stdout",
          "text": [
            "  % Total    % Received % Xferd  Average Speed   Time    Time     Time  Current\n",
            "                                 Dload  Upload   Total   Spent    Left  Speed\n",
            "100  537k  100  537k    0     0  1663k      0 --:--:-- --:--:-- --:--:-- 1663k\n"
          ]
        }
      ]
    },
    {
      "cell_type": "markdown",
      "source": [
        "1. Importe pandas, numpy, train_test_split, cross_val_score y svm de la biblioteca sklearn:"
      ],
      "metadata": {
        "id": "7HYFO2AcVI3N"
      }
    },
    {
      "cell_type": "code",
      "source": [
        "import pandas as pd\n",
        "from sklearn.model_selection import train_test_split\n",
        "from sklearn import svm\n",
        "from sklearn.model_selection import cross_val_score\n",
        "import numpy as np"
      ],
      "metadata": {
        "id": "1BrzTm8mVOHU"
      },
      "execution_count": 52,
      "outputs": []
    },
    {
      "cell_type": "markdown",
      "source": [
        "2. Lea el conjunto de datos en un DataFrame denominado data usando pandas, como se muestra en el siguiente fragmento, y observe las primeras filas de los datos:"
      ],
      "metadata": {
        "id": "1iwRdxwnVO4t"
      }
    },
    {
      "cell_type": "code",
      "source": [
        "data=pd.read_csv(\"Shill_Bidding_Dataset.csv\")"
      ],
      "metadata": {
        "id": "CWwZJeXBVYgx"
      },
      "execution_count": 53,
      "outputs": []
    },
    {
      "cell_type": "markdown",
      "source": [
        "3. Primero, elimine las columnas que son irrelevantes para el estudio de caso. Estas son columnas de ID y, por lo tanto, serán únicas para cada entrada. Debido a su singularidad, no agregarán ningún valor al modelo y, por lo tanto, se pueden descartar:"
      ],
      "metadata": {
        "id": "tjcM31zvVhD9"
      }
    },
    {
      "cell_type": "code",
      "source": [
        "# Drop irrelevant columns\n",
        "data.drop([\"Record_ID\",\"Auction_ID\",\"Bidder_ID\"],axis=1,\\\n",
        "          inplace=True)\n",
        "data.head()"
      ],
      "metadata": {
        "id": "gSadGs7lVmyQ",
        "outputId": "e48e1008-12b8-4292-f402-c06a2b1a27bb",
        "colab": {
          "base_uri": "https://localhost:8080/",
          "height": 270
        }
      },
      "execution_count": 54,
      "outputs": [
        {
          "output_type": "execute_result",
          "data": {
            "text/plain": [
              "   Bidder_Tendency  Bidding_Ratio  Successive_Outbidding  Last_Bidding  \\\n",
              "0         0.200000       0.400000                    0.0      0.000028   \n",
              "1         0.024390       0.200000                    0.0      0.013123   \n",
              "2         0.142857       0.200000                    0.0      0.003042   \n",
              "3         0.100000       0.200000                    0.0      0.097477   \n",
              "4         0.051282       0.222222                    0.0      0.001318   \n",
              "\n",
              "   Auction_Bids  Starting_Price_Average  Early_Bidding  Winning_Ratio  \\\n",
              "0           0.0                0.993593       0.000028       0.666667   \n",
              "1           0.0                0.993593       0.013123       0.944444   \n",
              "2           0.0                0.993593       0.003042       1.000000   \n",
              "3           0.0                0.993593       0.097477       1.000000   \n",
              "4           0.0                0.000000       0.001242       0.500000   \n",
              "\n",
              "   Auction_Duration  Class  \n",
              "0                 5      0  \n",
              "1                 5      0  \n",
              "2                 5      0  \n",
              "3                 5      0  \n",
              "4                 7      0  "
            ],
            "text/html": [
              "\n",
              "  <div id=\"df-71cb08db-3611-4d9d-a701-0419d2ff2315\">\n",
              "    <div class=\"colab-df-container\">\n",
              "      <div>\n",
              "<style scoped>\n",
              "    .dataframe tbody tr th:only-of-type {\n",
              "        vertical-align: middle;\n",
              "    }\n",
              "\n",
              "    .dataframe tbody tr th {\n",
              "        vertical-align: top;\n",
              "    }\n",
              "\n",
              "    .dataframe thead th {\n",
              "        text-align: right;\n",
              "    }\n",
              "</style>\n",
              "<table border=\"1\" class=\"dataframe\">\n",
              "  <thead>\n",
              "    <tr style=\"text-align: right;\">\n",
              "      <th></th>\n",
              "      <th>Bidder_Tendency</th>\n",
              "      <th>Bidding_Ratio</th>\n",
              "      <th>Successive_Outbidding</th>\n",
              "      <th>Last_Bidding</th>\n",
              "      <th>Auction_Bids</th>\n",
              "      <th>Starting_Price_Average</th>\n",
              "      <th>Early_Bidding</th>\n",
              "      <th>Winning_Ratio</th>\n",
              "      <th>Auction_Duration</th>\n",
              "      <th>Class</th>\n",
              "    </tr>\n",
              "  </thead>\n",
              "  <tbody>\n",
              "    <tr>\n",
              "      <th>0</th>\n",
              "      <td>0.200000</td>\n",
              "      <td>0.400000</td>\n",
              "      <td>0.0</td>\n",
              "      <td>0.000028</td>\n",
              "      <td>0.0</td>\n",
              "      <td>0.993593</td>\n",
              "      <td>0.000028</td>\n",
              "      <td>0.666667</td>\n",
              "      <td>5</td>\n",
              "      <td>0</td>\n",
              "    </tr>\n",
              "    <tr>\n",
              "      <th>1</th>\n",
              "      <td>0.024390</td>\n",
              "      <td>0.200000</td>\n",
              "      <td>0.0</td>\n",
              "      <td>0.013123</td>\n",
              "      <td>0.0</td>\n",
              "      <td>0.993593</td>\n",
              "      <td>0.013123</td>\n",
              "      <td>0.944444</td>\n",
              "      <td>5</td>\n",
              "      <td>0</td>\n",
              "    </tr>\n",
              "    <tr>\n",
              "      <th>2</th>\n",
              "      <td>0.142857</td>\n",
              "      <td>0.200000</td>\n",
              "      <td>0.0</td>\n",
              "      <td>0.003042</td>\n",
              "      <td>0.0</td>\n",
              "      <td>0.993593</td>\n",
              "      <td>0.003042</td>\n",
              "      <td>1.000000</td>\n",
              "      <td>5</td>\n",
              "      <td>0</td>\n",
              "    </tr>\n",
              "    <tr>\n",
              "      <th>3</th>\n",
              "      <td>0.100000</td>\n",
              "      <td>0.200000</td>\n",
              "      <td>0.0</td>\n",
              "      <td>0.097477</td>\n",
              "      <td>0.0</td>\n",
              "      <td>0.993593</td>\n",
              "      <td>0.097477</td>\n",
              "      <td>1.000000</td>\n",
              "      <td>5</td>\n",
              "      <td>0</td>\n",
              "    </tr>\n",
              "    <tr>\n",
              "      <th>4</th>\n",
              "      <td>0.051282</td>\n",
              "      <td>0.222222</td>\n",
              "      <td>0.0</td>\n",
              "      <td>0.001318</td>\n",
              "      <td>0.0</td>\n",
              "      <td>0.000000</td>\n",
              "      <td>0.001242</td>\n",
              "      <td>0.500000</td>\n",
              "      <td>7</td>\n",
              "      <td>0</td>\n",
              "    </tr>\n",
              "  </tbody>\n",
              "</table>\n",
              "</div>\n",
              "      <button class=\"colab-df-convert\" onclick=\"convertToInteractive('df-71cb08db-3611-4d9d-a701-0419d2ff2315')\"\n",
              "              title=\"Convert this dataframe to an interactive table.\"\n",
              "              style=\"display:none;\">\n",
              "        \n",
              "  <svg xmlns=\"http://www.w3.org/2000/svg\" height=\"24px\"viewBox=\"0 0 24 24\"\n",
              "       width=\"24px\">\n",
              "    <path d=\"M0 0h24v24H0V0z\" fill=\"none\"/>\n",
              "    <path d=\"M18.56 5.44l.94 2.06.94-2.06 2.06-.94-2.06-.94-.94-2.06-.94 2.06-2.06.94zm-11 1L8.5 8.5l.94-2.06 2.06-.94-2.06-.94L8.5 2.5l-.94 2.06-2.06.94zm10 10l.94 2.06.94-2.06 2.06-.94-2.06-.94-.94-2.06-.94 2.06-2.06.94z\"/><path d=\"M17.41 7.96l-1.37-1.37c-.4-.4-.92-.59-1.43-.59-.52 0-1.04.2-1.43.59L10.3 9.45l-7.72 7.72c-.78.78-.78 2.05 0 2.83L4 21.41c.39.39.9.59 1.41.59.51 0 1.02-.2 1.41-.59l7.78-7.78 2.81-2.81c.8-.78.8-2.07 0-2.86zM5.41 20L4 18.59l7.72-7.72 1.47 1.35L5.41 20z\"/>\n",
              "  </svg>\n",
              "      </button>\n",
              "      \n",
              "  <style>\n",
              "    .colab-df-container {\n",
              "      display:flex;\n",
              "      flex-wrap:wrap;\n",
              "      gap: 12px;\n",
              "    }\n",
              "\n",
              "    .colab-df-convert {\n",
              "      background-color: #E8F0FE;\n",
              "      border: none;\n",
              "      border-radius: 50%;\n",
              "      cursor: pointer;\n",
              "      display: none;\n",
              "      fill: #1967D2;\n",
              "      height: 32px;\n",
              "      padding: 0 0 0 0;\n",
              "      width: 32px;\n",
              "    }\n",
              "\n",
              "    .colab-df-convert:hover {\n",
              "      background-color: #E2EBFA;\n",
              "      box-shadow: 0px 1px 2px rgba(60, 64, 67, 0.3), 0px 1px 3px 1px rgba(60, 64, 67, 0.15);\n",
              "      fill: #174EA6;\n",
              "    }\n",
              "\n",
              "    [theme=dark] .colab-df-convert {\n",
              "      background-color: #3B4455;\n",
              "      fill: #D2E3FC;\n",
              "    }\n",
              "\n",
              "    [theme=dark] .colab-df-convert:hover {\n",
              "      background-color: #434B5C;\n",
              "      box-shadow: 0px 1px 3px 1px rgba(0, 0, 0, 0.15);\n",
              "      filter: drop-shadow(0px 1px 2px rgba(0, 0, 0, 0.3));\n",
              "      fill: #FFFFFF;\n",
              "    }\n",
              "  </style>\n",
              "\n",
              "      <script>\n",
              "        const buttonEl =\n",
              "          document.querySelector('#df-71cb08db-3611-4d9d-a701-0419d2ff2315 button.colab-df-convert');\n",
              "        buttonEl.style.display =\n",
              "          google.colab.kernel.accessAllowed ? 'block' : 'none';\n",
              "\n",
              "        async function convertToInteractive(key) {\n",
              "          const element = document.querySelector('#df-71cb08db-3611-4d9d-a701-0419d2ff2315');\n",
              "          const dataTable =\n",
              "            await google.colab.kernel.invokeFunction('convertToInteractive',\n",
              "                                                     [key], {});\n",
              "          if (!dataTable) return;\n",
              "\n",
              "          const docLinkHtml = 'Like what you see? Visit the ' +\n",
              "            '<a target=\"_blank\" href=https://colab.research.google.com/notebooks/data_table.ipynb>data table notebook</a>'\n",
              "            + ' to learn more about interactive tables.';\n",
              "          element.innerHTML = '';\n",
              "          dataTable['output_type'] = 'display_data';\n",
              "          await google.colab.output.renderOutput(dataTable, element);\n",
              "          const docLink = document.createElement('div');\n",
              "          docLink.innerHTML = docLinkHtml;\n",
              "          element.appendChild(docLink);\n",
              "        }\n",
              "      </script>\n",
              "    </div>\n",
              "  </div>\n",
              "  "
            ]
          },
          "metadata": {},
          "execution_count": 54
        }
      ]
    },
    {
      "cell_type": "markdown",
      "source": [
        "Verifique los tipos de datos, de la siguiente manera:"
      ],
      "metadata": {
        "id": "Y68ppd2LVqWm"
      }
    },
    {
      "cell_type": "code",
      "source": [
        "data.dtypes"
      ],
      "metadata": {
        "id": "oW7CTFZCVwXG",
        "outputId": "bbc8343f-4166-4ae9-d619-3c305d8d7189",
        "colab": {
          "base_uri": "https://localhost:8080/"
        }
      },
      "execution_count": 55,
      "outputs": [
        {
          "output_type": "execute_result",
          "data": {
            "text/plain": [
              "Bidder_Tendency           float64\n",
              "Bidding_Ratio             float64\n",
              "Successive_Outbidding     float64\n",
              "Last_Bidding              float64\n",
              "Auction_Bids              float64\n",
              "Starting_Price_Average    float64\n",
              "Early_Bidding             float64\n",
              "Winning_Ratio             float64\n",
              "Auction_Duration            int64\n",
              "Class                       int64\n",
              "dtype: object"
            ]
          },
          "metadata": {},
          "execution_count": 55
        }
      ]
    },
    {
      "cell_type": "markdown",
      "source": [
        "5. Busque cualquier valor faltante usando el siguiente código:"
      ],
      "metadata": {
        "id": "-oGdGWKKVzMe"
      }
    },
    {
      "cell_type": "code",
      "source": [
        " data.isnull().sum()   ### Check for missing values"
      ],
      "metadata": {
        "id": "fWGh2c2pV4du",
        "outputId": "9d209182-1beb-44a1-80f9-56d8fd16c5b0",
        "colab": {
          "base_uri": "https://localhost:8080/"
        }
      },
      "execution_count": 56,
      "outputs": [
        {
          "output_type": "execute_result",
          "data": {
            "text/plain": [
              "Bidder_Tendency           0\n",
              "Bidding_Ratio             0\n",
              "Successive_Outbidding     0\n",
              "Last_Bidding              0\n",
              "Auction_Bids              0\n",
              "Starting_Price_Average    0\n",
              "Early_Bidding             0\n",
              "Winning_Ratio             0\n",
              "Auction_Duration          0\n",
              "Class                     0\n",
              "dtype: int64"
            ]
          },
          "metadata": {},
          "execution_count": 56
        }
      ]
    },
    {
      "cell_type": "code",
      "source": [
        "# Ahora que no faltan valores, entrene el algoritmo SVM sobre el conjunto de datos."
      ],
      "metadata": {
        "id": "ZRONCe7TV7_w"
      },
      "execution_count": 57,
      "outputs": []
    },
    {
      "cell_type": "markdown",
      "source": [
        "6. Divida los datos en conjuntos de entrenamiento y prueba y guárdelos como X_train, X_test, y_train y y_test como se muestra:"
      ],
      "metadata": {
        "id": "D9ciQC_XWEgk"
      }
    },
    {
      "cell_type": "code",
      "source": [
        "target = 'Class'\n",
        "X = data.drop(target, axis=1)\n",
        "y = data[target]\n",
        "X_train, X_test, y_train, y_test = train_test_split\\\n",
        "                                   (X.values,y,test_size=0.50,\\\n",
        "                                    random_state=123, \\\n",
        "                                    stratify=y)"
      ],
      "metadata": {
        "id": "IWe1bAu8WK39"
      },
      "execution_count": 58,
      "outputs": []
    },
    {
      "cell_type": "markdown",
      "source": [
        "\n",
        "7. Ajuste un modelo SVM lineal con C=1:"
      ],
      "metadata": {
        "id": "faUfaua7WRKq"
      }
    },
    {
      "cell_type": "code",
      "source": [
        "clf_svm = svm.SVC(kernel='linear', C=1)\n",
        "clf_svm.fit( X_train, y_train)"
      ],
      "metadata": {
        "id": "wEwYJwlMWV4f",
        "outputId": "87d0336d-d16e-4fe7-c7be-b1221ab800da",
        "colab": {
          "base_uri": "https://localhost:8080/",
          "height": 75
        }
      },
      "execution_count": 59,
      "outputs": [
        {
          "output_type": "execute_result",
          "data": {
            "text/plain": [
              "SVC(C=1, kernel='linear')"
            ],
            "text/html": [
              "<style>#sk-container-id-2 {color: black;background-color: white;}#sk-container-id-2 pre{padding: 0;}#sk-container-id-2 div.sk-toggleable {background-color: white;}#sk-container-id-2 label.sk-toggleable__label {cursor: pointer;display: block;width: 100%;margin-bottom: 0;padding: 0.3em;box-sizing: border-box;text-align: center;}#sk-container-id-2 label.sk-toggleable__label-arrow:before {content: \"▸\";float: left;margin-right: 0.25em;color: #696969;}#sk-container-id-2 label.sk-toggleable__label-arrow:hover:before {color: black;}#sk-container-id-2 div.sk-estimator:hover label.sk-toggleable__label-arrow:before {color: black;}#sk-container-id-2 div.sk-toggleable__content {max-height: 0;max-width: 0;overflow: hidden;text-align: left;background-color: #f0f8ff;}#sk-container-id-2 div.sk-toggleable__content pre {margin: 0.2em;color: black;border-radius: 0.25em;background-color: #f0f8ff;}#sk-container-id-2 input.sk-toggleable__control:checked~div.sk-toggleable__content {max-height: 200px;max-width: 100%;overflow: auto;}#sk-container-id-2 input.sk-toggleable__control:checked~label.sk-toggleable__label-arrow:before {content: \"▾\";}#sk-container-id-2 div.sk-estimator input.sk-toggleable__control:checked~label.sk-toggleable__label {background-color: #d4ebff;}#sk-container-id-2 div.sk-label input.sk-toggleable__control:checked~label.sk-toggleable__label {background-color: #d4ebff;}#sk-container-id-2 input.sk-hidden--visually {border: 0;clip: rect(1px 1px 1px 1px);clip: rect(1px, 1px, 1px, 1px);height: 1px;margin: -1px;overflow: hidden;padding: 0;position: absolute;width: 1px;}#sk-container-id-2 div.sk-estimator {font-family: monospace;background-color: #f0f8ff;border: 1px dotted black;border-radius: 0.25em;box-sizing: border-box;margin-bottom: 0.5em;}#sk-container-id-2 div.sk-estimator:hover {background-color: #d4ebff;}#sk-container-id-2 div.sk-parallel-item::after {content: \"\";width: 100%;border-bottom: 1px solid gray;flex-grow: 1;}#sk-container-id-2 div.sk-label:hover label.sk-toggleable__label {background-color: #d4ebff;}#sk-container-id-2 div.sk-serial::before {content: \"\";position: absolute;border-left: 1px solid gray;box-sizing: border-box;top: 0;bottom: 0;left: 50%;z-index: 0;}#sk-container-id-2 div.sk-serial {display: flex;flex-direction: column;align-items: center;background-color: white;padding-right: 0.2em;padding-left: 0.2em;position: relative;}#sk-container-id-2 div.sk-item {position: relative;z-index: 1;}#sk-container-id-2 div.sk-parallel {display: flex;align-items: stretch;justify-content: center;background-color: white;position: relative;}#sk-container-id-2 div.sk-item::before, #sk-container-id-2 div.sk-parallel-item::before {content: \"\";position: absolute;border-left: 1px solid gray;box-sizing: border-box;top: 0;bottom: 0;left: 50%;z-index: -1;}#sk-container-id-2 div.sk-parallel-item {display: flex;flex-direction: column;z-index: 1;position: relative;background-color: white;}#sk-container-id-2 div.sk-parallel-item:first-child::after {align-self: flex-end;width: 50%;}#sk-container-id-2 div.sk-parallel-item:last-child::after {align-self: flex-start;width: 50%;}#sk-container-id-2 div.sk-parallel-item:only-child::after {width: 0;}#sk-container-id-2 div.sk-dashed-wrapped {border: 1px dashed gray;margin: 0 0.4em 0.5em 0.4em;box-sizing: border-box;padding-bottom: 0.4em;background-color: white;}#sk-container-id-2 div.sk-label label {font-family: monospace;font-weight: bold;display: inline-block;line-height: 1.2em;}#sk-container-id-2 div.sk-label-container {text-align: center;}#sk-container-id-2 div.sk-container {/* jupyter's `normalize.less` sets `[hidden] { display: none; }` but bootstrap.min.css set `[hidden] { display: none !important; }` so we also need the `!important` here to be able to override the default hidden behavior on the sphinx rendered scikit-learn.org. See: https://github.com/scikit-learn/scikit-learn/issues/21755 */display: inline-block !important;position: relative;}#sk-container-id-2 div.sk-text-repr-fallback {display: none;}</style><div id=\"sk-container-id-2\" class=\"sk-top-container\"><div class=\"sk-text-repr-fallback\"><pre>SVC(C=1, kernel=&#x27;linear&#x27;)</pre><b>In a Jupyter environment, please rerun this cell to show the HTML representation or trust the notebook. <br />On GitHub, the HTML representation is unable to render, please try loading this page with nbviewer.org.</b></div><div class=\"sk-container\" hidden><div class=\"sk-item\"><div class=\"sk-estimator sk-toggleable\"><input class=\"sk-toggleable__control sk-hidden--visually\" id=\"sk-estimator-id-2\" type=\"checkbox\" checked><label for=\"sk-estimator-id-2\" class=\"sk-toggleable__label sk-toggleable__label-arrow\">SVC</label><div class=\"sk-toggleable__content\"><pre>SVC(C=1, kernel=&#x27;linear&#x27;)</pre></div></div></div></div></div>"
            ]
          },
          "metadata": {},
          "execution_count": 59
        }
      ]
    },
    {
      "cell_type": "markdown",
      "source": [
        "8. Calcule la puntuación de precisión utilizando el siguiente código:"
      ],
      "metadata": {
        "id": "kuiKn7UMWeSU"
      }
    },
    {
      "cell_type": "code",
      "source": [
        " clf_svm.score(X_test, y_test)\n",
        "\n",
        " # Para el conjunto de datos de la subasta, \n",
        " # el clasificador SVM obtendrá una precisión de alrededor del 97,75%. \n",
        " # Esto implica que puede predecir con precisión el 97,75 % de los datos de prueba."
      ],
      "metadata": {
        "id": "NThVhmhGWcqn",
        "outputId": "4e96d32e-b0f4-4db6-ae65-d6999bb4cc2d",
        "colab": {
          "base_uri": "https://localhost:8080/"
        }
      },
      "execution_count": 60,
      "outputs": [
        {
          "output_type": "execute_result",
          "data": {
            "text/plain": [
              "0.9775387535590003"
            ]
          },
          "metadata": {},
          "execution_count": 60
        }
      ]
    },
    {
      "cell_type": "code",
      "source": [
        "# clf_svm.predict(X_test)[:10]\n",
        "X_test[0]\n"
      ],
      "metadata": {
        "id": "PeR9rf_pV_DF",
        "outputId": "6b1f6366-0cb7-4203-e78c-ed867f2c1e23",
        "colab": {
          "base_uri": "https://localhost:8080/"
        }
      },
      "execution_count": 61,
      "outputs": [
        {
          "output_type": "execute_result",
          "data": {
            "text/plain": [
              "array([0.08571429, 0.13043478, 0.        , 0.94807407, 0.2173913 ,\n",
              "       0.        , 0.94801389, 0.94736842, 5.        ])"
            ]
          },
          "metadata": {},
          "execution_count": 61
        }
      ]
    },
    {
      "cell_type": "code",
      "source": [
        "import sys, os\n",
        "import matplotlib.pyplot as plt\n",
        "from sklearn import svm\n",
        "from sklearn.model_selection import train_test_split, GridSearchCV\n",
        "from mlxtend.plotting import plot_decision_regions\n",
        "# Plot decision function on training and test data\n",
        "# Split data to train and test on 80-20 ratio\n",
        "\n",
        "# Get support vectors themselves\n",
        "support_vectors = clf_svm.support_vectors_\n",
        "\n",
        "# # Visualize support vectors\n",
        "plt.scatter(X_train[:,0], X_train[:,1])\n",
        "plt.scatter(support_vectors[:,0], support_vectors[:,1], color='red')\n",
        "plt.title('Linearly separable data with support vectors')\n",
        "plt.xlabel('X1')\n",
        "plt.ylabel('X2')\n",
        "plt.show()\n"
      ],
      "metadata": {
        "id": "jKTbMTzOZHLX",
        "outputId": "4a6c7efd-cd39-4503-a0ef-319d891979c7",
        "colab": {
          "base_uri": "https://localhost:8080/",
          "height": 472
        }
      },
      "execution_count": 94,
      "outputs": [
        {
          "output_type": "display_data",
          "data": {
            "text/plain": [
              "<Figure size 640x480 with 1 Axes>"
            ],
            "image/png": "[encoded data removed]"
          },
          "metadata": {}
        }
      ]
    }
  ]
}